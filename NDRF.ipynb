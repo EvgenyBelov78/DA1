{
  "cells": [
    {
      "cell_type": "markdown",
      "metadata": {
        "id": "5xBwATNFofeM"
      },
      "source": [
        "### Задание\n",
        "- Собрать информацию о всех строящихся объектах на сайте \"наш.дом.рф\"\n",
        "- Cохранить ее в pandas dataframe\n",
        "- Cохранить pandas dataframe в excel\n",
        "- Cохранить pandas dataframe в pickle\n",
        "- Cохранить pandas dataframe в БД"
      ]
    },
    {
      "cell_type": "code",
      "execution_count": 1,
      "metadata": {
        "id": "kxi2F3z5ofeQ"
      },
      "outputs": [],
      "source": [
        "import requests\n",
        "import pandas as pd\n",
        "import time"
      ]
    },
    {
      "cell_type": "code",
      "source": [
        "documents = []\n",
        "url_doc_list = 'https://наш.дом.рф/сервисы/api/object/40239'\n",
        "response = requests.get(url_doc_list)\n",
        "documents = response.json()\n",
        "documents = documents['data']"
      ],
      "metadata": {
        "id": "M64uMT3izqgQ"
      },
      "execution_count": null,
      "outputs": []
    },
    {
      "cell_type": "code",
      "source": [
        "df = pd.json_normalize(documents)"
      ],
      "metadata": {
        "id": "012tCJhd8La3"
      },
      "execution_count": null,
      "outputs": []
    },
    {
      "cell_type": "code",
      "source": [
        "df"
      ],
      "metadata": {
        "id": "jW97cQli8Oeo",
        "outputId": "fc9e8ed4-6d03-4744-b2d7-83811ebeafe9",
        "colab": {
          "base_uri": "https://localhost:8080/",
          "height": 209
        }
      },
      "execution_count": null,
      "outputs": [
        {
          "output_type": "execute_result",
          "data": {
            "text/plain": [
              "  errcode  data.id  data.pdId  data.developer.devId  \\\n",
              "0       0    40239     460620                  8526   \n",
              "\n",
              "  data.developer.devShortCleanNm data.developer.devShortNm  \\\n",
              "0              СЗ ГВ ДЕВЕЛОПМЕНТ         СЗ ГВ ДЕВЕЛОПМЕНТ   \n",
              "\n",
              "                       data.developer.devFullCleanNm  \\\n",
              "0  СПЕЦИАЛИЗИРОВАННЫЙ ЗАСТРОЙЩИК ГЛОБАЛ ВИЖН ДЕВЕ...   \n",
              "\n",
              "   data.developer.problObjCnt  data.developer.buildObjCnt  \\\n",
              "0                           0                           2   \n",
              "\n",
              "   data.developer.comissObjCnt  ... data.soldOutPerc data.objPriceAvg  \\\n",
              "0                            2  ...         0.919014            71998   \n",
              "\n",
              "         data.generalContractorNm data.nonlivFirstFloor  \\\n",
              "0  ООО Артефакт (ИНН: 6450070182)                     1   \n",
              "\n",
              "  data.objectTransportInfo data.conclusion data.objLkSaleDepEmail  \\\n",
              "0                       []            True         sale@amgrad.ru   \n",
              "\n",
              "  data.objGreenHouseFlg data.objEnergyEffShortDesc  \\\n",
              "0                     0                          B   \n",
              "\n",
              "   data.infrastructureIndexValue  \n",
              "0                              3  \n",
              "\n",
              "[1 rows x 92 columns]"
            ],
            "text/html": [
              "\n",
              "  <div id=\"df-85c3b07b-4e2d-45fa-8611-5fe311b0b7c2\">\n",
              "    <div class=\"colab-df-container\">\n",
              "      <div>\n",
              "<style scoped>\n",
              "    .dataframe tbody tr th:only-of-type {\n",
              "        vertical-align: middle;\n",
              "    }\n",
              "\n",
              "    .dataframe tbody tr th {\n",
              "        vertical-align: top;\n",
              "    }\n",
              "\n",
              "    .dataframe thead th {\n",
              "        text-align: right;\n",
              "    }\n",
              "</style>\n",
              "<table border=\"1\" class=\"dataframe\">\n",
              "  <thead>\n",
              "    <tr style=\"text-align: right;\">\n",
              "      <th></th>\n",
              "      <th>errcode</th>\n",
              "      <th>data.id</th>\n",
              "      <th>data.pdId</th>\n",
              "      <th>data.developer.devId</th>\n",
              "      <th>data.developer.devShortCleanNm</th>\n",
              "      <th>data.developer.devShortNm</th>\n",
              "      <th>data.developer.devFullCleanNm</th>\n",
              "      <th>data.developer.problObjCnt</th>\n",
              "      <th>data.developer.buildObjCnt</th>\n",
              "      <th>data.developer.comissObjCnt</th>\n",
              "      <th>...</th>\n",
              "      <th>data.soldOutPerc</th>\n",
              "      <th>data.objPriceAvg</th>\n",
              "      <th>data.generalContractorNm</th>\n",
              "      <th>data.nonlivFirstFloor</th>\n",
              "      <th>data.objectTransportInfo</th>\n",
              "      <th>data.conclusion</th>\n",
              "      <th>data.objLkSaleDepEmail</th>\n",
              "      <th>data.objGreenHouseFlg</th>\n",
              "      <th>data.objEnergyEffShortDesc</th>\n",
              "      <th>data.infrastructureIndexValue</th>\n",
              "    </tr>\n",
              "  </thead>\n",
              "  <tbody>\n",
              "    <tr>\n",
              "      <th>0</th>\n",
              "      <td>0</td>\n",
              "      <td>40239</td>\n",
              "      <td>460620</td>\n",
              "      <td>8526</td>\n",
              "      <td>СЗ ГВ ДЕВЕЛОПМЕНТ</td>\n",
              "      <td>СЗ ГВ ДЕВЕЛОПМЕНТ</td>\n",
              "      <td>СПЕЦИАЛИЗИРОВАННЫЙ ЗАСТРОЙЩИК ГЛОБАЛ ВИЖН ДЕВЕ...</td>\n",
              "      <td>0</td>\n",
              "      <td>2</td>\n",
              "      <td>2</td>\n",
              "      <td>...</td>\n",
              "      <td>0.919014</td>\n",
              "      <td>71998</td>\n",
              "      <td>ООО Артефакт (ИНН: 6450070182)</td>\n",
              "      <td>1</td>\n",
              "      <td>[]</td>\n",
              "      <td>True</td>\n",
              "      <td>sale@amgrad.ru</td>\n",
              "      <td>0</td>\n",
              "      <td>B</td>\n",
              "      <td>3</td>\n",
              "    </tr>\n",
              "  </tbody>\n",
              "</table>\n",
              "<p>1 rows × 92 columns</p>\n",
              "</div>\n",
              "      <button class=\"colab-df-convert\" onclick=\"convertToInteractive('df-85c3b07b-4e2d-45fa-8611-5fe311b0b7c2')\"\n",
              "              title=\"Convert this dataframe to an interactive table.\"\n",
              "              style=\"display:none;\">\n",
              "        \n",
              "  <svg xmlns=\"http://www.w3.org/2000/svg\" height=\"24px\"viewBox=\"0 0 24 24\"\n",
              "       width=\"24px\">\n",
              "    <path d=\"M0 0h24v24H0V0z\" fill=\"none\"/>\n",
              "    <path d=\"M18.56 5.44l.94 2.06.94-2.06 2.06-.94-2.06-.94-.94-2.06-.94 2.06-2.06.94zm-11 1L8.5 8.5l.94-2.06 2.06-.94-2.06-.94L8.5 2.5l-.94 2.06-2.06.94zm10 10l.94 2.06.94-2.06 2.06-.94-2.06-.94-.94-2.06-.94 2.06-2.06.94z\"/><path d=\"M17.41 7.96l-1.37-1.37c-.4-.4-.92-.59-1.43-.59-.52 0-1.04.2-1.43.59L10.3 9.45l-7.72 7.72c-.78.78-.78 2.05 0 2.83L4 21.41c.39.39.9.59 1.41.59.51 0 1.02-.2 1.41-.59l7.78-7.78 2.81-2.81c.8-.78.8-2.07 0-2.86zM5.41 20L4 18.59l7.72-7.72 1.47 1.35L5.41 20z\"/>\n",
              "  </svg>\n",
              "      </button>\n",
              "      \n",
              "  <style>\n",
              "    .colab-df-container {\n",
              "      display:flex;\n",
              "      flex-wrap:wrap;\n",
              "      gap: 12px;\n",
              "    }\n",
              "\n",
              "    .colab-df-convert {\n",
              "      background-color: #E8F0FE;\n",
              "      border: none;\n",
              "      border-radius: 50%;\n",
              "      cursor: pointer;\n",
              "      display: none;\n",
              "      fill: #1967D2;\n",
              "      height: 32px;\n",
              "      padding: 0 0 0 0;\n",
              "      width: 32px;\n",
              "    }\n",
              "\n",
              "    .colab-df-convert:hover {\n",
              "      background-color: #E2EBFA;\n",
              "      box-shadow: 0px 1px 2px rgba(60, 64, 67, 0.3), 0px 1px 3px 1px rgba(60, 64, 67, 0.15);\n",
              "      fill: #174EA6;\n",
              "    }\n",
              "\n",
              "    [theme=dark] .colab-df-convert {\n",
              "      background-color: #3B4455;\n",
              "      fill: #D2E3FC;\n",
              "    }\n",
              "\n",
              "    [theme=dark] .colab-df-convert:hover {\n",
              "      background-color: #434B5C;\n",
              "      box-shadow: 0px 1px 3px 1px rgba(0, 0, 0, 0.15);\n",
              "      filter: drop-shadow(0px 1px 2px rgba(0, 0, 0, 0.3));\n",
              "      fill: #FFFFFF;\n",
              "    }\n",
              "  </style>\n",
              "\n",
              "      <script>\n",
              "        const buttonEl =\n",
              "          document.querySelector('#df-85c3b07b-4e2d-45fa-8611-5fe311b0b7c2 button.colab-df-convert');\n",
              "        buttonEl.style.display =\n",
              "          google.colab.kernel.accessAllowed ? 'block' : 'none';\n",
              "\n",
              "        async function convertToInteractive(key) {\n",
              "          const element = document.querySelector('#df-85c3b07b-4e2d-45fa-8611-5fe311b0b7c2');\n",
              "          const dataTable =\n",
              "            await google.colab.kernel.invokeFunction('convertToInteractive',\n",
              "                                                     [key], {});\n",
              "          if (!dataTable) return;\n",
              "\n",
              "          const docLinkHtml = 'Like what you see? Visit the ' +\n",
              "            '<a target=\"_blank\" href=https://colab.research.google.com/notebooks/data_table.ipynb>data table notebook</a>'\n",
              "            + ' to learn more about interactive tables.';\n",
              "          element.innerHTML = '';\n",
              "          dataTable['output_type'] = 'display_data';\n",
              "          await google.colab.output.renderOutput(dataTable, element);\n",
              "          const docLink = document.createElement('div');\n",
              "          docLink.innerHTML = docLinkHtml;\n",
              "          element.appendChild(docLink);\n",
              "        }\n",
              "      </script>\n",
              "    </div>\n",
              "  </div>\n",
              "  "
            ]
          },
          "metadata": {},
          "execution_count": 50
        }
      ]
    },
    {
      "cell_type": "code",
      "source": [
        "offset_ = 0\n",
        "limit_ = 1000\n",
        "params= {'region':'63'}\n",
        "url = f'https://xn--80az8a.xn--d1aqf.xn--p1ai/%D1%81%D0%B5%D1%80%D0%B2%D0%B8%D1%81%D1%8B/api/kn/object?offset={offset_}&limit={limit_}&sortField=devId.devShortCleanNm&sortType=asc&objStatus=0'\n",
        "res = requests.get(url) #,params=params)\n",
        "i=0"
      ],
      "metadata": {
        "id": "oPG3Ve01upzN"
      },
      "execution_count": 2,
      "outputs": []
    },
    {
      "cell_type": "code",
      "execution_count": 3,
      "metadata": {
        "id": "yad0j2HtofeS"
      },
      "outputs": [],
      "source": [
        "objects_data = res.json()\n",
        "objects_list = objects_data.get('data') #.get('list')"
      ]
    },
    {
      "cell_type": "code",
      "source": [
        "  df = pd.json_normalize(objects_list)\n",
        "  dffull=df"
      ],
      "metadata": {
        "id": "kWRNYZ7gxWQP"
      },
      "execution_count": 4,
      "outputs": []
    },
    {
      "cell_type": "code",
      "source": [
        "df=df.drop(df.index)"
      ],
      "metadata": {
        "id": "S8pzoZu6x0mI"
      },
      "execution_count": 5,
      "outputs": []
    },
    {
      "cell_type": "code",
      "source": [
        "df"
      ],
      "metadata": {
        "colab": {
          "base_uri": "https://localhost:8080/",
          "height": 81
        },
        "id": "d5Y3G7ajkP3i",
        "outputId": "8560e8bb-b343-461c-f3fd-b5ef0e94b056"
      },
      "execution_count": 9,
      "outputs": [
        {
          "output_type": "execute_result",
          "data": {
            "text/plain": [
              "                                                list  total\n",
              "0  [{'objId': 42206, 'developer': {'devId': 8154,...  10746"
            ],
            "text/html": [
              "\n",
              "  <div id=\"df-4f977105-f42f-4ba5-ad8f-199f5d90b26e\">\n",
              "    <div class=\"colab-df-container\">\n",
              "      <div>\n",
              "<style scoped>\n",
              "    .dataframe tbody tr th:only-of-type {\n",
              "        vertical-align: middle;\n",
              "    }\n",
              "\n",
              "    .dataframe tbody tr th {\n",
              "        vertical-align: top;\n",
              "    }\n",
              "\n",
              "    .dataframe thead th {\n",
              "        text-align: right;\n",
              "    }\n",
              "</style>\n",
              "<table border=\"1\" class=\"dataframe\">\n",
              "  <thead>\n",
              "    <tr style=\"text-align: right;\">\n",
              "      <th></th>\n",
              "      <th>list</th>\n",
              "      <th>total</th>\n",
              "    </tr>\n",
              "  </thead>\n",
              "  <tbody>\n",
              "    <tr>\n",
              "      <th>0</th>\n",
              "      <td>[{'objId': 42206, 'developer': {'devId': 8154,...</td>\n",
              "      <td>10746</td>\n",
              "    </tr>\n",
              "  </tbody>\n",
              "</table>\n",
              "</div>\n",
              "      <button class=\"colab-df-convert\" onclick=\"convertToInteractive('df-4f977105-f42f-4ba5-ad8f-199f5d90b26e')\"\n",
              "              title=\"Convert this dataframe to an interactive table.\"\n",
              "              style=\"display:none;\">\n",
              "        \n",
              "  <svg xmlns=\"http://www.w3.org/2000/svg\" height=\"24px\"viewBox=\"0 0 24 24\"\n",
              "       width=\"24px\">\n",
              "    <path d=\"M0 0h24v24H0V0z\" fill=\"none\"/>\n",
              "    <path d=\"M18.56 5.44l.94 2.06.94-2.06 2.06-.94-2.06-.94-.94-2.06-.94 2.06-2.06.94zm-11 1L8.5 8.5l.94-2.06 2.06-.94-2.06-.94L8.5 2.5l-.94 2.06-2.06.94zm10 10l.94 2.06.94-2.06 2.06-.94-2.06-.94-.94-2.06-.94 2.06-2.06.94z\"/><path d=\"M17.41 7.96l-1.37-1.37c-.4-.4-.92-.59-1.43-.59-.52 0-1.04.2-1.43.59L10.3 9.45l-7.72 7.72c-.78.78-.78 2.05 0 2.83L4 21.41c.39.39.9.59 1.41.59.51 0 1.02-.2 1.41-.59l7.78-7.78 2.81-2.81c.8-.78.8-2.07 0-2.86zM5.41 20L4 18.59l7.72-7.72 1.47 1.35L5.41 20z\"/>\n",
              "  </svg>\n",
              "      </button>\n",
              "      \n",
              "  <style>\n",
              "    .colab-df-container {\n",
              "      display:flex;\n",
              "      flex-wrap:wrap;\n",
              "      gap: 12px;\n",
              "    }\n",
              "\n",
              "    .colab-df-convert {\n",
              "      background-color: #E8F0FE;\n",
              "      border: none;\n",
              "      border-radius: 50%;\n",
              "      cursor: pointer;\n",
              "      display: none;\n",
              "      fill: #1967D2;\n",
              "      height: 32px;\n",
              "      padding: 0 0 0 0;\n",
              "      width: 32px;\n",
              "    }\n",
              "\n",
              "    .colab-df-convert:hover {\n",
              "      background-color: #E2EBFA;\n",
              "      box-shadow: 0px 1px 2px rgba(60, 64, 67, 0.3), 0px 1px 3px 1px rgba(60, 64, 67, 0.15);\n",
              "      fill: #174EA6;\n",
              "    }\n",
              "\n",
              "    [theme=dark] .colab-df-convert {\n",
              "      background-color: #3B4455;\n",
              "      fill: #D2E3FC;\n",
              "    }\n",
              "\n",
              "    [theme=dark] .colab-df-convert:hover {\n",
              "      background-color: #434B5C;\n",
              "      box-shadow: 0px 1px 3px 1px rgba(0, 0, 0, 0.15);\n",
              "      filter: drop-shadow(0px 1px 2px rgba(0, 0, 0, 0.3));\n",
              "      fill: #FFFFFF;\n",
              "    }\n",
              "  </style>\n",
              "\n",
              "      <script>\n",
              "        const buttonEl =\n",
              "          document.querySelector('#df-4f977105-f42f-4ba5-ad8f-199f5d90b26e button.colab-df-convert');\n",
              "        buttonEl.style.display =\n",
              "          google.colab.kernel.accessAllowed ? 'block' : 'none';\n",
              "\n",
              "        async function convertToInteractive(key) {\n",
              "          const element = document.querySelector('#df-4f977105-f42f-4ba5-ad8f-199f5d90b26e');\n",
              "          const dataTable =\n",
              "            await google.colab.kernel.invokeFunction('convertToInteractive',\n",
              "                                                     [key], {});\n",
              "          if (!dataTable) return;\n",
              "\n",
              "          const docLinkHtml = 'Like what you see? Visit the ' +\n",
              "            '<a target=\"_blank\" href=https://colab.research.google.com/notebooks/data_table.ipynb>data table notebook</a>'\n",
              "            + ' to learn more about interactive tables.';\n",
              "          element.innerHTML = '';\n",
              "          dataTable['output_type'] = 'display_data';\n",
              "          await google.colab.output.renderOutput(dataTable, element);\n",
              "          const docLink = document.createElement('div');\n",
              "          docLink.innerHTML = docLinkHtml;\n",
              "          element.appendChild(docLink);\n",
              "        }\n",
              "      </script>\n",
              "    </div>\n",
              "  </div>\n",
              "  "
            ]
          },
          "metadata": {},
          "execution_count": 9
        }
      ]
    },
    {
      "cell_type": "code",
      "source": [
        "i"
      ],
      "metadata": {
        "id": "Gw9elLfoyX-P",
        "outputId": "b937f926-c5a7-4103-b769-71bb6b84b36d",
        "colab": {
          "base_uri": "https://localhost:8080/"
        }
      },
      "execution_count": 6,
      "outputs": [
        {
          "output_type": "execute_result",
          "data": {
            "text/plain": [
              "0"
            ]
          },
          "metadata": {},
          "execution_count": 6
        }
      ]
    },
    {
      "cell_type": "code",
      "source": [
        "while i<=10:\n",
        "  url = f'https://xn--80az8a.xn--d1aqf.xn--p1ai/%D1%81%D0%B5%D1%80%D0%B2%D0%B8%D1%81%D1%8B/api/kn/object?offset={offset_}&limit={limit_}&sortField=devId.devShortCleanNm&sortType=asc&objStatus=0'\n",
        "  res = requests.get(url) #,params=params)\n",
        "  if str(res)!='<Response [200]>': break\n",
        "  offset_ = offset_ + 1000\n",
        "  objects_data = res.json()\n",
        "  objects_list = objects_data.get('data')#.get('list') \n",
        "  df = pd.json_normalize(objects_list)\n",
        "  dffull=pd.concat([dffull,df],ignore_index=True)\n",
        "  time.sleep(3)\n",
        "  i=i+1"
      ],
      "metadata": {
        "id": "UNGerURfvD3c"
      },
      "execution_count": 8,
      "outputs": []
    },
    {
      "cell_type": "code",
      "source": [
        "dffull.columns"
      ],
      "metadata": {
        "id": "DtJm--yLGQsZ",
        "outputId": "7b180272-8270-4925-cc3f-acde677ce6e5",
        "colab": {
          "base_uri": "https://localhost:8080/"
        }
      },
      "execution_count": 10,
      "outputs": [
        {
          "output_type": "execute_result",
          "data": {
            "text/plain": [
              "Index(['list', 'total'], dtype='object')"
            ]
          },
          "metadata": {},
          "execution_count": 10
        }
      ]
    },
    {
      "cell_type": "code",
      "source": [
        "dffull.reset_index(inplace=True)"
      ],
      "metadata": {
        "id": "vjUaCJwPJ3AR"
      },
      "execution_count": null,
      "outputs": []
    },
    {
      "cell_type": "code",
      "source": [
        "dffull.head()"
      ],
      "metadata": {
        "id": "l0spFpA8MbAd",
        "outputId": "bd005055-cfe4-4c5a-c80a-e030016784dc",
        "colab": {
          "base_uri": "https://localhost:8080/",
          "height": 206
        }
      },
      "execution_count": 112,
      "outputs": [
        {
          "output_type": "execute_result",
          "data": {
            "text/plain": [
              "                                                list  total\n",
              "0  [{'objId': 13391, 'developer': {'devId': 306, ...  10746\n",
              "1  [{'objId': 13391, 'developer': {'devId': 306, ...  10746\n",
              "2  [{'objId': 12893, 'developer': {'devId': 682, ...  10746\n",
              "3  [{'objId': 40778, 'developer': {'devId': 1296,...  10746\n",
              "4  [{'objId': 43593, 'developer': {'devId': 13229...  10746"
            ],
            "text/html": [
              "\n",
              "  <div id=\"df-a7cc94d2-464e-4534-b719-2a193c682ae6\">\n",
              "    <div class=\"colab-df-container\">\n",
              "      <div>\n",
              "<style scoped>\n",
              "    .dataframe tbody tr th:only-of-type {\n",
              "        vertical-align: middle;\n",
              "    }\n",
              "\n",
              "    .dataframe tbody tr th {\n",
              "        vertical-align: top;\n",
              "    }\n",
              "\n",
              "    .dataframe thead th {\n",
              "        text-align: right;\n",
              "    }\n",
              "</style>\n",
              "<table border=\"1\" class=\"dataframe\">\n",
              "  <thead>\n",
              "    <tr style=\"text-align: right;\">\n",
              "      <th></th>\n",
              "      <th>list</th>\n",
              "      <th>total</th>\n",
              "    </tr>\n",
              "  </thead>\n",
              "  <tbody>\n",
              "    <tr>\n",
              "      <th>0</th>\n",
              "      <td>[{'objId': 13391, 'developer': {'devId': 306, ...</td>\n",
              "      <td>10746</td>\n",
              "    </tr>\n",
              "    <tr>\n",
              "      <th>1</th>\n",
              "      <td>[{'objId': 13391, 'developer': {'devId': 306, ...</td>\n",
              "      <td>10746</td>\n",
              "    </tr>\n",
              "    <tr>\n",
              "      <th>2</th>\n",
              "      <td>[{'objId': 12893, 'developer': {'devId': 682, ...</td>\n",
              "      <td>10746</td>\n",
              "    </tr>\n",
              "    <tr>\n",
              "      <th>3</th>\n",
              "      <td>[{'objId': 40778, 'developer': {'devId': 1296,...</td>\n",
              "      <td>10746</td>\n",
              "    </tr>\n",
              "    <tr>\n",
              "      <th>4</th>\n",
              "      <td>[{'objId': 43593, 'developer': {'devId': 13229...</td>\n",
              "      <td>10746</td>\n",
              "    </tr>\n",
              "  </tbody>\n",
              "</table>\n",
              "</div>\n",
              "      <button class=\"colab-df-convert\" onclick=\"convertToInteractive('df-a7cc94d2-464e-4534-b719-2a193c682ae6')\"\n",
              "              title=\"Convert this dataframe to an interactive table.\"\n",
              "              style=\"display:none;\">\n",
              "        \n",
              "  <svg xmlns=\"http://www.w3.org/2000/svg\" height=\"24px\"viewBox=\"0 0 24 24\"\n",
              "       width=\"24px\">\n",
              "    <path d=\"M0 0h24v24H0V0z\" fill=\"none\"/>\n",
              "    <path d=\"M18.56 5.44l.94 2.06.94-2.06 2.06-.94-2.06-.94-.94-2.06-.94 2.06-2.06.94zm-11 1L8.5 8.5l.94-2.06 2.06-.94-2.06-.94L8.5 2.5l-.94 2.06-2.06.94zm10 10l.94 2.06.94-2.06 2.06-.94-2.06-.94-.94-2.06-.94 2.06-2.06.94z\"/><path d=\"M17.41 7.96l-1.37-1.37c-.4-.4-.92-.59-1.43-.59-.52 0-1.04.2-1.43.59L10.3 9.45l-7.72 7.72c-.78.78-.78 2.05 0 2.83L4 21.41c.39.39.9.59 1.41.59.51 0 1.02-.2 1.41-.59l7.78-7.78 2.81-2.81c.8-.78.8-2.07 0-2.86zM5.41 20L4 18.59l7.72-7.72 1.47 1.35L5.41 20z\"/>\n",
              "  </svg>\n",
              "      </button>\n",
              "      \n",
              "  <style>\n",
              "    .colab-df-container {\n",
              "      display:flex;\n",
              "      flex-wrap:wrap;\n",
              "      gap: 12px;\n",
              "    }\n",
              "\n",
              "    .colab-df-convert {\n",
              "      background-color: #E8F0FE;\n",
              "      border: none;\n",
              "      border-radius: 50%;\n",
              "      cursor: pointer;\n",
              "      display: none;\n",
              "      fill: #1967D2;\n",
              "      height: 32px;\n",
              "      padding: 0 0 0 0;\n",
              "      width: 32px;\n",
              "    }\n",
              "\n",
              "    .colab-df-convert:hover {\n",
              "      background-color: #E2EBFA;\n",
              "      box-shadow: 0px 1px 2px rgba(60, 64, 67, 0.3), 0px 1px 3px 1px rgba(60, 64, 67, 0.15);\n",
              "      fill: #174EA6;\n",
              "    }\n",
              "\n",
              "    [theme=dark] .colab-df-convert {\n",
              "      background-color: #3B4455;\n",
              "      fill: #D2E3FC;\n",
              "    }\n",
              "\n",
              "    [theme=dark] .colab-df-convert:hover {\n",
              "      background-color: #434B5C;\n",
              "      box-shadow: 0px 1px 3px 1px rgba(0, 0, 0, 0.15);\n",
              "      filter: drop-shadow(0px 1px 2px rgba(0, 0, 0, 0.3));\n",
              "      fill: #FFFFFF;\n",
              "    }\n",
              "  </style>\n",
              "\n",
              "      <script>\n",
              "        const buttonEl =\n",
              "          document.querySelector('#df-a7cc94d2-464e-4534-b719-2a193c682ae6 button.colab-df-convert');\n",
              "        buttonEl.style.display =\n",
              "          google.colab.kernel.accessAllowed ? 'block' : 'none';\n",
              "\n",
              "        async function convertToInteractive(key) {\n",
              "          const element = document.querySelector('#df-a7cc94d2-464e-4534-b719-2a193c682ae6');\n",
              "          const dataTable =\n",
              "            await google.colab.kernel.invokeFunction('convertToInteractive',\n",
              "                                                     [key], {});\n",
              "          if (!dataTable) return;\n",
              "\n",
              "          const docLinkHtml = 'Like what you see? Visit the ' +\n",
              "            '<a target=\"_blank\" href=https://colab.research.google.com/notebooks/data_table.ipynb>data table notebook</a>'\n",
              "            + ' to learn more about interactive tables.';\n",
              "          element.innerHTML = '';\n",
              "          dataTable['output_type'] = 'display_data';\n",
              "          await google.colab.output.renderOutput(dataTable, element);\n",
              "          const docLink = document.createElement('div');\n",
              "          docLink.innerHTML = docLinkHtml;\n",
              "          element.appendChild(docLink);\n",
              "        }\n",
              "      </script>\n",
              "    </div>\n",
              "  </div>\n",
              "  "
            ]
          },
          "metadata": {},
          "execution_count": 112
        }
      ]
    },
    {
      "cell_type": "code",
      "source": [
        "ser= dffull['list']"
      ],
      "metadata": {
        "id": "sHS3kaebJ8bo"
      },
      "execution_count": 11,
      "outputs": []
    },
    {
      "cell_type": "code",
      "source": [
        "type(ser)"
      ],
      "metadata": {
        "id": "aKowuMgEM-FF",
        "outputId": "19635a3a-a2f7-4e61-b8d3-331cdb692823",
        "colab": {
          "base_uri": "https://localhost:8080/"
        }
      },
      "execution_count": 113,
      "outputs": [
        {
          "output_type": "execute_result",
          "data": {
            "text/plain": [
              "pandas.core.series.Series"
            ]
          },
          "metadata": {},
          "execution_count": 113
        }
      ]
    },
    {
      "cell_type": "code",
      "source": [
        "dfobj=ser.to_frame"
      ],
      "metadata": {
        "id": "x5fBPc4JL4gB"
      },
      "execution_count": 117,
      "outputs": []
    },
    {
      "cell_type": "code",
      "source": [
        "dfobj[2]"
      ],
      "metadata": {
        "id": "Uw8eXY_tNfQV",
        "outputId": "f6b2ec38-3139-45c2-b645-baad2681f2cf",
        "colab": {
          "base_uri": "https://localhost:8080/",
          "height": 165
        }
      },
      "execution_count": 119,
      "outputs": [
        {
          "output_type": "error",
          "ename": "TypeError",
          "evalue": "ignored",
          "traceback": [
            "\u001b[0;31m---------------------------------------------------------------------------\u001b[0m",
            "\u001b[0;31mTypeError\u001b[0m                                 Traceback (most recent call last)",
            "\u001b[0;32m<ipython-input-119-d7ffaaf29af4>\u001b[0m in \u001b[0;36m<module>\u001b[0;34m\u001b[0m\n\u001b[0;32m----> 1\u001b[0;31m \u001b[0mdfobj\u001b[0m\u001b[0;34m[\u001b[0m\u001b[0;36m2\u001b[0m\u001b[0;34m]\u001b[0m\u001b[0;34m\u001b[0m\u001b[0;34m\u001b[0m\u001b[0m\n\u001b[0m",
            "\u001b[0;31mTypeError\u001b[0m: 'method' object is not subscriptable"
          ]
        }
      ]
    },
    {
      "cell_type": "code",
      "source": [
        "documents = []\n",
        "url_doc_list = 'https://наш.дом.рф/сервисы/api/object/47925/document/rpd'\n",
        "response = requests.get(url_doc_list)\n",
        "documents = response.json()\n",
        "documents = documents['data']"
      ],
      "metadata": {
        "id": "IvxLrs5t4grc"
      },
      "execution_count": 17,
      "outputs": []
    },
    {
      "cell_type": "code",
      "source": [
        "documents"
      ],
      "metadata": {
        "colab": {
          "base_uri": "https://localhost:8080/"
        },
        "id": "-0WHLbQ14ptz",
        "outputId": "9688f660-ca19-4231-fd89-d94258260499"
      },
      "execution_count": 18,
      "outputs": [
        {
          "output_type": "execute_result",
          "data": {
            "text/plain": [
              "[{'ordNum': 1,\n",
              "  'rpdId': 652865,\n",
              "  'pdId': 620216,\n",
              "  'devId': 1296,\n",
              "  'rpdIssueDttm': '10-11-2022 04:16',\n",
              "  'rpdNum': '38-000548',\n",
              "  'rpdPublStatusDesc': 'Размещена',\n",
              "  'rpdPdfLink': 'https://xn--80az8a.xn--d1aqf.xn--p1ai/api/ext/file/ce607034-266a-4e49-95f1-217c322a940a',\n",
              "  'rpdPdfLinkTest': 'https://xn--80az8a.xn--d1aqf.xn--p1ai/api/ext/file/ce607034-266a-4e49-95f1-217c322a940a',\n",
              "  'rpdPdfSize': '1126143',\n",
              "  'loadDttm': '21-11-2022 01:10',\n",
              "  'fileName': 'obj47925_pd38-000548_01',\n",
              "  'fileNameDownload': 'obj47925_pd38-000548',\n",
              "  'objId': 47925},\n",
              " {'ordNum': 2,\n",
              "  'rpdId': 644383,\n",
              "  'pdId': 620216,\n",
              "  'devId': 1296,\n",
              "  'rpdIssueDttm': '10-10-2022 10:34',\n",
              "  'rpdNum': '38-000548',\n",
              "  'rpdPublStatusDesc': 'Размещена',\n",
              "  'rpdPdfLink': 'https://xn--80az8a.xn--d1aqf.xn--p1ai/api/ext/file/10b264ae-f152-4ac0-9db0-406d40a8a47f',\n",
              "  'rpdPdfLinkTest': 'https://xn--80az8a.xn--d1aqf.xn--p1ai/api/ext/file/10b264ae-f152-4ac0-9db0-406d40a8a47f',\n",
              "  'rpdPdfSize': '1126131',\n",
              "  'loadDttm': '21-11-2022 01:10',\n",
              "  'fileName': 'obj47925_pd38-000548_02',\n",
              "  'fileNameDownload': 'obj47925_pd38-000548',\n",
              "  'objId': 47925},\n",
              " {'ordNum': 3,\n",
              "  'rpdId': 640101,\n",
              "  'pdId': 620216,\n",
              "  'devId': 1296,\n",
              "  'rpdIssueDttm': '05-10-2022 07:48',\n",
              "  'rpdNum': '38-000548',\n",
              "  'rpdPublStatusDesc': 'Размещена',\n",
              "  'rpdPdfLink': 'https://xn--80az8a.xn--d1aqf.xn--p1ai/api/ext/file/756e320c-8c44-4e31-8653-71238d3a257d',\n",
              "  'rpdPdfLinkTest': 'https://xn--80az8a.xn--d1aqf.xn--p1ai/api/ext/file/756e320c-8c44-4e31-8653-71238d3a257d',\n",
              "  'rpdPdfSize': '1126588',\n",
              "  'loadDttm': '21-11-2022 01:10',\n",
              "  'fileName': 'obj47925_pd38-000548_03',\n",
              "  'fileNameDownload': 'obj47925_pd38-000548',\n",
              "  'objId': 47925},\n",
              " {'ordNum': 4,\n",
              "  'rpdId': 636091,\n",
              "  'pdId': 620216,\n",
              "  'devId': 1296,\n",
              "  'rpdIssueDttm': '13-09-2022 15:22',\n",
              "  'rpdNum': '38-000548',\n",
              "  'rpdPublStatusDesc': 'Размещена',\n",
              "  'rpdPdfLink': 'https://xn--80az8a.xn--d1aqf.xn--p1ai/api/ext/file/e60fe102-2daa-4649-ae7e-f181f13e3f6c',\n",
              "  'rpdPdfLinkTest': 'https://xn--80az8a.xn--d1aqf.xn--p1ai/api/ext/file/e60fe102-2daa-4649-ae7e-f181f13e3f6c',\n",
              "  'rpdPdfSize': '1123821',\n",
              "  'loadDttm': '21-11-2022 01:10',\n",
              "  'fileName': 'obj47925_pd38-000548_04',\n",
              "  'fileNameDownload': 'obj47925_pd38-000548',\n",
              "  'objId': 47925},\n",
              " {'ordNum': 5,\n",
              "  'rpdId': 634846,\n",
              "  'pdId': 620216,\n",
              "  'devId': 1296,\n",
              "  'rpdIssueDttm': '09-09-2022 17:37',\n",
              "  'rpdNum': '38-000548',\n",
              "  'rpdPublStatusDesc': 'Размещена',\n",
              "  'rpdPdfLink': 'https://xn--80az8a.xn--d1aqf.xn--p1ai/api/ext/file/cd720523-87b1-497f-b1a8-f575b0a28f7b',\n",
              "  'rpdPdfLinkTest': 'https://xn--80az8a.xn--d1aqf.xn--p1ai/api/ext/file/cd720523-87b1-497f-b1a8-f575b0a28f7b',\n",
              "  'rpdPdfSize': '1124056',\n",
              "  'loadDttm': '21-11-2022 01:10',\n",
              "  'fileName': 'obj47925_pd38-000548_05',\n",
              "  'fileNameDownload': 'obj47925_pd38-000548',\n",
              "  'objId': 47925},\n",
              " {'ordNum': 6,\n",
              "  'rpdId': 620216,\n",
              "  'pdId': 620216,\n",
              "  'devId': 1296,\n",
              "  'rpdIssueDttm': '08-09-2022 16:30',\n",
              "  'rpdNum': '38-000548',\n",
              "  'rpdPublStatusDesc': 'Размещена',\n",
              "  'rpdPdfLink': 'https://xn--80az8a.xn--d1aqf.xn--p1ai/api/ext/file/70c73cad-5a83-4aa0-8c6d-28c79eedfbba',\n",
              "  'rpdPdfLinkTest': 'https://xn--80az8a.xn--d1aqf.xn--p1ai/api/ext/file/70c73cad-5a83-4aa0-8c6d-28c79eedfbba',\n",
              "  'rpdPdfSize': '1123959',\n",
              "  'loadDttm': '21-11-2022 01:10',\n",
              "  'fileName': 'obj47925_pd38-000548_06',\n",
              "  'fileNameDownload': 'obj47925_pd38-000548',\n",
              "  'objId': 47925}]"
            ]
          },
          "metadata": {},
          "execution_count": 18
        }
      ]
    },
    {
      "cell_type": "code",
      "source": [
        "!pip install tabula-py as tabula"
      ],
      "metadata": {
        "colab": {
          "base_uri": "https://localhost:8080/"
        },
        "id": "j-H0fVWl5JBk",
        "outputId": "03db44b3-36f9-46dd-cbd4-00d46d015a0e"
      },
      "execution_count": 22,
      "outputs": [
        {
          "output_type": "stream",
          "name": "stdout",
          "text": [
            "Looking in indexes: https://pypi.org/simple, https://us-python.pkg.dev/colab-wheels/public/simple/\n",
            "Requirement already satisfied: tabula-py in /usr/local/lib/python3.7/dist-packages (2.5.1)\n",
            "\u001b[31mERROR: Could not find a version that satisfies the requirement as (from versions: none)\u001b[0m\n",
            "\u001b[31mERROR: No matching distribution found for as\u001b[0m\n"
          ]
        }
      ]
    },
    {
      "cell_type": "code",
      "source": [
        "!pip install fitz"
      ],
      "metadata": {
        "colab": {
          "base_uri": "https://localhost:8080/"
        },
        "id": "hMXApjdD6jGD",
        "outputId": "02878d51-3249-40c7-fe03-c7e142179786"
      },
      "execution_count": 31,
      "outputs": [
        {
          "output_type": "stream",
          "name": "stdout",
          "text": [
            "Looking in indexes: https://pypi.org/simple, https://us-python.pkg.dev/colab-wheels/public/simple/\n",
            "Collecting fitz\n",
            "  Downloading fitz-0.0.1.dev2-py2.py3-none-any.whl (20 kB)\n",
            "Collecting nipype\n",
            "  Downloading nipype-1.8.5-py3-none-any.whl (3.2 MB)\n",
            "\u001b[K     |████████████████████████████████| 3.2 MB 6.7 MB/s \n",
            "\u001b[?25hRequirement already satisfied: httplib2 in /usr/local/lib/python3.7/dist-packages (from fitz) (0.17.4)\n",
            "Requirement already satisfied: nibabel in /usr/local/lib/python3.7/dist-packages (from fitz) (3.0.2)\n",
            "Collecting configobj\n",
            "  Downloading configobj-5.0.6.tar.gz (33 kB)\n",
            "Requirement already satisfied: numpy in /usr/local/lib/python3.7/dist-packages (from fitz) (1.21.6)\n",
            "Requirement already satisfied: scipy in /usr/local/lib/python3.7/dist-packages (from fitz) (1.7.3)\n",
            "Collecting pyxnat\n",
            "  Downloading pyxnat-1.5-py3-none-any.whl (95 kB)\n",
            "\u001b[K     |████████████████████████████████| 95 kB 3.4 MB/s \n",
            "\u001b[?25hCollecting configparser\n",
            "  Downloading configparser-5.3.0-py3-none-any.whl (19 kB)\n",
            "Requirement already satisfied: pandas in /usr/local/lib/python3.7/dist-packages (from fitz) (1.3.5)\n",
            "Requirement already satisfied: six in /usr/local/lib/python3.7/dist-packages (from configobj->fitz) (1.15.0)\n",
            "Requirement already satisfied: pydot>=1.2.3 in /usr/local/lib/python3.7/dist-packages (from nipype->fitz) (1.3.0)\n",
            "Requirement already satisfied: filelock>=3.0.0 in /usr/local/lib/python3.7/dist-packages (from nipype->fitz) (3.8.0)\n",
            "Collecting simplejson>=3.8.0\n",
            "  Downloading simplejson-3.18.0-cp37-cp37m-manylinux_2_5_x86_64.manylinux1_x86_64.manylinux_2_12_x86_64.manylinux2010_x86_64.whl (130 kB)\n",
            "\u001b[K     |████████████████████████████████| 130 kB 55.6 MB/s \n",
            "\u001b[?25hCollecting etelemetry>=0.2.0\n",
            "  Downloading etelemetry-0.3.0-py3-none-any.whl (6.3 kB)\n",
            "Requirement already satisfied: packaging in /usr/local/lib/python3.7/dist-packages (from nipype->fitz) (21.3)\n",
            "Collecting prov>=1.5.2\n",
            "  Downloading prov-2.0.0-py3-none-any.whl (421 kB)\n",
            "\u001b[K     |████████████████████████████████| 421 kB 56.8 MB/s \n",
            "\u001b[?25hCollecting rdflib>=5.0.0\n",
            "  Downloading rdflib-6.2.0-py3-none-any.whl (500 kB)\n",
            "\u001b[K     |████████████████████████████████| 500 kB 53.2 MB/s \n",
            "\u001b[?25hCollecting traits!=5.0,<6.4,>=4.6\n",
            "  Downloading traits-6.3.2-cp37-cp37m-manylinux_2_5_x86_64.manylinux1_x86_64.manylinux_2_12_x86_64.manylinux2010_x86_64.whl (5.1 MB)\n",
            "\u001b[K     |████████████████████████████████| 5.1 MB 37.4 MB/s \n",
            "\u001b[?25hRequirement already satisfied: python-dateutil>=2.2 in /usr/local/lib/python3.7/dist-packages (from nipype->fitz) (2.8.2)\n",
            "Requirement already satisfied: networkx>=2.0 in /usr/local/lib/python3.7/dist-packages (from nipype->fitz) (2.6.3)\n",
            "Requirement already satisfied: click>=6.6.0 in /usr/local/lib/python3.7/dist-packages (from nipype->fitz) (7.1.2)\n",
            "Collecting looseversion\n",
            "  Downloading looseversion-1.0.2-py3-none-any.whl (6.4 kB)\n",
            "Collecting ci-info>=0.2\n",
            "  Downloading ci_info-0.3.0-py3-none-any.whl (7.8 kB)\n",
            "Requirement already satisfied: requests in /usr/local/lib/python3.7/dist-packages (from etelemetry>=0.2.0->nipype->fitz) (2.23.0)\n",
            "Requirement already satisfied: lxml>=3.3.5 in /usr/local/lib/python3.7/dist-packages (from prov>=1.5.2->nipype->fitz) (4.9.1)\n",
            "Requirement already satisfied: pyparsing>=2.1.4 in /usr/local/lib/python3.7/dist-packages (from pydot>=1.2.3->nipype->fitz) (3.0.9)\n",
            "Collecting isodate\n",
            "  Downloading isodate-0.6.1-py2.py3-none-any.whl (41 kB)\n",
            "\u001b[K     |████████████████████████████████| 41 kB 515 kB/s \n",
            "\u001b[?25hRequirement already satisfied: importlib-metadata in /usr/local/lib/python3.7/dist-packages (from rdflib>=5.0.0->nipype->fitz) (4.13.0)\n",
            "Requirement already satisfied: setuptools in /usr/local/lib/python3.7/dist-packages (from rdflib>=5.0.0->nipype->fitz) (57.4.0)\n",
            "Requirement already satisfied: typing-extensions>=3.6.4 in /usr/local/lib/python3.7/dist-packages (from importlib-metadata->rdflib>=5.0.0->nipype->fitz) (4.1.1)\n",
            "Requirement already satisfied: zipp>=0.5 in /usr/local/lib/python3.7/dist-packages (from importlib-metadata->rdflib>=5.0.0->nipype->fitz) (3.10.0)\n",
            "Requirement already satisfied: pytz>=2017.3 in /usr/local/lib/python3.7/dist-packages (from pandas->fitz) (2022.6)\n",
            "Requirement already satisfied: pathlib>=1.0 in /usr/local/lib/python3.7/dist-packages (from pyxnat->fitz) (1.0.1)\n",
            "Requirement already satisfied: future>=0.16 in /usr/local/lib/python3.7/dist-packages (from pyxnat->fitz) (0.16.0)\n",
            "Requirement already satisfied: idna<3,>=2.5 in /usr/local/lib/python3.7/dist-packages (from requests->etelemetry>=0.2.0->nipype->fitz) (2.10)\n",
            "Requirement already satisfied: chardet<4,>=3.0.2 in /usr/local/lib/python3.7/dist-packages (from requests->etelemetry>=0.2.0->nipype->fitz) (3.0.4)\n",
            "Requirement already satisfied: urllib3!=1.25.0,!=1.25.1,<1.26,>=1.21.1 in /usr/local/lib/python3.7/dist-packages (from requests->etelemetry>=0.2.0->nipype->fitz) (1.24.3)\n",
            "Requirement already satisfied: certifi>=2017.4.17 in /usr/local/lib/python3.7/dist-packages (from requests->etelemetry>=0.2.0->nipype->fitz) (2022.9.24)\n",
            "Building wheels for collected packages: configobj\n",
            "  Building wheel for configobj (setup.py) ... \u001b[?25l\u001b[?25hdone\n",
            "  Created wheel for configobj: filename=configobj-5.0.6-py3-none-any.whl size=34546 sha256=850c4286230dd8ec5d3f1f1007815bc4b0eaa0dd65c9a70eb318c5e9d8761e79\n",
            "  Stored in directory: /root/.cache/pip/wheels/0d/c4/19/13d74440f2a571841db6b6e0a273694327498884dafb9cf978\n",
            "Successfully built configobj\n",
            "Installing collected packages: isodate, rdflib, ci-info, traits, simplejson, prov, looseversion, etelemetry, pyxnat, nipype, configparser, configobj, fitz\n",
            "Successfully installed ci-info-0.3.0 configobj-5.0.6 configparser-5.3.0 etelemetry-0.3.0 fitz-0.0.1.dev2 isodate-0.6.1 looseversion-1.0.2 nipype-1.8.5 prov-2.0.0 pyxnat-1.5 rdflib-6.2.0 simplejson-3.18.0 traits-6.3.2\n"
          ]
        }
      ]
    },
    {
      "cell_type": "code",
      "source": [
        "!pip install PyMuPDF"
      ],
      "metadata": {
        "colab": {
          "base_uri": "https://localhost:8080/"
        },
        "id": "YM2tTpap6xIT",
        "outputId": "942c88b6-907b-4515-8970-efbaf020318e"
      },
      "execution_count": 34,
      "outputs": [
        {
          "output_type": "stream",
          "name": "stdout",
          "text": [
            "Looking in indexes: https://pypi.org/simple, https://us-python.pkg.dev/colab-wheels/public/simple/\n",
            "Collecting PyMuPDF\n",
            "  Downloading PyMuPDF-1.21.0-cp37-cp37m-manylinux_2_17_x86_64.manylinux2014_x86_64.whl (14.0 MB)\n",
            "\u001b[K     |████████████████████████████████| 14.0 MB 4.4 MB/s \n",
            "\u001b[?25hInstalling collected packages: PyMuPDF\n",
            "Successfully installed PyMuPDF-1.21.0\n"
          ]
        }
      ]
    },
    {
      "cell_type": "code",
      "source": [
        "!pip install PyPDF2"
      ],
      "metadata": {
        "colab": {
          "base_uri": "https://localhost:8080/"
        },
        "id": "ZjJQxwdj_ozz",
        "outputId": "50ff62a6-99f8-48c8-a8c2-65910cbb428b"
      },
      "execution_count": 45,
      "outputs": [
        {
          "output_type": "stream",
          "name": "stdout",
          "text": [
            "Looking in indexes: https://pypi.org/simple, https://us-python.pkg.dev/colab-wheels/public/simple/\n",
            "Collecting PyPDF2\n",
            "  Downloading pypdf2-2.11.2-py3-none-any.whl (220 kB)\n",
            "\u001b[K     |████████████████████████████████| 220 kB 5.2 MB/s \n",
            "\u001b[?25hRequirement already satisfied: typing_extensions>=3.10.0.0 in /usr/local/lib/python3.7/dist-packages (from PyPDF2) (4.1.1)\n",
            "Installing collected packages: PyPDF2\n",
            "Successfully installed PyPDF2-2.11.2\n"
          ]
        }
      ]
    },
    {
      "cell_type": "code",
      "source": [
        "import fitz"
      ],
      "metadata": {
        "id": "bvkBvKfN6k8z"
      },
      "execution_count": 35,
      "outputs": []
    },
    {
      "cell_type": "code",
      "source": [
        "import os.path\n",
        "import fitz\n",
        "from PyPDF2 import PdfFileReader, PdfFileWriter, PdfFileMerger"
      ],
      "metadata": {
        "id": "xG1ibkhvBesL"
      },
      "execution_count": 55,
      "outputs": []
    },
    {
      "cell_type": "code",
      "source": [
        "import tabula"
      ],
      "metadata": {
        "id": "GiP7m6IO5uvT"
      },
      "execution_count": 24,
      "outputs": []
    },
    {
      "cell_type": "code",
      "source": [
        "#rpdPdfLink='https://xn--80az8a.xn--d1aqf.xn--p1ai/api/ext/file/cd720523-87b1-497f-b1a8-f575b0a28f7b'\n",
        "#rpdPdfLink='https://xn--80az8a.xn--d1aqf.xn--p1ai/api/ext/file/ce607034-266a-4e49-95f1-217c322a940a'+'?filename='+'obj47925_pd38-000548'+'.pdf'\n",
        "#rpdPdfLink='https://xn--80az8a.xn--d1aqf.xn--p1ai/api/ext/file/70c73cad-5a83-4aa0-8c6d-28c79eedfbba'\n",
        "rpdPdfLink='https://amgrad.ru/upload/kelnik.adminpage/381/55n88vusgu86i6jwcimdy8ieynii26wg/Proektnaya-deklaratsiya-korpus-3-ot-07.11.2022.pdf'"
      ],
      "metadata": {
        "id": "4Diqgii85fvL"
      },
      "execution_count": 75,
      "outputs": []
    },
    {
      "cell_type": "code",
      "source": [
        "print(rpdPdfLink)"
      ],
      "metadata": {
        "colab": {
          "base_uri": "https://localhost:8080/"
        },
        "id": "hCB7ZeKtDGYF",
        "outputId": "67b9760e-3582-4ebd-8ab2-7ca90398cbe2"
      },
      "execution_count": 76,
      "outputs": [
        {
          "output_type": "stream",
          "name": "stdout",
          "text": [
            "https://amgrad.ru/upload/kelnik.adminpage/381/55n88vusgu86i6jwcimdy8ieynii26wg/Proektnaya-deklaratsiya-korpus-3-ot-07.11.2022.pdf\n"
          ]
        }
      ]
    },
    {
      "cell_type": "code",
      "source": [
        "os.path.isfile(rpdPdfLink)"
      ],
      "metadata": {
        "colab": {
          "base_uri": "https://localhost:8080/"
        },
        "id": "HcxRYvU1__wb",
        "outputId": "1e19c6f8-bb96-4f7a-afb3-55b98e6682f4"
      },
      "execution_count": 77,
      "outputs": [
        {
          "output_type": "execute_result",
          "data": {
            "text/plain": [
              "False"
            ]
          },
          "metadata": {},
          "execution_count": 77
        }
      ]
    },
    {
      "cell_type": "code",
      "source": [
        "tables = tabula.read_pdf(rpdPdfLink, pages='all', pandas_options={'header': None})"
      ],
      "metadata": {
        "id": "4HD0fFpc4u9L"
      },
      "execution_count": 136,
      "outputs": []
    },
    {
      "cell_type": "code",
      "source": [
        "from PyPDF2 import PdfFileReader"
      ],
      "metadata": {
        "id": "UKAJUB4h_ldk"
      },
      "execution_count": 46,
      "outputs": []
    },
    {
      "cell_type": "code",
      "source": [
        "r = requests.get(rpdPdfLink, stream=True)"
      ],
      "metadata": {
        "id": "WGczsz4JA9dL"
      },
      "execution_count": 79,
      "outputs": []
    },
    {
      "cell_type": "code",
      "source": [
        "r"
      ],
      "metadata": {
        "colab": {
          "base_uri": "https://localhost:8080/"
        },
        "id": "_3jjaKy7BFot",
        "outputId": "48a0c4b7-f543-417f-9809-7b2a629f2523"
      },
      "execution_count": 80,
      "outputs": [
        {
          "output_type": "execute_result",
          "data": {
            "text/plain": [
              "<Response [200]>"
            ]
          },
          "metadata": {},
          "execution_count": 80
        }
      ]
    },
    {
      "cell_type": "code",
      "source": [
        "with open(rpdPdfLink) as filehandle:  \n",
        "    pdf = PdfFileReader(filehandle)"
      ],
      "metadata": {
        "colab": {
          "base_uri": "https://localhost:8080/",
          "height": 182
        },
        "id": "c3Ax_F4z_uBj",
        "outputId": "866c1388-8ef2-41c3-91dc-bd711c0b6210"
      },
      "execution_count": 78,
      "outputs": [
        {
          "output_type": "error",
          "ename": "FileNotFoundError",
          "evalue": "ignored",
          "traceback": [
            "\u001b[0;31m---------------------------------------------------------------------------\u001b[0m",
            "\u001b[0;31mFileNotFoundError\u001b[0m                         Traceback (most recent call last)",
            "\u001b[0;32m<ipython-input-78-0c0ba9756b3b>\u001b[0m in \u001b[0;36m<module>\u001b[0;34m\u001b[0m\n\u001b[0;32m----> 1\u001b[0;31m \u001b[0;32mwith\u001b[0m \u001b[0mopen\u001b[0m\u001b[0;34m(\u001b[0m\u001b[0mrpdPdfLink\u001b[0m\u001b[0;34m)\u001b[0m \u001b[0;32mas\u001b[0m \u001b[0mfilehandle\u001b[0m\u001b[0;34m:\u001b[0m\u001b[0;34m\u001b[0m\u001b[0;34m\u001b[0m\u001b[0m\n\u001b[0m\u001b[1;32m      2\u001b[0m     \u001b[0mpdf\u001b[0m \u001b[0;34m=\u001b[0m \u001b[0mPdfFileReader\u001b[0m\u001b[0;34m(\u001b[0m\u001b[0mfilehandle\u001b[0m\u001b[0;34m)\u001b[0m\u001b[0;34m\u001b[0m\u001b[0;34m\u001b[0m\u001b[0m\n",
            "\u001b[0;31mFileNotFoundError\u001b[0m: [Errno 2] No such file or directory: 'https://amgrad.ru/upload/kelnik.adminpage/381/55n88vusgu86i6jwcimdy8ieynii26wg/Proektnaya-deklaratsiya-korpus-3-ot-07.11.2022.pdf'"
          ]
        }
      ]
    },
    {
      "cell_type": "code",
      "source": [
        "with fitz.open(rpdPdfLink) as doc:\n",
        "                text = []\n",
        "                for page in doc:\n",
        "                    text += page.get_text('blocks')"
      ],
      "metadata": {
        "colab": {
          "base_uri": "https://localhost:8080/",
          "height": 339
        },
        "id": "n-vkt7Fp6YbL",
        "outputId": "5765646c-4999-4e5f-918f-fb1a861880dc"
      },
      "execution_count": 81,
      "outputs": [
        {
          "output_type": "error",
          "ename": "FileNotFoundError",
          "evalue": "ignored",
          "traceback": [
            "\u001b[0;31m---------------------------------------------------------------------------\u001b[0m",
            "\u001b[0;31mFileNotFoundError\u001b[0m                         Traceback (most recent call last)",
            "\u001b[0;32m<ipython-input-81-82fe7620d4b3>\u001b[0m in \u001b[0;36m<module>\u001b[0;34m\u001b[0m\n\u001b[0;32m----> 1\u001b[0;31m \u001b[0;32mwith\u001b[0m \u001b[0mfitz\u001b[0m\u001b[0;34m.\u001b[0m\u001b[0mopen\u001b[0m\u001b[0;34m(\u001b[0m\u001b[0mrpdPdfLink\u001b[0m\u001b[0;34m)\u001b[0m \u001b[0;32mas\u001b[0m \u001b[0mdoc\u001b[0m\u001b[0;34m:\u001b[0m\u001b[0;34m\u001b[0m\u001b[0;34m\u001b[0m\u001b[0m\n\u001b[0m\u001b[1;32m      2\u001b[0m                 \u001b[0mtext\u001b[0m \u001b[0;34m=\u001b[0m \u001b[0;34m[\u001b[0m\u001b[0;34m]\u001b[0m\u001b[0;34m\u001b[0m\u001b[0;34m\u001b[0m\u001b[0m\n\u001b[1;32m      3\u001b[0m                 \u001b[0;32mfor\u001b[0m \u001b[0mpage\u001b[0m \u001b[0;32min\u001b[0m \u001b[0mdoc\u001b[0m\u001b[0;34m:\u001b[0m\u001b[0;34m\u001b[0m\u001b[0;34m\u001b[0m\u001b[0m\n\u001b[1;32m      4\u001b[0m                     \u001b[0mtext\u001b[0m \u001b[0;34m+=\u001b[0m \u001b[0mpage\u001b[0m\u001b[0;34m.\u001b[0m\u001b[0mget_text\u001b[0m\u001b[0;34m(\u001b[0m\u001b[0;34m'blocks'\u001b[0m\u001b[0;34m)\u001b[0m\u001b[0;34m\u001b[0m\u001b[0;34m\u001b[0m\u001b[0m\n",
            "\u001b[0;32m/usr/local/lib/python3.7/dist-packages/fitz/fitz.py\u001b[0m in \u001b[0;36m__init__\u001b[0;34m(self, filename, stream, filetype, rect, width, height, fontsize)\u001b[0m\n\u001b[1;32m   3950\u001b[0m             \u001b[0;32mif\u001b[0m \u001b[0;32mnot\u001b[0m \u001b[0mos\u001b[0m\u001b[0;34m.\u001b[0m\u001b[0mpath\u001b[0m\u001b[0;34m.\u001b[0m\u001b[0mexists\u001b[0m\u001b[0;34m(\u001b[0m\u001b[0mfilename\u001b[0m\u001b[0;34m)\u001b[0m\u001b[0;34m:\u001b[0m\u001b[0;34m\u001b[0m\u001b[0;34m\u001b[0m\u001b[0m\n\u001b[1;32m   3951\u001b[0m                 \u001b[0mmsg\u001b[0m \u001b[0;34m=\u001b[0m \u001b[0;34mf\"no such file: '{filename}'\"\u001b[0m\u001b[0;34m\u001b[0m\u001b[0;34m\u001b[0m\u001b[0m\n\u001b[0;32m-> 3952\u001b[0;31m                 \u001b[0;32mraise\u001b[0m \u001b[0mFileNotFoundError\u001b[0m\u001b[0;34m(\u001b[0m\u001b[0mmsg\u001b[0m\u001b[0;34m)\u001b[0m\u001b[0;34m\u001b[0m\u001b[0;34m\u001b[0m\u001b[0m\n\u001b[0m\u001b[1;32m   3953\u001b[0m             \u001b[0;32melif\u001b[0m \u001b[0;32mnot\u001b[0m \u001b[0mos\u001b[0m\u001b[0;34m.\u001b[0m\u001b[0mpath\u001b[0m\u001b[0;34m.\u001b[0m\u001b[0misfile\u001b[0m\u001b[0;34m(\u001b[0m\u001b[0mfilename\u001b[0m\u001b[0;34m)\u001b[0m\u001b[0;34m:\u001b[0m\u001b[0;34m\u001b[0m\u001b[0;34m\u001b[0m\u001b[0m\n\u001b[1;32m   3954\u001b[0m                 \u001b[0mmsg\u001b[0m \u001b[0;34m=\u001b[0m \u001b[0;34mf\"'{filename}' is no file\"\u001b[0m\u001b[0;34m\u001b[0m\u001b[0;34m\u001b[0m\u001b[0m\n",
            "\u001b[0;31mFileNotFoundError\u001b[0m: no such file: 'https://amgrad.ru/upload/kelnik.adminpage/381/55n88vusgu86i6jwcimdy8ieynii26wg/Proektnaya-deklaratsiya-korpus-3-ot-07.11.2022.pdf'"
          ]
        }
      ]
    },
    {
      "cell_type": "code",
      "source": [
        "tables[110]"
      ],
      "metadata": {
        "colab": {
          "base_uri": "https://localhost:8080/",
          "height": 520
        },
        "id": "f8sKny-2588T",
        "outputId": "4cb2e148-fd08-4dec-e720-ad1609c8fd95"
      },
      "execution_count": 273,
      "outputs": [
        {
          "output_type": "execute_result",
          "data": {
            "text/plain": [
              "     0   1   2             3   4  \\\n",
              "0  NaN NaN NaN  19.7.2.1.3.1 NaN   \n",
              "1  NaN NaN NaN  19.7.2.1.3.2 NaN   \n",
              "2  NaN NaN NaN  19.7.2.1.3.3 NaN   \n",
              "3  NaN NaN NaN        19.7.3 NaN   \n",
              "4  NaN NaN NaN      19.7.3.1 NaN   \n",
              "5  NaN NaN NaN    19.7.3.1.1 NaN   \n",
              "6  NaN NaN NaN  19.7.3.1.1.1 NaN   \n",
              "7  NaN NaN NaN  19.7.3.1.1.2 NaN   \n",
              "8  NaN NaN NaN  19.7.3.1.1.3 NaN   \n",
              "9  NaN NaN NaN    19.7.3.1.2 NaN   \n",
              "10 NaN NaN NaN  19.7.3.1.2.1 NaN   \n",
              "11 NaN NaN NaN  19.7.3.1.2.2 NaN   \n",
              "12 NaN NaN NaN  19.7.3.1.2.3 NaN   \n",
              "13 NaN NaN NaN    19.7.3.1.3 NaN   \n",
              "14 NaN NaN NaN  19.7.3.1.3.1 NaN   \n",
              "\n",
              "                                                                                                                                                                                     5   6  \n",
              "0                                                        Площадь объектов, в отношении которых договор участия в долевом строительстве\\rзаключен с использованием счетов эскроу:\\r0 м2 NaN  \n",
              "1          Площадь объектов, в отношении которых договор участия в долевом строительстве\\rзаключен при условии уплаты обязательных отчислений (взносов) в компенсационный\\rфонд:\\r0 м2 NaN  \n",
              "2   Площадь объектов, в отношении которых договор участия в долевом строительстве\\rзаключен с использованием иных способов обеспечения гражданской ответственности\\rзастройщика:\\r0 м2 NaN  \n",
              "3                                                                                                                                    О цене договоров участия в долевом строительстве: NaN  \n",
              "4                                                                                                                                                  Вид объекта долевого строительства: NaN  \n",
              "5                                                                                                                                                                     Жилые помещения: NaN  \n",
              "6                                                                                         Суммарная цена договоров, заключенных с использованием счетов эскроу:\\r2 831 752 392,54 руб. NaN  \n",
              "7                                                          Суммарная цена договоров, заключенных при условии уплаты обязательных отчислений\\r(взносов) в компенсационный фонд:\\r0 руб. NaN  \n",
              "8                                                   Суммарная цена договоров, заключенных с использованием иных способов обеспечения\\rгражданской ответственности застройщика:\\r0 руб. NaN  \n",
              "9                                                                                                                                                                   Нежилые помещения: NaN  \n",
              "10                                                                                                       Суммарная цена договоров, заключенных с использованием счетов эскроу:\\r0 руб. NaN  \n",
              "11                                                         Суммарная цена договоров, заключенных при условии уплаты обязательных отчислений\\r(взносов) в компенсационный фонд:\\r0 руб. NaN  \n",
              "12                                                  Суммарная цена договоров, заключенных с использованием иных способов обеспечения\\rгражданской ответственности застройщика:\\r0 руб. NaN  \n",
              "13                                                                                                                                                                       Машино-места: NaN  \n",
              "14                                                                                                       Суммарная цена договоров, заключенных с использованием счетов эскроу:\\r0 руб. NaN  "
            ],
            "text/html": [
              "\n",
              "  <div id=\"df-b4912af4-dd64-409f-bf73-b9760a31970e\">\n",
              "    <div class=\"colab-df-container\">\n",
              "      <div>\n",
              "<style scoped>\n",
              "    .dataframe tbody tr th:only-of-type {\n",
              "        vertical-align: middle;\n",
              "    }\n",
              "\n",
              "    .dataframe tbody tr th {\n",
              "        vertical-align: top;\n",
              "    }\n",
              "\n",
              "    .dataframe thead th {\n",
              "        text-align: right;\n",
              "    }\n",
              "</style>\n",
              "<table border=\"1\" class=\"dataframe\">\n",
              "  <thead>\n",
              "    <tr style=\"text-align: right;\">\n",
              "      <th></th>\n",
              "      <th>0</th>\n",
              "      <th>1</th>\n",
              "      <th>2</th>\n",
              "      <th>3</th>\n",
              "      <th>4</th>\n",
              "      <th>5</th>\n",
              "      <th>6</th>\n",
              "    </tr>\n",
              "  </thead>\n",
              "  <tbody>\n",
              "    <tr>\n",
              "      <th>0</th>\n",
              "      <td>NaN</td>\n",
              "      <td>NaN</td>\n",
              "      <td>NaN</td>\n",
              "      <td>19.7.2.1.3.1</td>\n",
              "      <td>NaN</td>\n",
              "      <td>Площадь объектов, в отношении которых договор участия в долевом строительстве\\rзаключен с использованием счетов эскроу:\\r0 м2</td>\n",
              "      <td>NaN</td>\n",
              "    </tr>\n",
              "    <tr>\n",
              "      <th>1</th>\n",
              "      <td>NaN</td>\n",
              "      <td>NaN</td>\n",
              "      <td>NaN</td>\n",
              "      <td>19.7.2.1.3.2</td>\n",
              "      <td>NaN</td>\n",
              "      <td>Площадь объектов, в отношении которых договор участия в долевом строительстве\\rзаключен при условии уплаты обязательных отчислений (взносов) в компенсационный\\rфонд:\\r0 м2</td>\n",
              "      <td>NaN</td>\n",
              "    </tr>\n",
              "    <tr>\n",
              "      <th>2</th>\n",
              "      <td>NaN</td>\n",
              "      <td>NaN</td>\n",
              "      <td>NaN</td>\n",
              "      <td>19.7.2.1.3.3</td>\n",
              "      <td>NaN</td>\n",
              "      <td>Площадь объектов, в отношении которых договор участия в долевом строительстве\\rзаключен с использованием иных способов обеспечения гражданской ответственности\\rзастройщика:\\r0 м2</td>\n",
              "      <td>NaN</td>\n",
              "    </tr>\n",
              "    <tr>\n",
              "      <th>3</th>\n",
              "      <td>NaN</td>\n",
              "      <td>NaN</td>\n",
              "      <td>NaN</td>\n",
              "      <td>19.7.3</td>\n",
              "      <td>NaN</td>\n",
              "      <td>О цене договоров участия в долевом строительстве:</td>\n",
              "      <td>NaN</td>\n",
              "    </tr>\n",
              "    <tr>\n",
              "      <th>4</th>\n",
              "      <td>NaN</td>\n",
              "      <td>NaN</td>\n",
              "      <td>NaN</td>\n",
              "      <td>19.7.3.1</td>\n",
              "      <td>NaN</td>\n",
              "      <td>Вид объекта долевого строительства:</td>\n",
              "      <td>NaN</td>\n",
              "    </tr>\n",
              "    <tr>\n",
              "      <th>5</th>\n",
              "      <td>NaN</td>\n",
              "      <td>NaN</td>\n",
              "      <td>NaN</td>\n",
              "      <td>19.7.3.1.1</td>\n",
              "      <td>NaN</td>\n",
              "      <td>Жилые помещения:</td>\n",
              "      <td>NaN</td>\n",
              "    </tr>\n",
              "    <tr>\n",
              "      <th>6</th>\n",
              "      <td>NaN</td>\n",
              "      <td>NaN</td>\n",
              "      <td>NaN</td>\n",
              "      <td>19.7.3.1.1.1</td>\n",
              "      <td>NaN</td>\n",
              "      <td>Суммарная цена договоров, заключенных с использованием счетов эскроу:\\r2 831 752 392,54 руб.</td>\n",
              "      <td>NaN</td>\n",
              "    </tr>\n",
              "    <tr>\n",
              "      <th>7</th>\n",
              "      <td>NaN</td>\n",
              "      <td>NaN</td>\n",
              "      <td>NaN</td>\n",
              "      <td>19.7.3.1.1.2</td>\n",
              "      <td>NaN</td>\n",
              "      <td>Суммарная цена договоров, заключенных при условии уплаты обязательных отчислений\\r(взносов) в компенсационный фонд:\\r0 руб.</td>\n",
              "      <td>NaN</td>\n",
              "    </tr>\n",
              "    <tr>\n",
              "      <th>8</th>\n",
              "      <td>NaN</td>\n",
              "      <td>NaN</td>\n",
              "      <td>NaN</td>\n",
              "      <td>19.7.3.1.1.3</td>\n",
              "      <td>NaN</td>\n",
              "      <td>Суммарная цена договоров, заключенных с использованием иных способов обеспечения\\rгражданской ответственности застройщика:\\r0 руб.</td>\n",
              "      <td>NaN</td>\n",
              "    </tr>\n",
              "    <tr>\n",
              "      <th>9</th>\n",
              "      <td>NaN</td>\n",
              "      <td>NaN</td>\n",
              "      <td>NaN</td>\n",
              "      <td>19.7.3.1.2</td>\n",
              "      <td>NaN</td>\n",
              "      <td>Нежилые помещения:</td>\n",
              "      <td>NaN</td>\n",
              "    </tr>\n",
              "    <tr>\n",
              "      <th>10</th>\n",
              "      <td>NaN</td>\n",
              "      <td>NaN</td>\n",
              "      <td>NaN</td>\n",
              "      <td>19.7.3.1.2.1</td>\n",
              "      <td>NaN</td>\n",
              "      <td>Суммарная цена договоров, заключенных с использованием счетов эскроу:\\r0 руб.</td>\n",
              "      <td>NaN</td>\n",
              "    </tr>\n",
              "    <tr>\n",
              "      <th>11</th>\n",
              "      <td>NaN</td>\n",
              "      <td>NaN</td>\n",
              "      <td>NaN</td>\n",
              "      <td>19.7.3.1.2.2</td>\n",
              "      <td>NaN</td>\n",
              "      <td>Суммарная цена договоров, заключенных при условии уплаты обязательных отчислений\\r(взносов) в компенсационный фонд:\\r0 руб.</td>\n",
              "      <td>NaN</td>\n",
              "    </tr>\n",
              "    <tr>\n",
              "      <th>12</th>\n",
              "      <td>NaN</td>\n",
              "      <td>NaN</td>\n",
              "      <td>NaN</td>\n",
              "      <td>19.7.3.1.2.3</td>\n",
              "      <td>NaN</td>\n",
              "      <td>Суммарная цена договоров, заключенных с использованием иных способов обеспечения\\rгражданской ответственности застройщика:\\r0 руб.</td>\n",
              "      <td>NaN</td>\n",
              "    </tr>\n",
              "    <tr>\n",
              "      <th>13</th>\n",
              "      <td>NaN</td>\n",
              "      <td>NaN</td>\n",
              "      <td>NaN</td>\n",
              "      <td>19.7.3.1.3</td>\n",
              "      <td>NaN</td>\n",
              "      <td>Машино-места:</td>\n",
              "      <td>NaN</td>\n",
              "    </tr>\n",
              "    <tr>\n",
              "      <th>14</th>\n",
              "      <td>NaN</td>\n",
              "      <td>NaN</td>\n",
              "      <td>NaN</td>\n",
              "      <td>19.7.3.1.3.1</td>\n",
              "      <td>NaN</td>\n",
              "      <td>Суммарная цена договоров, заключенных с использованием счетов эскроу:\\r0 руб.</td>\n",
              "      <td>NaN</td>\n",
              "    </tr>\n",
              "  </tbody>\n",
              "</table>\n",
              "</div>\n",
              "      <button class=\"colab-df-convert\" onclick=\"convertToInteractive('df-b4912af4-dd64-409f-bf73-b9760a31970e')\"\n",
              "              title=\"Convert this dataframe to an interactive table.\"\n",
              "              style=\"display:none;\">\n",
              "        \n",
              "  <svg xmlns=\"http://www.w3.org/2000/svg\" height=\"24px\"viewBox=\"0 0 24 24\"\n",
              "       width=\"24px\">\n",
              "    <path d=\"M0 0h24v24H0V0z\" fill=\"none\"/>\n",
              "    <path d=\"M18.56 5.44l.94 2.06.94-2.06 2.06-.94-2.06-.94-.94-2.06-.94 2.06-2.06.94zm-11 1L8.5 8.5l.94-2.06 2.06-.94-2.06-.94L8.5 2.5l-.94 2.06-2.06.94zm10 10l.94 2.06.94-2.06 2.06-.94-2.06-.94-.94-2.06-.94 2.06-2.06.94z\"/><path d=\"M17.41 7.96l-1.37-1.37c-.4-.4-.92-.59-1.43-.59-.52 0-1.04.2-1.43.59L10.3 9.45l-7.72 7.72c-.78.78-.78 2.05 0 2.83L4 21.41c.39.39.9.59 1.41.59.51 0 1.02-.2 1.41-.59l7.78-7.78 2.81-2.81c.8-.78.8-2.07 0-2.86zM5.41 20L4 18.59l7.72-7.72 1.47 1.35L5.41 20z\"/>\n",
              "  </svg>\n",
              "      </button>\n",
              "      \n",
              "  <style>\n",
              "    .colab-df-container {\n",
              "      display:flex;\n",
              "      flex-wrap:wrap;\n",
              "      gap: 12px;\n",
              "    }\n",
              "\n",
              "    .colab-df-convert {\n",
              "      background-color: #E8F0FE;\n",
              "      border: none;\n",
              "      border-radius: 50%;\n",
              "      cursor: pointer;\n",
              "      display: none;\n",
              "      fill: #1967D2;\n",
              "      height: 32px;\n",
              "      padding: 0 0 0 0;\n",
              "      width: 32px;\n",
              "    }\n",
              "\n",
              "    .colab-df-convert:hover {\n",
              "      background-color: #E2EBFA;\n",
              "      box-shadow: 0px 1px 2px rgba(60, 64, 67, 0.3), 0px 1px 3px 1px rgba(60, 64, 67, 0.15);\n",
              "      fill: #174EA6;\n",
              "    }\n",
              "\n",
              "    [theme=dark] .colab-df-convert {\n",
              "      background-color: #3B4455;\n",
              "      fill: #D2E3FC;\n",
              "    }\n",
              "\n",
              "    [theme=dark] .colab-df-convert:hover {\n",
              "      background-color: #434B5C;\n",
              "      box-shadow: 0px 1px 3px 1px rgba(0, 0, 0, 0.15);\n",
              "      filter: drop-shadow(0px 1px 2px rgba(0, 0, 0, 0.3));\n",
              "      fill: #FFFFFF;\n",
              "    }\n",
              "  </style>\n",
              "\n",
              "      <script>\n",
              "        const buttonEl =\n",
              "          document.querySelector('#df-b4912af4-dd64-409f-bf73-b9760a31970e button.colab-df-convert');\n",
              "        buttonEl.style.display =\n",
              "          google.colab.kernel.accessAllowed ? 'block' : 'none';\n",
              "\n",
              "        async function convertToInteractive(key) {\n",
              "          const element = document.querySelector('#df-b4912af4-dd64-409f-bf73-b9760a31970e');\n",
              "          const dataTable =\n",
              "            await google.colab.kernel.invokeFunction('convertToInteractive',\n",
              "                                                     [key], {});\n",
              "          if (!dataTable) return;\n",
              "\n",
              "          const docLinkHtml = 'Like what you see? Visit the ' +\n",
              "            '<a target=\"_blank\" href=https://colab.research.google.com/notebooks/data_table.ipynb>data table notebook</a>'\n",
              "            + ' to learn more about interactive tables.';\n",
              "          element.innerHTML = '';\n",
              "          dataTable['output_type'] = 'display_data';\n",
              "          await google.colab.output.renderOutput(dataTable, element);\n",
              "          const docLink = document.createElement('div');\n",
              "          docLink.innerHTML = docLinkHtml;\n",
              "          element.appendChild(docLink);\n",
              "        }\n",
              "      </script>\n",
              "    </div>\n",
              "  </div>\n",
              "  "
            ]
          },
          "metadata": {},
          "execution_count": 273
        }
      ]
    },
    {
      "cell_type": "code",
      "source": [
        "pd.options.display.width=200\n",
        "pd.options.display.max_colwidth=200"
      ],
      "metadata": {
        "id": "UxNOsZy2q4a0"
      },
      "execution_count": 268,
      "outputs": []
    },
    {
      "cell_type": "code",
      "source": [
        "len(tables[108][5]) #[tables[108][5].str.find('845')>-1]"
      ],
      "metadata": {
        "id": "GRp5JsuGqXs1",
        "outputId": "6ec8aa80-c50c-4851-d7a1-5fa4aa58e613",
        "colab": {
          "base_uri": "https://localhost:8080/"
        }
      },
      "execution_count": 270,
      "outputs": [
        {
          "output_type": "execute_result",
          "data": {
            "text/plain": [
              "11"
            ]
          },
          "metadata": {},
          "execution_count": 270
        }
      ]
    },
    {
      "cell_type": "code",
      "source": [
        "tables[108][5]"
      ],
      "metadata": {
        "id": "rDFEX9mvrhm9",
        "outputId": "a80cb450-a74f-4388-ff05-2af564a04198",
        "colab": {
          "base_uri": "https://localhost:8080/"
        }
      },
      "execution_count": 271,
      "outputs": [
        {
          "output_type": "execute_result",
          "data": {
            "text/plain": [
              "0                                                                       О количестве договоров участия в долевом строительстве:\n",
              "1                                                                                           Вид объекта долевого строительства:\n",
              "2                                                                                                              Жилые помещения:\n",
              "3                                                        Количество договоров, заключенных с использованием счетов эскроу:\\r845\n",
              "4            Количество договоров, заключенных при условии уплаты обязательных отчислений\\r(взносов) в компенсационный фонд:\\r0\n",
              "5     Количество договоров, заключенных с использованием иных способов обеспечения\\rгражданской ответственности застройщика:\\r0\n",
              "6                                                                                                            Нежилые помещения:\n",
              "7                                                          Количество договоров, заключенных с использованием счетов эскроу:\\r0\n",
              "8            Количество договоров, заключенных при условии уплаты обязательных отчислений\\r(взносов) в компенсационный фонд:\\r0\n",
              "9     Количество договоров, заключенных с использованием иных способов обеспечения\\rгражданской ответственности застройщика:\\r0\n",
              "10                                                                                                                Машино-места:\n",
              "Name: 5, dtype: object"
            ]
          },
          "metadata": {},
          "execution_count": 271
        }
      ]
    },
    {
      "cell_type": "code",
      "source": [
        "type(tables[108][5])"
      ],
      "metadata": {
        "id": "2eYm9JzEm3Zi",
        "outputId": "d435e4d6-8850-489e-9f45-72d69a098905",
        "colab": {
          "base_uri": "https://localhost:8080/"
        }
      },
      "execution_count": 254,
      "outputs": [
        {
          "output_type": "execute_result",
          "data": {
            "text/plain": [
              "pandas.core.series.Series"
            ]
          },
          "metadata": {},
          "execution_count": 254
        }
      ]
    },
    {
      "cell_type": "code",
      "source": [
        "df = pd.DataFrame(list(zip(tables)))"
      ],
      "metadata": {
        "id": "yt0qxeG2K3cG"
      },
      "execution_count": 95,
      "outputs": []
    },
    {
      "cell_type": "code",
      "source": [
        "df[1]"
      ],
      "metadata": {
        "id": "I0SyE-HWLd0l",
        "outputId": "c364fbba-6e31-41fb-c852-db6b3ea7a78e",
        "colab": {
          "base_uri": "https://localhost:8080/",
          "height": 432
        }
      },
      "execution_count": 100,
      "outputs": [
        {
          "output_type": "error",
          "ename": "KeyError",
          "evalue": "ignored",
          "traceback": [
            "\u001b[0;31m---------------------------------------------------------------------------\u001b[0m",
            "\u001b[0;31mValueError\u001b[0m                                Traceback (most recent call last)",
            "\u001b[0;32m/usr/local/lib/python3.7/dist-packages/pandas/core/indexes/range.py\u001b[0m in \u001b[0;36mget_loc\u001b[0;34m(self, key, method, tolerance)\u001b[0m\n\u001b[1;32m    384\u001b[0m                 \u001b[0;32mtry\u001b[0m\u001b[0;34m:\u001b[0m\u001b[0;34m\u001b[0m\u001b[0;34m\u001b[0m\u001b[0m\n\u001b[0;32m--> 385\u001b[0;31m                     \u001b[0;32mreturn\u001b[0m \u001b[0mself\u001b[0m\u001b[0;34m.\u001b[0m\u001b[0m_range\u001b[0m\u001b[0;34m.\u001b[0m\u001b[0mindex\u001b[0m\u001b[0;34m(\u001b[0m\u001b[0mnew_key\u001b[0m\u001b[0;34m)\u001b[0m\u001b[0;34m\u001b[0m\u001b[0;34m\u001b[0m\u001b[0m\n\u001b[0m\u001b[1;32m    386\u001b[0m                 \u001b[0;32mexcept\u001b[0m \u001b[0mValueError\u001b[0m \u001b[0;32mas\u001b[0m \u001b[0merr\u001b[0m\u001b[0;34m:\u001b[0m\u001b[0;34m\u001b[0m\u001b[0;34m\u001b[0m\u001b[0m\n",
            "\u001b[0;31mValueError\u001b[0m: 1 is not in range",
            "\nThe above exception was the direct cause of the following exception:\n",
            "\u001b[0;31mKeyError\u001b[0m                                  Traceback (most recent call last)",
            "\u001b[0;32m<ipython-input-100-78a33f69c558>\u001b[0m in \u001b[0;36m<module>\u001b[0;34m\u001b[0m\n\u001b[0;32m----> 1\u001b[0;31m \u001b[0mdf\u001b[0m\u001b[0;34m[\u001b[0m\u001b[0;36m1\u001b[0m\u001b[0;34m]\u001b[0m\u001b[0;34m\u001b[0m\u001b[0;34m\u001b[0m\u001b[0m\n\u001b[0m",
            "\u001b[0;32m/usr/local/lib/python3.7/dist-packages/pandas/core/frame.py\u001b[0m in \u001b[0;36m__getitem__\u001b[0;34m(self, key)\u001b[0m\n\u001b[1;32m   3456\u001b[0m             \u001b[0;32mif\u001b[0m \u001b[0mself\u001b[0m\u001b[0;34m.\u001b[0m\u001b[0mcolumns\u001b[0m\u001b[0;34m.\u001b[0m\u001b[0mnlevels\u001b[0m \u001b[0;34m>\u001b[0m \u001b[0;36m1\u001b[0m\u001b[0;34m:\u001b[0m\u001b[0;34m\u001b[0m\u001b[0;34m\u001b[0m\u001b[0m\n\u001b[1;32m   3457\u001b[0m                 \u001b[0;32mreturn\u001b[0m \u001b[0mself\u001b[0m\u001b[0;34m.\u001b[0m\u001b[0m_getitem_multilevel\u001b[0m\u001b[0;34m(\u001b[0m\u001b[0mkey\u001b[0m\u001b[0;34m)\u001b[0m\u001b[0;34m\u001b[0m\u001b[0;34m\u001b[0m\u001b[0m\n\u001b[0;32m-> 3458\u001b[0;31m             \u001b[0mindexer\u001b[0m \u001b[0;34m=\u001b[0m \u001b[0mself\u001b[0m\u001b[0;34m.\u001b[0m\u001b[0mcolumns\u001b[0m\u001b[0;34m.\u001b[0m\u001b[0mget_loc\u001b[0m\u001b[0;34m(\u001b[0m\u001b[0mkey\u001b[0m\u001b[0;34m)\u001b[0m\u001b[0;34m\u001b[0m\u001b[0;34m\u001b[0m\u001b[0m\n\u001b[0m\u001b[1;32m   3459\u001b[0m             \u001b[0;32mif\u001b[0m \u001b[0mis_integer\u001b[0m\u001b[0;34m(\u001b[0m\u001b[0mindexer\u001b[0m\u001b[0;34m)\u001b[0m\u001b[0;34m:\u001b[0m\u001b[0;34m\u001b[0m\u001b[0;34m\u001b[0m\u001b[0m\n\u001b[1;32m   3460\u001b[0m                 \u001b[0mindexer\u001b[0m \u001b[0;34m=\u001b[0m \u001b[0;34m[\u001b[0m\u001b[0mindexer\u001b[0m\u001b[0;34m]\u001b[0m\u001b[0;34m\u001b[0m\u001b[0;34m\u001b[0m\u001b[0m\n",
            "\u001b[0;32m/usr/local/lib/python3.7/dist-packages/pandas/core/indexes/range.py\u001b[0m in \u001b[0;36mget_loc\u001b[0;34m(self, key, method, tolerance)\u001b[0m\n\u001b[1;32m    385\u001b[0m                     \u001b[0;32mreturn\u001b[0m \u001b[0mself\u001b[0m\u001b[0;34m.\u001b[0m\u001b[0m_range\u001b[0m\u001b[0;34m.\u001b[0m\u001b[0mindex\u001b[0m\u001b[0;34m(\u001b[0m\u001b[0mnew_key\u001b[0m\u001b[0;34m)\u001b[0m\u001b[0;34m\u001b[0m\u001b[0;34m\u001b[0m\u001b[0m\n\u001b[1;32m    386\u001b[0m                 \u001b[0;32mexcept\u001b[0m \u001b[0mValueError\u001b[0m \u001b[0;32mas\u001b[0m \u001b[0merr\u001b[0m\u001b[0;34m:\u001b[0m\u001b[0;34m\u001b[0m\u001b[0;34m\u001b[0m\u001b[0m\n\u001b[0;32m--> 387\u001b[0;31m                     \u001b[0;32mraise\u001b[0m \u001b[0mKeyError\u001b[0m\u001b[0;34m(\u001b[0m\u001b[0mkey\u001b[0m\u001b[0;34m)\u001b[0m \u001b[0;32mfrom\u001b[0m \u001b[0merr\u001b[0m\u001b[0;34m\u001b[0m\u001b[0;34m\u001b[0m\u001b[0m\n\u001b[0m\u001b[1;32m    388\u001b[0m             \u001b[0;32mraise\u001b[0m \u001b[0mKeyError\u001b[0m\u001b[0;34m(\u001b[0m\u001b[0mkey\u001b[0m\u001b[0;34m)\u001b[0m\u001b[0;34m\u001b[0m\u001b[0;34m\u001b[0m\u001b[0m\n\u001b[1;32m    389\u001b[0m         \u001b[0;32mreturn\u001b[0m \u001b[0msuper\u001b[0m\u001b[0;34m(\u001b[0m\u001b[0;34m)\u001b[0m\u001b[0;34m.\u001b[0m\u001b[0mget_loc\u001b[0m\u001b[0;34m(\u001b[0m\u001b[0mkey\u001b[0m\u001b[0;34m,\u001b[0m \u001b[0mmethod\u001b[0m\u001b[0;34m=\u001b[0m\u001b[0mmethod\u001b[0m\u001b[0;34m,\u001b[0m \u001b[0mtolerance\u001b[0m\u001b[0;34m=\u001b[0m\u001b[0mtolerance\u001b[0m\u001b[0;34m)\u001b[0m\u001b[0;34m\u001b[0m\u001b[0;34m\u001b[0m\u001b[0m\n",
            "\u001b[0;31mKeyError\u001b[0m: 1"
          ]
        }
      ]
    },
    {
      "cell_type": "code",
      "source": [
        "aa=tables.reverse()"
      ],
      "metadata": {
        "id": "EwxdKgNHJ-ij"
      },
      "execution_count": 129,
      "outputs": []
    },
    {
      "cell_type": "code",
      "source": [
        "ww=(tables[108][tables[108][5].str.find('845')>-1][5].to_string())"
      ],
      "metadata": {
        "id": "PluYAMtQbPkV"
      },
      "execution_count": 243,
      "outputs": []
    },
    {
      "cell_type": "code",
      "source": [
        "len(ww)"
      ],
      "metadata": {
        "id": "R7IJM_kPjlEW",
        "outputId": "6b5e3b3b-bcdc-44e3-f0b9-ec4a16c3ea73",
        "colab": {
          "base_uri": "https://localhost:8080/"
        }
      },
      "execution_count": 246,
      "outputs": [
        {
          "output_type": "execute_result",
          "data": {
            "text/plain": [
              "54"
            ]
          },
          "metadata": {},
          "execution_count": 246
        }
      ]
    },
    {
      "cell_type": "code",
      "source": [
        "ww"
      ],
      "metadata": {
        "id": "jttIYZDwlilV",
        "outputId": "81d5ba49-1fc9-48a4-b29b-1965852086b1",
        "colab": {
          "base_uri": "https://localhost:8080/",
          "height": 35
        }
      },
      "execution_count": 247,
      "outputs": [
        {
          "output_type": "execute_result",
          "data": {
            "text/plain": [
              "'3    Количество договоров, заключенных с использова...'"
            ],
            "application/vnd.google.colaboratory.intrinsic+json": {
              "type": "string"
            }
          },
          "metadata": {},
          "execution_count": 247
        }
      ]
    },
    {
      "cell_type": "code",
      "source": [
        "print(tables[108][tables[108][5].str.find('845')>-1][5].to_string)"
      ],
      "metadata": {
        "id": "h7FyfCv8cnXM",
        "outputId": "d9cb7ac4-aa15-4772-deae-c1fd697d3acb",
        "colab": {
          "base_uri": "https://localhost:8080/"
        }
      },
      "execution_count": 218,
      "outputs": [
        {
          "output_type": "stream",
          "name": "stdout",
          "text": [
            "<bound method Series.to_string of 3    Количество договоров, заключенных с использова...\n",
            "Name: 5, dtype: object>\n"
          ]
        }
      ]
    },
    {
      "cell_type": "code",
      "source": [
        "dffull[dffull['rpdRegionCd']==63]['objId'].unique().to_frame().count()"
      ],
      "metadata": {
        "id": "hextNymjCyhP",
        "outputId": "a6a1fb88-d771-4bf8-b2d3-78b4d7caeaef",
        "colab": {
          "base_uri": "https://localhost:8080/",
          "height": 502
        }
      },
      "execution_count": 16,
      "outputs": [
        {
          "output_type": "error",
          "ename": "KeyError",
          "evalue": "ignored",
          "traceback": [
            "\u001b[0;31m---------------------------------------------------------------------------\u001b[0m",
            "\u001b[0;31mKeyError\u001b[0m                                  Traceback (most recent call last)",
            "\u001b[0;32m/usr/local/lib/python3.7/dist-packages/pandas/core/indexes/base.py\u001b[0m in \u001b[0;36mget_loc\u001b[0;34m(self, key, method, tolerance)\u001b[0m\n\u001b[1;32m   3360\u001b[0m             \u001b[0;32mtry\u001b[0m\u001b[0;34m:\u001b[0m\u001b[0;34m\u001b[0m\u001b[0;34m\u001b[0m\u001b[0m\n\u001b[0;32m-> 3361\u001b[0;31m                 \u001b[0;32mreturn\u001b[0m \u001b[0mself\u001b[0m\u001b[0;34m.\u001b[0m\u001b[0m_engine\u001b[0m\u001b[0;34m.\u001b[0m\u001b[0mget_loc\u001b[0m\u001b[0;34m(\u001b[0m\u001b[0mcasted_key\u001b[0m\u001b[0;34m)\u001b[0m\u001b[0;34m\u001b[0m\u001b[0;34m\u001b[0m\u001b[0m\n\u001b[0m\u001b[1;32m   3362\u001b[0m             \u001b[0;32mexcept\u001b[0m \u001b[0mKeyError\u001b[0m \u001b[0;32mas\u001b[0m \u001b[0merr\u001b[0m\u001b[0;34m:\u001b[0m\u001b[0;34m\u001b[0m\u001b[0;34m\u001b[0m\u001b[0m\n",
            "\u001b[0;32m/usr/local/lib/python3.7/dist-packages/pandas/_libs/index.pyx\u001b[0m in \u001b[0;36mpandas._libs.index.IndexEngine.get_loc\u001b[0;34m()\u001b[0m\n",
            "\u001b[0;32m/usr/local/lib/python3.7/dist-packages/pandas/_libs/index.pyx\u001b[0m in \u001b[0;36mpandas._libs.index.IndexEngine.get_loc\u001b[0;34m()\u001b[0m\n",
            "\u001b[0;32mpandas/_libs/hashtable_class_helper.pxi\u001b[0m in \u001b[0;36mpandas._libs.hashtable.PyObjectHashTable.get_item\u001b[0;34m()\u001b[0m\n",
            "\u001b[0;32mpandas/_libs/hashtable_class_helper.pxi\u001b[0m in \u001b[0;36mpandas._libs.hashtable.PyObjectHashTable.get_item\u001b[0;34m()\u001b[0m\n",
            "\u001b[0;31mKeyError\u001b[0m: 'rpdRegionCd'",
            "\nThe above exception was the direct cause of the following exception:\n",
            "\u001b[0;31mKeyError\u001b[0m                                  Traceback (most recent call last)",
            "\u001b[0;32m<ipython-input-16-5789e612a71f>\u001b[0m in \u001b[0;36m<module>\u001b[0;34m\u001b[0m\n\u001b[0;32m----> 1\u001b[0;31m \u001b[0mdffull\u001b[0m\u001b[0;34m[\u001b[0m\u001b[0mdffull\u001b[0m\u001b[0;34m[\u001b[0m\u001b[0;34m'rpdRegionCd'\u001b[0m\u001b[0;34m]\u001b[0m\u001b[0;34m==\u001b[0m\u001b[0;36m63\u001b[0m\u001b[0;34m]\u001b[0m\u001b[0;34m[\u001b[0m\u001b[0;34m'objId'\u001b[0m\u001b[0;34m]\u001b[0m\u001b[0;34m.\u001b[0m\u001b[0munique\u001b[0m\u001b[0;34m(\u001b[0m\u001b[0;34m)\u001b[0m\u001b[0;34m.\u001b[0m\u001b[0mto_frame\u001b[0m\u001b[0;34m(\u001b[0m\u001b[0;34m)\u001b[0m\u001b[0;34m.\u001b[0m\u001b[0mcount\u001b[0m\u001b[0;34m(\u001b[0m\u001b[0;34m)\u001b[0m\u001b[0;34m\u001b[0m\u001b[0;34m\u001b[0m\u001b[0m\n\u001b[0m",
            "\u001b[0;32m/usr/local/lib/python3.7/dist-packages/pandas/core/frame.py\u001b[0m in \u001b[0;36m__getitem__\u001b[0;34m(self, key)\u001b[0m\n\u001b[1;32m   3456\u001b[0m             \u001b[0;32mif\u001b[0m \u001b[0mself\u001b[0m\u001b[0;34m.\u001b[0m\u001b[0mcolumns\u001b[0m\u001b[0;34m.\u001b[0m\u001b[0mnlevels\u001b[0m \u001b[0;34m>\u001b[0m \u001b[0;36m1\u001b[0m\u001b[0;34m:\u001b[0m\u001b[0;34m\u001b[0m\u001b[0;34m\u001b[0m\u001b[0m\n\u001b[1;32m   3457\u001b[0m                 \u001b[0;32mreturn\u001b[0m \u001b[0mself\u001b[0m\u001b[0;34m.\u001b[0m\u001b[0m_getitem_multilevel\u001b[0m\u001b[0;34m(\u001b[0m\u001b[0mkey\u001b[0m\u001b[0;34m)\u001b[0m\u001b[0;34m\u001b[0m\u001b[0;34m\u001b[0m\u001b[0m\n\u001b[0;32m-> 3458\u001b[0;31m             \u001b[0mindexer\u001b[0m \u001b[0;34m=\u001b[0m \u001b[0mself\u001b[0m\u001b[0;34m.\u001b[0m\u001b[0mcolumns\u001b[0m\u001b[0;34m.\u001b[0m\u001b[0mget_loc\u001b[0m\u001b[0;34m(\u001b[0m\u001b[0mkey\u001b[0m\u001b[0;34m)\u001b[0m\u001b[0;34m\u001b[0m\u001b[0;34m\u001b[0m\u001b[0m\n\u001b[0m\u001b[1;32m   3459\u001b[0m             \u001b[0;32mif\u001b[0m \u001b[0mis_integer\u001b[0m\u001b[0;34m(\u001b[0m\u001b[0mindexer\u001b[0m\u001b[0;34m)\u001b[0m\u001b[0;34m:\u001b[0m\u001b[0;34m\u001b[0m\u001b[0;34m\u001b[0m\u001b[0m\n\u001b[1;32m   3460\u001b[0m                 \u001b[0mindexer\u001b[0m \u001b[0;34m=\u001b[0m \u001b[0;34m[\u001b[0m\u001b[0mindexer\u001b[0m\u001b[0;34m]\u001b[0m\u001b[0;34m\u001b[0m\u001b[0;34m\u001b[0m\u001b[0m\n",
            "\u001b[0;32m/usr/local/lib/python3.7/dist-packages/pandas/core/indexes/base.py\u001b[0m in \u001b[0;36mget_loc\u001b[0;34m(self, key, method, tolerance)\u001b[0m\n\u001b[1;32m   3361\u001b[0m                 \u001b[0;32mreturn\u001b[0m \u001b[0mself\u001b[0m\u001b[0;34m.\u001b[0m\u001b[0m_engine\u001b[0m\u001b[0;34m.\u001b[0m\u001b[0mget_loc\u001b[0m\u001b[0;34m(\u001b[0m\u001b[0mcasted_key\u001b[0m\u001b[0;34m)\u001b[0m\u001b[0;34m\u001b[0m\u001b[0;34m\u001b[0m\u001b[0m\n\u001b[1;32m   3362\u001b[0m             \u001b[0;32mexcept\u001b[0m \u001b[0mKeyError\u001b[0m \u001b[0;32mas\u001b[0m \u001b[0merr\u001b[0m\u001b[0;34m:\u001b[0m\u001b[0;34m\u001b[0m\u001b[0;34m\u001b[0m\u001b[0m\n\u001b[0;32m-> 3363\u001b[0;31m                 \u001b[0;32mraise\u001b[0m \u001b[0mKeyError\u001b[0m\u001b[0;34m(\u001b[0m\u001b[0mkey\u001b[0m\u001b[0;34m)\u001b[0m \u001b[0;32mfrom\u001b[0m \u001b[0merr\u001b[0m\u001b[0;34m\u001b[0m\u001b[0;34m\u001b[0m\u001b[0m\n\u001b[0m\u001b[1;32m   3364\u001b[0m \u001b[0;34m\u001b[0m\u001b[0m\n\u001b[1;32m   3365\u001b[0m         \u001b[0;32mif\u001b[0m \u001b[0mis_scalar\u001b[0m\u001b[0;34m(\u001b[0m\u001b[0mkey\u001b[0m\u001b[0;34m)\u001b[0m \u001b[0;32mand\u001b[0m \u001b[0misna\u001b[0m\u001b[0;34m(\u001b[0m\u001b[0mkey\u001b[0m\u001b[0;34m)\u001b[0m \u001b[0;32mand\u001b[0m \u001b[0;32mnot\u001b[0m \u001b[0mself\u001b[0m\u001b[0;34m.\u001b[0m\u001b[0mhasnans\u001b[0m\u001b[0;34m:\u001b[0m\u001b[0;34m\u001b[0m\u001b[0;34m\u001b[0m\u001b[0m\n",
            "\u001b[0;31mKeyError\u001b[0m: 'rpdRegionCd'"
          ]
        }
      ]
    },
    {
      "cell_type": "code",
      "source": [
        "dffull[dffull['objAddr'].str.lower().str.find('самара')>-1].count()"
      ],
      "metadata": {
        "id": "yyc58cbCwHvO",
        "outputId": "5fdc079f-2c3a-4bdd-ed12-19965fe51a97",
        "colab": {
          "base_uri": "https://localhost:8080/"
        }
      },
      "execution_count": null,
      "outputs": [
        {
          "output_type": "execute_result",
          "data": {
            "text/plain": [
              "objId                                        50\n",
              "rpdRegionCd                                  50\n",
              "objAddr                                      50\n",
              "objFloorMin                                  50\n",
              "objFloorMax                                  50\n",
              "objElemLivingCnt                             50\n",
              "objReady100PercDt                            50\n",
              "objSquareLiving                              50\n",
              "objCompensFundFlg                            50\n",
              "objProblemFlg                                50\n",
              "latitude                                     50\n",
              "longitude                                    50\n",
              "problemFlag                                  50\n",
              "siteStatus                                   50\n",
              "objGuarantyEscrowFlg                         50\n",
              "residentialBuildings                         50\n",
              "rpdNum                                       50\n",
              "pdId                                         50\n",
              "buildType                                    50\n",
              "objStatus                                    50\n",
              "developer.devId                              50\n",
              "developer.shortName                          50\n",
              "developer.fullName                           50\n",
              "developer.groupName                          33\n",
              "developer.orgForm.id                         50\n",
              "developer.orgForm.fullForm                   50\n",
              "developer.orgForm.shortForm                  50\n",
              "developer.companyGroup                       33\n",
              "developer.devInn                             50\n",
              "objCommercNm                                 42\n",
              "developer.bankruptStage.bankruptStageCd       0\n",
              "developer.bankruptStage.bankruptStageDesc     0\n",
              "developer.bankruptStage.bankruptLawUrl        0\n",
              "developer.orgBankruptMsgDttm                  0\n",
              "complexShortName                             10\n",
              "dtype: int64"
            ]
          },
          "metadata": {},
          "execution_count": 33
        }
      ]
    },
    {
      "cell_type": "code",
      "execution_count": null,
      "metadata": {
        "id": "svepo4hpofeT",
        "outputId": "0860a6ba-8d46-4137-ec6d-f088ac4ed0fb",
        "colab": {
          "base_uri": "https://localhost:8080/",
          "height": 814
        }
      },
      "outputs": [
        {
          "output_type": "execute_result",
          "data": {
            "text/plain": [
              "     objId  rpdRegionCd                                            objAddr  \\\n",
              "63   18136           63  г Самара, улица Советской Армии, д. 0, корпус ...   \n",
              "184   4024           63         г Самара, район Октябрьский, просека Пятая   \n",
              "185   4025           63         г Самара, район Октябрьский, просека Пятая   \n",
              "186   4023           63         г Самара, район Октябрьский, просека Пятая   \n",
              "187   4026           63         г Самара, район Октябрьский, просека Пятая   \n",
              "411  24539           63                              г Самара, Белорусская   \n",
              "412  24540           63                              г Самара, Белорусская   \n",
              "\n",
              "     objFloorMin  objFloorMax  objElemLivingCnt objReady100PercDt  \\\n",
              "63            27           27               360        2023-06-30   \n",
              "184            5            5                16        2023-12-31   \n",
              "185            5            5                64        2022-12-31   \n",
              "186            5            5                48        2022-12-31   \n",
              "187            5            5                64        2022-12-31   \n",
              "411           25           25               396        2022-12-31   \n",
              "412            1            1                 0        2022-12-31   \n",
              "\n",
              "     objSquareLiving  objCompensFundFlg  objProblemFlg  ...  \\\n",
              "63          20664.24                  0              0  ...   \n",
              "184           918.77                  1              0  ...   \n",
              "185          3675.08                  1              0  ...   \n",
              "186          2756.31                  1              0  ...   \n",
              "187          3666.28                  1              0  ...   \n",
              "411         25228.66                  0              0  ...   \n",
              "412             0.00                  0              0  ...   \n",
              "\n",
              "                   developer.orgForm.fullForm  developer.orgForm.shortForm  \\\n",
              "63   Общество с ограниченной ответственностью                          ООО   \n",
              "184             Закрытое акционерное общество                          ЗАО   \n",
              "185             Закрытое акционерное общество                          ЗАО   \n",
              "186             Закрытое акционерное общество                          ЗАО   \n",
              "187             Закрытое акционерное общество                          ЗАО   \n",
              "411  Общество с ограниченной ответственностью                          ООО   \n",
              "412  Общество с ограниченной ответственностью                          ООО   \n",
              "\n",
              "    developer.companyGroup developer.devInn  \\\n",
              "63                  9176.0       6312173063   \n",
              "184                 5847.0       6318136702   \n",
              "185                 5847.0       6318136702   \n",
              "186                 5847.0       6318136702   \n",
              "187                 5847.0       6318136702   \n",
              "411                 5874.0       6319225715   \n",
              "412                 5874.0       6319225715   \n",
              "\n",
              "                                         objCommercNm  \\\n",
              "63                                                NaN   \n",
              "184   Жилой комплекс \"Акварель\" (ЖК \"Акварель\") дом 9   \n",
              "185   Жилой комплекс \"Акварель\" (ЖК \"Акварель\") дом 7   \n",
              "186   Жилой комплекс \"Акварель\" (ЖК \"Акварель\") дом 8   \n",
              "187  Жилой комплекс \"Акварель\" (ЖК \"Акварель\") дом 10   \n",
              "411                                     ЖК \"Две реки\"   \n",
              "412                                     ЖК \"Две реки\"   \n",
              "\n",
              "     developer.bankruptStage.bankruptStageCd  \\\n",
              "63                                       NaN   \n",
              "184                                      NaN   \n",
              "185                                      NaN   \n",
              "186                                      NaN   \n",
              "187                                      NaN   \n",
              "411                                      NaN   \n",
              "412                                      NaN   \n",
              "\n",
              "    developer.bankruptStage.bankruptStageDesc  \\\n",
              "63                                        NaN   \n",
              "184                                       NaN   \n",
              "185                                       NaN   \n",
              "186                                       NaN   \n",
              "187                                       NaN   \n",
              "411                                       NaN   \n",
              "412                                       NaN   \n",
              "\n",
              "     developer.bankruptStage.bankruptLawUrl developer.orgBankruptMsgDttm  \\\n",
              "63                                      NaN                          NaN   \n",
              "184                                     NaN                          NaN   \n",
              "185                                     NaN                          NaN   \n",
              "186                                     NaN                          NaN   \n",
              "187                                     NaN                          NaN   \n",
              "411                                     NaN                          NaN   \n",
              "412                                     NaN                          NaN   \n",
              "\n",
              "     complexShortName  \n",
              "63                NaN  \n",
              "184          Акварель  \n",
              "185          Акварель  \n",
              "186          Акварель  \n",
              "187          Акварель  \n",
              "411               NaN  \n",
              "412               NaN  \n",
              "\n",
              "[7 rows x 35 columns]"
            ],
            "text/html": [
              "\n",
              "  <div id=\"df-6f7d6261-5dd8-4803-b7f7-1d6f19e28e6d\">\n",
              "    <div class=\"colab-df-container\">\n",
              "      <div>\n",
              "<style scoped>\n",
              "    .dataframe tbody tr th:only-of-type {\n",
              "        vertical-align: middle;\n",
              "    }\n",
              "\n",
              "    .dataframe tbody tr th {\n",
              "        vertical-align: top;\n",
              "    }\n",
              "\n",
              "    .dataframe thead th {\n",
              "        text-align: right;\n",
              "    }\n",
              "</style>\n",
              "<table border=\"1\" class=\"dataframe\">\n",
              "  <thead>\n",
              "    <tr style=\"text-align: right;\">\n",
              "      <th></th>\n",
              "      <th>objId</th>\n",
              "      <th>rpdRegionCd</th>\n",
              "      <th>objAddr</th>\n",
              "      <th>objFloorMin</th>\n",
              "      <th>objFloorMax</th>\n",
              "      <th>objElemLivingCnt</th>\n",
              "      <th>objReady100PercDt</th>\n",
              "      <th>objSquareLiving</th>\n",
              "      <th>objCompensFundFlg</th>\n",
              "      <th>objProblemFlg</th>\n",
              "      <th>...</th>\n",
              "      <th>developer.orgForm.fullForm</th>\n",
              "      <th>developer.orgForm.shortForm</th>\n",
              "      <th>developer.companyGroup</th>\n",
              "      <th>developer.devInn</th>\n",
              "      <th>objCommercNm</th>\n",
              "      <th>developer.bankruptStage.bankruptStageCd</th>\n",
              "      <th>developer.bankruptStage.bankruptStageDesc</th>\n",
              "      <th>developer.bankruptStage.bankruptLawUrl</th>\n",
              "      <th>developer.orgBankruptMsgDttm</th>\n",
              "      <th>complexShortName</th>\n",
              "    </tr>\n",
              "  </thead>\n",
              "  <tbody>\n",
              "    <tr>\n",
              "      <th>63</th>\n",
              "      <td>18136</td>\n",
              "      <td>63</td>\n",
              "      <td>г Самара, улица Советской Армии, д. 0, корпус ...</td>\n",
              "      <td>27</td>\n",
              "      <td>27</td>\n",
              "      <td>360</td>\n",
              "      <td>2023-06-30</td>\n",
              "      <td>20664.24</td>\n",
              "      <td>0</td>\n",
              "      <td>0</td>\n",
              "      <td>...</td>\n",
              "      <td>Общество с ограниченной ответственностью</td>\n",
              "      <td>ООО</td>\n",
              "      <td>9176.0</td>\n",
              "      <td>6312173063</td>\n",
              "      <td>NaN</td>\n",
              "      <td>NaN</td>\n",
              "      <td>NaN</td>\n",
              "      <td>NaN</td>\n",
              "      <td>NaN</td>\n",
              "      <td>NaN</td>\n",
              "    </tr>\n",
              "    <tr>\n",
              "      <th>184</th>\n",
              "      <td>4024</td>\n",
              "      <td>63</td>\n",
              "      <td>г Самара, район Октябрьский, просека Пятая</td>\n",
              "      <td>5</td>\n",
              "      <td>5</td>\n",
              "      <td>16</td>\n",
              "      <td>2023-12-31</td>\n",
              "      <td>918.77</td>\n",
              "      <td>1</td>\n",
              "      <td>0</td>\n",
              "      <td>...</td>\n",
              "      <td>Закрытое акционерное общество</td>\n",
              "      <td>ЗАО</td>\n",
              "      <td>5847.0</td>\n",
              "      <td>6318136702</td>\n",
              "      <td>Жилой комплекс \"Акварель\" (ЖК \"Акварель\") дом 9</td>\n",
              "      <td>NaN</td>\n",
              "      <td>NaN</td>\n",
              "      <td>NaN</td>\n",
              "      <td>NaN</td>\n",
              "      <td>Акварель</td>\n",
              "    </tr>\n",
              "    <tr>\n",
              "      <th>185</th>\n",
              "      <td>4025</td>\n",
              "      <td>63</td>\n",
              "      <td>г Самара, район Октябрьский, просека Пятая</td>\n",
              "      <td>5</td>\n",
              "      <td>5</td>\n",
              "      <td>64</td>\n",
              "      <td>2022-12-31</td>\n",
              "      <td>3675.08</td>\n",
              "      <td>1</td>\n",
              "      <td>0</td>\n",
              "      <td>...</td>\n",
              "      <td>Закрытое акционерное общество</td>\n",
              "      <td>ЗАО</td>\n",
              "      <td>5847.0</td>\n",
              "      <td>6318136702</td>\n",
              "      <td>Жилой комплекс \"Акварель\" (ЖК \"Акварель\") дом 7</td>\n",
              "      <td>NaN</td>\n",
              "      <td>NaN</td>\n",
              "      <td>NaN</td>\n",
              "      <td>NaN</td>\n",
              "      <td>Акварель</td>\n",
              "    </tr>\n",
              "    <tr>\n",
              "      <th>186</th>\n",
              "      <td>4023</td>\n",
              "      <td>63</td>\n",
              "      <td>г Самара, район Октябрьский, просека Пятая</td>\n",
              "      <td>5</td>\n",
              "      <td>5</td>\n",
              "      <td>48</td>\n",
              "      <td>2022-12-31</td>\n",
              "      <td>2756.31</td>\n",
              "      <td>1</td>\n",
              "      <td>0</td>\n",
              "      <td>...</td>\n",
              "      <td>Закрытое акционерное общество</td>\n",
              "      <td>ЗАО</td>\n",
              "      <td>5847.0</td>\n",
              "      <td>6318136702</td>\n",
              "      <td>Жилой комплекс \"Акварель\" (ЖК \"Акварель\") дом 8</td>\n",
              "      <td>NaN</td>\n",
              "      <td>NaN</td>\n",
              "      <td>NaN</td>\n",
              "      <td>NaN</td>\n",
              "      <td>Акварель</td>\n",
              "    </tr>\n",
              "    <tr>\n",
              "      <th>187</th>\n",
              "      <td>4026</td>\n",
              "      <td>63</td>\n",
              "      <td>г Самара, район Октябрьский, просека Пятая</td>\n",
              "      <td>5</td>\n",
              "      <td>5</td>\n",
              "      <td>64</td>\n",
              "      <td>2022-12-31</td>\n",
              "      <td>3666.28</td>\n",
              "      <td>1</td>\n",
              "      <td>0</td>\n",
              "      <td>...</td>\n",
              "      <td>Закрытое акционерное общество</td>\n",
              "      <td>ЗАО</td>\n",
              "      <td>5847.0</td>\n",
              "      <td>6318136702</td>\n",
              "      <td>Жилой комплекс \"Акварель\" (ЖК \"Акварель\") дом 10</td>\n",
              "      <td>NaN</td>\n",
              "      <td>NaN</td>\n",
              "      <td>NaN</td>\n",
              "      <td>NaN</td>\n",
              "      <td>Акварель</td>\n",
              "    </tr>\n",
              "    <tr>\n",
              "      <th>411</th>\n",
              "      <td>24539</td>\n",
              "      <td>63</td>\n",
              "      <td>г Самара, Белорусская</td>\n",
              "      <td>25</td>\n",
              "      <td>25</td>\n",
              "      <td>396</td>\n",
              "      <td>2022-12-31</td>\n",
              "      <td>25228.66</td>\n",
              "      <td>0</td>\n",
              "      <td>0</td>\n",
              "      <td>...</td>\n",
              "      <td>Общество с ограниченной ответственностью</td>\n",
              "      <td>ООО</td>\n",
              "      <td>5874.0</td>\n",
              "      <td>6319225715</td>\n",
              "      <td>ЖК \"Две реки\"</td>\n",
              "      <td>NaN</td>\n",
              "      <td>NaN</td>\n",
              "      <td>NaN</td>\n",
              "      <td>NaN</td>\n",
              "      <td>NaN</td>\n",
              "    </tr>\n",
              "    <tr>\n",
              "      <th>412</th>\n",
              "      <td>24540</td>\n",
              "      <td>63</td>\n",
              "      <td>г Самара, Белорусская</td>\n",
              "      <td>1</td>\n",
              "      <td>1</td>\n",
              "      <td>0</td>\n",
              "      <td>2022-12-31</td>\n",
              "      <td>0.00</td>\n",
              "      <td>0</td>\n",
              "      <td>0</td>\n",
              "      <td>...</td>\n",
              "      <td>Общество с ограниченной ответственностью</td>\n",
              "      <td>ООО</td>\n",
              "      <td>5874.0</td>\n",
              "      <td>6319225715</td>\n",
              "      <td>ЖК \"Две реки\"</td>\n",
              "      <td>NaN</td>\n",
              "      <td>NaN</td>\n",
              "      <td>NaN</td>\n",
              "      <td>NaN</td>\n",
              "      <td>NaN</td>\n",
              "    </tr>\n",
              "  </tbody>\n",
              "</table>\n",
              "<p>7 rows × 35 columns</p>\n",
              "</div>\n",
              "      <button class=\"colab-df-convert\" onclick=\"convertToInteractive('df-6f7d6261-5dd8-4803-b7f7-1d6f19e28e6d')\"\n",
              "              title=\"Convert this dataframe to an interactive table.\"\n",
              "              style=\"display:none;\">\n",
              "        \n",
              "  <svg xmlns=\"http://www.w3.org/2000/svg\" height=\"24px\"viewBox=\"0 0 24 24\"\n",
              "       width=\"24px\">\n",
              "    <path d=\"M0 0h24v24H0V0z\" fill=\"none\"/>\n",
              "    <path d=\"M18.56 5.44l.94 2.06.94-2.06 2.06-.94-2.06-.94-.94-2.06-.94 2.06-2.06.94zm-11 1L8.5 8.5l.94-2.06 2.06-.94-2.06-.94L8.5 2.5l-.94 2.06-2.06.94zm10 10l.94 2.06.94-2.06 2.06-.94-2.06-.94-.94-2.06-.94 2.06-2.06.94z\"/><path d=\"M17.41 7.96l-1.37-1.37c-.4-.4-.92-.59-1.43-.59-.52 0-1.04.2-1.43.59L10.3 9.45l-7.72 7.72c-.78.78-.78 2.05 0 2.83L4 21.41c.39.39.9.59 1.41.59.51 0 1.02-.2 1.41-.59l7.78-7.78 2.81-2.81c.8-.78.8-2.07 0-2.86zM5.41 20L4 18.59l7.72-7.72 1.47 1.35L5.41 20z\"/>\n",
              "  </svg>\n",
              "      </button>\n",
              "      \n",
              "  <style>\n",
              "    .colab-df-container {\n",
              "      display:flex;\n",
              "      flex-wrap:wrap;\n",
              "      gap: 12px;\n",
              "    }\n",
              "\n",
              "    .colab-df-convert {\n",
              "      background-color: #E8F0FE;\n",
              "      border: none;\n",
              "      border-radius: 50%;\n",
              "      cursor: pointer;\n",
              "      display: none;\n",
              "      fill: #1967D2;\n",
              "      height: 32px;\n",
              "      padding: 0 0 0 0;\n",
              "      width: 32px;\n",
              "    }\n",
              "\n",
              "    .colab-df-convert:hover {\n",
              "      background-color: #E2EBFA;\n",
              "      box-shadow: 0px 1px 2px rgba(60, 64, 67, 0.3), 0px 1px 3px 1px rgba(60, 64, 67, 0.15);\n",
              "      fill: #174EA6;\n",
              "    }\n",
              "\n",
              "    [theme=dark] .colab-df-convert {\n",
              "      background-color: #3B4455;\n",
              "      fill: #D2E3FC;\n",
              "    }\n",
              "\n",
              "    [theme=dark] .colab-df-convert:hover {\n",
              "      background-color: #434B5C;\n",
              "      box-shadow: 0px 1px 3px 1px rgba(0, 0, 0, 0.15);\n",
              "      filter: drop-shadow(0px 1px 2px rgba(0, 0, 0, 0.3));\n",
              "      fill: #FFFFFF;\n",
              "    }\n",
              "  </style>\n",
              "\n",
              "      <script>\n",
              "        const buttonEl =\n",
              "          document.querySelector('#df-6f7d6261-5dd8-4803-b7f7-1d6f19e28e6d button.colab-df-convert');\n",
              "        buttonEl.style.display =\n",
              "          google.colab.kernel.accessAllowed ? 'block' : 'none';\n",
              "\n",
              "        async function convertToInteractive(key) {\n",
              "          const element = document.querySelector('#df-6f7d6261-5dd8-4803-b7f7-1d6f19e28e6d');\n",
              "          const dataTable =\n",
              "            await google.colab.kernel.invokeFunction('convertToInteractive',\n",
              "                                                     [key], {});\n",
              "          if (!dataTable) return;\n",
              "\n",
              "          const docLinkHtml = 'Like what you see? Visit the ' +\n",
              "            '<a target=\"_blank\" href=https://colab.research.google.com/notebooks/data_table.ipynb>data table notebook</a>'\n",
              "            + ' to learn more about interactive tables.';\n",
              "          element.innerHTML = '';\n",
              "          dataTable['output_type'] = 'display_data';\n",
              "          await google.colab.output.renderOutput(dataTable, element);\n",
              "          const docLink = document.createElement('div');\n",
              "          docLink.innerHTML = docLinkHtml;\n",
              "          element.appendChild(docLink);\n",
              "        }\n",
              "      </script>\n",
              "    </div>\n",
              "  </div>\n",
              "  "
            ]
          },
          "metadata": {},
          "execution_count": 28
        }
      ],
      "source": [
        "df = pd.json_normalize(objects_list)\n",
        "df[df['objAddr'].str.lower().str.find('самара')>-1]"
      ]
    },
    {
      "cell_type": "markdown",
      "metadata": {
        "id": "zCkSGE-4ofeT"
      },
      "source": [
        "запись в excel"
      ]
    },
    {
      "cell_type": "code",
      "execution_count": null,
      "metadata": {
        "id": "HObN5bL1ofeU"
      },
      "outputs": [],
      "source": [
        "with pd.ExcelWriter('НашДомРФ.xlsx', mode='w') as writer:\n",
        "    df.to_excel(writer, sheet_name='НашДомРФ',index=False)"
      ]
    },
    {
      "cell_type": "markdown",
      "metadata": {
        "id": "UPLVRjcwofeV"
      },
      "source": [
        "запись в csv"
      ]
    },
    {
      "cell_type": "code",
      "execution_count": null,
      "metadata": {
        "id": "_SpV4wdCofeV"
      },
      "outputs": [],
      "source": [
        "file_csv = df.to_csv(sep=',', index=False)"
      ]
    },
    {
      "cell_type": "markdown",
      "metadata": {
        "id": "j1bzDJAsofeW"
      },
      "source": [
        "запись в pickle"
      ]
    },
    {
      "cell_type": "code",
      "execution_count": null,
      "metadata": {
        "id": "BTyZpPdEofeW"
      },
      "outputs": [],
      "source": [
        "file_pickle = df.to_pickle(path = 'str')"
      ]
    },
    {
      "cell_type": "markdown",
      "metadata": {
        "id": "SEMR4sOvofeW"
      },
      "source": [
        "запись в БД"
      ]
    },
    {
      "cell_type": "code",
      "execution_count": null,
      "metadata": {
        "id": "flbhXSO8ofeX"
      },
      "outputs": [],
      "source": [
        "from pandas.io import sql\n",
        "import MySQLdb\n",
        "\n",
        "con = MySQLdb.connect()\n",
        "\n",
        "df.to_sql(con=con, name='OurHouse', if_exists='replace', flavor='mysql')"
      ]
    }
  ],
  "metadata": {
    "kernelspec": {
      "display_name": "Python 3 (ipykernel)",
      "language": "python",
      "name": "python3"
    },
    "language_info": {
      "codemirror_mode": {
        "name": "ipython",
        "version": 3
      },
      "file_extension": ".py",
      "mimetype": "text/x-python",
      "name": "python",
      "nbconvert_exporter": "python",
      "pygments_lexer": "ipython3",
      "version": "3.9.12"
    },
    "colab": {
      "provenance": []
    }
  },
  "nbformat": 4,
  "nbformat_minor": 0
}