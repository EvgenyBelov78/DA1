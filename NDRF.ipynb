{
  "cells": [
    {
      "cell_type": "markdown",
      "metadata": {
        "id": "5xBwATNFofeM"
      },
      "source": [
        "### Задание\n",
        "- Собрать информацию о всех строящихся объектах на сайте \"наш.дом.рф\"\n",
        "- Cохранить ее в pandas dataframe\n",
        "- Cохранить pandas dataframe в excel\n",
        "- Cохранить pandas dataframe в pickle\n",
        "- Cохранить pandas dataframe в БД"
      ]
    },
    {
      "cell_type": "code",
      "execution_count": 6,
      "metadata": {
        "id": "kxi2F3z5ofeQ"
      },
      "outputs": [],
      "source": [
        "import requests\n",
        "import pandas as pd\n",
        "import time"
      ]
    },
    {
      "cell_type": "code",
      "source": [
        "documents = []\n",
        "url_doc_list = 'https://наш.дом.рф/сервисы/api/object/40239'\n",
        "response = requests.get(url_doc_list)\n",
        "documents = response.json()\n",
        "documents = documents['data']"
      ],
      "metadata": {
        "id": "M64uMT3izqgQ"
      },
      "execution_count": 7,
      "outputs": []
    },
    {
      "cell_type": "code",
      "source": [
        "df = pd.json_normalize(documents)"
      ],
      "metadata": {
        "id": "012tCJhd8La3"
      },
      "execution_count": 8,
      "outputs": []
    },
    {
      "cell_type": "code",
      "source": [
        "df"
      ],
      "metadata": {
        "id": "jW97cQli8Oeo",
        "outputId": "8f7287a2-5dd7-43d2-d5ee-c7578cd28563",
        "colab": {
          "base_uri": "https://localhost:8080/",
          "height": 243
        }
      },
      "execution_count": 9,
      "outputs": [
        {
          "output_type": "execute_result",
          "data": {
            "text/plain": [
              "      id    pdId  region                                            address  \\\n",
              "0  40239  460620      63  г Самара, район Куйбышевский, шоссе Южное шосс...   \n",
              "\n",
              "             nameObj  floorMin  floorMax  objElemLivingCnt objReady100PercDt  \\\n",
              "0  Макрорайон Амград        11        25               911        2023-06-30   \n",
              "\n",
              "  wallMaterialShortDesc  ... developer.orgForm.shortForm  \\\n",
              "0        Монолит-кирпич  ...                         ООО   \n",
              "\n",
              "  developer.objGuarantyEscrowFlg  developer.govFundFlg  \\\n",
              "0                              1                     0   \n",
              "\n",
              "   quartography.objLivElem1KCnt quartography.objLivElem2KCnt  \\\n",
              "0                           587                          231   \n",
              "\n",
              "  quartography.objLivElem3KCnt quartography.objLivElem4KCnt  \\\n",
              "0                           85                            8   \n",
              "\n",
              "  quartography.objLivElemCnt quartography.objLivElemEntrCnt  \\\n",
              "0                        911                              6   \n",
              "\n",
              "   quartography.objLivElemEntrFloorAvg  \n",
              "0                                    8  \n",
              "\n",
              "[1 rows x 91 columns]"
            ],
            "text/html": [
              "\n",
              "  <div id=\"df-347a5aba-687c-4dc6-8db5-8ba5731cc483\">\n",
              "    <div class=\"colab-df-container\">\n",
              "      <div>\n",
              "<style scoped>\n",
              "    .dataframe tbody tr th:only-of-type {\n",
              "        vertical-align: middle;\n",
              "    }\n",
              "\n",
              "    .dataframe tbody tr th {\n",
              "        vertical-align: top;\n",
              "    }\n",
              "\n",
              "    .dataframe thead th {\n",
              "        text-align: right;\n",
              "    }\n",
              "</style>\n",
              "<table border=\"1\" class=\"dataframe\">\n",
              "  <thead>\n",
              "    <tr style=\"text-align: right;\">\n",
              "      <th></th>\n",
              "      <th>id</th>\n",
              "      <th>pdId</th>\n",
              "      <th>region</th>\n",
              "      <th>address</th>\n",
              "      <th>nameObj</th>\n",
              "      <th>floorMin</th>\n",
              "      <th>floorMax</th>\n",
              "      <th>objElemLivingCnt</th>\n",
              "      <th>objReady100PercDt</th>\n",
              "      <th>wallMaterialShortDesc</th>\n",
              "      <th>...</th>\n",
              "      <th>developer.orgForm.shortForm</th>\n",
              "      <th>developer.objGuarantyEscrowFlg</th>\n",
              "      <th>developer.govFundFlg</th>\n",
              "      <th>quartography.objLivElem1KCnt</th>\n",
              "      <th>quartography.objLivElem2KCnt</th>\n",
              "      <th>quartography.objLivElem3KCnt</th>\n",
              "      <th>quartography.objLivElem4KCnt</th>\n",
              "      <th>quartography.objLivElemCnt</th>\n",
              "      <th>quartography.objLivElemEntrCnt</th>\n",
              "      <th>quartography.objLivElemEntrFloorAvg</th>\n",
              "    </tr>\n",
              "  </thead>\n",
              "  <tbody>\n",
              "    <tr>\n",
              "      <th>0</th>\n",
              "      <td>40239</td>\n",
              "      <td>460620</td>\n",
              "      <td>63</td>\n",
              "      <td>г Самара, район Куйбышевский, шоссе Южное шосс...</td>\n",
              "      <td>Макрорайон Амград</td>\n",
              "      <td>11</td>\n",
              "      <td>25</td>\n",
              "      <td>911</td>\n",
              "      <td>2023-06-30</td>\n",
              "      <td>Монолит-кирпич</td>\n",
              "      <td>...</td>\n",
              "      <td>ООО</td>\n",
              "      <td>1</td>\n",
              "      <td>0</td>\n",
              "      <td>587</td>\n",
              "      <td>231</td>\n",
              "      <td>85</td>\n",
              "      <td>8</td>\n",
              "      <td>911</td>\n",
              "      <td>6</td>\n",
              "      <td>8</td>\n",
              "    </tr>\n",
              "  </tbody>\n",
              "</table>\n",
              "<p>1 rows × 91 columns</p>\n",
              "</div>\n",
              "      <button class=\"colab-df-convert\" onclick=\"convertToInteractive('df-347a5aba-687c-4dc6-8db5-8ba5731cc483')\"\n",
              "              title=\"Convert this dataframe to an interactive table.\"\n",
              "              style=\"display:none;\">\n",
              "        \n",
              "  <svg xmlns=\"http://www.w3.org/2000/svg\" height=\"24px\"viewBox=\"0 0 24 24\"\n",
              "       width=\"24px\">\n",
              "    <path d=\"M0 0h24v24H0V0z\" fill=\"none\"/>\n",
              "    <path d=\"M18.56 5.44l.94 2.06.94-2.06 2.06-.94-2.06-.94-.94-2.06-.94 2.06-2.06.94zm-11 1L8.5 8.5l.94-2.06 2.06-.94-2.06-.94L8.5 2.5l-.94 2.06-2.06.94zm10 10l.94 2.06.94-2.06 2.06-.94-2.06-.94-.94-2.06-.94 2.06-2.06.94z\"/><path d=\"M17.41 7.96l-1.37-1.37c-.4-.4-.92-.59-1.43-.59-.52 0-1.04.2-1.43.59L10.3 9.45l-7.72 7.72c-.78.78-.78 2.05 0 2.83L4 21.41c.39.39.9.59 1.41.59.51 0 1.02-.2 1.41-.59l7.78-7.78 2.81-2.81c.8-.78.8-2.07 0-2.86zM5.41 20L4 18.59l7.72-7.72 1.47 1.35L5.41 20z\"/>\n",
              "  </svg>\n",
              "      </button>\n",
              "      \n",
              "  <style>\n",
              "    .colab-df-container {\n",
              "      display:flex;\n",
              "      flex-wrap:wrap;\n",
              "      gap: 12px;\n",
              "    }\n",
              "\n",
              "    .colab-df-convert {\n",
              "      background-color: #E8F0FE;\n",
              "      border: none;\n",
              "      border-radius: 50%;\n",
              "      cursor: pointer;\n",
              "      display: none;\n",
              "      fill: #1967D2;\n",
              "      height: 32px;\n",
              "      padding: 0 0 0 0;\n",
              "      width: 32px;\n",
              "    }\n",
              "\n",
              "    .colab-df-convert:hover {\n",
              "      background-color: #E2EBFA;\n",
              "      box-shadow: 0px 1px 2px rgba(60, 64, 67, 0.3), 0px 1px 3px 1px rgba(60, 64, 67, 0.15);\n",
              "      fill: #174EA6;\n",
              "    }\n",
              "\n",
              "    [theme=dark] .colab-df-convert {\n",
              "      background-color: #3B4455;\n",
              "      fill: #D2E3FC;\n",
              "    }\n",
              "\n",
              "    [theme=dark] .colab-df-convert:hover {\n",
              "      background-color: #434B5C;\n",
              "      box-shadow: 0px 1px 3px 1px rgba(0, 0, 0, 0.15);\n",
              "      filter: drop-shadow(0px 1px 2px rgba(0, 0, 0, 0.3));\n",
              "      fill: #FFFFFF;\n",
              "    }\n",
              "  </style>\n",
              "\n",
              "      <script>\n",
              "        const buttonEl =\n",
              "          document.querySelector('#df-347a5aba-687c-4dc6-8db5-8ba5731cc483 button.colab-df-convert');\n",
              "        buttonEl.style.display =\n",
              "          google.colab.kernel.accessAllowed ? 'block' : 'none';\n",
              "\n",
              "        async function convertToInteractive(key) {\n",
              "          const element = document.querySelector('#df-347a5aba-687c-4dc6-8db5-8ba5731cc483');\n",
              "          const dataTable =\n",
              "            await google.colab.kernel.invokeFunction('convertToInteractive',\n",
              "                                                     [key], {});\n",
              "          if (!dataTable) return;\n",
              "\n",
              "          const docLinkHtml = 'Like what you see? Visit the ' +\n",
              "            '<a target=\"_blank\" href=https://colab.research.google.com/notebooks/data_table.ipynb>data table notebook</a>'\n",
              "            + ' to learn more about interactive tables.';\n",
              "          element.innerHTML = '';\n",
              "          dataTable['output_type'] = 'display_data';\n",
              "          await google.colab.output.renderOutput(dataTable, element);\n",
              "          const docLink = document.createElement('div');\n",
              "          docLink.innerHTML = docLinkHtml;\n",
              "          element.appendChild(docLink);\n",
              "        }\n",
              "      </script>\n",
              "    </div>\n",
              "  </div>\n",
              "  "
            ]
          },
          "metadata": {},
          "execution_count": 9
        }
      ]
    },
    {
      "cell_type": "code",
      "source": [
        "offset_ = 0\n",
        "limit_ = 1000\n",
        "params= {'region':'63'}\n",
        "url = f'https://xn--80az8a.xn--d1aqf.xn--p1ai/%D1%81%D0%B5%D1%80%D0%B2%D0%B8%D1%81%D1%8B/api/kn/object?offset={offset_}&limit={limit_}&sortField=devId.devShortCleanNm&sortType=asc&objStatus=0'\n",
        "res = requests.get(url) #,params=params)\n",
        "i=0"
      ],
      "metadata": {
        "id": "oPG3Ve01upzN"
      },
      "execution_count": 10,
      "outputs": []
    },
    {
      "cell_type": "code",
      "source": [
        "res"
      ],
      "metadata": {
        "id": "hDWY27F_yGbH",
        "outputId": "468d546f-aa53-4ba0-cb67-3f31a87c1ab8",
        "colab": {
          "base_uri": "https://localhost:8080/"
        }
      },
      "execution_count": null,
      "outputs": [
        {
          "output_type": "execute_result",
          "data": {
            "text/plain": [
              "<Response [200]>"
            ]
          },
          "metadata": {},
          "execution_count": 561
        }
      ]
    },
    {
      "cell_type": "code",
      "execution_count": 11,
      "metadata": {
        "id": "yad0j2HtofeS"
      },
      "outputs": [],
      "source": [
        "objects_data = res.json()\n",
        "objects_list = objects_data.get('data') #.get('list')"
      ]
    },
    {
      "cell_type": "code",
      "source": [
        "  df = pd.json_normalize(objects_list)\n",
        "  dffull=df"
      ],
      "metadata": {
        "id": "kWRNYZ7gxWQP"
      },
      "execution_count": 12,
      "outputs": []
    },
    {
      "cell_type": "code",
      "source": [
        "df=df.drop(df.index)"
      ],
      "metadata": {
        "id": "S8pzoZu6x0mI"
      },
      "execution_count": 13,
      "outputs": []
    },
    {
      "cell_type": "code",
      "source": [
        "df"
      ],
      "metadata": {
        "colab": {
          "base_uri": "https://localhost:8080/",
          "height": 49
        },
        "id": "d5Y3G7ajkP3i",
        "outputId": "961090a2-cee6-40c4-f4dc-78b2a20ab481"
      },
      "execution_count": 14,
      "outputs": [
        {
          "output_type": "execute_result",
          "data": {
            "text/plain": [
              "Empty DataFrame\n",
              "Columns: [list, total]\n",
              "Index: []"
            ],
            "text/html": [
              "\n",
              "  <div id=\"df-bd5b9272-6757-4756-b351-db97d149bca0\">\n",
              "    <div class=\"colab-df-container\">\n",
              "      <div>\n",
              "<style scoped>\n",
              "    .dataframe tbody tr th:only-of-type {\n",
              "        vertical-align: middle;\n",
              "    }\n",
              "\n",
              "    .dataframe tbody tr th {\n",
              "        vertical-align: top;\n",
              "    }\n",
              "\n",
              "    .dataframe thead th {\n",
              "        text-align: right;\n",
              "    }\n",
              "</style>\n",
              "<table border=\"1\" class=\"dataframe\">\n",
              "  <thead>\n",
              "    <tr style=\"text-align: right;\">\n",
              "      <th></th>\n",
              "      <th>list</th>\n",
              "      <th>total</th>\n",
              "    </tr>\n",
              "  </thead>\n",
              "  <tbody>\n",
              "  </tbody>\n",
              "</table>\n",
              "</div>\n",
              "      <button class=\"colab-df-convert\" onclick=\"convertToInteractive('df-bd5b9272-6757-4756-b351-db97d149bca0')\"\n",
              "              title=\"Convert this dataframe to an interactive table.\"\n",
              "              style=\"display:none;\">\n",
              "        \n",
              "  <svg xmlns=\"http://www.w3.org/2000/svg\" height=\"24px\"viewBox=\"0 0 24 24\"\n",
              "       width=\"24px\">\n",
              "    <path d=\"M0 0h24v24H0V0z\" fill=\"none\"/>\n",
              "    <path d=\"M18.56 5.44l.94 2.06.94-2.06 2.06-.94-2.06-.94-.94-2.06-.94 2.06-2.06.94zm-11 1L8.5 8.5l.94-2.06 2.06-.94-2.06-.94L8.5 2.5l-.94 2.06-2.06.94zm10 10l.94 2.06.94-2.06 2.06-.94-2.06-.94-.94-2.06-.94 2.06-2.06.94z\"/><path d=\"M17.41 7.96l-1.37-1.37c-.4-.4-.92-.59-1.43-.59-.52 0-1.04.2-1.43.59L10.3 9.45l-7.72 7.72c-.78.78-.78 2.05 0 2.83L4 21.41c.39.39.9.59 1.41.59.51 0 1.02-.2 1.41-.59l7.78-7.78 2.81-2.81c.8-.78.8-2.07 0-2.86zM5.41 20L4 18.59l7.72-7.72 1.47 1.35L5.41 20z\"/>\n",
              "  </svg>\n",
              "      </button>\n",
              "      \n",
              "  <style>\n",
              "    .colab-df-container {\n",
              "      display:flex;\n",
              "      flex-wrap:wrap;\n",
              "      gap: 12px;\n",
              "    }\n",
              "\n",
              "    .colab-df-convert {\n",
              "      background-color: #E8F0FE;\n",
              "      border: none;\n",
              "      border-radius: 50%;\n",
              "      cursor: pointer;\n",
              "      display: none;\n",
              "      fill: #1967D2;\n",
              "      height: 32px;\n",
              "      padding: 0 0 0 0;\n",
              "      width: 32px;\n",
              "    }\n",
              "\n",
              "    .colab-df-convert:hover {\n",
              "      background-color: #E2EBFA;\n",
              "      box-shadow: 0px 1px 2px rgba(60, 64, 67, 0.3), 0px 1px 3px 1px rgba(60, 64, 67, 0.15);\n",
              "      fill: #174EA6;\n",
              "    }\n",
              "\n",
              "    [theme=dark] .colab-df-convert {\n",
              "      background-color: #3B4455;\n",
              "      fill: #D2E3FC;\n",
              "    }\n",
              "\n",
              "    [theme=dark] .colab-df-convert:hover {\n",
              "      background-color: #434B5C;\n",
              "      box-shadow: 0px 1px 3px 1px rgba(0, 0, 0, 0.15);\n",
              "      filter: drop-shadow(0px 1px 2px rgba(0, 0, 0, 0.3));\n",
              "      fill: #FFFFFF;\n",
              "    }\n",
              "  </style>\n",
              "\n",
              "      <script>\n",
              "        const buttonEl =\n",
              "          document.querySelector('#df-bd5b9272-6757-4756-b351-db97d149bca0 button.colab-df-convert');\n",
              "        buttonEl.style.display =\n",
              "          google.colab.kernel.accessAllowed ? 'block' : 'none';\n",
              "\n",
              "        async function convertToInteractive(key) {\n",
              "          const element = document.querySelector('#df-bd5b9272-6757-4756-b351-db97d149bca0');\n",
              "          const dataTable =\n",
              "            await google.colab.kernel.invokeFunction('convertToInteractive',\n",
              "                                                     [key], {});\n",
              "          if (!dataTable) return;\n",
              "\n",
              "          const docLinkHtml = 'Like what you see? Visit the ' +\n",
              "            '<a target=\"_blank\" href=https://colab.research.google.com/notebooks/data_table.ipynb>data table notebook</a>'\n",
              "            + ' to learn more about interactive tables.';\n",
              "          element.innerHTML = '';\n",
              "          dataTable['output_type'] = 'display_data';\n",
              "          await google.colab.output.renderOutput(dataTable, element);\n",
              "          const docLink = document.createElement('div');\n",
              "          docLink.innerHTML = docLinkHtml;\n",
              "          element.appendChild(docLink);\n",
              "        }\n",
              "      </script>\n",
              "    </div>\n",
              "  </div>\n",
              "  "
            ]
          },
          "metadata": {},
          "execution_count": 14
        }
      ]
    },
    {
      "cell_type": "code",
      "source": [
        "dffull"
      ],
      "metadata": {
        "id": "OMYHLtRrwyhV",
        "outputId": "32826e5d-0c57-4e1a-b35a-a6fd476dc0ea",
        "colab": {
          "base_uri": "https://localhost:8080/",
          "height": 81
        }
      },
      "execution_count": 15,
      "outputs": [
        {
          "output_type": "execute_result",
          "data": {
            "text/plain": [
              "                                                list  total\n",
              "0  [{'objId': 13391, 'developer': {'devId': 306, ...  10746"
            ],
            "text/html": [
              "\n",
              "  <div id=\"df-90ebc64c-db79-42b1-af25-60826870bcbe\">\n",
              "    <div class=\"colab-df-container\">\n",
              "      <div>\n",
              "<style scoped>\n",
              "    .dataframe tbody tr th:only-of-type {\n",
              "        vertical-align: middle;\n",
              "    }\n",
              "\n",
              "    .dataframe tbody tr th {\n",
              "        vertical-align: top;\n",
              "    }\n",
              "\n",
              "    .dataframe thead th {\n",
              "        text-align: right;\n",
              "    }\n",
              "</style>\n",
              "<table border=\"1\" class=\"dataframe\">\n",
              "  <thead>\n",
              "    <tr style=\"text-align: right;\">\n",
              "      <th></th>\n",
              "      <th>list</th>\n",
              "      <th>total</th>\n",
              "    </tr>\n",
              "  </thead>\n",
              "  <tbody>\n",
              "    <tr>\n",
              "      <th>0</th>\n",
              "      <td>[{'objId': 13391, 'developer': {'devId': 306, ...</td>\n",
              "      <td>10746</td>\n",
              "    </tr>\n",
              "  </tbody>\n",
              "</table>\n",
              "</div>\n",
              "      <button class=\"colab-df-convert\" onclick=\"convertToInteractive('df-90ebc64c-db79-42b1-af25-60826870bcbe')\"\n",
              "              title=\"Convert this dataframe to an interactive table.\"\n",
              "              style=\"display:none;\">\n",
              "        \n",
              "  <svg xmlns=\"http://www.w3.org/2000/svg\" height=\"24px\"viewBox=\"0 0 24 24\"\n",
              "       width=\"24px\">\n",
              "    <path d=\"M0 0h24v24H0V0z\" fill=\"none\"/>\n",
              "    <path d=\"M18.56 5.44l.94 2.06.94-2.06 2.06-.94-2.06-.94-.94-2.06-.94 2.06-2.06.94zm-11 1L8.5 8.5l.94-2.06 2.06-.94-2.06-.94L8.5 2.5l-.94 2.06-2.06.94zm10 10l.94 2.06.94-2.06 2.06-.94-2.06-.94-.94-2.06-.94 2.06-2.06.94z\"/><path d=\"M17.41 7.96l-1.37-1.37c-.4-.4-.92-.59-1.43-.59-.52 0-1.04.2-1.43.59L10.3 9.45l-7.72 7.72c-.78.78-.78 2.05 0 2.83L4 21.41c.39.39.9.59 1.41.59.51 0 1.02-.2 1.41-.59l7.78-7.78 2.81-2.81c.8-.78.8-2.07 0-2.86zM5.41 20L4 18.59l7.72-7.72 1.47 1.35L5.41 20z\"/>\n",
              "  </svg>\n",
              "      </button>\n",
              "      \n",
              "  <style>\n",
              "    .colab-df-container {\n",
              "      display:flex;\n",
              "      flex-wrap:wrap;\n",
              "      gap: 12px;\n",
              "    }\n",
              "\n",
              "    .colab-df-convert {\n",
              "      background-color: #E8F0FE;\n",
              "      border: none;\n",
              "      border-radius: 50%;\n",
              "      cursor: pointer;\n",
              "      display: none;\n",
              "      fill: #1967D2;\n",
              "      height: 32px;\n",
              "      padding: 0 0 0 0;\n",
              "      width: 32px;\n",
              "    }\n",
              "\n",
              "    .colab-df-convert:hover {\n",
              "      background-color: #E2EBFA;\n",
              "      box-shadow: 0px 1px 2px rgba(60, 64, 67, 0.3), 0px 1px 3px 1px rgba(60, 64, 67, 0.15);\n",
              "      fill: #174EA6;\n",
              "    }\n",
              "\n",
              "    [theme=dark] .colab-df-convert {\n",
              "      background-color: #3B4455;\n",
              "      fill: #D2E3FC;\n",
              "    }\n",
              "\n",
              "    [theme=dark] .colab-df-convert:hover {\n",
              "      background-color: #434B5C;\n",
              "      box-shadow: 0px 1px 3px 1px rgba(0, 0, 0, 0.15);\n",
              "      filter: drop-shadow(0px 1px 2px rgba(0, 0, 0, 0.3));\n",
              "      fill: #FFFFFF;\n",
              "    }\n",
              "  </style>\n",
              "\n",
              "      <script>\n",
              "        const buttonEl =\n",
              "          document.querySelector('#df-90ebc64c-db79-42b1-af25-60826870bcbe button.colab-df-convert');\n",
              "        buttonEl.style.display =\n",
              "          google.colab.kernel.accessAllowed ? 'block' : 'none';\n",
              "\n",
              "        async function convertToInteractive(key) {\n",
              "          const element = document.querySelector('#df-90ebc64c-db79-42b1-af25-60826870bcbe');\n",
              "          const dataTable =\n",
              "            await google.colab.kernel.invokeFunction('convertToInteractive',\n",
              "                                                     [key], {});\n",
              "          if (!dataTable) return;\n",
              "\n",
              "          const docLinkHtml = 'Like what you see? Visit the ' +\n",
              "            '<a target=\"_blank\" href=https://colab.research.google.com/notebooks/data_table.ipynb>data table notebook</a>'\n",
              "            + ' to learn more about interactive tables.';\n",
              "          element.innerHTML = '';\n",
              "          dataTable['output_type'] = 'display_data';\n",
              "          await google.colab.output.renderOutput(dataTable, element);\n",
              "          const docLink = document.createElement('div');\n",
              "          docLink.innerHTML = docLinkHtml;\n",
              "          element.appendChild(docLink);\n",
              "        }\n",
              "      </script>\n",
              "    </div>\n",
              "  </div>\n",
              "  "
            ]
          },
          "metadata": {},
          "execution_count": 15
        }
      ]
    },
    {
      "cell_type": "code",
      "source": [
        "i=0\n",
        "while i<=20:\n",
        "  url = f'https://xn--80az8a.xn--d1aqf.xn--p1ai/%D1%81%D0%B5%D1%80%D0%B2%D0%B8%D1%81%D1%8B/api/kn/object?offset={offset_}&limit={limit_}&sortField=devId.devShortCleanNm&sortType=asc&objStatus=0'\n",
        "  res = requests.get(url) #,params=params)\n",
        "  print(str(res))\n",
        "  if str(res)!='<Response [200]>': break\n",
        "  offset_ = offset_ + 1000\n",
        "  objects_data = res.json()\n",
        "  objects_list = objects_data.get('data')#.get('list') \n",
        "  df = pd.json_normalize(objects_list)\n",
        "  dffull=pd.concat([dffull,df],ignore_index=True)\n",
        "  time.sleep(4)\n",
        "  i=i+1"
      ],
      "metadata": {
        "id": "UNGerURfvD3c",
        "colab": {
          "base_uri": "https://localhost:8080/"
        },
        "outputId": "b1a3d951-a8ce-493c-db3a-4f505c536aab"
      },
      "execution_count": 8,
      "outputs": [
        {
          "output_type": "stream",
          "name": "stdout",
          "text": [
            "<Response [200]>\n",
            "<Response [200]>\n",
            "<Response [200]>\n",
            "<Response [200]>\n",
            "<Response [200]>\n",
            "<Response [200]>\n",
            "<Response [200]>\n",
            "<Response [200]>\n",
            "<Response [200]>\n",
            "<Response [200]>\n",
            "<Response [200]>\n",
            "<Response [200]>\n",
            "<Response [200]>\n",
            "<Response [200]>\n",
            "<Response [200]>\n",
            "<Response [200]>\n",
            "<Response [200]>\n",
            "<Response [200]>\n",
            "<Response [200]>\n",
            "<Response [200]>\n",
            "<Response [200]>\n"
          ]
        }
      ]
    },
    {
      "cell_type": "code",
      "source": [
        "dffull.columns"
      ],
      "metadata": {
        "id": "DtJm--yLGQsZ",
        "outputId": "723db4cc-e373-4526-d80f-5e849281e975",
        "colab": {
          "base_uri": "https://localhost:8080/"
        }
      },
      "execution_count": 16,
      "outputs": [
        {
          "output_type": "execute_result",
          "data": {
            "text/plain": [
              "Index(['list', 'total'], dtype='object')"
            ]
          },
          "metadata": {},
          "execution_count": 16
        }
      ]
    },
    {
      "cell_type": "code",
      "source": [
        "dffull.reset_index(inplace=True)"
      ],
      "metadata": {
        "id": "vjUaCJwPJ3AR"
      },
      "execution_count": 17,
      "outputs": []
    },
    {
      "cell_type": "code",
      "source": [
        "len(dffull)"
      ],
      "metadata": {
        "colab": {
          "base_uri": "https://localhost:8080/"
        },
        "id": "l0spFpA8MbAd",
        "outputId": "dfc3c305-232c-4bb4-dde1-4e5bdd63f3bb"
      },
      "execution_count": 9,
      "outputs": [
        {
          "output_type": "execute_result",
          "data": {
            "text/plain": [
              "22"
            ]
          },
          "metadata": {},
          "execution_count": 9
        }
      ]
    },
    {
      "cell_type": "code",
      "source": [
        "dffull.head(18)"
      ],
      "metadata": {
        "id": "XOLN2fhmtlyV",
        "outputId": "df628ec8-ac1f-4faf-e28f-f40f03e4026a",
        "colab": {
          "base_uri": "https://localhost:8080/",
          "height": 81
        }
      },
      "execution_count": 18,
      "outputs": [
        {
          "output_type": "execute_result",
          "data": {
            "text/plain": [
              "   index                                               list  total\n",
              "0      0  [{'objId': 13391, 'developer': {'devId': 306, ...  10746"
            ],
            "text/html": [
              "\n",
              "  <div id=\"df-410c7697-1bb6-4740-8cc7-237bd9060364\">\n",
              "    <div class=\"colab-df-container\">\n",
              "      <div>\n",
              "<style scoped>\n",
              "    .dataframe tbody tr th:only-of-type {\n",
              "        vertical-align: middle;\n",
              "    }\n",
              "\n",
              "    .dataframe tbody tr th {\n",
              "        vertical-align: top;\n",
              "    }\n",
              "\n",
              "    .dataframe thead th {\n",
              "        text-align: right;\n",
              "    }\n",
              "</style>\n",
              "<table border=\"1\" class=\"dataframe\">\n",
              "  <thead>\n",
              "    <tr style=\"text-align: right;\">\n",
              "      <th></th>\n",
              "      <th>index</th>\n",
              "      <th>list</th>\n",
              "      <th>total</th>\n",
              "    </tr>\n",
              "  </thead>\n",
              "  <tbody>\n",
              "    <tr>\n",
              "      <th>0</th>\n",
              "      <td>0</td>\n",
              "      <td>[{'objId': 13391, 'developer': {'devId': 306, ...</td>\n",
              "      <td>10746</td>\n",
              "    </tr>\n",
              "  </tbody>\n",
              "</table>\n",
              "</div>\n",
              "      <button class=\"colab-df-convert\" onclick=\"convertToInteractive('df-410c7697-1bb6-4740-8cc7-237bd9060364')\"\n",
              "              title=\"Convert this dataframe to an interactive table.\"\n",
              "              style=\"display:none;\">\n",
              "        \n",
              "  <svg xmlns=\"http://www.w3.org/2000/svg\" height=\"24px\"viewBox=\"0 0 24 24\"\n",
              "       width=\"24px\">\n",
              "    <path d=\"M0 0h24v24H0V0z\" fill=\"none\"/>\n",
              "    <path d=\"M18.56 5.44l.94 2.06.94-2.06 2.06-.94-2.06-.94-.94-2.06-.94 2.06-2.06.94zm-11 1L8.5 8.5l.94-2.06 2.06-.94-2.06-.94L8.5 2.5l-.94 2.06-2.06.94zm10 10l.94 2.06.94-2.06 2.06-.94-2.06-.94-.94-2.06-.94 2.06-2.06.94z\"/><path d=\"M17.41 7.96l-1.37-1.37c-.4-.4-.92-.59-1.43-.59-.52 0-1.04.2-1.43.59L10.3 9.45l-7.72 7.72c-.78.78-.78 2.05 0 2.83L4 21.41c.39.39.9.59 1.41.59.51 0 1.02-.2 1.41-.59l7.78-7.78 2.81-2.81c.8-.78.8-2.07 0-2.86zM5.41 20L4 18.59l7.72-7.72 1.47 1.35L5.41 20z\"/>\n",
              "  </svg>\n",
              "      </button>\n",
              "      \n",
              "  <style>\n",
              "    .colab-df-container {\n",
              "      display:flex;\n",
              "      flex-wrap:wrap;\n",
              "      gap: 12px;\n",
              "    }\n",
              "\n",
              "    .colab-df-convert {\n",
              "      background-color: #E8F0FE;\n",
              "      border: none;\n",
              "      border-radius: 50%;\n",
              "      cursor: pointer;\n",
              "      display: none;\n",
              "      fill: #1967D2;\n",
              "      height: 32px;\n",
              "      padding: 0 0 0 0;\n",
              "      width: 32px;\n",
              "    }\n",
              "\n",
              "    .colab-df-convert:hover {\n",
              "      background-color: #E2EBFA;\n",
              "      box-shadow: 0px 1px 2px rgba(60, 64, 67, 0.3), 0px 1px 3px 1px rgba(60, 64, 67, 0.15);\n",
              "      fill: #174EA6;\n",
              "    }\n",
              "\n",
              "    [theme=dark] .colab-df-convert {\n",
              "      background-color: #3B4455;\n",
              "      fill: #D2E3FC;\n",
              "    }\n",
              "\n",
              "    [theme=dark] .colab-df-convert:hover {\n",
              "      background-color: #434B5C;\n",
              "      box-shadow: 0px 1px 3px 1px rgba(0, 0, 0, 0.15);\n",
              "      filter: drop-shadow(0px 1px 2px rgba(0, 0, 0, 0.3));\n",
              "      fill: #FFFFFF;\n",
              "    }\n",
              "  </style>\n",
              "\n",
              "      <script>\n",
              "        const buttonEl =\n",
              "          document.querySelector('#df-410c7697-1bb6-4740-8cc7-237bd9060364 button.colab-df-convert');\n",
              "        buttonEl.style.display =\n",
              "          google.colab.kernel.accessAllowed ? 'block' : 'none';\n",
              "\n",
              "        async function convertToInteractive(key) {\n",
              "          const element = document.querySelector('#df-410c7697-1bb6-4740-8cc7-237bd9060364');\n",
              "          const dataTable =\n",
              "            await google.colab.kernel.invokeFunction('convertToInteractive',\n",
              "                                                     [key], {});\n",
              "          if (!dataTable) return;\n",
              "\n",
              "          const docLinkHtml = 'Like what you see? Visit the ' +\n",
              "            '<a target=\"_blank\" href=https://colab.research.google.com/notebooks/data_table.ipynb>data table notebook</a>'\n",
              "            + ' to learn more about interactive tables.';\n",
              "          element.innerHTML = '';\n",
              "          dataTable['output_type'] = 'display_data';\n",
              "          await google.colab.output.renderOutput(dataTable, element);\n",
              "          const docLink = document.createElement('div');\n",
              "          docLink.innerHTML = docLinkHtml;\n",
              "          element.appendChild(docLink);\n",
              "        }\n",
              "      </script>\n",
              "    </div>\n",
              "  </div>\n",
              "  "
            ]
          },
          "metadata": {},
          "execution_count": 18
        }
      ]
    },
    {
      "cell_type": "code",
      "source": [
        "len(dffull)"
      ],
      "metadata": {
        "id": "bcF_9_0n0MGn",
        "outputId": "d83d3071-8987-4ec0-e172-c9fe227fc7b5",
        "colab": {
          "base_uri": "https://localhost:8080/"
        }
      },
      "execution_count": null,
      "outputs": [
        {
          "output_type": "execute_result",
          "data": {
            "text/plain": [
              "22"
            ]
          },
          "metadata": {},
          "execution_count": 588
        }
      ]
    },
    {
      "cell_type": "code",
      "source": [
        "ser= dffull['list']"
      ],
      "metadata": {
        "id": "sHS3kaebJ8bo"
      },
      "execution_count": 19,
      "outputs": []
    },
    {
      "cell_type": "code",
      "source": [
        "len(ser)"
      ],
      "metadata": {
        "id": "FnCFtOh4uC5-",
        "outputId": "1b265511-6e8a-4485-f4b7-a0ea03739809",
        "colab": {
          "base_uri": "https://localhost:8080/"
        }
      },
      "execution_count": null,
      "outputs": [
        {
          "output_type": "execute_result",
          "data": {
            "text/plain": [
              "22"
            ]
          },
          "metadata": {},
          "execution_count": 593
        }
      ]
    },
    {
      "cell_type": "code",
      "source": [
        "i=0\n",
        "while i<len(ser):\n",
        "  zastr=pd.concat([zastr,pd.DataFrame(ser[i])],ignore_index=True)\n",
        "  i=i+1"
      ],
      "metadata": {
        "id": "C9PPN06h0dW0"
      },
      "execution_count": 24,
      "outputs": []
    },
    {
      "cell_type": "code",
      "source": [
        "zastr=pd.DataFrame(ser[0])"
      ],
      "metadata": {
        "id": "eFB4ApvzuV52"
      },
      "execution_count": 23,
      "outputs": []
    },
    {
      "cell_type": "code",
      "source": [
        "zastr.head()"
      ],
      "metadata": {
        "id": "gLK4tsfFu3x1",
        "outputId": "18211625-02bd-4499-fa81-f94e0f1f09b6",
        "colab": {
          "base_uri": "https://localhost:8080/",
          "height": 733
        }
      },
      "execution_count": 25,
      "outputs": [
        {
          "output_type": "execute_result",
          "data": {
            "text/plain": [
              "   objId                                          developer  rpdRegionCd  \\\n",
              "0  13391  {'devId': 306, 'shortName': '2МЕН ГРУПП', 'ful...           72   \n",
              "1  13383  {'devId': 306, 'shortName': '2МЕН ГРУПП', 'ful...           72   \n",
              "2  13398  {'devId': 306, 'shortName': '2МЕН ГРУПП', 'ful...           72   \n",
              "3  13397  {'devId': 306, 'shortName': '2МЕН ГРУПП', 'ful...           72   \n",
              "4  13399  {'devId': 306, 'shortName': '2МЕН ГРУПП', 'ful...           72   \n",
              "\n",
              "                           objAddr  objFloorMin  objFloorMax  \\\n",
              "0         г Тюмень, ул Профсоюзная            3           12   \n",
              "1                         г Тюмень            4           20   \n",
              "2  г Тюмень, ул Профсоюзная, д. 56            7           10   \n",
              "3  г Тюмень, ул Профсоюзная, д. 56            6           12   \n",
              "4  г Тюмень, ул Профсоюзная, д. 56            1            1   \n",
              "\n",
              "   objElemLivingCnt objReady100PercDt  objSquareLiving  objCompensFundFlg  \\\n",
              "0                44        2022-12-31          4297.44                  1   \n",
              "1                68        2022-12-31          6293.78                  1   \n",
              "2                43        2024-12-31          4812.98                  0   \n",
              "3                65        2024-12-31          6248.51                  0   \n",
              "4                 0        2024-12-31             0.00                  0   \n",
              "\n",
              "   ...  problemFlag  siteStatus  objGuarantyEscrowFlg residentialBuildings  \\\n",
              "0  ...         NONE  Строящиеся                     0                    1   \n",
              "1  ...         NONE  Строящиеся                     0                    1   \n",
              "2  ...         NONE  Строящиеся                     0                    1   \n",
              "3  ...         NONE  Строящиеся                     0                    1   \n",
              "4  ...         NONE  Строящиеся                     0                    0   \n",
              "\n",
              "      rpdNum   pdId  buildType objStatus  objCommercNm complexShortName  \n",
              "0  72-000096  28101      Жилое         0           NaN              NaN  \n",
              "1  72-000095  28105      Жилое         0           NaN              NaN  \n",
              "2  72-000097  28141      Жилое         0           NaN              NaN  \n",
              "3  72-000097  28141      Жилое         0           NaN              NaN  \n",
              "4  72-000097  28141    Нежилое         0           NaN              NaN  \n",
              "\n",
              "[5 rows x 23 columns]"
            ],
            "text/html": [
              "\n",
              "  <div id=\"df-ff5caffb-3513-4a78-b394-d1b537be9383\">\n",
              "    <div class=\"colab-df-container\">\n",
              "      <div>\n",
              "<style scoped>\n",
              "    .dataframe tbody tr th:only-of-type {\n",
              "        vertical-align: middle;\n",
              "    }\n",
              "\n",
              "    .dataframe tbody tr th {\n",
              "        vertical-align: top;\n",
              "    }\n",
              "\n",
              "    .dataframe thead th {\n",
              "        text-align: right;\n",
              "    }\n",
              "</style>\n",
              "<table border=\"1\" class=\"dataframe\">\n",
              "  <thead>\n",
              "    <tr style=\"text-align: right;\">\n",
              "      <th></th>\n",
              "      <th>objId</th>\n",
              "      <th>developer</th>\n",
              "      <th>rpdRegionCd</th>\n",
              "      <th>objAddr</th>\n",
              "      <th>objFloorMin</th>\n",
              "      <th>objFloorMax</th>\n",
              "      <th>objElemLivingCnt</th>\n",
              "      <th>objReady100PercDt</th>\n",
              "      <th>objSquareLiving</th>\n",
              "      <th>objCompensFundFlg</th>\n",
              "      <th>...</th>\n",
              "      <th>problemFlag</th>\n",
              "      <th>siteStatus</th>\n",
              "      <th>objGuarantyEscrowFlg</th>\n",
              "      <th>residentialBuildings</th>\n",
              "      <th>rpdNum</th>\n",
              "      <th>pdId</th>\n",
              "      <th>buildType</th>\n",
              "      <th>objStatus</th>\n",
              "      <th>objCommercNm</th>\n",
              "      <th>complexShortName</th>\n",
              "    </tr>\n",
              "  </thead>\n",
              "  <tbody>\n",
              "    <tr>\n",
              "      <th>0</th>\n",
              "      <td>13391</td>\n",
              "      <td>{'devId': 306, 'shortName': '2МЕН ГРУПП', 'ful...</td>\n",
              "      <td>72</td>\n",
              "      <td>г Тюмень, ул Профсоюзная</td>\n",
              "      <td>3</td>\n",
              "      <td>12</td>\n",
              "      <td>44</td>\n",
              "      <td>2022-12-31</td>\n",
              "      <td>4297.44</td>\n",
              "      <td>1</td>\n",
              "      <td>...</td>\n",
              "      <td>NONE</td>\n",
              "      <td>Строящиеся</td>\n",
              "      <td>0</td>\n",
              "      <td>1</td>\n",
              "      <td>72-000096</td>\n",
              "      <td>28101</td>\n",
              "      <td>Жилое</td>\n",
              "      <td>0</td>\n",
              "      <td>NaN</td>\n",
              "      <td>NaN</td>\n",
              "    </tr>\n",
              "    <tr>\n",
              "      <th>1</th>\n",
              "      <td>13383</td>\n",
              "      <td>{'devId': 306, 'shortName': '2МЕН ГРУПП', 'ful...</td>\n",
              "      <td>72</td>\n",
              "      <td>г Тюмень</td>\n",
              "      <td>4</td>\n",
              "      <td>20</td>\n",
              "      <td>68</td>\n",
              "      <td>2022-12-31</td>\n",
              "      <td>6293.78</td>\n",
              "      <td>1</td>\n",
              "      <td>...</td>\n",
              "      <td>NONE</td>\n",
              "      <td>Строящиеся</td>\n",
              "      <td>0</td>\n",
              "      <td>1</td>\n",
              "      <td>72-000095</td>\n",
              "      <td>28105</td>\n",
              "      <td>Жилое</td>\n",
              "      <td>0</td>\n",
              "      <td>NaN</td>\n",
              "      <td>NaN</td>\n",
              "    </tr>\n",
              "    <tr>\n",
              "      <th>2</th>\n",
              "      <td>13398</td>\n",
              "      <td>{'devId': 306, 'shortName': '2МЕН ГРУПП', 'ful...</td>\n",
              "      <td>72</td>\n",
              "      <td>г Тюмень, ул Профсоюзная, д. 56</td>\n",
              "      <td>7</td>\n",
              "      <td>10</td>\n",
              "      <td>43</td>\n",
              "      <td>2024-12-31</td>\n",
              "      <td>4812.98</td>\n",
              "      <td>0</td>\n",
              "      <td>...</td>\n",
              "      <td>NONE</td>\n",
              "      <td>Строящиеся</td>\n",
              "      <td>0</td>\n",
              "      <td>1</td>\n",
              "      <td>72-000097</td>\n",
              "      <td>28141</td>\n",
              "      <td>Жилое</td>\n",
              "      <td>0</td>\n",
              "      <td>NaN</td>\n",
              "      <td>NaN</td>\n",
              "    </tr>\n",
              "    <tr>\n",
              "      <th>3</th>\n",
              "      <td>13397</td>\n",
              "      <td>{'devId': 306, 'shortName': '2МЕН ГРУПП', 'ful...</td>\n",
              "      <td>72</td>\n",
              "      <td>г Тюмень, ул Профсоюзная, д. 56</td>\n",
              "      <td>6</td>\n",
              "      <td>12</td>\n",
              "      <td>65</td>\n",
              "      <td>2024-12-31</td>\n",
              "      <td>6248.51</td>\n",
              "      <td>0</td>\n",
              "      <td>...</td>\n",
              "      <td>NONE</td>\n",
              "      <td>Строящиеся</td>\n",
              "      <td>0</td>\n",
              "      <td>1</td>\n",
              "      <td>72-000097</td>\n",
              "      <td>28141</td>\n",
              "      <td>Жилое</td>\n",
              "      <td>0</td>\n",
              "      <td>NaN</td>\n",
              "      <td>NaN</td>\n",
              "    </tr>\n",
              "    <tr>\n",
              "      <th>4</th>\n",
              "      <td>13399</td>\n",
              "      <td>{'devId': 306, 'shortName': '2МЕН ГРУПП', 'ful...</td>\n",
              "      <td>72</td>\n",
              "      <td>г Тюмень, ул Профсоюзная, д. 56</td>\n",
              "      <td>1</td>\n",
              "      <td>1</td>\n",
              "      <td>0</td>\n",
              "      <td>2024-12-31</td>\n",
              "      <td>0.00</td>\n",
              "      <td>0</td>\n",
              "      <td>...</td>\n",
              "      <td>NONE</td>\n",
              "      <td>Строящиеся</td>\n",
              "      <td>0</td>\n",
              "      <td>0</td>\n",
              "      <td>72-000097</td>\n",
              "      <td>28141</td>\n",
              "      <td>Нежилое</td>\n",
              "      <td>0</td>\n",
              "      <td>NaN</td>\n",
              "      <td>NaN</td>\n",
              "    </tr>\n",
              "  </tbody>\n",
              "</table>\n",
              "<p>5 rows × 23 columns</p>\n",
              "</div>\n",
              "      <button class=\"colab-df-convert\" onclick=\"convertToInteractive('df-ff5caffb-3513-4a78-b394-d1b537be9383')\"\n",
              "              title=\"Convert this dataframe to an interactive table.\"\n",
              "              style=\"display:none;\">\n",
              "        \n",
              "  <svg xmlns=\"http://www.w3.org/2000/svg\" height=\"24px\"viewBox=\"0 0 24 24\"\n",
              "       width=\"24px\">\n",
              "    <path d=\"M0 0h24v24H0V0z\" fill=\"none\"/>\n",
              "    <path d=\"M18.56 5.44l.94 2.06.94-2.06 2.06-.94-2.06-.94-.94-2.06-.94 2.06-2.06.94zm-11 1L8.5 8.5l.94-2.06 2.06-.94-2.06-.94L8.5 2.5l-.94 2.06-2.06.94zm10 10l.94 2.06.94-2.06 2.06-.94-2.06-.94-.94-2.06-.94 2.06-2.06.94z\"/><path d=\"M17.41 7.96l-1.37-1.37c-.4-.4-.92-.59-1.43-.59-.52 0-1.04.2-1.43.59L10.3 9.45l-7.72 7.72c-.78.78-.78 2.05 0 2.83L4 21.41c.39.39.9.59 1.41.59.51 0 1.02-.2 1.41-.59l7.78-7.78 2.81-2.81c.8-.78.8-2.07 0-2.86zM5.41 20L4 18.59l7.72-7.72 1.47 1.35L5.41 20z\"/>\n",
              "  </svg>\n",
              "      </button>\n",
              "      \n",
              "  <style>\n",
              "    .colab-df-container {\n",
              "      display:flex;\n",
              "      flex-wrap:wrap;\n",
              "      gap: 12px;\n",
              "    }\n",
              "\n",
              "    .colab-df-convert {\n",
              "      background-color: #E8F0FE;\n",
              "      border: none;\n",
              "      border-radius: 50%;\n",
              "      cursor: pointer;\n",
              "      display: none;\n",
              "      fill: #1967D2;\n",
              "      height: 32px;\n",
              "      padding: 0 0 0 0;\n",
              "      width: 32px;\n",
              "    }\n",
              "\n",
              "    .colab-df-convert:hover {\n",
              "      background-color: #E2EBFA;\n",
              "      box-shadow: 0px 1px 2px rgba(60, 64, 67, 0.3), 0px 1px 3px 1px rgba(60, 64, 67, 0.15);\n",
              "      fill: #174EA6;\n",
              "    }\n",
              "\n",
              "    [theme=dark] .colab-df-convert {\n",
              "      background-color: #3B4455;\n",
              "      fill: #D2E3FC;\n",
              "    }\n",
              "\n",
              "    [theme=dark] .colab-df-convert:hover {\n",
              "      background-color: #434B5C;\n",
              "      box-shadow: 0px 1px 3px 1px rgba(0, 0, 0, 0.15);\n",
              "      filter: drop-shadow(0px 1px 2px rgba(0, 0, 0, 0.3));\n",
              "      fill: #FFFFFF;\n",
              "    }\n",
              "  </style>\n",
              "\n",
              "      <script>\n",
              "        const buttonEl =\n",
              "          document.querySelector('#df-ff5caffb-3513-4a78-b394-d1b537be9383 button.colab-df-convert');\n",
              "        buttonEl.style.display =\n",
              "          google.colab.kernel.accessAllowed ? 'block' : 'none';\n",
              "\n",
              "        async function convertToInteractive(key) {\n",
              "          const element = document.querySelector('#df-ff5caffb-3513-4a78-b394-d1b537be9383');\n",
              "          const dataTable =\n",
              "            await google.colab.kernel.invokeFunction('convertToInteractive',\n",
              "                                                     [key], {});\n",
              "          if (!dataTable) return;\n",
              "\n",
              "          const docLinkHtml = 'Like what you see? Visit the ' +\n",
              "            '<a target=\"_blank\" href=https://colab.research.google.com/notebooks/data_table.ipynb>data table notebook</a>'\n",
              "            + ' to learn more about interactive tables.';\n",
              "          element.innerHTML = '';\n",
              "          dataTable['output_type'] = 'display_data';\n",
              "          await google.colab.output.renderOutput(dataTable, element);\n",
              "          const docLink = document.createElement('div');\n",
              "          docLink.innerHTML = docLinkHtml;\n",
              "          element.appendChild(docLink);\n",
              "        }\n",
              "      </script>\n",
              "    </div>\n",
              "  </div>\n",
              "  "
            ]
          },
          "metadata": {},
          "execution_count": 25
        }
      ]
    },
    {
      "cell_type": "code",
      "source": [
        "zastr.columns"
      ],
      "metadata": {
        "id": "_dAt3iFIujvM",
        "outputId": "131fe9be-cf70-4197-e334-a9063c4eb717",
        "colab": {
          "base_uri": "https://localhost:8080/"
        }
      },
      "execution_count": null,
      "outputs": [
        {
          "output_type": "execute_result",
          "data": {
            "text/plain": [
              "Index(['objId', 'developer', 'rpdRegionCd', 'objAddr', 'objCommercNm', 'objFloorMin', 'objFloorMax', 'objElemLivingCnt', 'objReady100PercDt', 'objSquareLiving', 'objCompensFundFlg', 'objProblemFlg',\n",
              "       'latitude', 'longitude', 'problemFlag', 'siteStatus', 'objGuarantyEscrowFlg', 'residentialBuildings', 'rpdNum', 'pdId', 'buildType', 'objStatus', 'complexShortName'],\n",
              "      dtype='object')"
            ]
          },
          "metadata": {},
          "execution_count": 539
        }
      ]
    },
    {
      "cell_type": "code",
      "source": [
        "zastr.info()"
      ],
      "metadata": {
        "id": "ZT9hG7NtvTPd",
        "outputId": "fc38fbc6-dbf1-4b4e-efba-b18a014bf1d1",
        "colab": {
          "base_uri": "https://localhost:8080/",
          "height": 172
        }
      },
      "execution_count": 4,
      "outputs": [
        {
          "output_type": "error",
          "ename": "NameError",
          "evalue": "ignored",
          "traceback": [
            "\u001b[0;31m---------------------------------------------------------------------------\u001b[0m",
            "\u001b[0;31mNameError\u001b[0m                                 Traceback (most recent call last)",
            "\u001b[0;32m<ipython-input-4-5b981f51979c>\u001b[0m in \u001b[0;36m<module>\u001b[0;34m\u001b[0m\n\u001b[0;32m----> 1\u001b[0;31m \u001b[0mzastr\u001b[0m\u001b[0;34m.\u001b[0m\u001b[0minfo\u001b[0m\u001b[0;34m(\u001b[0m\u001b[0;34m)\u001b[0m\u001b[0;34m\u001b[0m\u001b[0;34m\u001b[0m\u001b[0m\n\u001b[0m",
            "\u001b[0;31mNameError\u001b[0m: name 'zastr' is not defined"
          ]
        }
      ]
    },
    {
      "cell_type": "code",
      "source": [
        "zastr.describe()"
      ],
      "metadata": {
        "id": "U7cWZwvYvZA0",
        "outputId": "dfc69df8-3a75-4c15-e92a-f82728a147c5",
        "colab": {
          "base_uri": "https://localhost:8080/",
          "height": 301
        }
      },
      "execution_count": null,
      "outputs": [
        {
          "output_type": "execute_result",
          "data": {
            "text/plain": [
              "              objId  rpdRegionCd  objFloorMin  objFloorMax  objElemLivingCnt  objSquareLiving  objCompensFundFlg  objProblemFlg    latitude   longitude  objGuarantyEscrowFlg  residentialBuildings  \\\n",
              "count    746.000000   746.000000   746.000000   746.000000        746.000000       746.000000         746.000000          746.0  744.000000  744.000000            746.000000            746.000000   \n",
              "mean   31851.833780    45.057641    10.329759    11.982574        176.105898      8401.023097           0.237265            0.0   53.528235   49.380041              0.639410              0.879357   \n",
              "std    14339.395095    23.628061     6.773109     7.177404        175.929335      7802.053945           0.425692            0.0    5.418212   23.124674              0.480494              0.325931   \n",
              "min     1366.000000     2.000000     0.000000     0.000000          0.000000         0.000000           0.000000            0.0   43.033000   20.455400              0.000000              0.000000   \n",
              "25%    21157.250000    23.000000     5.000000     7.000000         58.250000      3044.142500           0.000000            0.0   48.699225   37.321200              0.000000              1.000000   \n",
              "50%    35325.500000    50.000000     9.000000    10.000000        127.000000      6489.475000           0.000000            0.0   55.326450   39.667750              1.000000              1.000000   \n",
              "75%    44328.750000    64.000000    15.000000    17.000000        237.000000     11357.250000           0.000000            0.0   56.910000   55.916800              1.000000              1.000000   \n",
              "max    49063.000000    92.000000    35.000000    40.000000       1220.000000     45957.980000           1.000000            0.0   66.657000  150.818800              1.000000              1.000000   \n",
              "\n",
              "                pdId  objStatus  \n",
              "count     746.000000      746.0  \n",
              "mean   294301.041555        0.0  \n",
              "std    242046.913354        0.0  \n",
              "min      1474.000000        0.0  \n",
              "25%     35186.000000        0.0  \n",
              "50%    279972.000000        0.0  \n",
              "75%    531094.250000        0.0  \n",
              "max    659205.000000        0.0  "
            ],
            "text/html": [
              "\n",
              "  <div id=\"df-c6c320da-6182-441f-9507-ec20bf8b7402\">\n",
              "    <div class=\"colab-df-container\">\n",
              "      <div>\n",
              "<style scoped>\n",
              "    .dataframe tbody tr th:only-of-type {\n",
              "        vertical-align: middle;\n",
              "    }\n",
              "\n",
              "    .dataframe tbody tr th {\n",
              "        vertical-align: top;\n",
              "    }\n",
              "\n",
              "    .dataframe thead th {\n",
              "        text-align: right;\n",
              "    }\n",
              "</style>\n",
              "<table border=\"1\" class=\"dataframe\">\n",
              "  <thead>\n",
              "    <tr style=\"text-align: right;\">\n",
              "      <th></th>\n",
              "      <th>objId</th>\n",
              "      <th>rpdRegionCd</th>\n",
              "      <th>objFloorMin</th>\n",
              "      <th>objFloorMax</th>\n",
              "      <th>objElemLivingCnt</th>\n",
              "      <th>objSquareLiving</th>\n",
              "      <th>objCompensFundFlg</th>\n",
              "      <th>objProblemFlg</th>\n",
              "      <th>latitude</th>\n",
              "      <th>longitude</th>\n",
              "      <th>objGuarantyEscrowFlg</th>\n",
              "      <th>residentialBuildings</th>\n",
              "      <th>pdId</th>\n",
              "      <th>objStatus</th>\n",
              "    </tr>\n",
              "  </thead>\n",
              "  <tbody>\n",
              "    <tr>\n",
              "      <th>count</th>\n",
              "      <td>746.000000</td>\n",
              "      <td>746.000000</td>\n",
              "      <td>746.000000</td>\n",
              "      <td>746.000000</td>\n",
              "      <td>746.000000</td>\n",
              "      <td>746.000000</td>\n",
              "      <td>746.000000</td>\n",
              "      <td>746.0</td>\n",
              "      <td>744.000000</td>\n",
              "      <td>744.000000</td>\n",
              "      <td>746.000000</td>\n",
              "      <td>746.000000</td>\n",
              "      <td>746.000000</td>\n",
              "      <td>746.0</td>\n",
              "    </tr>\n",
              "    <tr>\n",
              "      <th>mean</th>\n",
              "      <td>31851.833780</td>\n",
              "      <td>45.057641</td>\n",
              "      <td>10.329759</td>\n",
              "      <td>11.982574</td>\n",
              "      <td>176.105898</td>\n",
              "      <td>8401.023097</td>\n",
              "      <td>0.237265</td>\n",
              "      <td>0.0</td>\n",
              "      <td>53.528235</td>\n",
              "      <td>49.380041</td>\n",
              "      <td>0.639410</td>\n",
              "      <td>0.879357</td>\n",
              "      <td>294301.041555</td>\n",
              "      <td>0.0</td>\n",
              "    </tr>\n",
              "    <tr>\n",
              "      <th>std</th>\n",
              "      <td>14339.395095</td>\n",
              "      <td>23.628061</td>\n",
              "      <td>6.773109</td>\n",
              "      <td>7.177404</td>\n",
              "      <td>175.929335</td>\n",
              "      <td>7802.053945</td>\n",
              "      <td>0.425692</td>\n",
              "      <td>0.0</td>\n",
              "      <td>5.418212</td>\n",
              "      <td>23.124674</td>\n",
              "      <td>0.480494</td>\n",
              "      <td>0.325931</td>\n",
              "      <td>242046.913354</td>\n",
              "      <td>0.0</td>\n",
              "    </tr>\n",
              "    <tr>\n",
              "      <th>min</th>\n",
              "      <td>1366.000000</td>\n",
              "      <td>2.000000</td>\n",
              "      <td>0.000000</td>\n",
              "      <td>0.000000</td>\n",
              "      <td>0.000000</td>\n",
              "      <td>0.000000</td>\n",
              "      <td>0.000000</td>\n",
              "      <td>0.0</td>\n",
              "      <td>43.033000</td>\n",
              "      <td>20.455400</td>\n",
              "      <td>0.000000</td>\n",
              "      <td>0.000000</td>\n",
              "      <td>1474.000000</td>\n",
              "      <td>0.0</td>\n",
              "    </tr>\n",
              "    <tr>\n",
              "      <th>25%</th>\n",
              "      <td>21157.250000</td>\n",
              "      <td>23.000000</td>\n",
              "      <td>5.000000</td>\n",
              "      <td>7.000000</td>\n",
              "      <td>58.250000</td>\n",
              "      <td>3044.142500</td>\n",
              "      <td>0.000000</td>\n",
              "      <td>0.0</td>\n",
              "      <td>48.699225</td>\n",
              "      <td>37.321200</td>\n",
              "      <td>0.000000</td>\n",
              "      <td>1.000000</td>\n",
              "      <td>35186.000000</td>\n",
              "      <td>0.0</td>\n",
              "    </tr>\n",
              "    <tr>\n",
              "      <th>50%</th>\n",
              "      <td>35325.500000</td>\n",
              "      <td>50.000000</td>\n",
              "      <td>9.000000</td>\n",
              "      <td>10.000000</td>\n",
              "      <td>127.000000</td>\n",
              "      <td>6489.475000</td>\n",
              "      <td>0.000000</td>\n",
              "      <td>0.0</td>\n",
              "      <td>55.326450</td>\n",
              "      <td>39.667750</td>\n",
              "      <td>1.000000</td>\n",
              "      <td>1.000000</td>\n",
              "      <td>279972.000000</td>\n",
              "      <td>0.0</td>\n",
              "    </tr>\n",
              "    <tr>\n",
              "      <th>75%</th>\n",
              "      <td>44328.750000</td>\n",
              "      <td>64.000000</td>\n",
              "      <td>15.000000</td>\n",
              "      <td>17.000000</td>\n",
              "      <td>237.000000</td>\n",
              "      <td>11357.250000</td>\n",
              "      <td>0.000000</td>\n",
              "      <td>0.0</td>\n",
              "      <td>56.910000</td>\n",
              "      <td>55.916800</td>\n",
              "      <td>1.000000</td>\n",
              "      <td>1.000000</td>\n",
              "      <td>531094.250000</td>\n",
              "      <td>0.0</td>\n",
              "    </tr>\n",
              "    <tr>\n",
              "      <th>max</th>\n",
              "      <td>49063.000000</td>\n",
              "      <td>92.000000</td>\n",
              "      <td>35.000000</td>\n",
              "      <td>40.000000</td>\n",
              "      <td>1220.000000</td>\n",
              "      <td>45957.980000</td>\n",
              "      <td>1.000000</td>\n",
              "      <td>0.0</td>\n",
              "      <td>66.657000</td>\n",
              "      <td>150.818800</td>\n",
              "      <td>1.000000</td>\n",
              "      <td>1.000000</td>\n",
              "      <td>659205.000000</td>\n",
              "      <td>0.0</td>\n",
              "    </tr>\n",
              "  </tbody>\n",
              "</table>\n",
              "</div>\n",
              "      <button class=\"colab-df-convert\" onclick=\"convertToInteractive('df-c6c320da-6182-441f-9507-ec20bf8b7402')\"\n",
              "              title=\"Convert this dataframe to an interactive table.\"\n",
              "              style=\"display:none;\">\n",
              "        \n",
              "  <svg xmlns=\"http://www.w3.org/2000/svg\" height=\"24px\"viewBox=\"0 0 24 24\"\n",
              "       width=\"24px\">\n",
              "    <path d=\"M0 0h24v24H0V0z\" fill=\"none\"/>\n",
              "    <path d=\"M18.56 5.44l.94 2.06.94-2.06 2.06-.94-2.06-.94-.94-2.06-.94 2.06-2.06.94zm-11 1L8.5 8.5l.94-2.06 2.06-.94-2.06-.94L8.5 2.5l-.94 2.06-2.06.94zm10 10l.94 2.06.94-2.06 2.06-.94-2.06-.94-.94-2.06-.94 2.06-2.06.94z\"/><path d=\"M17.41 7.96l-1.37-1.37c-.4-.4-.92-.59-1.43-.59-.52 0-1.04.2-1.43.59L10.3 9.45l-7.72 7.72c-.78.78-.78 2.05 0 2.83L4 21.41c.39.39.9.59 1.41.59.51 0 1.02-.2 1.41-.59l7.78-7.78 2.81-2.81c.8-.78.8-2.07 0-2.86zM5.41 20L4 18.59l7.72-7.72 1.47 1.35L5.41 20z\"/>\n",
              "  </svg>\n",
              "      </button>\n",
              "      \n",
              "  <style>\n",
              "    .colab-df-container {\n",
              "      display:flex;\n",
              "      flex-wrap:wrap;\n",
              "      gap: 12px;\n",
              "    }\n",
              "\n",
              "    .colab-df-convert {\n",
              "      background-color: #E8F0FE;\n",
              "      border: none;\n",
              "      border-radius: 50%;\n",
              "      cursor: pointer;\n",
              "      display: none;\n",
              "      fill: #1967D2;\n",
              "      height: 32px;\n",
              "      padding: 0 0 0 0;\n",
              "      width: 32px;\n",
              "    }\n",
              "\n",
              "    .colab-df-convert:hover {\n",
              "      background-color: #E2EBFA;\n",
              "      box-shadow: 0px 1px 2px rgba(60, 64, 67, 0.3), 0px 1px 3px 1px rgba(60, 64, 67, 0.15);\n",
              "      fill: #174EA6;\n",
              "    }\n",
              "\n",
              "    [theme=dark] .colab-df-convert {\n",
              "      background-color: #3B4455;\n",
              "      fill: #D2E3FC;\n",
              "    }\n",
              "\n",
              "    [theme=dark] .colab-df-convert:hover {\n",
              "      background-color: #434B5C;\n",
              "      box-shadow: 0px 1px 3px 1px rgba(0, 0, 0, 0.15);\n",
              "      filter: drop-shadow(0px 1px 2px rgba(0, 0, 0, 0.3));\n",
              "      fill: #FFFFFF;\n",
              "    }\n",
              "  </style>\n",
              "\n",
              "      <script>\n",
              "        const buttonEl =\n",
              "          document.querySelector('#df-c6c320da-6182-441f-9507-ec20bf8b7402 button.colab-df-convert');\n",
              "        buttonEl.style.display =\n",
              "          google.colab.kernel.accessAllowed ? 'block' : 'none';\n",
              "\n",
              "        async function convertToInteractive(key) {\n",
              "          const element = document.querySelector('#df-c6c320da-6182-441f-9507-ec20bf8b7402');\n",
              "          const dataTable =\n",
              "            await google.colab.kernel.invokeFunction('convertToInteractive',\n",
              "                                                     [key], {});\n",
              "          if (!dataTable) return;\n",
              "\n",
              "          const docLinkHtml = 'Like what you see? Visit the ' +\n",
              "            '<a target=\"_blank\" href=https://colab.research.google.com/notebooks/data_table.ipynb>data table notebook</a>'\n",
              "            + ' to learn more about interactive tables.';\n",
              "          element.innerHTML = '';\n",
              "          dataTable['output_type'] = 'display_data';\n",
              "          await google.colab.output.renderOutput(dataTable, element);\n",
              "          const docLink = document.createElement('div');\n",
              "          docLink.innerHTML = docLinkHtml;\n",
              "          element.appendChild(docLink);\n",
              "        }\n",
              "      </script>\n",
              "    </div>\n",
              "  </div>\n",
              "  "
            ]
          },
          "metadata": {},
          "execution_count": 541
        }
      ]
    },
    {
      "cell_type": "code",
      "source": [
        "zastr=zastr[zastr['rpdRegionCd']==63]"
      ],
      "metadata": {
        "id": "lPitjURZwEyE"
      },
      "execution_count": 18,
      "outputs": []
    },
    {
      "cell_type": "code",
      "source": [
        "zastr"
      ],
      "metadata": {
        "id": "mFL3MYjUvDxE",
        "outputId": "e510d477-7aec-45c7-affd-d7f57fca3e93",
        "colab": {
          "base_uri": "https://localhost:8080/",
          "height": 1000
        }
      },
      "execution_count": null,
      "outputs": [
        {
          "output_type": "execute_result",
          "data": {
            "text/plain": [
              "       objId  \\\n",
              "63     18136   \n",
              "185     4024   \n",
              "186     4025   \n",
              "187     4023   \n",
              "188     4026   \n",
              "...      ...   \n",
              "11235  25813   \n",
              "11261  33908   \n",
              "11335  44145   \n",
              "11713  34040   \n",
              "11714  43207   \n",
              "\n",
              "                                                                                                                                                                                                     developer  \\\n",
              "63     {'devId': 6193, 'shortName': 'АЛЬЯНС', 'fullName': 'АЛЬЯНС', 'groupName': 'Альянс', 'orgForm': {'id': 4, 'fullForm': 'Общество с ограниченной ответственностью', 'shortForm': 'ООО'}, 'companyGroup'...   \n",
              "185    {'devId': 1087, 'shortName': 'АРНИКА', 'fullName': 'АРНИКА', 'groupName': 'Строительный холдинг Град', 'orgForm': {'id': 119, 'fullForm': 'Закрытое акционерное общество', 'shortForm': 'ЗАО'}, 'com...   \n",
              "186    {'devId': 1087, 'shortName': 'АРНИКА', 'fullName': 'АРНИКА', 'groupName': 'Строительный холдинг Град', 'orgForm': {'id': 119, 'fullForm': 'Закрытое акционерное общество', 'shortForm': 'ЗАО'}, 'com...   \n",
              "187    {'devId': 1087, 'shortName': 'АРНИКА', 'fullName': 'АРНИКА', 'groupName': 'Строительный холдинг Град', 'orgForm': {'id': 119, 'fullForm': 'Закрытое акционерное общество', 'shortForm': 'ЗАО'}, 'com...   \n",
              "188    {'devId': 1087, 'shortName': 'АРНИКА', 'fullName': 'АРНИКА', 'groupName': 'Строительный холдинг Град', 'orgForm': {'id': 119, 'fullForm': 'Закрытое акционерное общество', 'shortForm': 'ЗАО'}, 'com...   \n",
              "...                                                                                                                                                                                                        ...   \n",
              "11235  {'devId': 1452, 'shortName': 'СТРОЙПРОЕКТСЕРВИС', 'fullName': 'СТРОЙПРОЕКТСЕРВИС', 'groupName': 'Строительный холдинг Град', 'orgForm': {'id': 4, 'fullForm': 'Общество с ограниченной ответственнос...   \n",
              "11261  {'devId': 1479, 'shortName': 'СТРОЙТРЕСТ', 'fullName': 'СТРОЙТРЕСТ', 'groupName': 'Строительный холдинг Град', 'orgForm': {'id': 4, 'fullForm': 'Общество с ограниченной ответственностью', 'shortFo...   \n",
              "11335  {'devId': 12579, 'shortName': 'ТЕРМИНАЛ-ХОЛДИНГ', 'fullName': 'ТЕРМИНАЛ-ХОЛДИНГ', 'orgForm': {'id': 4, 'fullForm': 'Общество с ограниченной ответственностью', 'shortForm': 'ООО'}, 'devInn': '63220...   \n",
              "11713  {'devId': 2056, 'shortName': 'ЮНИВЕРС-СТРОЙ', 'fullName': 'ЮНИВЕРС-СТРОЙ', 'groupName': 'Форра', 'orgForm': {'id': 4, 'fullForm': 'Общество с ограниченной ответственностью', 'shortForm': 'ООО'}, '...   \n",
              "11714  {'devId': 2056, 'shortName': 'ЮНИВЕРС-СТРОЙ', 'fullName': 'ЮНИВЕРС-СТРОЙ', 'groupName': 'Форра', 'orgForm': {'id': 4, 'fullForm': 'Общество с ограниченной ответственностью', 'shortForm': 'ООО'}, '...   \n",
              "\n",
              "       rpdRegionCd                                                                          objAddr  objFloorMin  objFloorMax  objElemLivingCnt objReady100PercDt  objSquareLiving  objCompensFundFlg  \\\n",
              "63              63                      г Самара, улица Советской Армии, д. 0, корпус 0, строение 0           27           27               360        2023-06-30         20664.24                  0   \n",
              "185             63                                       г Самара, район Октябрьский, просека Пятая            5            5                16        2023-12-31           918.77                  1   \n",
              "186             63                                       г Самара, район Октябрьский, просека Пятая            5            5                64        2022-12-31          3675.08                  1   \n",
              "187             63                                       г Самара, район Октябрьский, просека Пятая            5            5                48        2022-12-31          2756.31                  1   \n",
              "188             63                                       г Самара, район Октябрьский, просека Пятая            5            5                64        2022-12-31          3666.28                  1   \n",
              "...            ...                                                                              ...          ...          ...               ...               ...              ...                ...   \n",
              "11235           63  г Самара, район Ленинский, Улица Вилоновская, Садовая, Рабочая, Самарская, д. 0           22           22               260        2022-12-31         20045.48                  1   \n",
              "11261           63                    г Самара, район Самарский, улица Степана Разина/Ленинградская            9           10               113        2023-12-31          8621.77                  1   \n",
              "11335           63                                                 г Тольятти, ул Советская, д. 60А            8            8                56        2023-09-30          3745.47                  0   \n",
              "11713           63                                             г Самара, ул Советской Армии, д. 127           26           26               496        2023-06-30         22387.34                  0   \n",
              "11714           63                                                         г Самара, ул Маяковского           19           19               142        2024-09-30          7802.80                  0   \n",
              "\n",
              "       ...  problemFlag  siteStatus  objGuarantyEscrowFlg residentialBuildings     rpdNum    pdId  buildType objStatus                                                     objCommercNm  \\\n",
              "63     ...         NONE  Строящиеся                     1                    1  63-000283   43084      Жилое         0                                                              NaN   \n",
              "185    ...         NONE  Строящиеся                     0                    1  63-000027    2200      Жилое         0                  Жилой комплекс \"Акварель\" (ЖК \"Акварель\") дом 9   \n",
              "186    ...         NONE  Строящиеся                     0                    1  63-000027    2200      Жилое         0                  Жилой комплекс \"Акварель\" (ЖК \"Акварель\") дом 7   \n",
              "187    ...         NONE  Строящиеся                     0                    1  63-000027    2200      Жилое         0                  Жилой комплекс \"Акварель\" (ЖК \"Акварель\") дом 8   \n",
              "188    ...         NONE  Строящиеся                     0                    1  63-000027    2200      Жилое         0                 Жилой комплекс \"Акварель\" (ЖК \"Акварель\") дом 10   \n",
              "...    ...          ...         ...                   ...                  ...        ...     ...        ...       ...                                                              ...   \n",
              "11235  ...         NONE  Строящиеся                     0                    1  63-000538   78496      Жилое         0                                                     ЖК \"Садовая\"   \n",
              "11261  ...         NONE  Строящиеся                     0                    1  63-000612  221806      Жилое         0  Жилой комплекс\"Вознесенский\"(2 этап) (ЖК\"Вознесенский\"(2 этап))   \n",
              "11335  ...         NONE  Строящиеся                     1                    1  63-000723  513488      Жилое         0                                                              NaN   \n",
              "11713  ...         NONE  Строящиеся                     1                    1  63-000619  232480      Жилое         0                                                     ЖК \"Журавли\"   \n",
              "11714  ...         NONE  Строящиеся                     1                    1  63-000716  295812      Жилое         0                                              ЖК \"Маяковский NEW\"   \n",
              "\n",
              "      complexShortName  \n",
              "63                 NaN  \n",
              "185           Акварель  \n",
              "186           Акварель  \n",
              "187           Акварель  \n",
              "188           Акварель  \n",
              "...                ...  \n",
              "11235          САДОВАЯ  \n",
              "11261    Вознесенский   \n",
              "11335              NaN  \n",
              "11713              NaN  \n",
              "11714              NaN  \n",
              "\n",
              "[190 rows x 23 columns]"
            ],
            "text/html": [
              "\n",
              "  <div id=\"df-5c331c2b-bbcb-42bf-9722-a9ce26b72ebd\">\n",
              "    <div class=\"colab-df-container\">\n",
              "      <div>\n",
              "<style scoped>\n",
              "    .dataframe tbody tr th:only-of-type {\n",
              "        vertical-align: middle;\n",
              "    }\n",
              "\n",
              "    .dataframe tbody tr th {\n",
              "        vertical-align: top;\n",
              "    }\n",
              "\n",
              "    .dataframe thead th {\n",
              "        text-align: right;\n",
              "    }\n",
              "</style>\n",
              "<table border=\"1\" class=\"dataframe\">\n",
              "  <thead>\n",
              "    <tr style=\"text-align: right;\">\n",
              "      <th></th>\n",
              "      <th>objId</th>\n",
              "      <th>developer</th>\n",
              "      <th>rpdRegionCd</th>\n",
              "      <th>objAddr</th>\n",
              "      <th>objFloorMin</th>\n",
              "      <th>objFloorMax</th>\n",
              "      <th>objElemLivingCnt</th>\n",
              "      <th>objReady100PercDt</th>\n",
              "      <th>objSquareLiving</th>\n",
              "      <th>objCompensFundFlg</th>\n",
              "      <th>...</th>\n",
              "      <th>problemFlag</th>\n",
              "      <th>siteStatus</th>\n",
              "      <th>objGuarantyEscrowFlg</th>\n",
              "      <th>residentialBuildings</th>\n",
              "      <th>rpdNum</th>\n",
              "      <th>pdId</th>\n",
              "      <th>buildType</th>\n",
              "      <th>objStatus</th>\n",
              "      <th>objCommercNm</th>\n",
              "      <th>complexShortName</th>\n",
              "    </tr>\n",
              "  </thead>\n",
              "  <tbody>\n",
              "    <tr>\n",
              "      <th>63</th>\n",
              "      <td>18136</td>\n",
              "      <td>{'devId': 6193, 'shortName': 'АЛЬЯНС', 'fullName': 'АЛЬЯНС', 'groupName': 'Альянс', 'orgForm': {'id': 4, 'fullForm': 'Общество с ограниченной ответственностью', 'shortForm': 'ООО'}, 'companyGroup'...</td>\n",
              "      <td>63</td>\n",
              "      <td>г Самара, улица Советской Армии, д. 0, корпус 0, строение 0</td>\n",
              "      <td>27</td>\n",
              "      <td>27</td>\n",
              "      <td>360</td>\n",
              "      <td>2023-06-30</td>\n",
              "      <td>20664.24</td>\n",
              "      <td>0</td>\n",
              "      <td>...</td>\n",
              "      <td>NONE</td>\n",
              "      <td>Строящиеся</td>\n",
              "      <td>1</td>\n",
              "      <td>1</td>\n",
              "      <td>63-000283</td>\n",
              "      <td>43084</td>\n",
              "      <td>Жилое</td>\n",
              "      <td>0</td>\n",
              "      <td>NaN</td>\n",
              "      <td>NaN</td>\n",
              "    </tr>\n",
              "    <tr>\n",
              "      <th>185</th>\n",
              "      <td>4024</td>\n",
              "      <td>{'devId': 1087, 'shortName': 'АРНИКА', 'fullName': 'АРНИКА', 'groupName': 'Строительный холдинг Град', 'orgForm': {'id': 119, 'fullForm': 'Закрытое акционерное общество', 'shortForm': 'ЗАО'}, 'com...</td>\n",
              "      <td>63</td>\n",
              "      <td>г Самара, район Октябрьский, просека Пятая</td>\n",
              "      <td>5</td>\n",
              "      <td>5</td>\n",
              "      <td>16</td>\n",
              "      <td>2023-12-31</td>\n",
              "      <td>918.77</td>\n",
              "      <td>1</td>\n",
              "      <td>...</td>\n",
              "      <td>NONE</td>\n",
              "      <td>Строящиеся</td>\n",
              "      <td>0</td>\n",
              "      <td>1</td>\n",
              "      <td>63-000027</td>\n",
              "      <td>2200</td>\n",
              "      <td>Жилое</td>\n",
              "      <td>0</td>\n",
              "      <td>Жилой комплекс \"Акварель\" (ЖК \"Акварель\") дом 9</td>\n",
              "      <td>Акварель</td>\n",
              "    </tr>\n",
              "    <tr>\n",
              "      <th>186</th>\n",
              "      <td>4025</td>\n",
              "      <td>{'devId': 1087, 'shortName': 'АРНИКА', 'fullName': 'АРНИКА', 'groupName': 'Строительный холдинг Град', 'orgForm': {'id': 119, 'fullForm': 'Закрытое акционерное общество', 'shortForm': 'ЗАО'}, 'com...</td>\n",
              "      <td>63</td>\n",
              "      <td>г Самара, район Октябрьский, просека Пятая</td>\n",
              "      <td>5</td>\n",
              "      <td>5</td>\n",
              "      <td>64</td>\n",
              "      <td>2022-12-31</td>\n",
              "      <td>3675.08</td>\n",
              "      <td>1</td>\n",
              "      <td>...</td>\n",
              "      <td>NONE</td>\n",
              "      <td>Строящиеся</td>\n",
              "      <td>0</td>\n",
              "      <td>1</td>\n",
              "      <td>63-000027</td>\n",
              "      <td>2200</td>\n",
              "      <td>Жилое</td>\n",
              "      <td>0</td>\n",
              "      <td>Жилой комплекс \"Акварель\" (ЖК \"Акварель\") дом 7</td>\n",
              "      <td>Акварель</td>\n",
              "    </tr>\n",
              "    <tr>\n",
              "      <th>187</th>\n",
              "      <td>4023</td>\n",
              "      <td>{'devId': 1087, 'shortName': 'АРНИКА', 'fullName': 'АРНИКА', 'groupName': 'Строительный холдинг Град', 'orgForm': {'id': 119, 'fullForm': 'Закрытое акционерное общество', 'shortForm': 'ЗАО'}, 'com...</td>\n",
              "      <td>63</td>\n",
              "      <td>г Самара, район Октябрьский, просека Пятая</td>\n",
              "      <td>5</td>\n",
              "      <td>5</td>\n",
              "      <td>48</td>\n",
              "      <td>2022-12-31</td>\n",
              "      <td>2756.31</td>\n",
              "      <td>1</td>\n",
              "      <td>...</td>\n",
              "      <td>NONE</td>\n",
              "      <td>Строящиеся</td>\n",
              "      <td>0</td>\n",
              "      <td>1</td>\n",
              "      <td>63-000027</td>\n",
              "      <td>2200</td>\n",
              "      <td>Жилое</td>\n",
              "      <td>0</td>\n",
              "      <td>Жилой комплекс \"Акварель\" (ЖК \"Акварель\") дом 8</td>\n",
              "      <td>Акварель</td>\n",
              "    </tr>\n",
              "    <tr>\n",
              "      <th>188</th>\n",
              "      <td>4026</td>\n",
              "      <td>{'devId': 1087, 'shortName': 'АРНИКА', 'fullName': 'АРНИКА', 'groupName': 'Строительный холдинг Град', 'orgForm': {'id': 119, 'fullForm': 'Закрытое акционерное общество', 'shortForm': 'ЗАО'}, 'com...</td>\n",
              "      <td>63</td>\n",
              "      <td>г Самара, район Октябрьский, просека Пятая</td>\n",
              "      <td>5</td>\n",
              "      <td>5</td>\n",
              "      <td>64</td>\n",
              "      <td>2022-12-31</td>\n",
              "      <td>3666.28</td>\n",
              "      <td>1</td>\n",
              "      <td>...</td>\n",
              "      <td>NONE</td>\n",
              "      <td>Строящиеся</td>\n",
              "      <td>0</td>\n",
              "      <td>1</td>\n",
              "      <td>63-000027</td>\n",
              "      <td>2200</td>\n",
              "      <td>Жилое</td>\n",
              "      <td>0</td>\n",
              "      <td>Жилой комплекс \"Акварель\" (ЖК \"Акварель\") дом 10</td>\n",
              "      <td>Акварель</td>\n",
              "    </tr>\n",
              "    <tr>\n",
              "      <th>...</th>\n",
              "      <td>...</td>\n",
              "      <td>...</td>\n",
              "      <td>...</td>\n",
              "      <td>...</td>\n",
              "      <td>...</td>\n",
              "      <td>...</td>\n",
              "      <td>...</td>\n",
              "      <td>...</td>\n",
              "      <td>...</td>\n",
              "      <td>...</td>\n",
              "      <td>...</td>\n",
              "      <td>...</td>\n",
              "      <td>...</td>\n",
              "      <td>...</td>\n",
              "      <td>...</td>\n",
              "      <td>...</td>\n",
              "      <td>...</td>\n",
              "      <td>...</td>\n",
              "      <td>...</td>\n",
              "      <td>...</td>\n",
              "      <td>...</td>\n",
              "    </tr>\n",
              "    <tr>\n",
              "      <th>11235</th>\n",
              "      <td>25813</td>\n",
              "      <td>{'devId': 1452, 'shortName': 'СТРОЙПРОЕКТСЕРВИС', 'fullName': 'СТРОЙПРОЕКТСЕРВИС', 'groupName': 'Строительный холдинг Град', 'orgForm': {'id': 4, 'fullForm': 'Общество с ограниченной ответственнос...</td>\n",
              "      <td>63</td>\n",
              "      <td>г Самара, район Ленинский, Улица Вилоновская, Садовая, Рабочая, Самарская, д. 0</td>\n",
              "      <td>22</td>\n",
              "      <td>22</td>\n",
              "      <td>260</td>\n",
              "      <td>2022-12-31</td>\n",
              "      <td>20045.48</td>\n",
              "      <td>1</td>\n",
              "      <td>...</td>\n",
              "      <td>NONE</td>\n",
              "      <td>Строящиеся</td>\n",
              "      <td>0</td>\n",
              "      <td>1</td>\n",
              "      <td>63-000538</td>\n",
              "      <td>78496</td>\n",
              "      <td>Жилое</td>\n",
              "      <td>0</td>\n",
              "      <td>ЖК \"Садовая\"</td>\n",
              "      <td>САДОВАЯ</td>\n",
              "    </tr>\n",
              "    <tr>\n",
              "      <th>11261</th>\n",
              "      <td>33908</td>\n",
              "      <td>{'devId': 1479, 'shortName': 'СТРОЙТРЕСТ', 'fullName': 'СТРОЙТРЕСТ', 'groupName': 'Строительный холдинг Град', 'orgForm': {'id': 4, 'fullForm': 'Общество с ограниченной ответственностью', 'shortFo...</td>\n",
              "      <td>63</td>\n",
              "      <td>г Самара, район Самарский, улица Степана Разина/Ленинградская</td>\n",
              "      <td>9</td>\n",
              "      <td>10</td>\n",
              "      <td>113</td>\n",
              "      <td>2023-12-31</td>\n",
              "      <td>8621.77</td>\n",
              "      <td>1</td>\n",
              "      <td>...</td>\n",
              "      <td>NONE</td>\n",
              "      <td>Строящиеся</td>\n",
              "      <td>0</td>\n",
              "      <td>1</td>\n",
              "      <td>63-000612</td>\n",
              "      <td>221806</td>\n",
              "      <td>Жилое</td>\n",
              "      <td>0</td>\n",
              "      <td>Жилой комплекс\"Вознесенский\"(2 этап) (ЖК\"Вознесенский\"(2 этап))</td>\n",
              "      <td>Вознесенский</td>\n",
              "    </tr>\n",
              "    <tr>\n",
              "      <th>11335</th>\n",
              "      <td>44145</td>\n",
              "      <td>{'devId': 12579, 'shortName': 'ТЕРМИНАЛ-ХОЛДИНГ', 'fullName': 'ТЕРМИНАЛ-ХОЛДИНГ', 'orgForm': {'id': 4, 'fullForm': 'Общество с ограниченной ответственностью', 'shortForm': 'ООО'}, 'devInn': '63220...</td>\n",
              "      <td>63</td>\n",
              "      <td>г Тольятти, ул Советская, д. 60А</td>\n",
              "      <td>8</td>\n",
              "      <td>8</td>\n",
              "      <td>56</td>\n",
              "      <td>2023-09-30</td>\n",
              "      <td>3745.47</td>\n",
              "      <td>0</td>\n",
              "      <td>...</td>\n",
              "      <td>NONE</td>\n",
              "      <td>Строящиеся</td>\n",
              "      <td>1</td>\n",
              "      <td>1</td>\n",
              "      <td>63-000723</td>\n",
              "      <td>513488</td>\n",
              "      <td>Жилое</td>\n",
              "      <td>0</td>\n",
              "      <td>NaN</td>\n",
              "      <td>NaN</td>\n",
              "    </tr>\n",
              "    <tr>\n",
              "      <th>11713</th>\n",
              "      <td>34040</td>\n",
              "      <td>{'devId': 2056, 'shortName': 'ЮНИВЕРС-СТРОЙ', 'fullName': 'ЮНИВЕРС-СТРОЙ', 'groupName': 'Форра', 'orgForm': {'id': 4, 'fullForm': 'Общество с ограниченной ответственностью', 'shortForm': 'ООО'}, '...</td>\n",
              "      <td>63</td>\n",
              "      <td>г Самара, ул Советской Армии, д. 127</td>\n",
              "      <td>26</td>\n",
              "      <td>26</td>\n",
              "      <td>496</td>\n",
              "      <td>2023-06-30</td>\n",
              "      <td>22387.34</td>\n",
              "      <td>0</td>\n",
              "      <td>...</td>\n",
              "      <td>NONE</td>\n",
              "      <td>Строящиеся</td>\n",
              "      <td>1</td>\n",
              "      <td>1</td>\n",
              "      <td>63-000619</td>\n",
              "      <td>232480</td>\n",
              "      <td>Жилое</td>\n",
              "      <td>0</td>\n",
              "      <td>ЖК \"Журавли\"</td>\n",
              "      <td>NaN</td>\n",
              "    </tr>\n",
              "    <tr>\n",
              "      <th>11714</th>\n",
              "      <td>43207</td>\n",
              "      <td>{'devId': 2056, 'shortName': 'ЮНИВЕРС-СТРОЙ', 'fullName': 'ЮНИВЕРС-СТРОЙ', 'groupName': 'Форра', 'orgForm': {'id': 4, 'fullForm': 'Общество с ограниченной ответственностью', 'shortForm': 'ООО'}, '...</td>\n",
              "      <td>63</td>\n",
              "      <td>г Самара, ул Маяковского</td>\n",
              "      <td>19</td>\n",
              "      <td>19</td>\n",
              "      <td>142</td>\n",
              "      <td>2024-09-30</td>\n",
              "      <td>7802.80</td>\n",
              "      <td>0</td>\n",
              "      <td>...</td>\n",
              "      <td>NONE</td>\n",
              "      <td>Строящиеся</td>\n",
              "      <td>1</td>\n",
              "      <td>1</td>\n",
              "      <td>63-000716</td>\n",
              "      <td>295812</td>\n",
              "      <td>Жилое</td>\n",
              "      <td>0</td>\n",
              "      <td>ЖК \"Маяковский NEW\"</td>\n",
              "      <td>NaN</td>\n",
              "    </tr>\n",
              "  </tbody>\n",
              "</table>\n",
              "<p>190 rows × 23 columns</p>\n",
              "</div>\n",
              "      <button class=\"colab-df-convert\" onclick=\"convertToInteractive('df-5c331c2b-bbcb-42bf-9722-a9ce26b72ebd')\"\n",
              "              title=\"Convert this dataframe to an interactive table.\"\n",
              "              style=\"display:none;\">\n",
              "        \n",
              "  <svg xmlns=\"http://www.w3.org/2000/svg\" height=\"24px\"viewBox=\"0 0 24 24\"\n",
              "       width=\"24px\">\n",
              "    <path d=\"M0 0h24v24H0V0z\" fill=\"none\"/>\n",
              "    <path d=\"M18.56 5.44l.94 2.06.94-2.06 2.06-.94-2.06-.94-.94-2.06-.94 2.06-2.06.94zm-11 1L8.5 8.5l.94-2.06 2.06-.94-2.06-.94L8.5 2.5l-.94 2.06-2.06.94zm10 10l.94 2.06.94-2.06 2.06-.94-2.06-.94-.94-2.06-.94 2.06-2.06.94z\"/><path d=\"M17.41 7.96l-1.37-1.37c-.4-.4-.92-.59-1.43-.59-.52 0-1.04.2-1.43.59L10.3 9.45l-7.72 7.72c-.78.78-.78 2.05 0 2.83L4 21.41c.39.39.9.59 1.41.59.51 0 1.02-.2 1.41-.59l7.78-7.78 2.81-2.81c.8-.78.8-2.07 0-2.86zM5.41 20L4 18.59l7.72-7.72 1.47 1.35L5.41 20z\"/>\n",
              "  </svg>\n",
              "      </button>\n",
              "      \n",
              "  <style>\n",
              "    .colab-df-container {\n",
              "      display:flex;\n",
              "      flex-wrap:wrap;\n",
              "      gap: 12px;\n",
              "    }\n",
              "\n",
              "    .colab-df-convert {\n",
              "      background-color: #E8F0FE;\n",
              "      border: none;\n",
              "      border-radius: 50%;\n",
              "      cursor: pointer;\n",
              "      display: none;\n",
              "      fill: #1967D2;\n",
              "      height: 32px;\n",
              "      padding: 0 0 0 0;\n",
              "      width: 32px;\n",
              "    }\n",
              "\n",
              "    .colab-df-convert:hover {\n",
              "      background-color: #E2EBFA;\n",
              "      box-shadow: 0px 1px 2px rgba(60, 64, 67, 0.3), 0px 1px 3px 1px rgba(60, 64, 67, 0.15);\n",
              "      fill: #174EA6;\n",
              "    }\n",
              "\n",
              "    [theme=dark] .colab-df-convert {\n",
              "      background-color: #3B4455;\n",
              "      fill: #D2E3FC;\n",
              "    }\n",
              "\n",
              "    [theme=dark] .colab-df-convert:hover {\n",
              "      background-color: #434B5C;\n",
              "      box-shadow: 0px 1px 3px 1px rgba(0, 0, 0, 0.15);\n",
              "      filter: drop-shadow(0px 1px 2px rgba(0, 0, 0, 0.3));\n",
              "      fill: #FFFFFF;\n",
              "    }\n",
              "  </style>\n",
              "\n",
              "      <script>\n",
              "        const buttonEl =\n",
              "          document.querySelector('#df-5c331c2b-bbcb-42bf-9722-a9ce26b72ebd button.colab-df-convert');\n",
              "        buttonEl.style.display =\n",
              "          google.colab.kernel.accessAllowed ? 'block' : 'none';\n",
              "\n",
              "        async function convertToInteractive(key) {\n",
              "          const element = document.querySelector('#df-5c331c2b-bbcb-42bf-9722-a9ce26b72ebd');\n",
              "          const dataTable =\n",
              "            await google.colab.kernel.invokeFunction('convertToInteractive',\n",
              "                                                     [key], {});\n",
              "          if (!dataTable) return;\n",
              "\n",
              "          const docLinkHtml = 'Like what you see? Visit the ' +\n",
              "            '<a target=\"_blank\" href=https://colab.research.google.com/notebooks/data_table.ipynb>data table notebook</a>'\n",
              "            + ' to learn more about interactive tables.';\n",
              "          element.innerHTML = '';\n",
              "          dataTable['output_type'] = 'display_data';\n",
              "          await google.colab.output.renderOutput(dataTable, element);\n",
              "          const docLink = document.createElement('div');\n",
              "          docLink.innerHTML = docLinkHtml;\n",
              "          element.appendChild(docLink);\n",
              "        }\n",
              "      </script>\n",
              "    </div>\n",
              "  </div>\n",
              "  "
            ]
          },
          "metadata": {},
          "execution_count": 602
        }
      ]
    },
    {
      "cell_type": "code",
      "source": [
        "zastr.reset_index(inplace=True)"
      ],
      "metadata": {
        "id": "RoL_coFk1MjV"
      },
      "execution_count": 26,
      "outputs": []
    },
    {
      "cell_type": "code",
      "source": [
        "len(zastr)"
      ],
      "metadata": {
        "id": "WW1YjwjOMVE5",
        "outputId": "f87b7104-dd53-4898-9884-7f2730819d13",
        "colab": {
          "base_uri": "https://localhost:8080/"
        }
      },
      "execution_count": 32,
      "outputs": [
        {
          "output_type": "execute_result",
          "data": {
            "text/plain": [
              "190"
            ]
          },
          "metadata": {},
          "execution_count": 32
        }
      ]
    },
    {
      "cell_type": "code",
      "source": [],
      "metadata": {
        "id": "cPDQWSxuMVQG"
      },
      "execution_count": null,
      "outputs": []
    },
    {
      "cell_type": "code",
      "source": [
        "zastr.head(2)"
      ],
      "metadata": {
        "id": "lFmldm802qr9",
        "outputId": "abc9bba9-06b1-485c-ca65-98d7c048a883",
        "colab": {
          "base_uri": "https://localhost:8080/",
          "height": 379
        }
      },
      "execution_count": 27,
      "outputs": [
        {
          "output_type": "execute_result",
          "data": {
            "text/plain": [
              "   index  objId                                          developer  \\\n",
              "0      0  13391  {'devId': 306, 'shortName': '2МЕН ГРУПП', 'ful...   \n",
              "1      1  13383  {'devId': 306, 'shortName': '2МЕН ГРУПП', 'ful...   \n",
              "\n",
              "   rpdRegionCd                   objAddr  objFloorMin  objFloorMax  \\\n",
              "0           72  г Тюмень, ул Профсоюзная            3           12   \n",
              "1           72                  г Тюмень            4           20   \n",
              "\n",
              "   objElemLivingCnt objReady100PercDt  objSquareLiving  ...  problemFlag  \\\n",
              "0                44        2022-12-31          4297.44  ...         NONE   \n",
              "1                68        2022-12-31          6293.78  ...         NONE   \n",
              "\n",
              "   siteStatus  objGuarantyEscrowFlg  residentialBuildings     rpdNum   pdId  \\\n",
              "0  Строящиеся                     0                     1  72-000096  28101   \n",
              "1  Строящиеся                     0                     1  72-000095  28105   \n",
              "\n",
              "   buildType  objStatus objCommercNm  complexShortName  \n",
              "0      Жилое          0          NaN               NaN  \n",
              "1      Жилое          0          NaN               NaN  \n",
              "\n",
              "[2 rows x 24 columns]"
            ],
            "text/html": [
              "\n",
              "  <div id=\"df-770fab84-9cf8-4686-b4d4-4bd410437263\">\n",
              "    <div class=\"colab-df-container\">\n",
              "      <div>\n",
              "<style scoped>\n",
              "    .dataframe tbody tr th:only-of-type {\n",
              "        vertical-align: middle;\n",
              "    }\n",
              "\n",
              "    .dataframe tbody tr th {\n",
              "        vertical-align: top;\n",
              "    }\n",
              "\n",
              "    .dataframe thead th {\n",
              "        text-align: right;\n",
              "    }\n",
              "</style>\n",
              "<table border=\"1\" class=\"dataframe\">\n",
              "  <thead>\n",
              "    <tr style=\"text-align: right;\">\n",
              "      <th></th>\n",
              "      <th>index</th>\n",
              "      <th>objId</th>\n",
              "      <th>developer</th>\n",
              "      <th>rpdRegionCd</th>\n",
              "      <th>objAddr</th>\n",
              "      <th>objFloorMin</th>\n",
              "      <th>objFloorMax</th>\n",
              "      <th>objElemLivingCnt</th>\n",
              "      <th>objReady100PercDt</th>\n",
              "      <th>objSquareLiving</th>\n",
              "      <th>...</th>\n",
              "      <th>problemFlag</th>\n",
              "      <th>siteStatus</th>\n",
              "      <th>objGuarantyEscrowFlg</th>\n",
              "      <th>residentialBuildings</th>\n",
              "      <th>rpdNum</th>\n",
              "      <th>pdId</th>\n",
              "      <th>buildType</th>\n",
              "      <th>objStatus</th>\n",
              "      <th>objCommercNm</th>\n",
              "      <th>complexShortName</th>\n",
              "    </tr>\n",
              "  </thead>\n",
              "  <tbody>\n",
              "    <tr>\n",
              "      <th>0</th>\n",
              "      <td>0</td>\n",
              "      <td>13391</td>\n",
              "      <td>{'devId': 306, 'shortName': '2МЕН ГРУПП', 'ful...</td>\n",
              "      <td>72</td>\n",
              "      <td>г Тюмень, ул Профсоюзная</td>\n",
              "      <td>3</td>\n",
              "      <td>12</td>\n",
              "      <td>44</td>\n",
              "      <td>2022-12-31</td>\n",
              "      <td>4297.44</td>\n",
              "      <td>...</td>\n",
              "      <td>NONE</td>\n",
              "      <td>Строящиеся</td>\n",
              "      <td>0</td>\n",
              "      <td>1</td>\n",
              "      <td>72-000096</td>\n",
              "      <td>28101</td>\n",
              "      <td>Жилое</td>\n",
              "      <td>0</td>\n",
              "      <td>NaN</td>\n",
              "      <td>NaN</td>\n",
              "    </tr>\n",
              "    <tr>\n",
              "      <th>1</th>\n",
              "      <td>1</td>\n",
              "      <td>13383</td>\n",
              "      <td>{'devId': 306, 'shortName': '2МЕН ГРУПП', 'ful...</td>\n",
              "      <td>72</td>\n",
              "      <td>г Тюмень</td>\n",
              "      <td>4</td>\n",
              "      <td>20</td>\n",
              "      <td>68</td>\n",
              "      <td>2022-12-31</td>\n",
              "      <td>6293.78</td>\n",
              "      <td>...</td>\n",
              "      <td>NONE</td>\n",
              "      <td>Строящиеся</td>\n",
              "      <td>0</td>\n",
              "      <td>1</td>\n",
              "      <td>72-000095</td>\n",
              "      <td>28105</td>\n",
              "      <td>Жилое</td>\n",
              "      <td>0</td>\n",
              "      <td>NaN</td>\n",
              "      <td>NaN</td>\n",
              "    </tr>\n",
              "  </tbody>\n",
              "</table>\n",
              "<p>2 rows × 24 columns</p>\n",
              "</div>\n",
              "      <button class=\"colab-df-convert\" onclick=\"convertToInteractive('df-770fab84-9cf8-4686-b4d4-4bd410437263')\"\n",
              "              title=\"Convert this dataframe to an interactive table.\"\n",
              "              style=\"display:none;\">\n",
              "        \n",
              "  <svg xmlns=\"http://www.w3.org/2000/svg\" height=\"24px\"viewBox=\"0 0 24 24\"\n",
              "       width=\"24px\">\n",
              "    <path d=\"M0 0h24v24H0V0z\" fill=\"none\"/>\n",
              "    <path d=\"M18.56 5.44l.94 2.06.94-2.06 2.06-.94-2.06-.94-.94-2.06-.94 2.06-2.06.94zm-11 1L8.5 8.5l.94-2.06 2.06-.94-2.06-.94L8.5 2.5l-.94 2.06-2.06.94zm10 10l.94 2.06.94-2.06 2.06-.94-2.06-.94-.94-2.06-.94 2.06-2.06.94z\"/><path d=\"M17.41 7.96l-1.37-1.37c-.4-.4-.92-.59-1.43-.59-.52 0-1.04.2-1.43.59L10.3 9.45l-7.72 7.72c-.78.78-.78 2.05 0 2.83L4 21.41c.39.39.9.59 1.41.59.51 0 1.02-.2 1.41-.59l7.78-7.78 2.81-2.81c.8-.78.8-2.07 0-2.86zM5.41 20L4 18.59l7.72-7.72 1.47 1.35L5.41 20z\"/>\n",
              "  </svg>\n",
              "      </button>\n",
              "      \n",
              "  <style>\n",
              "    .colab-df-container {\n",
              "      display:flex;\n",
              "      flex-wrap:wrap;\n",
              "      gap: 12px;\n",
              "    }\n",
              "\n",
              "    .colab-df-convert {\n",
              "      background-color: #E8F0FE;\n",
              "      border: none;\n",
              "      border-radius: 50%;\n",
              "      cursor: pointer;\n",
              "      display: none;\n",
              "      fill: #1967D2;\n",
              "      height: 32px;\n",
              "      padding: 0 0 0 0;\n",
              "      width: 32px;\n",
              "    }\n",
              "\n",
              "    .colab-df-convert:hover {\n",
              "      background-color: #E2EBFA;\n",
              "      box-shadow: 0px 1px 2px rgba(60, 64, 67, 0.3), 0px 1px 3px 1px rgba(60, 64, 67, 0.15);\n",
              "      fill: #174EA6;\n",
              "    }\n",
              "\n",
              "    [theme=dark] .colab-df-convert {\n",
              "      background-color: #3B4455;\n",
              "      fill: #D2E3FC;\n",
              "    }\n",
              "\n",
              "    [theme=dark] .colab-df-convert:hover {\n",
              "      background-color: #434B5C;\n",
              "      box-shadow: 0px 1px 3px 1px rgba(0, 0, 0, 0.15);\n",
              "      filter: drop-shadow(0px 1px 2px rgba(0, 0, 0, 0.3));\n",
              "      fill: #FFFFFF;\n",
              "    }\n",
              "  </style>\n",
              "\n",
              "      <script>\n",
              "        const buttonEl =\n",
              "          document.querySelector('#df-770fab84-9cf8-4686-b4d4-4bd410437263 button.colab-df-convert');\n",
              "        buttonEl.style.display =\n",
              "          google.colab.kernel.accessAllowed ? 'block' : 'none';\n",
              "\n",
              "        async function convertToInteractive(key) {\n",
              "          const element = document.querySelector('#df-770fab84-9cf8-4686-b4d4-4bd410437263');\n",
              "          const dataTable =\n",
              "            await google.colab.kernel.invokeFunction('convertToInteractive',\n",
              "                                                     [key], {});\n",
              "          if (!dataTable) return;\n",
              "\n",
              "          const docLinkHtml = 'Like what you see? Visit the ' +\n",
              "            '<a target=\"_blank\" href=https://colab.research.google.com/notebooks/data_table.ipynb>data table notebook</a>'\n",
              "            + ' to learn more about interactive tables.';\n",
              "          element.innerHTML = '';\n",
              "          dataTable['output_type'] = 'display_data';\n",
              "          await google.colab.output.renderOutput(dataTable, element);\n",
              "          const docLink = document.createElement('div');\n",
              "          docLink.innerHTML = docLinkHtml;\n",
              "          element.appendChild(docLink);\n",
              "        }\n",
              "      </script>\n",
              "    </div>\n",
              "  </div>\n",
              "  "
            ]
          },
          "metadata": {},
          "execution_count": 27
        }
      ]
    },
    {
      "cell_type": "code",
      "source": [
        "type(zastr.developer)"
      ],
      "metadata": {
        "id": "mAB8Mv6et8gn",
        "outputId": "b0b188f2-ee3f-4a2a-9b49-a0edcce97340",
        "colab": {
          "base_uri": "https://localhost:8080/"
        }
      },
      "execution_count": 23,
      "outputs": [
        {
          "output_type": "execute_result",
          "data": {
            "text/plain": [
              "pandas.core.series.Series"
            ]
          },
          "metadata": {},
          "execution_count": 23
        }
      ]
    },
    {
      "cell_type": "code",
      "source": [
        "len(zastr)"
      ],
      "metadata": {
        "id": "v_xxlHdC1kK9",
        "outputId": "456417a4-3ca1-4012-8fbc-88e01d1ac7c1",
        "colab": {
          "base_uri": "https://localhost:8080/"
        }
      },
      "execution_count": 52,
      "outputs": [
        {
          "output_type": "execute_result",
          "data": {
            "text/plain": [
              "190"
            ]
          },
          "metadata": {},
          "execution_count": 52
        }
      ]
    },
    {
      "cell_type": "code",
      "source": [
        "zastr.developer[1]"
      ],
      "metadata": {
        "id": "Yu9l0fMG1kOC",
        "outputId": "9ced74cb-a396-42fb-c625-09a260033ac6",
        "colab": {
          "base_uri": "https://localhost:8080/"
        }
      },
      "execution_count": 28,
      "outputs": [
        {
          "output_type": "execute_result",
          "data": {
            "text/plain": [
              "{'devId': 306,\n",
              " 'shortName': '2МЕН ГРУПП',\n",
              " 'fullName': '2МЕН ГРУПП',\n",
              " 'groupName': '2МЕН ГРУПП ДЕВЕЛОПМЕНТ',\n",
              " 'orgForm': {'id': 1, 'fullForm': 'Акционерное общество', 'shortForm': 'АО'},\n",
              " 'companyGroup': 5776,\n",
              " 'devInn': '7701651356'}"
            ]
          },
          "metadata": {},
          "execution_count": 28
        }
      ]
    },
    {
      "cell_type": "code",
      "source": [
        "zastr.developer[1].items() #['companyGroup']"
      ],
      "metadata": {
        "id": "ozCs86MUQwmK",
        "outputId": "087ce8db-bdcc-41b2-af44-1875943f399a",
        "colab": {
          "base_uri": "https://localhost:8080/"
        }
      },
      "execution_count": 43,
      "outputs": [
        {
          "output_type": "execute_result",
          "data": {
            "text/plain": [
              "dict_items([('devId', 306), ('shortName', '2МЕН ГРУПП'), ('fullName', '2МЕН ГРУПП'), ('groupName', '2МЕН ГРУПП ДЕВЕЛОПМЕНТ'), ('orgForm', {'id': 1, 'fullForm': 'Акционерное общество', 'shortForm': 'АО'}), ('companyGroup', 5776), ('devInn', '7701651356')])"
            ]
          },
          "metadata": {},
          "execution_count": 43
        }
      ]
    },
    {
      "cell_type": "code",
      "source": [
        "zastr=zastr.assign(e=pd.Series(zastr.developer.).values)"
      ],
      "metadata": {
        "id": "DqyUz0IUxmPT"
      },
      "execution_count": 30,
      "outputs": []
    },
    {
      "cell_type": "code",
      "source": [
        "zastr.info()"
      ],
      "metadata": {
        "id": "J2ooztiryy8_",
        "outputId": "aa578f5b-a3ae-48dd-f7d2-db67cf28c030",
        "colab": {
          "base_uri": "https://localhost:8080/"
        }
      },
      "execution_count": 32,
      "outputs": [
        {
          "output_type": "stream",
          "name": "stdout",
          "text": [
            "<class 'pandas.core.frame.DataFrame'>\n",
            "RangeIndex: 2000 entries, 0 to 1999\n",
            "Data columns (total 25 columns):\n",
            " #   Column                Non-Null Count  Dtype  \n",
            "---  ------                --------------  -----  \n",
            " 0   index                 2000 non-null   int64  \n",
            " 1   objId                 2000 non-null   int64  \n",
            " 2   developer             2000 non-null   object \n",
            " 3   rpdRegionCd           2000 non-null   int64  \n",
            " 4   objAddr               1998 non-null   object \n",
            " 5   objFloorMin           2000 non-null   int64  \n",
            " 6   objFloorMax           2000 non-null   int64  \n",
            " 7   objElemLivingCnt      2000 non-null   int64  \n",
            " 8   objReady100PercDt     2000 non-null   object \n",
            " 9   objSquareLiving       2000 non-null   float64\n",
            " 10  objCompensFundFlg     2000 non-null   int64  \n",
            " 11  objProblemFlg         2000 non-null   int64  \n",
            " 12  latitude              2000 non-null   float64\n",
            " 13  longitude             2000 non-null   float64\n",
            " 14  problemFlag           2000 non-null   object \n",
            " 15  siteStatus            2000 non-null   object \n",
            " 16  objGuarantyEscrowFlg  2000 non-null   int64  \n",
            " 17  residentialBuildings  2000 non-null   int64  \n",
            " 18  rpdNum                2000 non-null   object \n",
            " 19  pdId                  2000 non-null   int64  \n",
            " 20  buildType             2000 non-null   object \n",
            " 21  objStatus             2000 non-null   int64  \n",
            " 22  objCommercNm          1564 non-null   object \n",
            " 23  complexShortName      298 non-null    object \n",
            " 24  e                     2000 non-null   object \n",
            "dtypes: float64(3), int64(12), object(10)\n",
            "memory usage: 390.8+ KB\n"
          ]
        }
      ]
    },
    {
      "cell_type": "code",
      "source": [
        "type(zastr.developer)"
      ],
      "metadata": {
        "id": "n4u2zS7By8xv",
        "outputId": "ab36c52c-73c1-4470-9ea4-d70c66d10555",
        "colab": {
          "base_uri": "https://localhost:8080/"
        }
      },
      "execution_count": 36,
      "outputs": [
        {
          "output_type": "execute_result",
          "data": {
            "text/plain": [
              "pandas.core.series.Series"
            ]
          },
          "metadata": {},
          "execution_count": 36
        }
      ]
    },
    {
      "cell_type": "code",
      "source": [
        "i=0\n",
        "\n",
        "while i<len(zastr):\n",
        "#  print(str(i))\n",
        "#  zastr=zastr.assign(devId=zastr.developer[i]['devId'])\n",
        "#  zastr.shortName[i]=zastr.developer[i]['shortName']\n",
        "#  zastr.fullName[i]=zastr.developer[i]['fullName']\n",
        "#  zastr.groupName=zastr.developer[i]['groupName']\n",
        "#  zastr.companyGroup=zastr.developer[i]['companyGroup']\n",
        "#  zastr.devInn[i]=zastr.developer[i]['devInn']\n",
        "  i=i+1"
      ],
      "metadata": {
        "id": "SpxWdYFXMu9K"
      },
      "execution_count": 34,
      "outputs": []
    },
    {
      "cell_type": "code",
      "source": [
        "zastr.head(2)"
      ],
      "metadata": {
        "id": "84-72vL0QkhC",
        "outputId": "601572c1-0bd8-4cb6-8da2-321320387f59",
        "colab": {
          "base_uri": "https://localhost:8080/",
          "height": 379
        }
      },
      "execution_count": 35,
      "outputs": [
        {
          "output_type": "execute_result",
          "data": {
            "text/plain": [
              "   index  objId                                          developer  \\\n",
              "0      0  13391  {'devId': 306, 'shortName': '2МЕН ГРУПП', 'ful...   \n",
              "1      1  13383  {'devId': 306, 'shortName': '2МЕН ГРУПП', 'ful...   \n",
              "\n",
              "   rpdRegionCd                   objAddr  objFloorMin  objFloorMax  \\\n",
              "0           72  г Тюмень, ул Профсоюзная            3           12   \n",
              "1           72                  г Тюмень            4           20   \n",
              "\n",
              "   objElemLivingCnt objReady100PercDt  objSquareLiving  ...  \\\n",
              "0                44        2022-12-31          4297.44  ...   \n",
              "1                68        2022-12-31          6293.78  ...   \n",
              "\n",
              "   objGuarantyEscrowFlg  residentialBuildings     rpdNum   pdId buildType  \\\n",
              "0                     0                     1  72-000096  28101     Жилое   \n",
              "1                     0                     1  72-000095  28105     Жилое   \n",
              "\n",
              "  objStatus  objCommercNm  complexShortName  \\\n",
              "0         0           NaN               NaN   \n",
              "1         0           NaN               NaN   \n",
              "\n",
              "                                                   e  devId  \n",
              "0  {'devId': 306, 'shortName': '2МЕН ГРУПП', 'ful...    682  \n",
              "1  {'devId': 306, 'shortName': '2МЕН ГРУПП', 'ful...    682  \n",
              "\n",
              "[2 rows x 26 columns]"
            ],
            "text/html": [
              "\n",
              "  <div id=\"df-da9db575-2268-4351-9647-f74e7f780908\">\n",
              "    <div class=\"colab-df-container\">\n",
              "      <div>\n",
              "<style scoped>\n",
              "    .dataframe tbody tr th:only-of-type {\n",
              "        vertical-align: middle;\n",
              "    }\n",
              "\n",
              "    .dataframe tbody tr th {\n",
              "        vertical-align: top;\n",
              "    }\n",
              "\n",
              "    .dataframe thead th {\n",
              "        text-align: right;\n",
              "    }\n",
              "</style>\n",
              "<table border=\"1\" class=\"dataframe\">\n",
              "  <thead>\n",
              "    <tr style=\"text-align: right;\">\n",
              "      <th></th>\n",
              "      <th>index</th>\n",
              "      <th>objId</th>\n",
              "      <th>developer</th>\n",
              "      <th>rpdRegionCd</th>\n",
              "      <th>objAddr</th>\n",
              "      <th>objFloorMin</th>\n",
              "      <th>objFloorMax</th>\n",
              "      <th>objElemLivingCnt</th>\n",
              "      <th>objReady100PercDt</th>\n",
              "      <th>objSquareLiving</th>\n",
              "      <th>...</th>\n",
              "      <th>objGuarantyEscrowFlg</th>\n",
              "      <th>residentialBuildings</th>\n",
              "      <th>rpdNum</th>\n",
              "      <th>pdId</th>\n",
              "      <th>buildType</th>\n",
              "      <th>objStatus</th>\n",
              "      <th>objCommercNm</th>\n",
              "      <th>complexShortName</th>\n",
              "      <th>e</th>\n",
              "      <th>devId</th>\n",
              "    </tr>\n",
              "  </thead>\n",
              "  <tbody>\n",
              "    <tr>\n",
              "      <th>0</th>\n",
              "      <td>0</td>\n",
              "      <td>13391</td>\n",
              "      <td>{'devId': 306, 'shortName': '2МЕН ГРУПП', 'ful...</td>\n",
              "      <td>72</td>\n",
              "      <td>г Тюмень, ул Профсоюзная</td>\n",
              "      <td>3</td>\n",
              "      <td>12</td>\n",
              "      <td>44</td>\n",
              "      <td>2022-12-31</td>\n",
              "      <td>4297.44</td>\n",
              "      <td>...</td>\n",
              "      <td>0</td>\n",
              "      <td>1</td>\n",
              "      <td>72-000096</td>\n",
              "      <td>28101</td>\n",
              "      <td>Жилое</td>\n",
              "      <td>0</td>\n",
              "      <td>NaN</td>\n",
              "      <td>NaN</td>\n",
              "      <td>{'devId': 306, 'shortName': '2МЕН ГРУПП', 'ful...</td>\n",
              "      <td>682</td>\n",
              "    </tr>\n",
              "    <tr>\n",
              "      <th>1</th>\n",
              "      <td>1</td>\n",
              "      <td>13383</td>\n",
              "      <td>{'devId': 306, 'shortName': '2МЕН ГРУПП', 'ful...</td>\n",
              "      <td>72</td>\n",
              "      <td>г Тюмень</td>\n",
              "      <td>4</td>\n",
              "      <td>20</td>\n",
              "      <td>68</td>\n",
              "      <td>2022-12-31</td>\n",
              "      <td>6293.78</td>\n",
              "      <td>...</td>\n",
              "      <td>0</td>\n",
              "      <td>1</td>\n",
              "      <td>72-000095</td>\n",
              "      <td>28105</td>\n",
              "      <td>Жилое</td>\n",
              "      <td>0</td>\n",
              "      <td>NaN</td>\n",
              "      <td>NaN</td>\n",
              "      <td>{'devId': 306, 'shortName': '2МЕН ГРУПП', 'ful...</td>\n",
              "      <td>682</td>\n",
              "    </tr>\n",
              "  </tbody>\n",
              "</table>\n",
              "<p>2 rows × 26 columns</p>\n",
              "</div>\n",
              "      <button class=\"colab-df-convert\" onclick=\"convertToInteractive('df-da9db575-2268-4351-9647-f74e7f780908')\"\n",
              "              title=\"Convert this dataframe to an interactive table.\"\n",
              "              style=\"display:none;\">\n",
              "        \n",
              "  <svg xmlns=\"http://www.w3.org/2000/svg\" height=\"24px\"viewBox=\"0 0 24 24\"\n",
              "       width=\"24px\">\n",
              "    <path d=\"M0 0h24v24H0V0z\" fill=\"none\"/>\n",
              "    <path d=\"M18.56 5.44l.94 2.06.94-2.06 2.06-.94-2.06-.94-.94-2.06-.94 2.06-2.06.94zm-11 1L8.5 8.5l.94-2.06 2.06-.94-2.06-.94L8.5 2.5l-.94 2.06-2.06.94zm10 10l.94 2.06.94-2.06 2.06-.94-2.06-.94-.94-2.06-.94 2.06-2.06.94z\"/><path d=\"M17.41 7.96l-1.37-1.37c-.4-.4-.92-.59-1.43-.59-.52 0-1.04.2-1.43.59L10.3 9.45l-7.72 7.72c-.78.78-.78 2.05 0 2.83L4 21.41c.39.39.9.59 1.41.59.51 0 1.02-.2 1.41-.59l7.78-7.78 2.81-2.81c.8-.78.8-2.07 0-2.86zM5.41 20L4 18.59l7.72-7.72 1.47 1.35L5.41 20z\"/>\n",
              "  </svg>\n",
              "      </button>\n",
              "      \n",
              "  <style>\n",
              "    .colab-df-container {\n",
              "      display:flex;\n",
              "      flex-wrap:wrap;\n",
              "      gap: 12px;\n",
              "    }\n",
              "\n",
              "    .colab-df-convert {\n",
              "      background-color: #E8F0FE;\n",
              "      border: none;\n",
              "      border-radius: 50%;\n",
              "      cursor: pointer;\n",
              "      display: none;\n",
              "      fill: #1967D2;\n",
              "      height: 32px;\n",
              "      padding: 0 0 0 0;\n",
              "      width: 32px;\n",
              "    }\n",
              "\n",
              "    .colab-df-convert:hover {\n",
              "      background-color: #E2EBFA;\n",
              "      box-shadow: 0px 1px 2px rgba(60, 64, 67, 0.3), 0px 1px 3px 1px rgba(60, 64, 67, 0.15);\n",
              "      fill: #174EA6;\n",
              "    }\n",
              "\n",
              "    [theme=dark] .colab-df-convert {\n",
              "      background-color: #3B4455;\n",
              "      fill: #D2E3FC;\n",
              "    }\n",
              "\n",
              "    [theme=dark] .colab-df-convert:hover {\n",
              "      background-color: #434B5C;\n",
              "      box-shadow: 0px 1px 3px 1px rgba(0, 0, 0, 0.15);\n",
              "      filter: drop-shadow(0px 1px 2px rgba(0, 0, 0, 0.3));\n",
              "      fill: #FFFFFF;\n",
              "    }\n",
              "  </style>\n",
              "\n",
              "      <script>\n",
              "        const buttonEl =\n",
              "          document.querySelector('#df-da9db575-2268-4351-9647-f74e7f780908 button.colab-df-convert');\n",
              "        buttonEl.style.display =\n",
              "          google.colab.kernel.accessAllowed ? 'block' : 'none';\n",
              "\n",
              "        async function convertToInteractive(key) {\n",
              "          const element = document.querySelector('#df-da9db575-2268-4351-9647-f74e7f780908');\n",
              "          const dataTable =\n",
              "            await google.colab.kernel.invokeFunction('convertToInteractive',\n",
              "                                                     [key], {});\n",
              "          if (!dataTable) return;\n",
              "\n",
              "          const docLinkHtml = 'Like what you see? Visit the ' +\n",
              "            '<a target=\"_blank\" href=https://colab.research.google.com/notebooks/data_table.ipynb>data table notebook</a>'\n",
              "            + ' to learn more about interactive tables.';\n",
              "          element.innerHTML = '';\n",
              "          dataTable['output_type'] = 'display_data';\n",
              "          await google.colab.output.renderOutput(dataTable, element);\n",
              "          const docLink = document.createElement('div');\n",
              "          docLink.innerHTML = docLinkHtml;\n",
              "          element.appendChild(docLink);\n",
              "        }\n",
              "      </script>\n",
              "    </div>\n",
              "  </div>\n",
              "  "
            ]
          },
          "metadata": {},
          "execution_count": 35
        }
      ]
    },
    {
      "cell_type": "code",
      "source": [
        "zastr.info()"
      ],
      "metadata": {
        "id": "gcE0_JnyNhIb",
        "outputId": "a0bcb409-dd63-4210-e46e-880bc9639c54",
        "colab": {
          "base_uri": "https://localhost:8080/"
        }
      },
      "execution_count": 41,
      "outputs": [
        {
          "output_type": "stream",
          "name": "stdout",
          "text": [
            "<class 'pandas.core.frame.DataFrame'>\n",
            "RangeIndex: 190 entries, 0 to 189\n",
            "Data columns (total 24 columns):\n",
            " #   Column                Non-Null Count  Dtype  \n",
            "---  ------                --------------  -----  \n",
            " 0   index                 190 non-null    int64  \n",
            " 1   objId                 190 non-null    int64  \n",
            " 2   developer             190 non-null    object \n",
            " 3   rpdRegionCd           190 non-null    int64  \n",
            " 4   objAddr               190 non-null    object \n",
            " 5   objFloorMin           190 non-null    int64  \n",
            " 6   objFloorMax           190 non-null    int64  \n",
            " 7   objElemLivingCnt      190 non-null    int64  \n",
            " 8   objReady100PercDt     190 non-null    object \n",
            " 9   objSquareLiving       190 non-null    float64\n",
            " 10  objCompensFundFlg     190 non-null    int64  \n",
            " 11  objProblemFlg         190 non-null    int64  \n",
            " 12  latitude              190 non-null    float64\n",
            " 13  longitude             190 non-null    float64\n",
            " 14  problemFlag           190 non-null    object \n",
            " 15  siteStatus            190 non-null    object \n",
            " 16  objGuarantyEscrowFlg  190 non-null    int64  \n",
            " 17  residentialBuildings  190 non-null    int64  \n",
            " 18  rpdNum                190 non-null    object \n",
            " 19  pdId                  190 non-null    int64  \n",
            " 20  buildType             190 non-null    object \n",
            " 21  objStatus             190 non-null    int64  \n",
            " 22  objCommercNm          159 non-null    object \n",
            " 23  complexShortName      17 non-null     object \n",
            "dtypes: float64(3), int64(12), object(9)\n",
            "memory usage: 35.8+ KB\n"
          ]
        }
      ]
    },
    {
      "cell_type": "code",
      "source": [],
      "metadata": {
        "id": "qw_YZs06MvRG"
      },
      "execution_count": null,
      "outputs": []
    },
    {
      "cell_type": "code",
      "source": [
        "type(zastr.developer[1])"
      ],
      "metadata": {
        "id": "CmEd0jTi2Onk",
        "outputId": "a1b8eb8d-9cbb-4eb9-dc71-ebbdf0d7a4bb",
        "colab": {
          "base_uri": "https://localhost:8080/"
        }
      },
      "execution_count": 28,
      "outputs": [
        {
          "output_type": "execute_result",
          "data": {
            "text/plain": [
              "dict"
            ]
          },
          "metadata": {},
          "execution_count": 28
        }
      ]
    },
    {
      "cell_type": "code",
      "source": [
        "zz=pd.DataFrame(zastr.developer[1])"
      ],
      "metadata": {
        "id": "CoHcqzBu3Dx9"
      },
      "execution_count": 54,
      "outputs": []
    },
    {
      "cell_type": "code",
      "source": [
        "zz"
      ],
      "metadata": {
        "id": "EdLLnvJn3D2j",
        "outputId": "a3684bc2-f7fa-471b-daac-f3593e691d65",
        "colab": {
          "base_uri": "https://localhost:8080/",
          "height": 143
        }
      },
      "execution_count": 30,
      "outputs": [
        {
          "output_type": "execute_result",
          "data": {
            "text/plain": [
              "           devId shortName fullName                  groupName  \\\n",
              "fullForm    1087    АРНИКА   АРНИКА  Строительный холдинг Град   \n",
              "id          1087    АРНИКА   АРНИКА  Строительный холдинг Град   \n",
              "shortForm   1087    АРНИКА   АРНИКА  Строительный холдинг Град   \n",
              "\n",
              "                                 orgForm  companyGroup      devInn  \n",
              "fullForm   Закрытое акционерное общество          5847  6318136702  \n",
              "id                                   119          5847  6318136702  \n",
              "shortForm                            ЗАО          5847  6318136702  "
            ],
            "text/html": [
              "\n",
              "  <div id=\"df-7cb6c85f-acde-4f18-b891-b20c39cc1779\">\n",
              "    <div class=\"colab-df-container\">\n",
              "      <div>\n",
              "<style scoped>\n",
              "    .dataframe tbody tr th:only-of-type {\n",
              "        vertical-align: middle;\n",
              "    }\n",
              "\n",
              "    .dataframe tbody tr th {\n",
              "        vertical-align: top;\n",
              "    }\n",
              "\n",
              "    .dataframe thead th {\n",
              "        text-align: right;\n",
              "    }\n",
              "</style>\n",
              "<table border=\"1\" class=\"dataframe\">\n",
              "  <thead>\n",
              "    <tr style=\"text-align: right;\">\n",
              "      <th></th>\n",
              "      <th>devId</th>\n",
              "      <th>shortName</th>\n",
              "      <th>fullName</th>\n",
              "      <th>groupName</th>\n",
              "      <th>orgForm</th>\n",
              "      <th>companyGroup</th>\n",
              "      <th>devInn</th>\n",
              "    </tr>\n",
              "  </thead>\n",
              "  <tbody>\n",
              "    <tr>\n",
              "      <th>fullForm</th>\n",
              "      <td>1087</td>\n",
              "      <td>АРНИКА</td>\n",
              "      <td>АРНИКА</td>\n",
              "      <td>Строительный холдинг Град</td>\n",
              "      <td>Закрытое акционерное общество</td>\n",
              "      <td>5847</td>\n",
              "      <td>6318136702</td>\n",
              "    </tr>\n",
              "    <tr>\n",
              "      <th>id</th>\n",
              "      <td>1087</td>\n",
              "      <td>АРНИКА</td>\n",
              "      <td>АРНИКА</td>\n",
              "      <td>Строительный холдинг Град</td>\n",
              "      <td>119</td>\n",
              "      <td>5847</td>\n",
              "      <td>6318136702</td>\n",
              "    </tr>\n",
              "    <tr>\n",
              "      <th>shortForm</th>\n",
              "      <td>1087</td>\n",
              "      <td>АРНИКА</td>\n",
              "      <td>АРНИКА</td>\n",
              "      <td>Строительный холдинг Град</td>\n",
              "      <td>ЗАО</td>\n",
              "      <td>5847</td>\n",
              "      <td>6318136702</td>\n",
              "    </tr>\n",
              "  </tbody>\n",
              "</table>\n",
              "</div>\n",
              "      <button class=\"colab-df-convert\" onclick=\"convertToInteractive('df-7cb6c85f-acde-4f18-b891-b20c39cc1779')\"\n",
              "              title=\"Convert this dataframe to an interactive table.\"\n",
              "              style=\"display:none;\">\n",
              "        \n",
              "  <svg xmlns=\"http://www.w3.org/2000/svg\" height=\"24px\"viewBox=\"0 0 24 24\"\n",
              "       width=\"24px\">\n",
              "    <path d=\"M0 0h24v24H0V0z\" fill=\"none\"/>\n",
              "    <path d=\"M18.56 5.44l.94 2.06.94-2.06 2.06-.94-2.06-.94-.94-2.06-.94 2.06-2.06.94zm-11 1L8.5 8.5l.94-2.06 2.06-.94-2.06-.94L8.5 2.5l-.94 2.06-2.06.94zm10 10l.94 2.06.94-2.06 2.06-.94-2.06-.94-.94-2.06-.94 2.06-2.06.94z\"/><path d=\"M17.41 7.96l-1.37-1.37c-.4-.4-.92-.59-1.43-.59-.52 0-1.04.2-1.43.59L10.3 9.45l-7.72 7.72c-.78.78-.78 2.05 0 2.83L4 21.41c.39.39.9.59 1.41.59.51 0 1.02-.2 1.41-.59l7.78-7.78 2.81-2.81c.8-.78.8-2.07 0-2.86zM5.41 20L4 18.59l7.72-7.72 1.47 1.35L5.41 20z\"/>\n",
              "  </svg>\n",
              "      </button>\n",
              "      \n",
              "  <style>\n",
              "    .colab-df-container {\n",
              "      display:flex;\n",
              "      flex-wrap:wrap;\n",
              "      gap: 12px;\n",
              "    }\n",
              "\n",
              "    .colab-df-convert {\n",
              "      background-color: #E8F0FE;\n",
              "      border: none;\n",
              "      border-radius: 50%;\n",
              "      cursor: pointer;\n",
              "      display: none;\n",
              "      fill: #1967D2;\n",
              "      height: 32px;\n",
              "      padding: 0 0 0 0;\n",
              "      width: 32px;\n",
              "    }\n",
              "\n",
              "    .colab-df-convert:hover {\n",
              "      background-color: #E2EBFA;\n",
              "      box-shadow: 0px 1px 2px rgba(60, 64, 67, 0.3), 0px 1px 3px 1px rgba(60, 64, 67, 0.15);\n",
              "      fill: #174EA6;\n",
              "    }\n",
              "\n",
              "    [theme=dark] .colab-df-convert {\n",
              "      background-color: #3B4455;\n",
              "      fill: #D2E3FC;\n",
              "    }\n",
              "\n",
              "    [theme=dark] .colab-df-convert:hover {\n",
              "      background-color: #434B5C;\n",
              "      box-shadow: 0px 1px 3px 1px rgba(0, 0, 0, 0.15);\n",
              "      filter: drop-shadow(0px 1px 2px rgba(0, 0, 0, 0.3));\n",
              "      fill: #FFFFFF;\n",
              "    }\n",
              "  </style>\n",
              "\n",
              "      <script>\n",
              "        const buttonEl =\n",
              "          document.querySelector('#df-7cb6c85f-acde-4f18-b891-b20c39cc1779 button.colab-df-convert');\n",
              "        buttonEl.style.display =\n",
              "          google.colab.kernel.accessAllowed ? 'block' : 'none';\n",
              "\n",
              "        async function convertToInteractive(key) {\n",
              "          const element = document.querySelector('#df-7cb6c85f-acde-4f18-b891-b20c39cc1779');\n",
              "          const dataTable =\n",
              "            await google.colab.kernel.invokeFunction('convertToInteractive',\n",
              "                                                     [key], {});\n",
              "          if (!dataTable) return;\n",
              "\n",
              "          const docLinkHtml = 'Like what you see? Visit the ' +\n",
              "            '<a target=\"_blank\" href=https://colab.research.google.com/notebooks/data_table.ipynb>data table notebook</a>'\n",
              "            + ' to learn more about interactive tables.';\n",
              "          element.innerHTML = '';\n",
              "          dataTable['output_type'] = 'display_data';\n",
              "          await google.colab.output.renderOutput(dataTable, element);\n",
              "          const docLink = document.createElement('div');\n",
              "          docLink.innerHTML = docLinkHtml;\n",
              "          element.appendChild(docLink);\n",
              "        }\n",
              "      </script>\n",
              "    </div>\n",
              "  </div>\n",
              "  "
            ]
          },
          "metadata": {},
          "execution_count": 30
        }
      ]
    },
    {
      "cell_type": "code",
      "source": [
        "zastr.head(2)"
      ],
      "metadata": {
        "id": "BGrNfn4r3EA0",
        "outputId": "d94a3c82-5f1b-409c-b37b-c33c71377919",
        "colab": {
          "base_uri": "https://localhost:8080/",
          "height": 362
        }
      },
      "execution_count": 31,
      "outputs": [
        {
          "output_type": "execute_result",
          "data": {
            "text/plain": [
              "   index  objId                                          developer  \\\n",
              "0     63  18136  {'devId': 6193, 'shortName': 'АЛЬЯНС', 'fullNa...   \n",
              "1    185   4024  {'devId': 1087, 'shortName': 'АРНИКА', 'fullNa...   \n",
              "\n",
              "   rpdRegionCd                                            objAddr  \\\n",
              "0           63  г Самара, улица Советской Армии, д. 0, корпус ...   \n",
              "1           63         г Самара, район Октябрьский, просека Пятая   \n",
              "\n",
              "   objFloorMin  objFloorMax  objElemLivingCnt objReady100PercDt  \\\n",
              "0           27           27               360        2023-06-30   \n",
              "1            5            5                16        2023-12-31   \n",
              "\n",
              "   objSquareLiving  ...  problemFlag  siteStatus  objGuarantyEscrowFlg  \\\n",
              "0         20664.24  ...         NONE  Строящиеся                     1   \n",
              "1           918.77  ...         NONE  Строящиеся                     0   \n",
              "\n",
              "   residentialBuildings     rpdNum   pdId  buildType  objStatus  \\\n",
              "0                     1  63-000283  43084      Жилое          0   \n",
              "1                     1  63-000027   2200      Жилое          0   \n",
              "\n",
              "                                      objCommercNm  complexShortName  \n",
              "0                                              NaN               NaN  \n",
              "1  Жилой комплекс \"Акварель\" (ЖК \"Акварель\") дом 9          Акварель  \n",
              "\n",
              "[2 rows x 24 columns]"
            ],
            "text/html": [
              "\n",
              "  <div id=\"df-db0c9fc4-411f-48ec-98df-565b3fd6821e\">\n",
              "    <div class=\"colab-df-container\">\n",
              "      <div>\n",
              "<style scoped>\n",
              "    .dataframe tbody tr th:only-of-type {\n",
              "        vertical-align: middle;\n",
              "    }\n",
              "\n",
              "    .dataframe tbody tr th {\n",
              "        vertical-align: top;\n",
              "    }\n",
              "\n",
              "    .dataframe thead th {\n",
              "        text-align: right;\n",
              "    }\n",
              "</style>\n",
              "<table border=\"1\" class=\"dataframe\">\n",
              "  <thead>\n",
              "    <tr style=\"text-align: right;\">\n",
              "      <th></th>\n",
              "      <th>index</th>\n",
              "      <th>objId</th>\n",
              "      <th>developer</th>\n",
              "      <th>rpdRegionCd</th>\n",
              "      <th>objAddr</th>\n",
              "      <th>objFloorMin</th>\n",
              "      <th>objFloorMax</th>\n",
              "      <th>objElemLivingCnt</th>\n",
              "      <th>objReady100PercDt</th>\n",
              "      <th>objSquareLiving</th>\n",
              "      <th>...</th>\n",
              "      <th>problemFlag</th>\n",
              "      <th>siteStatus</th>\n",
              "      <th>objGuarantyEscrowFlg</th>\n",
              "      <th>residentialBuildings</th>\n",
              "      <th>rpdNum</th>\n",
              "      <th>pdId</th>\n",
              "      <th>buildType</th>\n",
              "      <th>objStatus</th>\n",
              "      <th>objCommercNm</th>\n",
              "      <th>complexShortName</th>\n",
              "    </tr>\n",
              "  </thead>\n",
              "  <tbody>\n",
              "    <tr>\n",
              "      <th>0</th>\n",
              "      <td>63</td>\n",
              "      <td>18136</td>\n",
              "      <td>{'devId': 6193, 'shortName': 'АЛЬЯНС', 'fullNa...</td>\n",
              "      <td>63</td>\n",
              "      <td>г Самара, улица Советской Армии, д. 0, корпус ...</td>\n",
              "      <td>27</td>\n",
              "      <td>27</td>\n",
              "      <td>360</td>\n",
              "      <td>2023-06-30</td>\n",
              "      <td>20664.24</td>\n",
              "      <td>...</td>\n",
              "      <td>NONE</td>\n",
              "      <td>Строящиеся</td>\n",
              "      <td>1</td>\n",
              "      <td>1</td>\n",
              "      <td>63-000283</td>\n",
              "      <td>43084</td>\n",
              "      <td>Жилое</td>\n",
              "      <td>0</td>\n",
              "      <td>NaN</td>\n",
              "      <td>NaN</td>\n",
              "    </tr>\n",
              "    <tr>\n",
              "      <th>1</th>\n",
              "      <td>185</td>\n",
              "      <td>4024</td>\n",
              "      <td>{'devId': 1087, 'shortName': 'АРНИКА', 'fullNa...</td>\n",
              "      <td>63</td>\n",
              "      <td>г Самара, район Октябрьский, просека Пятая</td>\n",
              "      <td>5</td>\n",
              "      <td>5</td>\n",
              "      <td>16</td>\n",
              "      <td>2023-12-31</td>\n",
              "      <td>918.77</td>\n",
              "      <td>...</td>\n",
              "      <td>NONE</td>\n",
              "      <td>Строящиеся</td>\n",
              "      <td>0</td>\n",
              "      <td>1</td>\n",
              "      <td>63-000027</td>\n",
              "      <td>2200</td>\n",
              "      <td>Жилое</td>\n",
              "      <td>0</td>\n",
              "      <td>Жилой комплекс \"Акварель\" (ЖК \"Акварель\") дом 9</td>\n",
              "      <td>Акварель</td>\n",
              "    </tr>\n",
              "  </tbody>\n",
              "</table>\n",
              "<p>2 rows × 24 columns</p>\n",
              "</div>\n",
              "      <button class=\"colab-df-convert\" onclick=\"convertToInteractive('df-db0c9fc4-411f-48ec-98df-565b3fd6821e')\"\n",
              "              title=\"Convert this dataframe to an interactive table.\"\n",
              "              style=\"display:none;\">\n",
              "        \n",
              "  <svg xmlns=\"http://www.w3.org/2000/svg\" height=\"24px\"viewBox=\"0 0 24 24\"\n",
              "       width=\"24px\">\n",
              "    <path d=\"M0 0h24v24H0V0z\" fill=\"none\"/>\n",
              "    <path d=\"M18.56 5.44l.94 2.06.94-2.06 2.06-.94-2.06-.94-.94-2.06-.94 2.06-2.06.94zm-11 1L8.5 8.5l.94-2.06 2.06-.94-2.06-.94L8.5 2.5l-.94 2.06-2.06.94zm10 10l.94 2.06.94-2.06 2.06-.94-2.06-.94-.94-2.06-.94 2.06-2.06.94z\"/><path d=\"M17.41 7.96l-1.37-1.37c-.4-.4-.92-.59-1.43-.59-.52 0-1.04.2-1.43.59L10.3 9.45l-7.72 7.72c-.78.78-.78 2.05 0 2.83L4 21.41c.39.39.9.59 1.41.59.51 0 1.02-.2 1.41-.59l7.78-7.78 2.81-2.81c.8-.78.8-2.07 0-2.86zM5.41 20L4 18.59l7.72-7.72 1.47 1.35L5.41 20z\"/>\n",
              "  </svg>\n",
              "      </button>\n",
              "      \n",
              "  <style>\n",
              "    .colab-df-container {\n",
              "      display:flex;\n",
              "      flex-wrap:wrap;\n",
              "      gap: 12px;\n",
              "    }\n",
              "\n",
              "    .colab-df-convert {\n",
              "      background-color: #E8F0FE;\n",
              "      border: none;\n",
              "      border-radius: 50%;\n",
              "      cursor: pointer;\n",
              "      display: none;\n",
              "      fill: #1967D2;\n",
              "      height: 32px;\n",
              "      padding: 0 0 0 0;\n",
              "      width: 32px;\n",
              "    }\n",
              "\n",
              "    .colab-df-convert:hover {\n",
              "      background-color: #E2EBFA;\n",
              "      box-shadow: 0px 1px 2px rgba(60, 64, 67, 0.3), 0px 1px 3px 1px rgba(60, 64, 67, 0.15);\n",
              "      fill: #174EA6;\n",
              "    }\n",
              "\n",
              "    [theme=dark] .colab-df-convert {\n",
              "      background-color: #3B4455;\n",
              "      fill: #D2E3FC;\n",
              "    }\n",
              "\n",
              "    [theme=dark] .colab-df-convert:hover {\n",
              "      background-color: #434B5C;\n",
              "      box-shadow: 0px 1px 3px 1px rgba(0, 0, 0, 0.15);\n",
              "      filter: drop-shadow(0px 1px 2px rgba(0, 0, 0, 0.3));\n",
              "      fill: #FFFFFF;\n",
              "    }\n",
              "  </style>\n",
              "\n",
              "      <script>\n",
              "        const buttonEl =\n",
              "          document.querySelector('#df-db0c9fc4-411f-48ec-98df-565b3fd6821e button.colab-df-convert');\n",
              "        buttonEl.style.display =\n",
              "          google.colab.kernel.accessAllowed ? 'block' : 'none';\n",
              "\n",
              "        async function convertToInteractive(key) {\n",
              "          const element = document.querySelector('#df-db0c9fc4-411f-48ec-98df-565b3fd6821e');\n",
              "          const dataTable =\n",
              "            await google.colab.kernel.invokeFunction('convertToInteractive',\n",
              "                                                     [key], {});\n",
              "          if (!dataTable) return;\n",
              "\n",
              "          const docLinkHtml = 'Like what you see? Visit the ' +\n",
              "            '<a target=\"_blank\" href=https://colab.research.google.com/notebooks/data_table.ipynb>data table notebook</a>'\n",
              "            + ' to learn more about interactive tables.';\n",
              "          element.innerHTML = '';\n",
              "          dataTable['output_type'] = 'display_data';\n",
              "          await google.colab.output.renderOutput(dataTable, element);\n",
              "          const docLink = document.createElement('div');\n",
              "          docLink.innerHTML = docLinkHtml;\n",
              "          element.appendChild(docLink);\n",
              "        }\n",
              "      </script>\n",
              "    </div>\n",
              "  </div>\n",
              "  "
            ]
          },
          "metadata": {},
          "execution_count": 31
        }
      ]
    },
    {
      "cell_type": "code",
      "source": [],
      "metadata": {
        "id": "XK2_2TSr1kXT"
      },
      "execution_count": null,
      "outputs": []
    },
    {
      "cell_type": "code",
      "source": [
        "ser"
      ],
      "metadata": {
        "id": "J-HAq8InsRov",
        "outputId": "c67d6037-816b-4915-b13c-800ae951e03c",
        "colab": {
          "base_uri": "https://localhost:8080/"
        }
      },
      "execution_count": null,
      "outputs": [
        {
          "output_type": "execute_result",
          "data": {
            "text/plain": [
              "0    [{'objId': 42206, 'developer': {'devId': 8154, 'shortName': 'СПЕЦЗАСТРОЙЩИК ЖЕЛЕЗНО ИЖЕВСК', 'fullName': 'СПЕЦИАЛИЗИРОВАННЫЙ ЗАСТРОЙЩИК ЖЕЛЕЗНО ИЖЕВСК', 'groupName': 'Железно', 'orgForm': {'id': 4...\n",
              "Name: list, dtype: object"
            ]
          },
          "metadata": {},
          "execution_count": 506
        }
      ]
    },
    {
      "cell_type": "code",
      "source": [
        "documents = []\n",
        "url_doc_list = 'https://наш.дом.рф/сервисы/api/object/47925/document/rpd'\n",
        "response = requests.get(url_doc_list)\n",
        "documents = response.json()\n",
        "documents = documents['data']\n",
        "#documents = json_normalize(documents)"
      ],
      "metadata": {
        "id": "IvxLrs5t4grc"
      },
      "execution_count": null,
      "outputs": []
    },
    {
      "cell_type": "code",
      "source": [
        "type(documents)"
      ],
      "metadata": {
        "id": "izkMuoPBpoY8",
        "outputId": "4b4b9d8e-2ee2-499e-afd3-184da46b6f9d",
        "colab": {
          "base_uri": "https://localhost:8080/"
        }
      },
      "execution_count": null,
      "outputs": [
        {
          "output_type": "execute_result",
          "data": {
            "text/plain": [
              "list"
            ]
          },
          "metadata": {},
          "execution_count": 510
        }
      ]
    },
    {
      "cell_type": "code",
      "source": [
        "df_docs=pd.DataFrame(documents)"
      ],
      "metadata": {
        "id": "F6P_YahMq1_9"
      },
      "execution_count": null,
      "outputs": []
    },
    {
      "cell_type": "code",
      "source": [
        "df_docs"
      ],
      "metadata": {
        "id": "ml2zTn7sq7hc",
        "outputId": "79c56ee6-c871-4040-f6ed-4f57d66a1f8b",
        "colab": {
          "base_uri": "https://localhost:8080/",
          "height": 238
        }
      },
      "execution_count": null,
      "outputs": [
        {
          "output_type": "execute_result",
          "data": {
            "text/plain": [
              "   ordNum   rpdId    pdId  devId      rpdIssueDttm     rpdNum rpdPublStatusDesc                                                                               rpdPdfLink  \\\n",
              "0       1  652865  620216   1296  10-11-2022 04:16  38-000548         Размещена  https://xn--80az8a.xn--d1aqf.xn--p1ai/api/ext/file/ce607034-266a-4e49-95f1-217c322a940a   \n",
              "1       2  644383  620216   1296  10-10-2022 10:34  38-000548         Размещена  https://xn--80az8a.xn--d1aqf.xn--p1ai/api/ext/file/10b264ae-f152-4ac0-9db0-406d40a8a47f   \n",
              "2       3  640101  620216   1296  05-10-2022 07:48  38-000548         Размещена  https://xn--80az8a.xn--d1aqf.xn--p1ai/api/ext/file/756e320c-8c44-4e31-8653-71238d3a257d   \n",
              "3       4  636091  620216   1296  13-09-2022 15:22  38-000548         Размещена  https://xn--80az8a.xn--d1aqf.xn--p1ai/api/ext/file/e60fe102-2daa-4649-ae7e-f181f13e3f6c   \n",
              "4       5  634846  620216   1296  09-09-2022 17:37  38-000548         Размещена  https://xn--80az8a.xn--d1aqf.xn--p1ai/api/ext/file/cd720523-87b1-497f-b1a8-f575b0a28f7b   \n",
              "5       6  620216  620216   1296  08-09-2022 16:30  38-000548         Размещена  https://xn--80az8a.xn--d1aqf.xn--p1ai/api/ext/file/70c73cad-5a83-4aa0-8c6d-28c79eedfbba   \n",
              "\n",
              "                                                                            rpdPdfLinkTest rpdPdfSize          loadDttm                 fileName      fileNameDownload  objId  \n",
              "0  https://xn--80az8a.xn--d1aqf.xn--p1ai/api/ext/file/ce607034-266a-4e49-95f1-217c322a940a    1126143  21-11-2022 01:10  obj47925_pd38-000548_01  obj47925_pd38-000548  47925  \n",
              "1  https://xn--80az8a.xn--d1aqf.xn--p1ai/api/ext/file/10b264ae-f152-4ac0-9db0-406d40a8a47f    1126131  21-11-2022 01:10  obj47925_pd38-000548_02  obj47925_pd38-000548  47925  \n",
              "2  https://xn--80az8a.xn--d1aqf.xn--p1ai/api/ext/file/756e320c-8c44-4e31-8653-71238d3a257d    1126588  21-11-2022 01:10  obj47925_pd38-000548_03  obj47925_pd38-000548  47925  \n",
              "3  https://xn--80az8a.xn--d1aqf.xn--p1ai/api/ext/file/e60fe102-2daa-4649-ae7e-f181f13e3f6c    1123821  21-11-2022 01:10  obj47925_pd38-000548_04  obj47925_pd38-000548  47925  \n",
              "4  https://xn--80az8a.xn--d1aqf.xn--p1ai/api/ext/file/cd720523-87b1-497f-b1a8-f575b0a28f7b    1124056  21-11-2022 01:10  obj47925_pd38-000548_05  obj47925_pd38-000548  47925  \n",
              "5  https://xn--80az8a.xn--d1aqf.xn--p1ai/api/ext/file/70c73cad-5a83-4aa0-8c6d-28c79eedfbba    1123959  21-11-2022 01:10  obj47925_pd38-000548_06  obj47925_pd38-000548  47925  "
            ],
            "text/html": [
              "\n",
              "  <div id=\"df-8292c4bc-c075-4851-a3ae-61cfc9956e0c\">\n",
              "    <div class=\"colab-df-container\">\n",
              "      <div>\n",
              "<style scoped>\n",
              "    .dataframe tbody tr th:only-of-type {\n",
              "        vertical-align: middle;\n",
              "    }\n",
              "\n",
              "    .dataframe tbody tr th {\n",
              "        vertical-align: top;\n",
              "    }\n",
              "\n",
              "    .dataframe thead th {\n",
              "        text-align: right;\n",
              "    }\n",
              "</style>\n",
              "<table border=\"1\" class=\"dataframe\">\n",
              "  <thead>\n",
              "    <tr style=\"text-align: right;\">\n",
              "      <th></th>\n",
              "      <th>ordNum</th>\n",
              "      <th>rpdId</th>\n",
              "      <th>pdId</th>\n",
              "      <th>devId</th>\n",
              "      <th>rpdIssueDttm</th>\n",
              "      <th>rpdNum</th>\n",
              "      <th>rpdPublStatusDesc</th>\n",
              "      <th>rpdPdfLink</th>\n",
              "      <th>rpdPdfLinkTest</th>\n",
              "      <th>rpdPdfSize</th>\n",
              "      <th>loadDttm</th>\n",
              "      <th>fileName</th>\n",
              "      <th>fileNameDownload</th>\n",
              "      <th>objId</th>\n",
              "    </tr>\n",
              "  </thead>\n",
              "  <tbody>\n",
              "    <tr>\n",
              "      <th>0</th>\n",
              "      <td>1</td>\n",
              "      <td>652865</td>\n",
              "      <td>620216</td>\n",
              "      <td>1296</td>\n",
              "      <td>10-11-2022 04:16</td>\n",
              "      <td>38-000548</td>\n",
              "      <td>Размещена</td>\n",
              "      <td>https://xn--80az8a.xn--d1aqf.xn--p1ai/api/ext/file/ce607034-266a-4e49-95f1-217c322a940a</td>\n",
              "      <td>https://xn--80az8a.xn--d1aqf.xn--p1ai/api/ext/file/ce607034-266a-4e49-95f1-217c322a940a</td>\n",
              "      <td>1126143</td>\n",
              "      <td>21-11-2022 01:10</td>\n",
              "      <td>obj47925_pd38-000548_01</td>\n",
              "      <td>obj47925_pd38-000548</td>\n",
              "      <td>47925</td>\n",
              "    </tr>\n",
              "    <tr>\n",
              "      <th>1</th>\n",
              "      <td>2</td>\n",
              "      <td>644383</td>\n",
              "      <td>620216</td>\n",
              "      <td>1296</td>\n",
              "      <td>10-10-2022 10:34</td>\n",
              "      <td>38-000548</td>\n",
              "      <td>Размещена</td>\n",
              "      <td>https://xn--80az8a.xn--d1aqf.xn--p1ai/api/ext/file/10b264ae-f152-4ac0-9db0-406d40a8a47f</td>\n",
              "      <td>https://xn--80az8a.xn--d1aqf.xn--p1ai/api/ext/file/10b264ae-f152-4ac0-9db0-406d40a8a47f</td>\n",
              "      <td>1126131</td>\n",
              "      <td>21-11-2022 01:10</td>\n",
              "      <td>obj47925_pd38-000548_02</td>\n",
              "      <td>obj47925_pd38-000548</td>\n",
              "      <td>47925</td>\n",
              "    </tr>\n",
              "    <tr>\n",
              "      <th>2</th>\n",
              "      <td>3</td>\n",
              "      <td>640101</td>\n",
              "      <td>620216</td>\n",
              "      <td>1296</td>\n",
              "      <td>05-10-2022 07:48</td>\n",
              "      <td>38-000548</td>\n",
              "      <td>Размещена</td>\n",
              "      <td>https://xn--80az8a.xn--d1aqf.xn--p1ai/api/ext/file/756e320c-8c44-4e31-8653-71238d3a257d</td>\n",
              "      <td>https://xn--80az8a.xn--d1aqf.xn--p1ai/api/ext/file/756e320c-8c44-4e31-8653-71238d3a257d</td>\n",
              "      <td>1126588</td>\n",
              "      <td>21-11-2022 01:10</td>\n",
              "      <td>obj47925_pd38-000548_03</td>\n",
              "      <td>obj47925_pd38-000548</td>\n",
              "      <td>47925</td>\n",
              "    </tr>\n",
              "    <tr>\n",
              "      <th>3</th>\n",
              "      <td>4</td>\n",
              "      <td>636091</td>\n",
              "      <td>620216</td>\n",
              "      <td>1296</td>\n",
              "      <td>13-09-2022 15:22</td>\n",
              "      <td>38-000548</td>\n",
              "      <td>Размещена</td>\n",
              "      <td>https://xn--80az8a.xn--d1aqf.xn--p1ai/api/ext/file/e60fe102-2daa-4649-ae7e-f181f13e3f6c</td>\n",
              "      <td>https://xn--80az8a.xn--d1aqf.xn--p1ai/api/ext/file/e60fe102-2daa-4649-ae7e-f181f13e3f6c</td>\n",
              "      <td>1123821</td>\n",
              "      <td>21-11-2022 01:10</td>\n",
              "      <td>obj47925_pd38-000548_04</td>\n",
              "      <td>obj47925_pd38-000548</td>\n",
              "      <td>47925</td>\n",
              "    </tr>\n",
              "    <tr>\n",
              "      <th>4</th>\n",
              "      <td>5</td>\n",
              "      <td>634846</td>\n",
              "      <td>620216</td>\n",
              "      <td>1296</td>\n",
              "      <td>09-09-2022 17:37</td>\n",
              "      <td>38-000548</td>\n",
              "      <td>Размещена</td>\n",
              "      <td>https://xn--80az8a.xn--d1aqf.xn--p1ai/api/ext/file/cd720523-87b1-497f-b1a8-f575b0a28f7b</td>\n",
              "      <td>https://xn--80az8a.xn--d1aqf.xn--p1ai/api/ext/file/cd720523-87b1-497f-b1a8-f575b0a28f7b</td>\n",
              "      <td>1124056</td>\n",
              "      <td>21-11-2022 01:10</td>\n",
              "      <td>obj47925_pd38-000548_05</td>\n",
              "      <td>obj47925_pd38-000548</td>\n",
              "      <td>47925</td>\n",
              "    </tr>\n",
              "    <tr>\n",
              "      <th>5</th>\n",
              "      <td>6</td>\n",
              "      <td>620216</td>\n",
              "      <td>620216</td>\n",
              "      <td>1296</td>\n",
              "      <td>08-09-2022 16:30</td>\n",
              "      <td>38-000548</td>\n",
              "      <td>Размещена</td>\n",
              "      <td>https://xn--80az8a.xn--d1aqf.xn--p1ai/api/ext/file/70c73cad-5a83-4aa0-8c6d-28c79eedfbba</td>\n",
              "      <td>https://xn--80az8a.xn--d1aqf.xn--p1ai/api/ext/file/70c73cad-5a83-4aa0-8c6d-28c79eedfbba</td>\n",
              "      <td>1123959</td>\n",
              "      <td>21-11-2022 01:10</td>\n",
              "      <td>obj47925_pd38-000548_06</td>\n",
              "      <td>obj47925_pd38-000548</td>\n",
              "      <td>47925</td>\n",
              "    </tr>\n",
              "  </tbody>\n",
              "</table>\n",
              "</div>\n",
              "      <button class=\"colab-df-convert\" onclick=\"convertToInteractive('df-8292c4bc-c075-4851-a3ae-61cfc9956e0c')\"\n",
              "              title=\"Convert this dataframe to an interactive table.\"\n",
              "              style=\"display:none;\">\n",
              "        \n",
              "  <svg xmlns=\"http://www.w3.org/2000/svg\" height=\"24px\"viewBox=\"0 0 24 24\"\n",
              "       width=\"24px\">\n",
              "    <path d=\"M0 0h24v24H0V0z\" fill=\"none\"/>\n",
              "    <path d=\"M18.56 5.44l.94 2.06.94-2.06 2.06-.94-2.06-.94-.94-2.06-.94 2.06-2.06.94zm-11 1L8.5 8.5l.94-2.06 2.06-.94-2.06-.94L8.5 2.5l-.94 2.06-2.06.94zm10 10l.94 2.06.94-2.06 2.06-.94-2.06-.94-.94-2.06-.94 2.06-2.06.94z\"/><path d=\"M17.41 7.96l-1.37-1.37c-.4-.4-.92-.59-1.43-.59-.52 0-1.04.2-1.43.59L10.3 9.45l-7.72 7.72c-.78.78-.78 2.05 0 2.83L4 21.41c.39.39.9.59 1.41.59.51 0 1.02-.2 1.41-.59l7.78-7.78 2.81-2.81c.8-.78.8-2.07 0-2.86zM5.41 20L4 18.59l7.72-7.72 1.47 1.35L5.41 20z\"/>\n",
              "  </svg>\n",
              "      </button>\n",
              "      \n",
              "  <style>\n",
              "    .colab-df-container {\n",
              "      display:flex;\n",
              "      flex-wrap:wrap;\n",
              "      gap: 12px;\n",
              "    }\n",
              "\n",
              "    .colab-df-convert {\n",
              "      background-color: #E8F0FE;\n",
              "      border: none;\n",
              "      border-radius: 50%;\n",
              "      cursor: pointer;\n",
              "      display: none;\n",
              "      fill: #1967D2;\n",
              "      height: 32px;\n",
              "      padding: 0 0 0 0;\n",
              "      width: 32px;\n",
              "    }\n",
              "\n",
              "    .colab-df-convert:hover {\n",
              "      background-color: #E2EBFA;\n",
              "      box-shadow: 0px 1px 2px rgba(60, 64, 67, 0.3), 0px 1px 3px 1px rgba(60, 64, 67, 0.15);\n",
              "      fill: #174EA6;\n",
              "    }\n",
              "\n",
              "    [theme=dark] .colab-df-convert {\n",
              "      background-color: #3B4455;\n",
              "      fill: #D2E3FC;\n",
              "    }\n",
              "\n",
              "    [theme=dark] .colab-df-convert:hover {\n",
              "      background-color: #434B5C;\n",
              "      box-shadow: 0px 1px 3px 1px rgba(0, 0, 0, 0.15);\n",
              "      filter: drop-shadow(0px 1px 2px rgba(0, 0, 0, 0.3));\n",
              "      fill: #FFFFFF;\n",
              "    }\n",
              "  </style>\n",
              "\n",
              "      <script>\n",
              "        const buttonEl =\n",
              "          document.querySelector('#df-8292c4bc-c075-4851-a3ae-61cfc9956e0c button.colab-df-convert');\n",
              "        buttonEl.style.display =\n",
              "          google.colab.kernel.accessAllowed ? 'block' : 'none';\n",
              "\n",
              "        async function convertToInteractive(key) {\n",
              "          const element = document.querySelector('#df-8292c4bc-c075-4851-a3ae-61cfc9956e0c');\n",
              "          const dataTable =\n",
              "            await google.colab.kernel.invokeFunction('convertToInteractive',\n",
              "                                                     [key], {});\n",
              "          if (!dataTable) return;\n",
              "\n",
              "          const docLinkHtml = 'Like what you see? Visit the ' +\n",
              "            '<a target=\"_blank\" href=https://colab.research.google.com/notebooks/data_table.ipynb>data table notebook</a>'\n",
              "            + ' to learn more about interactive tables.';\n",
              "          element.innerHTML = '';\n",
              "          dataTable['output_type'] = 'display_data';\n",
              "          await google.colab.output.renderOutput(dataTable, element);\n",
              "          const docLink = document.createElement('div');\n",
              "          docLink.innerHTML = docLinkHtml;\n",
              "          element.appendChild(docLink);\n",
              "        }\n",
              "      </script>\n",
              "    </div>\n",
              "  </div>\n",
              "  "
            ]
          },
          "metadata": {},
          "execution_count": 512
        }
      ]
    },
    {
      "cell_type": "code",
      "source": [
        "documents"
      ],
      "metadata": {
        "id": "A5DilKMCoe6c",
        "outputId": "61bac0c2-3a67-40e8-d6fb-97beaae2ae59",
        "colab": {
          "base_uri": "https://localhost:8080/"
        }
      },
      "execution_count": null,
      "outputs": [
        {
          "output_type": "execute_result",
          "data": {
            "text/plain": [
              "{'data': [{'ordNum': 1,\n",
              "   'rpdId': 652865,\n",
              "   'pdId': 620216,\n",
              "   'devId': 1296,\n",
              "   'rpdIssueDttm': '10-11-2022 04:16',\n",
              "   'rpdNum': '38-000548',\n",
              "   'rpdPublStatusDesc': 'Размещена',\n",
              "   'rpdPdfLink': 'https://xn--80az8a.xn--d1aqf.xn--p1ai/api/ext/file/ce607034-266a-4e49-95f1-217c322a940a',\n",
              "   'rpdPdfLinkTest': 'https://xn--80az8a.xn--d1aqf.xn--p1ai/api/ext/file/ce607034-266a-4e49-95f1-217c322a940a',\n",
              "   'rpdPdfSize': '1126143',\n",
              "   'loadDttm': '21-11-2022 01:10',\n",
              "   'fileName': 'obj47925_pd38-000548_01',\n",
              "   'fileNameDownload': 'obj47925_pd38-000548',\n",
              "   'objId': 47925},\n",
              "  {'ordNum': 2,\n",
              "   'rpdId': 644383,\n",
              "   'pdId': 620216,\n",
              "   'devId': 1296,\n",
              "   'rpdIssueDttm': '10-10-2022 10:34',\n",
              "   'rpdNum': '38-000548',\n",
              "   'rpdPublStatusDesc': 'Размещена',\n",
              "   'rpdPdfLink': 'https://xn--80az8a.xn--d1aqf.xn--p1ai/api/ext/file/10b264ae-f152-4ac0-9db0-406d40a8a47f',\n",
              "   'rpdPdfLinkTest': 'https://xn--80az8a.xn--d1aqf.xn--p1ai/api/ext/file/10b264ae-f152-4ac0-9db0-406d40a8a47f',\n",
              "   'rpdPdfSize': '1126131',\n",
              "   'loadDttm': '21-11-2022 01:10',\n",
              "   'fileName': 'obj47925_pd38-000548_02',\n",
              "   'fileNameDownload': 'obj47925_pd38-000548',\n",
              "   'objId': 47925},\n",
              "  {'ordNum': 3,\n",
              "   'rpdId': 640101,\n",
              "   'pdId': 620216,\n",
              "   'devId': 1296,\n",
              "   'rpdIssueDttm': '05-10-2022 07:48',\n",
              "   'rpdNum': '38-000548',\n",
              "   'rpdPublStatusDesc': 'Размещена',\n",
              "   'rpdPdfLink': 'https://xn--80az8a.xn--d1aqf.xn--p1ai/api/ext/file/756e320c-8c44-4e31-8653-71238d3a257d',\n",
              "   'rpdPdfLinkTest': 'https://xn--80az8a.xn--d1aqf.xn--p1ai/api/ext/file/756e320c-8c44-4e31-8653-71238d3a257d',\n",
              "   'rpdPdfSize': '1126588',\n",
              "   'loadDttm': '21-11-2022 01:10',\n",
              "   'fileName': 'obj47925_pd38-000548_03',\n",
              "   'fileNameDownload': 'obj47925_pd38-000548',\n",
              "   'objId': 47925},\n",
              "  {'ordNum': 4,\n",
              "   'rpdId': 636091,\n",
              "   'pdId': 620216,\n",
              "   'devId': 1296,\n",
              "   'rpdIssueDttm': '13-09-2022 15:22',\n",
              "   'rpdNum': '38-000548',\n",
              "   'rpdPublStatusDesc': 'Размещена',\n",
              "   'rpdPdfLink': 'https://xn--80az8a.xn--d1aqf.xn--p1ai/api/ext/file/e60fe102-2daa-4649-ae7e-f181f13e3f6c',\n",
              "   'rpdPdfLinkTest': 'https://xn--80az8a.xn--d1aqf.xn--p1ai/api/ext/file/e60fe102-2daa-4649-ae7e-f181f13e3f6c',\n",
              "   'rpdPdfSize': '1123821',\n",
              "   'loadDttm': '21-11-2022 01:10',\n",
              "   'fileName': 'obj47925_pd38-000548_04',\n",
              "   'fileNameDownload': 'obj47925_pd38-000548',\n",
              "   'objId': 47925},\n",
              "  {'ordNum': 5,\n",
              "   'rpdId': 634846,\n",
              "   'pdId': 620216,\n",
              "   'devId': 1296,\n",
              "   'rpdIssueDttm': '09-09-2022 17:37',\n",
              "   'rpdNum': '38-000548',\n",
              "   'rpdPublStatusDesc': 'Размещена',\n",
              "   'rpdPdfLink': 'https://xn--80az8a.xn--d1aqf.xn--p1ai/api/ext/file/cd720523-87b1-497f-b1a8-f575b0a28f7b',\n",
              "   'rpdPdfLinkTest': 'https://xn--80az8a.xn--d1aqf.xn--p1ai/api/ext/file/cd720523-87b1-497f-b1a8-f575b0a28f7b',\n",
              "   'rpdPdfSize': '1124056',\n",
              "   'loadDttm': '21-11-2022 01:10',\n",
              "   'fileName': 'obj47925_pd38-000548_05',\n",
              "   'fileNameDownload': 'obj47925_pd38-000548',\n",
              "   'objId': 47925},\n",
              "  {'ordNum': 6,\n",
              "   'rpdId': 620216,\n",
              "   'pdId': 620216,\n",
              "   'devId': 1296,\n",
              "   'rpdIssueDttm': '08-09-2022 16:30',\n",
              "   'rpdNum': '38-000548',\n",
              "   'rpdPublStatusDesc': 'Размещена',\n",
              "   'rpdPdfLink': 'https://xn--80az8a.xn--d1aqf.xn--p1ai/api/ext/file/70c73cad-5a83-4aa0-8c6d-28c79eedfbba',\n",
              "   'rpdPdfLinkTest': 'https://xn--80az8a.xn--d1aqf.xn--p1ai/api/ext/file/70c73cad-5a83-4aa0-8c6d-28c79eedfbba',\n",
              "   'rpdPdfSize': '1123959',\n",
              "   'loadDttm': '21-11-2022 01:10',\n",
              "   'fileName': 'obj47925_pd38-000548_06',\n",
              "   'fileNameDownload': 'obj47925_pd38-000548',\n",
              "   'objId': 47925}],\n",
              " 'errcode': '0'}"
            ]
          },
          "metadata": {},
          "execution_count": 488
        }
      ]
    },
    {
      "cell_type": "code",
      "source": [
        "type(documents)"
      ],
      "metadata": {
        "colab": {
          "base_uri": "https://localhost:8080/"
        },
        "id": "-0WHLbQ14ptz",
        "outputId": "7f85837b-2189-4f0b-b483-0301235393ad"
      },
      "execution_count": null,
      "outputs": [
        {
          "output_type": "execute_result",
          "data": {
            "text/plain": [
              "dict"
            ]
          },
          "metadata": {},
          "execution_count": 490
        }
      ]
    },
    {
      "cell_type": "code",
      "source": [
        "type(documents)"
      ],
      "metadata": {
        "id": "aTz0JCyDoZwE",
        "outputId": "3f9e3ca5-4a03-4a7d-f670-f9ce1d5c5aa7",
        "colab": {
          "base_uri": "https://localhost:8080/"
        }
      },
      "execution_count": null,
      "outputs": [
        {
          "output_type": "execute_result",
          "data": {
            "text/plain": [
              "list"
            ]
          },
          "metadata": {},
          "execution_count": 483
        }
      ]
    },
    {
      "cell_type": "code",
      "source": [
        "!pip install tabula-py as tabula"
      ],
      "metadata": {
        "colab": {
          "base_uri": "https://localhost:8080/"
        },
        "id": "j-H0fVWl5JBk",
        "outputId": "03db44b3-36f9-46dd-cbd4-00d46d015a0e"
      },
      "execution_count": null,
      "outputs": [
        {
          "output_type": "stream",
          "name": "stdout",
          "text": [
            "Looking in indexes: https://pypi.org/simple, https://us-python.pkg.dev/colab-wheels/public/simple/\n",
            "Requirement already satisfied: tabula-py in /usr/local/lib/python3.7/dist-packages (2.5.1)\n",
            "\u001b[31mERROR: Could not find a version that satisfies the requirement as (from versions: none)\u001b[0m\n",
            "\u001b[31mERROR: No matching distribution found for as\u001b[0m\n"
          ]
        }
      ]
    },
    {
      "cell_type": "code",
      "source": [
        "!pip install fitz"
      ],
      "metadata": {
        "colab": {
          "base_uri": "https://localhost:8080/"
        },
        "id": "hMXApjdD6jGD",
        "outputId": "02878d51-3249-40c7-fe03-c7e142179786"
      },
      "execution_count": null,
      "outputs": [
        {
          "output_type": "stream",
          "name": "stdout",
          "text": [
            "Looking in indexes: https://pypi.org/simple, https://us-python.pkg.dev/colab-wheels/public/simple/\n",
            "Collecting fitz\n",
            "  Downloading fitz-0.0.1.dev2-py2.py3-none-any.whl (20 kB)\n",
            "Collecting nipype\n",
            "  Downloading nipype-1.8.5-py3-none-any.whl (3.2 MB)\n",
            "\u001b[K     |████████████████████████████████| 3.2 MB 6.7 MB/s \n",
            "\u001b[?25hRequirement already satisfied: httplib2 in /usr/local/lib/python3.7/dist-packages (from fitz) (0.17.4)\n",
            "Requirement already satisfied: nibabel in /usr/local/lib/python3.7/dist-packages (from fitz) (3.0.2)\n",
            "Collecting configobj\n",
            "  Downloading configobj-5.0.6.tar.gz (33 kB)\n",
            "Requirement already satisfied: numpy in /usr/local/lib/python3.7/dist-packages (from fitz) (1.21.6)\n",
            "Requirement already satisfied: scipy in /usr/local/lib/python3.7/dist-packages (from fitz) (1.7.3)\n",
            "Collecting pyxnat\n",
            "  Downloading pyxnat-1.5-py3-none-any.whl (95 kB)\n",
            "\u001b[K     |████████████████████████████████| 95 kB 3.4 MB/s \n",
            "\u001b[?25hCollecting configparser\n",
            "  Downloading configparser-5.3.0-py3-none-any.whl (19 kB)\n",
            "Requirement already satisfied: pandas in /usr/local/lib/python3.7/dist-packages (from fitz) (1.3.5)\n",
            "Requirement already satisfied: six in /usr/local/lib/python3.7/dist-packages (from configobj->fitz) (1.15.0)\n",
            "Requirement already satisfied: pydot>=1.2.3 in /usr/local/lib/python3.7/dist-packages (from nipype->fitz) (1.3.0)\n",
            "Requirement already satisfied: filelock>=3.0.0 in /usr/local/lib/python3.7/dist-packages (from nipype->fitz) (3.8.0)\n",
            "Collecting simplejson>=3.8.0\n",
            "  Downloading simplejson-3.18.0-cp37-cp37m-manylinux_2_5_x86_64.manylinux1_x86_64.manylinux_2_12_x86_64.manylinux2010_x86_64.whl (130 kB)\n",
            "\u001b[K     |████████████████████████████████| 130 kB 55.6 MB/s \n",
            "\u001b[?25hCollecting etelemetry>=0.2.0\n",
            "  Downloading etelemetry-0.3.0-py3-none-any.whl (6.3 kB)\n",
            "Requirement already satisfied: packaging in /usr/local/lib/python3.7/dist-packages (from nipype->fitz) (21.3)\n",
            "Collecting prov>=1.5.2\n",
            "  Downloading prov-2.0.0-py3-none-any.whl (421 kB)\n",
            "\u001b[K     |████████████████████████████████| 421 kB 56.8 MB/s \n",
            "\u001b[?25hCollecting rdflib>=5.0.0\n",
            "  Downloading rdflib-6.2.0-py3-none-any.whl (500 kB)\n",
            "\u001b[K     |████████████████████████████████| 500 kB 53.2 MB/s \n",
            "\u001b[?25hCollecting traits!=5.0,<6.4,>=4.6\n",
            "  Downloading traits-6.3.2-cp37-cp37m-manylinux_2_5_x86_64.manylinux1_x86_64.manylinux_2_12_x86_64.manylinux2010_x86_64.whl (5.1 MB)\n",
            "\u001b[K     |████████████████████████████████| 5.1 MB 37.4 MB/s \n",
            "\u001b[?25hRequirement already satisfied: python-dateutil>=2.2 in /usr/local/lib/python3.7/dist-packages (from nipype->fitz) (2.8.2)\n",
            "Requirement already satisfied: networkx>=2.0 in /usr/local/lib/python3.7/dist-packages (from nipype->fitz) (2.6.3)\n",
            "Requirement already satisfied: click>=6.6.0 in /usr/local/lib/python3.7/dist-packages (from nipype->fitz) (7.1.2)\n",
            "Collecting looseversion\n",
            "  Downloading looseversion-1.0.2-py3-none-any.whl (6.4 kB)\n",
            "Collecting ci-info>=0.2\n",
            "  Downloading ci_info-0.3.0-py3-none-any.whl (7.8 kB)\n",
            "Requirement already satisfied: requests in /usr/local/lib/python3.7/dist-packages (from etelemetry>=0.2.0->nipype->fitz) (2.23.0)\n",
            "Requirement already satisfied: lxml>=3.3.5 in /usr/local/lib/python3.7/dist-packages (from prov>=1.5.2->nipype->fitz) (4.9.1)\n",
            "Requirement already satisfied: pyparsing>=2.1.4 in /usr/local/lib/python3.7/dist-packages (from pydot>=1.2.3->nipype->fitz) (3.0.9)\n",
            "Collecting isodate\n",
            "  Downloading isodate-0.6.1-py2.py3-none-any.whl (41 kB)\n",
            "\u001b[K     |████████████████████████████████| 41 kB 515 kB/s \n",
            "\u001b[?25hRequirement already satisfied: importlib-metadata in /usr/local/lib/python3.7/dist-packages (from rdflib>=5.0.0->nipype->fitz) (4.13.0)\n",
            "Requirement already satisfied: setuptools in /usr/local/lib/python3.7/dist-packages (from rdflib>=5.0.0->nipype->fitz) (57.4.0)\n",
            "Requirement already satisfied: typing-extensions>=3.6.4 in /usr/local/lib/python3.7/dist-packages (from importlib-metadata->rdflib>=5.0.0->nipype->fitz) (4.1.1)\n",
            "Requirement already satisfied: zipp>=0.5 in /usr/local/lib/python3.7/dist-packages (from importlib-metadata->rdflib>=5.0.0->nipype->fitz) (3.10.0)\n",
            "Requirement already satisfied: pytz>=2017.3 in /usr/local/lib/python3.7/dist-packages (from pandas->fitz) (2022.6)\n",
            "Requirement already satisfied: pathlib>=1.0 in /usr/local/lib/python3.7/dist-packages (from pyxnat->fitz) (1.0.1)\n",
            "Requirement already satisfied: future>=0.16 in /usr/local/lib/python3.7/dist-packages (from pyxnat->fitz) (0.16.0)\n",
            "Requirement already satisfied: idna<3,>=2.5 in /usr/local/lib/python3.7/dist-packages (from requests->etelemetry>=0.2.0->nipype->fitz) (2.10)\n",
            "Requirement already satisfied: chardet<4,>=3.0.2 in /usr/local/lib/python3.7/dist-packages (from requests->etelemetry>=0.2.0->nipype->fitz) (3.0.4)\n",
            "Requirement already satisfied: urllib3!=1.25.0,!=1.25.1,<1.26,>=1.21.1 in /usr/local/lib/python3.7/dist-packages (from requests->etelemetry>=0.2.0->nipype->fitz) (1.24.3)\n",
            "Requirement already satisfied: certifi>=2017.4.17 in /usr/local/lib/python3.7/dist-packages (from requests->etelemetry>=0.2.0->nipype->fitz) (2022.9.24)\n",
            "Building wheels for collected packages: configobj\n",
            "  Building wheel for configobj (setup.py) ... \u001b[?25l\u001b[?25hdone\n",
            "  Created wheel for configobj: filename=configobj-5.0.6-py3-none-any.whl size=34546 sha256=850c4286230dd8ec5d3f1f1007815bc4b0eaa0dd65c9a70eb318c5e9d8761e79\n",
            "  Stored in directory: /root/.cache/pip/wheels/0d/c4/19/13d74440f2a571841db6b6e0a273694327498884dafb9cf978\n",
            "Successfully built configobj\n",
            "Installing collected packages: isodate, rdflib, ci-info, traits, simplejson, prov, looseversion, etelemetry, pyxnat, nipype, configparser, configobj, fitz\n",
            "Successfully installed ci-info-0.3.0 configobj-5.0.6 configparser-5.3.0 etelemetry-0.3.0 fitz-0.0.1.dev2 isodate-0.6.1 looseversion-1.0.2 nipype-1.8.5 prov-2.0.0 pyxnat-1.5 rdflib-6.2.0 simplejson-3.18.0 traits-6.3.2\n"
          ]
        }
      ]
    },
    {
      "cell_type": "code",
      "source": [
        "!pip install PyMuPDF"
      ],
      "metadata": {
        "colab": {
          "base_uri": "https://localhost:8080/"
        },
        "id": "YM2tTpap6xIT",
        "outputId": "942c88b6-907b-4515-8970-efbaf020318e"
      },
      "execution_count": null,
      "outputs": [
        {
          "output_type": "stream",
          "name": "stdout",
          "text": [
            "Looking in indexes: https://pypi.org/simple, https://us-python.pkg.dev/colab-wheels/public/simple/\n",
            "Collecting PyMuPDF\n",
            "  Downloading PyMuPDF-1.21.0-cp37-cp37m-manylinux_2_17_x86_64.manylinux2014_x86_64.whl (14.0 MB)\n",
            "\u001b[K     |████████████████████████████████| 14.0 MB 4.4 MB/s \n",
            "\u001b[?25hInstalling collected packages: PyMuPDF\n",
            "Successfully installed PyMuPDF-1.21.0\n"
          ]
        }
      ]
    },
    {
      "cell_type": "code",
      "source": [
        "!pip install PyPDF2"
      ],
      "metadata": {
        "colab": {
          "base_uri": "https://localhost:8080/"
        },
        "id": "ZjJQxwdj_ozz",
        "outputId": "50ff62a6-99f8-48c8-a8c2-65910cbb428b"
      },
      "execution_count": null,
      "outputs": [
        {
          "output_type": "stream",
          "name": "stdout",
          "text": [
            "Looking in indexes: https://pypi.org/simple, https://us-python.pkg.dev/colab-wheels/public/simple/\n",
            "Collecting PyPDF2\n",
            "  Downloading pypdf2-2.11.2-py3-none-any.whl (220 kB)\n",
            "\u001b[K     |████████████████████████████████| 220 kB 5.2 MB/s \n",
            "\u001b[?25hRequirement already satisfied: typing_extensions>=3.10.0.0 in /usr/local/lib/python3.7/dist-packages (from PyPDF2) (4.1.1)\n",
            "Installing collected packages: PyPDF2\n",
            "Successfully installed PyPDF2-2.11.2\n"
          ]
        }
      ]
    },
    {
      "cell_type": "code",
      "source": [
        "import fitz"
      ],
      "metadata": {
        "id": "bvkBvKfN6k8z"
      },
      "execution_count": null,
      "outputs": []
    },
    {
      "cell_type": "code",
      "source": [
        "import os.path\n",
        "import fitz\n",
        "from PyPDF2 import PdfFileReader, PdfFileWriter, PdfFileMerger"
      ],
      "metadata": {
        "id": "xG1ibkhvBesL"
      },
      "execution_count": null,
      "outputs": []
    },
    {
      "cell_type": "code",
      "source": [
        "import tabula"
      ],
      "metadata": {
        "id": "GiP7m6IO5uvT"
      },
      "execution_count": null,
      "outputs": []
    },
    {
      "cell_type": "code",
      "source": [
        "#rpdPdfLink='https://xn--80az8a.xn--d1aqf.xn--p1ai/api/ext/file/cd720523-87b1-497f-b1a8-f575b0a28f7b'\n",
        "#rpdPdfLink='https://xn--80az8a.xn--d1aqf.xn--p1ai/api/ext/file/ce607034-266a-4e49-95f1-217c322a940a'+'?filename='+'obj47925_pd38-000548'+'.pdf'\n",
        "rpdPdfLink='https://xn--80az8a.xn--d1aqf.xn--p1ai/api/ext/file/70c73cad-5a83-4aa0-8c6d-28c79eedfbba'\n",
        "#rpdPdfLink='https://amgrad.ru/upload/kelnik.adminpage/381/55n88vusgu86i6jwcimdy8ieynii26wg/Proektnaya-deklaratsiya-korpus-3-ot-07.11.2022.pdf'"
      ],
      "metadata": {
        "id": "4Diqgii85fvL"
      },
      "execution_count": null,
      "outputs": []
    },
    {
      "cell_type": "code",
      "source": [
        "print(rpdPdfLink)"
      ],
      "metadata": {
        "colab": {
          "base_uri": "https://localhost:8080/"
        },
        "id": "hCB7ZeKtDGYF",
        "outputId": "67b9760e-3582-4ebd-8ab2-7ca90398cbe2"
      },
      "execution_count": null,
      "outputs": [
        {
          "output_type": "stream",
          "name": "stdout",
          "text": [
            "https://amgrad.ru/upload/kelnik.adminpage/381/55n88vusgu86i6jwcimdy8ieynii26wg/Proektnaya-deklaratsiya-korpus-3-ot-07.11.2022.pdf\n"
          ]
        }
      ]
    },
    {
      "cell_type": "code",
      "source": [
        "os.path.isfile(rpdPdfLink)"
      ],
      "metadata": {
        "colab": {
          "base_uri": "https://localhost:8080/"
        },
        "id": "HcxRYvU1__wb",
        "outputId": "1e19c6f8-bb96-4f7a-afb3-55b98e6682f4"
      },
      "execution_count": null,
      "outputs": [
        {
          "output_type": "execute_result",
          "data": {
            "text/plain": [
              "False"
            ]
          },
          "metadata": {},
          "execution_count": 77
        }
      ]
    },
    {
      "cell_type": "code",
      "source": [
        "tables = tabula.read_pdf(rpdPdfLink, pages='all', pandas_options={'header': None})"
      ],
      "metadata": {
        "id": "4HD0fFpc4u9L"
      },
      "execution_count": null,
      "outputs": []
    },
    {
      "cell_type": "code",
      "source": [
        "from PyPDF2 import PdfFileReader\n",
        "import re"
      ],
      "metadata": {
        "id": "UKAJUB4h_ldk"
      },
      "execution_count": null,
      "outputs": []
    },
    {
      "cell_type": "code",
      "source": [
        "r = requests.get(rpdPdfLink, stream=True)"
      ],
      "metadata": {
        "id": "WGczsz4JA9dL"
      },
      "execution_count": null,
      "outputs": []
    },
    {
      "cell_type": "code",
      "source": [
        "r"
      ],
      "metadata": {
        "colab": {
          "base_uri": "https://localhost:8080/"
        },
        "id": "_3jjaKy7BFot",
        "outputId": "48a0c4b7-f543-417f-9809-7b2a629f2523"
      },
      "execution_count": null,
      "outputs": [
        {
          "output_type": "execute_result",
          "data": {
            "text/plain": [
              "<Response [200]>"
            ]
          },
          "metadata": {},
          "execution_count": 80
        }
      ]
    },
    {
      "cell_type": "code",
      "source": [
        "with open(rpdPdfLink) as filehandle:  \n",
        "    pdf = PdfFileReader(filehandle)"
      ],
      "metadata": {
        "colab": {
          "base_uri": "https://localhost:8080/",
          "height": 182
        },
        "id": "c3Ax_F4z_uBj",
        "outputId": "866c1388-8ef2-41c3-91dc-bd711c0b6210"
      },
      "execution_count": null,
      "outputs": [
        {
          "output_type": "error",
          "ename": "FileNotFoundError",
          "evalue": "ignored",
          "traceback": [
            "\u001b[0;31m---------------------------------------------------------------------------\u001b[0m",
            "\u001b[0;31mFileNotFoundError\u001b[0m                         Traceback (most recent call last)",
            "\u001b[0;32m<ipython-input-78-0c0ba9756b3b>\u001b[0m in \u001b[0;36m<module>\u001b[0;34m\u001b[0m\n\u001b[0;32m----> 1\u001b[0;31m \u001b[0;32mwith\u001b[0m \u001b[0mopen\u001b[0m\u001b[0;34m(\u001b[0m\u001b[0mrpdPdfLink\u001b[0m\u001b[0;34m)\u001b[0m \u001b[0;32mas\u001b[0m \u001b[0mfilehandle\u001b[0m\u001b[0;34m:\u001b[0m\u001b[0;34m\u001b[0m\u001b[0;34m\u001b[0m\u001b[0m\n\u001b[0m\u001b[1;32m      2\u001b[0m     \u001b[0mpdf\u001b[0m \u001b[0;34m=\u001b[0m \u001b[0mPdfFileReader\u001b[0m\u001b[0;34m(\u001b[0m\u001b[0mfilehandle\u001b[0m\u001b[0;34m)\u001b[0m\u001b[0;34m\u001b[0m\u001b[0;34m\u001b[0m\u001b[0m\n",
            "\u001b[0;31mFileNotFoundError\u001b[0m: [Errno 2] No such file or directory: 'https://amgrad.ru/upload/kelnik.adminpage/381/55n88vusgu86i6jwcimdy8ieynii26wg/Proektnaya-deklaratsiya-korpus-3-ot-07.11.2022.pdf'"
          ]
        }
      ]
    },
    {
      "cell_type": "code",
      "source": [
        "with fitz.open(rpdPdfLink) as doc:\n",
        "                text = []\n",
        "                for page in doc:\n",
        "                    text += page.get_text('blocks')"
      ],
      "metadata": {
        "colab": {
          "base_uri": "https://localhost:8080/",
          "height": 339
        },
        "id": "n-vkt7Fp6YbL",
        "outputId": "5765646c-4999-4e5f-918f-fb1a861880dc"
      },
      "execution_count": null,
      "outputs": [
        {
          "output_type": "error",
          "ename": "FileNotFoundError",
          "evalue": "ignored",
          "traceback": [
            "\u001b[0;31m---------------------------------------------------------------------------\u001b[0m",
            "\u001b[0;31mFileNotFoundError\u001b[0m                         Traceback (most recent call last)",
            "\u001b[0;32m<ipython-input-81-82fe7620d4b3>\u001b[0m in \u001b[0;36m<module>\u001b[0;34m\u001b[0m\n\u001b[0;32m----> 1\u001b[0;31m \u001b[0;32mwith\u001b[0m \u001b[0mfitz\u001b[0m\u001b[0;34m.\u001b[0m\u001b[0mopen\u001b[0m\u001b[0;34m(\u001b[0m\u001b[0mrpdPdfLink\u001b[0m\u001b[0;34m)\u001b[0m \u001b[0;32mas\u001b[0m \u001b[0mdoc\u001b[0m\u001b[0;34m:\u001b[0m\u001b[0;34m\u001b[0m\u001b[0;34m\u001b[0m\u001b[0m\n\u001b[0m\u001b[1;32m      2\u001b[0m                 \u001b[0mtext\u001b[0m \u001b[0;34m=\u001b[0m \u001b[0;34m[\u001b[0m\u001b[0;34m]\u001b[0m\u001b[0;34m\u001b[0m\u001b[0;34m\u001b[0m\u001b[0m\n\u001b[1;32m      3\u001b[0m                 \u001b[0;32mfor\u001b[0m \u001b[0mpage\u001b[0m \u001b[0;32min\u001b[0m \u001b[0mdoc\u001b[0m\u001b[0;34m:\u001b[0m\u001b[0;34m\u001b[0m\u001b[0;34m\u001b[0m\u001b[0m\n\u001b[1;32m      4\u001b[0m                     \u001b[0mtext\u001b[0m \u001b[0;34m+=\u001b[0m \u001b[0mpage\u001b[0m\u001b[0;34m.\u001b[0m\u001b[0mget_text\u001b[0m\u001b[0;34m(\u001b[0m\u001b[0;34m'blocks'\u001b[0m\u001b[0;34m)\u001b[0m\u001b[0;34m\u001b[0m\u001b[0;34m\u001b[0m\u001b[0m\n",
            "\u001b[0;32m/usr/local/lib/python3.7/dist-packages/fitz/fitz.py\u001b[0m in \u001b[0;36m__init__\u001b[0;34m(self, filename, stream, filetype, rect, width, height, fontsize)\u001b[0m\n\u001b[1;32m   3950\u001b[0m             \u001b[0;32mif\u001b[0m \u001b[0;32mnot\u001b[0m \u001b[0mos\u001b[0m\u001b[0;34m.\u001b[0m\u001b[0mpath\u001b[0m\u001b[0;34m.\u001b[0m\u001b[0mexists\u001b[0m\u001b[0;34m(\u001b[0m\u001b[0mfilename\u001b[0m\u001b[0;34m)\u001b[0m\u001b[0;34m:\u001b[0m\u001b[0;34m\u001b[0m\u001b[0;34m\u001b[0m\u001b[0m\n\u001b[1;32m   3951\u001b[0m                 \u001b[0mmsg\u001b[0m \u001b[0;34m=\u001b[0m \u001b[0;34mf\"no such file: '{filename}'\"\u001b[0m\u001b[0;34m\u001b[0m\u001b[0;34m\u001b[0m\u001b[0m\n\u001b[0;32m-> 3952\u001b[0;31m                 \u001b[0;32mraise\u001b[0m \u001b[0mFileNotFoundError\u001b[0m\u001b[0;34m(\u001b[0m\u001b[0mmsg\u001b[0m\u001b[0;34m)\u001b[0m\u001b[0;34m\u001b[0m\u001b[0;34m\u001b[0m\u001b[0m\n\u001b[0m\u001b[1;32m   3953\u001b[0m             \u001b[0;32melif\u001b[0m \u001b[0;32mnot\u001b[0m \u001b[0mos\u001b[0m\u001b[0;34m.\u001b[0m\u001b[0mpath\u001b[0m\u001b[0;34m.\u001b[0m\u001b[0misfile\u001b[0m\u001b[0;34m(\u001b[0m\u001b[0mfilename\u001b[0m\u001b[0;34m)\u001b[0m\u001b[0;34m:\u001b[0m\u001b[0;34m\u001b[0m\u001b[0;34m\u001b[0m\u001b[0m\n\u001b[1;32m   3954\u001b[0m                 \u001b[0mmsg\u001b[0m \u001b[0;34m=\u001b[0m \u001b[0;34mf\"'{filename}' is no file\"\u001b[0m\u001b[0;34m\u001b[0m\u001b[0;34m\u001b[0m\u001b[0m\n",
            "\u001b[0;31mFileNotFoundError\u001b[0m: no such file: 'https://amgrad.ru/upload/kelnik.adminpage/381/55n88vusgu86i6jwcimdy8ieynii26wg/Proektnaya-deklaratsiya-korpus-3-ot-07.11.2022.pdf'"
          ]
        }
      ]
    },
    {
      "cell_type": "code",
      "source": [
        "tables[108]"
      ],
      "metadata": {
        "colab": {
          "base_uri": "https://localhost:8080/",
          "height": 491
        },
        "id": "f8sKny-2588T",
        "outputId": "02db78c3-0e4e-4e38-d519-da5972247317"
      },
      "execution_count": null,
      "outputs": [
        {
          "output_type": "execute_result",
          "data": {
            "text/plain": [
              "     0  \\\n",
              "0  NaN   \n",
              "1  NaN   \n",
              "2  NaN   \n",
              "3  NaN   \n",
              "4  NaN   \n",
              "5  NaN   \n",
              "6  NaN   \n",
              "7  NaN   \n",
              "8  NaN   \n",
              "9  NaN   \n",
              "10 NaN   \n",
              "\n",
              "                                                                                                                                                                                                          1  \\\n",
              "0   19.7 О количестве заключенных\\rдоговоров (общая площадь\\rобъектов долевого\\rстроительства и цена договора) с\\rуказанием вида объекта\\rдолевого строительства (жилое\\rпомещение, нежилое\\rпомещение, ...   \n",
              "1                                                                                                                                                                                                       NaN   \n",
              "2                                                                                                                                                                                                       NaN   \n",
              "3                                                                                                                                                                                                       NaN   \n",
              "4                                                                                                                                                                                                       NaN   \n",
              "5                                                                                                                                                                                                       NaN   \n",
              "6                                                                                                                                                                                                       NaN   \n",
              "7                                                                                                                                                                                                       NaN   \n",
              "8                                                                                                                                                                                                       NaN   \n",
              "9                                                                                                                                                                                                       NaN   \n",
              "10                                                                                                                                                                                                      NaN   \n",
              "\n",
              "     2             3   4                                                                                                                          5   6  \n",
              "0  NaN        19.7.1 NaN                                                                    О количестве договоров участия в долевом строительстве: NaN  \n",
              "1  NaN      19.7.1.1 NaN                                                                                        Вид объекта долевого строительства: NaN  \n",
              "2  NaN    19.7.1.1.1 NaN                                                                                                           Жилые помещения: NaN  \n",
              "3  NaN  19.7.1.1.1.1 NaN                                                     Количество договоров, заключенных с использованием счетов эскроу:\\r845 NaN  \n",
              "4  NaN  19.7.1.1.1.2 NaN         Количество договоров, заключенных при условии уплаты обязательных отчислений\\r(взносов) в компенсационный фонд:\\r0 NaN  \n",
              "5  NaN  19.7.1.1.1.3 NaN  Количество договоров, заключенных с использованием иных способов обеспечения\\rгражданской ответственности застройщика:\\r0 NaN  \n",
              "6  NaN    19.7.1.1.2 NaN                                                                                                         Нежилые помещения: NaN  \n",
              "7  NaN  19.7.1.1.2.1 NaN                                                       Количество договоров, заключенных с использованием счетов эскроу:\\r0 NaN  \n",
              "8  NaN  19.7.1.1.2.2 NaN         Количество договоров, заключенных при условии уплаты обязательных отчислений\\r(взносов) в компенсационный фонд:\\r0 NaN  \n",
              "9  NaN  19.7.1.1.2.3 NaN  Количество договоров, заключенных с использованием иных способов обеспечения\\rгражданской ответственности застройщика:\\r0 NaN  \n",
              "10 NaN    19.7.1.1.3 NaN                                                                                                              Машино-места: NaN  "
            ],
            "text/html": [
              "\n",
              "  <div id=\"df-3e7643c6-b1de-44a7-90e3-9e95e75b0676\">\n",
              "    <div class=\"colab-df-container\">\n",
              "      <div>\n",
              "<style scoped>\n",
              "    .dataframe tbody tr th:only-of-type {\n",
              "        vertical-align: middle;\n",
              "    }\n",
              "\n",
              "    .dataframe tbody tr th {\n",
              "        vertical-align: top;\n",
              "    }\n",
              "\n",
              "    .dataframe thead th {\n",
              "        text-align: right;\n",
              "    }\n",
              "</style>\n",
              "<table border=\"1\" class=\"dataframe\">\n",
              "  <thead>\n",
              "    <tr style=\"text-align: right;\">\n",
              "      <th></th>\n",
              "      <th>0</th>\n",
              "      <th>1</th>\n",
              "      <th>2</th>\n",
              "      <th>3</th>\n",
              "      <th>4</th>\n",
              "      <th>5</th>\n",
              "      <th>6</th>\n",
              "    </tr>\n",
              "  </thead>\n",
              "  <tbody>\n",
              "    <tr>\n",
              "      <th>0</th>\n",
              "      <td>NaN</td>\n",
              "      <td>19.7 О количестве заключенных\\rдоговоров (общая площадь\\rобъектов долевого\\rстроительства и цена договора) с\\rуказанием вида объекта\\rдолевого строительства (жилое\\rпомещение, нежилое\\rпомещение, ...</td>\n",
              "      <td>NaN</td>\n",
              "      <td>19.7.1</td>\n",
              "      <td>NaN</td>\n",
              "      <td>О количестве договоров участия в долевом строительстве:</td>\n",
              "      <td>NaN</td>\n",
              "    </tr>\n",
              "    <tr>\n",
              "      <th>1</th>\n",
              "      <td>NaN</td>\n",
              "      <td>NaN</td>\n",
              "      <td>NaN</td>\n",
              "      <td>19.7.1.1</td>\n",
              "      <td>NaN</td>\n",
              "      <td>Вид объекта долевого строительства:</td>\n",
              "      <td>NaN</td>\n",
              "    </tr>\n",
              "    <tr>\n",
              "      <th>2</th>\n",
              "      <td>NaN</td>\n",
              "      <td>NaN</td>\n",
              "      <td>NaN</td>\n",
              "      <td>19.7.1.1.1</td>\n",
              "      <td>NaN</td>\n",
              "      <td>Жилые помещения:</td>\n",
              "      <td>NaN</td>\n",
              "    </tr>\n",
              "    <tr>\n",
              "      <th>3</th>\n",
              "      <td>NaN</td>\n",
              "      <td>NaN</td>\n",
              "      <td>NaN</td>\n",
              "      <td>19.7.1.1.1.1</td>\n",
              "      <td>NaN</td>\n",
              "      <td>Количество договоров, заключенных с использованием счетов эскроу:\\r845</td>\n",
              "      <td>NaN</td>\n",
              "    </tr>\n",
              "    <tr>\n",
              "      <th>4</th>\n",
              "      <td>NaN</td>\n",
              "      <td>NaN</td>\n",
              "      <td>NaN</td>\n",
              "      <td>19.7.1.1.1.2</td>\n",
              "      <td>NaN</td>\n",
              "      <td>Количество договоров, заключенных при условии уплаты обязательных отчислений\\r(взносов) в компенсационный фонд:\\r0</td>\n",
              "      <td>NaN</td>\n",
              "    </tr>\n",
              "    <tr>\n",
              "      <th>5</th>\n",
              "      <td>NaN</td>\n",
              "      <td>NaN</td>\n",
              "      <td>NaN</td>\n",
              "      <td>19.7.1.1.1.3</td>\n",
              "      <td>NaN</td>\n",
              "      <td>Количество договоров, заключенных с использованием иных способов обеспечения\\rгражданской ответственности застройщика:\\r0</td>\n",
              "      <td>NaN</td>\n",
              "    </tr>\n",
              "    <tr>\n",
              "      <th>6</th>\n",
              "      <td>NaN</td>\n",
              "      <td>NaN</td>\n",
              "      <td>NaN</td>\n",
              "      <td>19.7.1.1.2</td>\n",
              "      <td>NaN</td>\n",
              "      <td>Нежилые помещения:</td>\n",
              "      <td>NaN</td>\n",
              "    </tr>\n",
              "    <tr>\n",
              "      <th>7</th>\n",
              "      <td>NaN</td>\n",
              "      <td>NaN</td>\n",
              "      <td>NaN</td>\n",
              "      <td>19.7.1.1.2.1</td>\n",
              "      <td>NaN</td>\n",
              "      <td>Количество договоров, заключенных с использованием счетов эскроу:\\r0</td>\n",
              "      <td>NaN</td>\n",
              "    </tr>\n",
              "    <tr>\n",
              "      <th>8</th>\n",
              "      <td>NaN</td>\n",
              "      <td>NaN</td>\n",
              "      <td>NaN</td>\n",
              "      <td>19.7.1.1.2.2</td>\n",
              "      <td>NaN</td>\n",
              "      <td>Количество договоров, заключенных при условии уплаты обязательных отчислений\\r(взносов) в компенсационный фонд:\\r0</td>\n",
              "      <td>NaN</td>\n",
              "    </tr>\n",
              "    <tr>\n",
              "      <th>9</th>\n",
              "      <td>NaN</td>\n",
              "      <td>NaN</td>\n",
              "      <td>NaN</td>\n",
              "      <td>19.7.1.1.2.3</td>\n",
              "      <td>NaN</td>\n",
              "      <td>Количество договоров, заключенных с использованием иных способов обеспечения\\rгражданской ответственности застройщика:\\r0</td>\n",
              "      <td>NaN</td>\n",
              "    </tr>\n",
              "    <tr>\n",
              "      <th>10</th>\n",
              "      <td>NaN</td>\n",
              "      <td>NaN</td>\n",
              "      <td>NaN</td>\n",
              "      <td>19.7.1.1.3</td>\n",
              "      <td>NaN</td>\n",
              "      <td>Машино-места:</td>\n",
              "      <td>NaN</td>\n",
              "    </tr>\n",
              "  </tbody>\n",
              "</table>\n",
              "</div>\n",
              "      <button class=\"colab-df-convert\" onclick=\"convertToInteractive('df-3e7643c6-b1de-44a7-90e3-9e95e75b0676')\"\n",
              "              title=\"Convert this dataframe to an interactive table.\"\n",
              "              style=\"display:none;\">\n",
              "        \n",
              "  <svg xmlns=\"http://www.w3.org/2000/svg\" height=\"24px\"viewBox=\"0 0 24 24\"\n",
              "       width=\"24px\">\n",
              "    <path d=\"M0 0h24v24H0V0z\" fill=\"none\"/>\n",
              "    <path d=\"M18.56 5.44l.94 2.06.94-2.06 2.06-.94-2.06-.94-.94-2.06-.94 2.06-2.06.94zm-11 1L8.5 8.5l.94-2.06 2.06-.94-2.06-.94L8.5 2.5l-.94 2.06-2.06.94zm10 10l.94 2.06.94-2.06 2.06-.94-2.06-.94-.94-2.06-.94 2.06-2.06.94z\"/><path d=\"M17.41 7.96l-1.37-1.37c-.4-.4-.92-.59-1.43-.59-.52 0-1.04.2-1.43.59L10.3 9.45l-7.72 7.72c-.78.78-.78 2.05 0 2.83L4 21.41c.39.39.9.59 1.41.59.51 0 1.02-.2 1.41-.59l7.78-7.78 2.81-2.81c.8-.78.8-2.07 0-2.86zM5.41 20L4 18.59l7.72-7.72 1.47 1.35L5.41 20z\"/>\n",
              "  </svg>\n",
              "      </button>\n",
              "      \n",
              "  <style>\n",
              "    .colab-df-container {\n",
              "      display:flex;\n",
              "      flex-wrap:wrap;\n",
              "      gap: 12px;\n",
              "    }\n",
              "\n",
              "    .colab-df-convert {\n",
              "      background-color: #E8F0FE;\n",
              "      border: none;\n",
              "      border-radius: 50%;\n",
              "      cursor: pointer;\n",
              "      display: none;\n",
              "      fill: #1967D2;\n",
              "      height: 32px;\n",
              "      padding: 0 0 0 0;\n",
              "      width: 32px;\n",
              "    }\n",
              "\n",
              "    .colab-df-convert:hover {\n",
              "      background-color: #E2EBFA;\n",
              "      box-shadow: 0px 1px 2px rgba(60, 64, 67, 0.3), 0px 1px 3px 1px rgba(60, 64, 67, 0.15);\n",
              "      fill: #174EA6;\n",
              "    }\n",
              "\n",
              "    [theme=dark] .colab-df-convert {\n",
              "      background-color: #3B4455;\n",
              "      fill: #D2E3FC;\n",
              "    }\n",
              "\n",
              "    [theme=dark] .colab-df-convert:hover {\n",
              "      background-color: #434B5C;\n",
              "      box-shadow: 0px 1px 3px 1px rgba(0, 0, 0, 0.15);\n",
              "      filter: drop-shadow(0px 1px 2px rgba(0, 0, 0, 0.3));\n",
              "      fill: #FFFFFF;\n",
              "    }\n",
              "  </style>\n",
              "\n",
              "      <script>\n",
              "        const buttonEl =\n",
              "          document.querySelector('#df-3e7643c6-b1de-44a7-90e3-9e95e75b0676 button.colab-df-convert');\n",
              "        buttonEl.style.display =\n",
              "          google.colab.kernel.accessAllowed ? 'block' : 'none';\n",
              "\n",
              "        async function convertToInteractive(key) {\n",
              "          const element = document.querySelector('#df-3e7643c6-b1de-44a7-90e3-9e95e75b0676');\n",
              "          const dataTable =\n",
              "            await google.colab.kernel.invokeFunction('convertToInteractive',\n",
              "                                                     [key], {});\n",
              "          if (!dataTable) return;\n",
              "\n",
              "          const docLinkHtml = 'Like what you see? Visit the ' +\n",
              "            '<a target=\"_blank\" href=https://colab.research.google.com/notebooks/data_table.ipynb>data table notebook</a>'\n",
              "            + ' to learn more about interactive tables.';\n",
              "          element.innerHTML = '';\n",
              "          dataTable['output_type'] = 'display_data';\n",
              "          await google.colab.output.renderOutput(dataTable, element);\n",
              "          const docLink = document.createElement('div');\n",
              "          docLink.innerHTML = docLinkHtml;\n",
              "          element.appendChild(docLink);\n",
              "        }\n",
              "      </script>\n",
              "    </div>\n",
              "  </div>\n",
              "  "
            ]
          },
          "metadata": {},
          "execution_count": 482
        }
      ]
    },
    {
      "cell_type": "code",
      "source": [
        "len(tables[113].axes[1])"
      ],
      "metadata": {
        "colab": {
          "base_uri": "https://localhost:8080/"
        },
        "id": "vU53bjCFYZlE",
        "outputId": "01ffa4ba-b0ce-4d22-e36e-bd8ffca7bdd2"
      },
      "execution_count": null,
      "outputs": [
        {
          "output_type": "execute_result",
          "data": {
            "text/plain": [
              "9"
            ]
          },
          "metadata": {},
          "execution_count": 429
        }
      ]
    },
    {
      "cell_type": "code",
      "source": [
        "type(tables)"
      ],
      "metadata": {
        "colab": {
          "base_uri": "https://localhost:8080/"
        },
        "id": "gSFwpwl9TrD9",
        "outputId": "a50edcbf-04a7-48c2-b87a-5020efafeff6"
      },
      "execution_count": null,
      "outputs": [
        {
          "output_type": "execute_result",
          "data": {
            "text/plain": [
              "list"
            ]
          },
          "metadata": {},
          "execution_count": 606
        }
      ]
    },
    {
      "cell_type": "code",
      "source": [
        "#from numpy import float64\n",
        "i=0\n",
        "j=0\n",
        "k=0\n",
        "str_d=''\n",
        "str_m=''\n",
        "str_r=''\n",
        "num_d=0\n",
        "num_m=0\n",
        "num_r=0\n",
        "while k<len(tables):\n",
        " i=0\n",
        " while i<len(tables[k].axes[1]):\n",
        "  j=0\n",
        "  while j<len(tables[k]):\n",
        "#   print(str(k)+' - '+ str(i)+' - '+str(j)+':'+str(tables[k][i][j])+'   ' + str(type(tables[k][i][j])))\n",
        "   if str(tables[k][i][j])!='nan' and  str(type(tables[k][i][j]))!=\"<class 'numpy.float64'>\" and  str(type(tables[k][i][j]))!=\"<class 'numpy.int64'>\" :\n",
        "    if (str(tables[k][i][j].replace('\\r', '')).find('Суммарная цена договоров, заключенных с использованием счетов эскроу:')>-1):\n",
        "     str_r=tables[k][i][j].replace('\\r', '');\n",
        "     str_r=re.sub('Суммарная цена договоров, заключенных с использованием счетов эскроу:', '', str_r);\n",
        "     str_r=re.sub(' руб.', '', str_r);\n",
        "     str_r=re.sub(' ', '', str_r);\n",
        "     num_r=num_r+float(str_r.replace(\",\",\".\"));\n",
        "    if (str(tables[k][i][j].replace('\\r', '')).find('Количество договоров, заключенных с использованием счетов эскроу:')>-1):\n",
        "     str_d=tables[k][i][j].replace('\\r', '');\n",
        "     str_d=re.sub('Количество договоров, заключенных с использованием счетов эскроу:', '', str_d);\n",
        "     str_d=re.sub(' руб.', '', str_d);\n",
        "     str_d=re.sub(' ', '', str_d);\n",
        "     num_d=num_d+float(str_d.replace(\",\",\".\"));\n",
        "    if (str(tables[k][i][j].replace('\\r', '')).find('Площадь объектов, в отношении которых договор участия в долевом строительстве')>-1):\n",
        "     str_m=tables[k][i][j].replace('\\r', '');\n",
        "#     print(str_m)\n",
        "     str_m=re.sub('Площадь объектов, в отношении которых договор участия в долевом строительствезаключен с использованием счетов эскроу:', '', str_m);\n",
        "     str_m=re.sub(\"Площадь объектов, в отношении которых договор участия в долевом строительствезаключен при условии уплаты обязательных отчислений (взносов) в компенсационныйфонд:\", '', str_m);\n",
        "     str_m=re.sub(\"Площадь объектов, в отношении которых договор участия в долевом строительствезаключен с использованием иных способов обеспечения гражданской ответственностизастройщика:\", '', str_m);\n",
        "     str_m=re.sub(' м2', '', str_m);\n",
        "     str_m=re.sub(' ', '', str_m);\n",
        "     str_m=str_m.replace('(','');\n",
        "     str_m=str_m.replace(')','');\n",
        "     str_m=re.sub(\"Площадьобъектов,вотношениикоторыхдоговоручастиявдолевомстроительствезаключенприусловииуплатыобязательныхотчисленийвзносоввкомпенсационныйфонд:\", '', str_m);\n",
        "#     print(str_m);\n",
        "     num_m=num_m+float(str_m.replace(\",\",\".\"));\n",
        "   j=j+1\n",
        "  i=i+1\n",
        "# print(k)\n",
        " k=k+1\n",
        "print(num_d)\n",
        "print(num_r)\n",
        "print(num_m)"
      ],
      "metadata": {
        "colab": {
          "base_uri": "https://localhost:8080/"
        },
        "id": "LqSnquX-GFqB",
        "outputId": "2729116f-e53d-4e7a-9e8b-ecf41dbd35cf"
      },
      "execution_count": null,
      "outputs": [
        {
          "output_type": "stream",
          "name": "stdout",
          "text": [
            "845.0\n",
            "2831752392.54\n",
            "39330.69\n"
          ]
        }
      ]
    },
    {
      "cell_type": "code",
      "source": [
        "print(tables[110][5].to_string().find('Суммарная цена договоров, заключенных с использованием счетов эскроу:')>-1)"
      ],
      "metadata": {
        "colab": {
          "base_uri": "https://localhost:8080/"
        },
        "id": "mR6rMhFaIOkd",
        "outputId": "85bfe4ab-9c63-46ae-9710-7d67ec88a32d"
      },
      "execution_count": null,
      "outputs": [
        {
          "output_type": "stream",
          "name": "stdout",
          "text": [
            "True\n"
          ]
        }
      ]
    },
    {
      "cell_type": "code",
      "source": [
        "pd.options.display.width=200\n",
        "pd.options.display.max_colwidth=200"
      ],
      "metadata": {
        "id": "UxNOsZy2q4a0"
      },
      "execution_count": null,
      "outputs": []
    },
    {
      "cell_type": "code",
      "source": [
        "len(tables[108][5]) #[tables[108][5].str.find('845')>-1]"
      ],
      "metadata": {
        "colab": {
          "base_uri": "https://localhost:8080/"
        },
        "id": "GRp5JsuGqXs1",
        "outputId": "6ec8aa80-c50c-4851-d7a1-5fa4aa58e613"
      },
      "execution_count": null,
      "outputs": [
        {
          "output_type": "execute_result",
          "data": {
            "text/plain": [
              "11"
            ]
          },
          "metadata": {},
          "execution_count": 270
        }
      ]
    },
    {
      "cell_type": "code",
      "source": [
        "tables[108][5]"
      ],
      "metadata": {
        "colab": {
          "base_uri": "https://localhost:8080/"
        },
        "id": "rDFEX9mvrhm9",
        "outputId": "a80cb450-a74f-4388-ff05-2af564a04198"
      },
      "execution_count": null,
      "outputs": [
        {
          "output_type": "execute_result",
          "data": {
            "text/plain": [
              "0                                                                       О количестве договоров участия в долевом строительстве:\n",
              "1                                                                                           Вид объекта долевого строительства:\n",
              "2                                                                                                              Жилые помещения:\n",
              "3                                                        Количество договоров, заключенных с использованием счетов эскроу:\\r845\n",
              "4            Количество договоров, заключенных при условии уплаты обязательных отчислений\\r(взносов) в компенсационный фонд:\\r0\n",
              "5     Количество договоров, заключенных с использованием иных способов обеспечения\\rгражданской ответственности застройщика:\\r0\n",
              "6                                                                                                            Нежилые помещения:\n",
              "7                                                          Количество договоров, заключенных с использованием счетов эскроу:\\r0\n",
              "8            Количество договоров, заключенных при условии уплаты обязательных отчислений\\r(взносов) в компенсационный фонд:\\r0\n",
              "9     Количество договоров, заключенных с использованием иных способов обеспечения\\rгражданской ответственности застройщика:\\r0\n",
              "10                                                                                                                Машино-места:\n",
              "Name: 5, dtype: object"
            ]
          },
          "metadata": {},
          "execution_count": 271
        }
      ]
    },
    {
      "cell_type": "code",
      "source": [
        "type(tables[108][5])"
      ],
      "metadata": {
        "colab": {
          "base_uri": "https://localhost:8080/"
        },
        "id": "2eYm9JzEm3Zi",
        "outputId": "d435e4d6-8850-489e-9f45-72d69a098905"
      },
      "execution_count": null,
      "outputs": [
        {
          "output_type": "execute_result",
          "data": {
            "text/plain": [
              "pandas.core.series.Series"
            ]
          },
          "metadata": {},
          "execution_count": 254
        }
      ]
    },
    {
      "cell_type": "code",
      "source": [
        "df = pd.DataFrame(list(zip(tables)))"
      ],
      "metadata": {
        "id": "yt0qxeG2K3cG"
      },
      "execution_count": null,
      "outputs": []
    },
    {
      "cell_type": "code",
      "source": [
        "df[1]"
      ],
      "metadata": {
        "colab": {
          "base_uri": "https://localhost:8080/",
          "height": 432
        },
        "id": "I0SyE-HWLd0l",
        "outputId": "c364fbba-6e31-41fb-c852-db6b3ea7a78e"
      },
      "execution_count": null,
      "outputs": [
        {
          "output_type": "error",
          "ename": "KeyError",
          "evalue": "ignored",
          "traceback": [
            "\u001b[0;31m---------------------------------------------------------------------------\u001b[0m",
            "\u001b[0;31mValueError\u001b[0m                                Traceback (most recent call last)",
            "\u001b[0;32m/usr/local/lib/python3.7/dist-packages/pandas/core/indexes/range.py\u001b[0m in \u001b[0;36mget_loc\u001b[0;34m(self, key, method, tolerance)\u001b[0m\n\u001b[1;32m    384\u001b[0m                 \u001b[0;32mtry\u001b[0m\u001b[0;34m:\u001b[0m\u001b[0;34m\u001b[0m\u001b[0;34m\u001b[0m\u001b[0m\n\u001b[0;32m--> 385\u001b[0;31m                     \u001b[0;32mreturn\u001b[0m \u001b[0mself\u001b[0m\u001b[0;34m.\u001b[0m\u001b[0m_range\u001b[0m\u001b[0;34m.\u001b[0m\u001b[0mindex\u001b[0m\u001b[0;34m(\u001b[0m\u001b[0mnew_key\u001b[0m\u001b[0;34m)\u001b[0m\u001b[0;34m\u001b[0m\u001b[0;34m\u001b[0m\u001b[0m\n\u001b[0m\u001b[1;32m    386\u001b[0m                 \u001b[0;32mexcept\u001b[0m \u001b[0mValueError\u001b[0m \u001b[0;32mas\u001b[0m \u001b[0merr\u001b[0m\u001b[0;34m:\u001b[0m\u001b[0;34m\u001b[0m\u001b[0;34m\u001b[0m\u001b[0m\n",
            "\u001b[0;31mValueError\u001b[0m: 1 is not in range",
            "\nThe above exception was the direct cause of the following exception:\n",
            "\u001b[0;31mKeyError\u001b[0m                                  Traceback (most recent call last)",
            "\u001b[0;32m<ipython-input-100-78a33f69c558>\u001b[0m in \u001b[0;36m<module>\u001b[0;34m\u001b[0m\n\u001b[0;32m----> 1\u001b[0;31m \u001b[0mdf\u001b[0m\u001b[0;34m[\u001b[0m\u001b[0;36m1\u001b[0m\u001b[0;34m]\u001b[0m\u001b[0;34m\u001b[0m\u001b[0;34m\u001b[0m\u001b[0m\n\u001b[0m",
            "\u001b[0;32m/usr/local/lib/python3.7/dist-packages/pandas/core/frame.py\u001b[0m in \u001b[0;36m__getitem__\u001b[0;34m(self, key)\u001b[0m\n\u001b[1;32m   3456\u001b[0m             \u001b[0;32mif\u001b[0m \u001b[0mself\u001b[0m\u001b[0;34m.\u001b[0m\u001b[0mcolumns\u001b[0m\u001b[0;34m.\u001b[0m\u001b[0mnlevels\u001b[0m \u001b[0;34m>\u001b[0m \u001b[0;36m1\u001b[0m\u001b[0;34m:\u001b[0m\u001b[0;34m\u001b[0m\u001b[0;34m\u001b[0m\u001b[0m\n\u001b[1;32m   3457\u001b[0m                 \u001b[0;32mreturn\u001b[0m \u001b[0mself\u001b[0m\u001b[0;34m.\u001b[0m\u001b[0m_getitem_multilevel\u001b[0m\u001b[0;34m(\u001b[0m\u001b[0mkey\u001b[0m\u001b[0;34m)\u001b[0m\u001b[0;34m\u001b[0m\u001b[0;34m\u001b[0m\u001b[0m\n\u001b[0;32m-> 3458\u001b[0;31m             \u001b[0mindexer\u001b[0m \u001b[0;34m=\u001b[0m \u001b[0mself\u001b[0m\u001b[0;34m.\u001b[0m\u001b[0mcolumns\u001b[0m\u001b[0;34m.\u001b[0m\u001b[0mget_loc\u001b[0m\u001b[0;34m(\u001b[0m\u001b[0mkey\u001b[0m\u001b[0;34m)\u001b[0m\u001b[0;34m\u001b[0m\u001b[0;34m\u001b[0m\u001b[0m\n\u001b[0m\u001b[1;32m   3459\u001b[0m             \u001b[0;32mif\u001b[0m \u001b[0mis_integer\u001b[0m\u001b[0;34m(\u001b[0m\u001b[0mindexer\u001b[0m\u001b[0;34m)\u001b[0m\u001b[0;34m:\u001b[0m\u001b[0;34m\u001b[0m\u001b[0;34m\u001b[0m\u001b[0m\n\u001b[1;32m   3460\u001b[0m                 \u001b[0mindexer\u001b[0m \u001b[0;34m=\u001b[0m \u001b[0;34m[\u001b[0m\u001b[0mindexer\u001b[0m\u001b[0;34m]\u001b[0m\u001b[0;34m\u001b[0m\u001b[0;34m\u001b[0m\u001b[0m\n",
            "\u001b[0;32m/usr/local/lib/python3.7/dist-packages/pandas/core/indexes/range.py\u001b[0m in \u001b[0;36mget_loc\u001b[0;34m(self, key, method, tolerance)\u001b[0m\n\u001b[1;32m    385\u001b[0m                     \u001b[0;32mreturn\u001b[0m \u001b[0mself\u001b[0m\u001b[0;34m.\u001b[0m\u001b[0m_range\u001b[0m\u001b[0;34m.\u001b[0m\u001b[0mindex\u001b[0m\u001b[0;34m(\u001b[0m\u001b[0mnew_key\u001b[0m\u001b[0;34m)\u001b[0m\u001b[0;34m\u001b[0m\u001b[0;34m\u001b[0m\u001b[0m\n\u001b[1;32m    386\u001b[0m                 \u001b[0;32mexcept\u001b[0m \u001b[0mValueError\u001b[0m \u001b[0;32mas\u001b[0m \u001b[0merr\u001b[0m\u001b[0;34m:\u001b[0m\u001b[0;34m\u001b[0m\u001b[0;34m\u001b[0m\u001b[0m\n\u001b[0;32m--> 387\u001b[0;31m                     \u001b[0;32mraise\u001b[0m \u001b[0mKeyError\u001b[0m\u001b[0;34m(\u001b[0m\u001b[0mkey\u001b[0m\u001b[0;34m)\u001b[0m \u001b[0;32mfrom\u001b[0m \u001b[0merr\u001b[0m\u001b[0;34m\u001b[0m\u001b[0;34m\u001b[0m\u001b[0m\n\u001b[0m\u001b[1;32m    388\u001b[0m             \u001b[0;32mraise\u001b[0m \u001b[0mKeyError\u001b[0m\u001b[0;34m(\u001b[0m\u001b[0mkey\u001b[0m\u001b[0;34m)\u001b[0m\u001b[0;34m\u001b[0m\u001b[0;34m\u001b[0m\u001b[0m\n\u001b[1;32m    389\u001b[0m         \u001b[0;32mreturn\u001b[0m \u001b[0msuper\u001b[0m\u001b[0;34m(\u001b[0m\u001b[0;34m)\u001b[0m\u001b[0;34m.\u001b[0m\u001b[0mget_loc\u001b[0m\u001b[0;34m(\u001b[0m\u001b[0mkey\u001b[0m\u001b[0;34m,\u001b[0m \u001b[0mmethod\u001b[0m\u001b[0;34m=\u001b[0m\u001b[0mmethod\u001b[0m\u001b[0;34m,\u001b[0m \u001b[0mtolerance\u001b[0m\u001b[0;34m=\u001b[0m\u001b[0mtolerance\u001b[0m\u001b[0;34m)\u001b[0m\u001b[0;34m\u001b[0m\u001b[0;34m\u001b[0m\u001b[0m\n",
            "\u001b[0;31mKeyError\u001b[0m: 1"
          ]
        }
      ]
    },
    {
      "cell_type": "code",
      "source": [
        "aa=tables.reverse()"
      ],
      "metadata": {
        "id": "EwxdKgNHJ-ij"
      },
      "execution_count": null,
      "outputs": []
    },
    {
      "cell_type": "code",
      "source": [
        "ww=(tables[108][tables[108][5].str.find('845')>-1][5].to_string())"
      ],
      "metadata": {
        "id": "PluYAMtQbPkV"
      },
      "execution_count": null,
      "outputs": []
    },
    {
      "cell_type": "code",
      "source": [
        "len(ww)"
      ],
      "metadata": {
        "colab": {
          "base_uri": "https://localhost:8080/"
        },
        "id": "R7IJM_kPjlEW",
        "outputId": "6b5e3b3b-bcdc-44e3-f0b9-ec4a16c3ea73"
      },
      "execution_count": null,
      "outputs": [
        {
          "output_type": "execute_result",
          "data": {
            "text/plain": [
              "54"
            ]
          },
          "metadata": {},
          "execution_count": 246
        }
      ]
    },
    {
      "cell_type": "code",
      "source": [
        "ww"
      ],
      "metadata": {
        "colab": {
          "base_uri": "https://localhost:8080/",
          "height": 35
        },
        "id": "jttIYZDwlilV",
        "outputId": "81d5ba49-1fc9-48a4-b29b-1965852086b1"
      },
      "execution_count": null,
      "outputs": [
        {
          "output_type": "execute_result",
          "data": {
            "text/plain": [
              "'3    Количество договоров, заключенных с использова...'"
            ],
            "application/vnd.google.colaboratory.intrinsic+json": {
              "type": "string"
            }
          },
          "metadata": {},
          "execution_count": 247
        }
      ]
    },
    {
      "cell_type": "code",
      "source": [
        "print(tables[108][tables[108][5].str.find('845')>-1][5].to_string)"
      ],
      "metadata": {
        "colab": {
          "base_uri": "https://localhost:8080/"
        },
        "id": "h7FyfCv8cnXM",
        "outputId": "d9cb7ac4-aa15-4772-deae-c1fd697d3acb"
      },
      "execution_count": null,
      "outputs": [
        {
          "output_type": "stream",
          "name": "stdout",
          "text": [
            "<bound method Series.to_string of 3    Количество договоров, заключенных с использова...\n",
            "Name: 5, dtype: object>\n"
          ]
        }
      ]
    },
    {
      "cell_type": "code",
      "source": [
        "dffull[dffull['rpdRegionCd']==63]['objId'].unique().to_frame().count()"
      ],
      "metadata": {
        "id": "hextNymjCyhP",
        "outputId": "a6a1fb88-d771-4bf8-b2d3-78b4d7caeaef",
        "colab": {
          "base_uri": "https://localhost:8080/",
          "height": 502
        }
      },
      "execution_count": null,
      "outputs": [
        {
          "output_type": "error",
          "ename": "KeyError",
          "evalue": "ignored",
          "traceback": [
            "\u001b[0;31m---------------------------------------------------------------------------\u001b[0m",
            "\u001b[0;31mKeyError\u001b[0m                                  Traceback (most recent call last)",
            "\u001b[0;32m/usr/local/lib/python3.7/dist-packages/pandas/core/indexes/base.py\u001b[0m in \u001b[0;36mget_loc\u001b[0;34m(self, key, method, tolerance)\u001b[0m\n\u001b[1;32m   3360\u001b[0m             \u001b[0;32mtry\u001b[0m\u001b[0;34m:\u001b[0m\u001b[0;34m\u001b[0m\u001b[0;34m\u001b[0m\u001b[0m\n\u001b[0;32m-> 3361\u001b[0;31m                 \u001b[0;32mreturn\u001b[0m \u001b[0mself\u001b[0m\u001b[0;34m.\u001b[0m\u001b[0m_engine\u001b[0m\u001b[0;34m.\u001b[0m\u001b[0mget_loc\u001b[0m\u001b[0;34m(\u001b[0m\u001b[0mcasted_key\u001b[0m\u001b[0;34m)\u001b[0m\u001b[0;34m\u001b[0m\u001b[0;34m\u001b[0m\u001b[0m\n\u001b[0m\u001b[1;32m   3362\u001b[0m             \u001b[0;32mexcept\u001b[0m \u001b[0mKeyError\u001b[0m \u001b[0;32mas\u001b[0m \u001b[0merr\u001b[0m\u001b[0;34m:\u001b[0m\u001b[0;34m\u001b[0m\u001b[0;34m\u001b[0m\u001b[0m\n",
            "\u001b[0;32m/usr/local/lib/python3.7/dist-packages/pandas/_libs/index.pyx\u001b[0m in \u001b[0;36mpandas._libs.index.IndexEngine.get_loc\u001b[0;34m()\u001b[0m\n",
            "\u001b[0;32m/usr/local/lib/python3.7/dist-packages/pandas/_libs/index.pyx\u001b[0m in \u001b[0;36mpandas._libs.index.IndexEngine.get_loc\u001b[0;34m()\u001b[0m\n",
            "\u001b[0;32mpandas/_libs/hashtable_class_helper.pxi\u001b[0m in \u001b[0;36mpandas._libs.hashtable.PyObjectHashTable.get_item\u001b[0;34m()\u001b[0m\n",
            "\u001b[0;32mpandas/_libs/hashtable_class_helper.pxi\u001b[0m in \u001b[0;36mpandas._libs.hashtable.PyObjectHashTable.get_item\u001b[0;34m()\u001b[0m\n",
            "\u001b[0;31mKeyError\u001b[0m: 'rpdRegionCd'",
            "\nThe above exception was the direct cause of the following exception:\n",
            "\u001b[0;31mKeyError\u001b[0m                                  Traceback (most recent call last)",
            "\u001b[0;32m<ipython-input-16-5789e612a71f>\u001b[0m in \u001b[0;36m<module>\u001b[0;34m\u001b[0m\n\u001b[0;32m----> 1\u001b[0;31m \u001b[0mdffull\u001b[0m\u001b[0;34m[\u001b[0m\u001b[0mdffull\u001b[0m\u001b[0;34m[\u001b[0m\u001b[0;34m'rpdRegionCd'\u001b[0m\u001b[0;34m]\u001b[0m\u001b[0;34m==\u001b[0m\u001b[0;36m63\u001b[0m\u001b[0;34m]\u001b[0m\u001b[0;34m[\u001b[0m\u001b[0;34m'objId'\u001b[0m\u001b[0;34m]\u001b[0m\u001b[0;34m.\u001b[0m\u001b[0munique\u001b[0m\u001b[0;34m(\u001b[0m\u001b[0;34m)\u001b[0m\u001b[0;34m.\u001b[0m\u001b[0mto_frame\u001b[0m\u001b[0;34m(\u001b[0m\u001b[0;34m)\u001b[0m\u001b[0;34m.\u001b[0m\u001b[0mcount\u001b[0m\u001b[0;34m(\u001b[0m\u001b[0;34m)\u001b[0m\u001b[0;34m\u001b[0m\u001b[0;34m\u001b[0m\u001b[0m\n\u001b[0m",
            "\u001b[0;32m/usr/local/lib/python3.7/dist-packages/pandas/core/frame.py\u001b[0m in \u001b[0;36m__getitem__\u001b[0;34m(self, key)\u001b[0m\n\u001b[1;32m   3456\u001b[0m             \u001b[0;32mif\u001b[0m \u001b[0mself\u001b[0m\u001b[0;34m.\u001b[0m\u001b[0mcolumns\u001b[0m\u001b[0;34m.\u001b[0m\u001b[0mnlevels\u001b[0m \u001b[0;34m>\u001b[0m \u001b[0;36m1\u001b[0m\u001b[0;34m:\u001b[0m\u001b[0;34m\u001b[0m\u001b[0;34m\u001b[0m\u001b[0m\n\u001b[1;32m   3457\u001b[0m                 \u001b[0;32mreturn\u001b[0m \u001b[0mself\u001b[0m\u001b[0;34m.\u001b[0m\u001b[0m_getitem_multilevel\u001b[0m\u001b[0;34m(\u001b[0m\u001b[0mkey\u001b[0m\u001b[0;34m)\u001b[0m\u001b[0;34m\u001b[0m\u001b[0;34m\u001b[0m\u001b[0m\n\u001b[0;32m-> 3458\u001b[0;31m             \u001b[0mindexer\u001b[0m \u001b[0;34m=\u001b[0m \u001b[0mself\u001b[0m\u001b[0;34m.\u001b[0m\u001b[0mcolumns\u001b[0m\u001b[0;34m.\u001b[0m\u001b[0mget_loc\u001b[0m\u001b[0;34m(\u001b[0m\u001b[0mkey\u001b[0m\u001b[0;34m)\u001b[0m\u001b[0;34m\u001b[0m\u001b[0;34m\u001b[0m\u001b[0m\n\u001b[0m\u001b[1;32m   3459\u001b[0m             \u001b[0;32mif\u001b[0m \u001b[0mis_integer\u001b[0m\u001b[0;34m(\u001b[0m\u001b[0mindexer\u001b[0m\u001b[0;34m)\u001b[0m\u001b[0;34m:\u001b[0m\u001b[0;34m\u001b[0m\u001b[0;34m\u001b[0m\u001b[0m\n\u001b[1;32m   3460\u001b[0m                 \u001b[0mindexer\u001b[0m \u001b[0;34m=\u001b[0m \u001b[0;34m[\u001b[0m\u001b[0mindexer\u001b[0m\u001b[0;34m]\u001b[0m\u001b[0;34m\u001b[0m\u001b[0;34m\u001b[0m\u001b[0m\n",
            "\u001b[0;32m/usr/local/lib/python3.7/dist-packages/pandas/core/indexes/base.py\u001b[0m in \u001b[0;36mget_loc\u001b[0;34m(self, key, method, tolerance)\u001b[0m\n\u001b[1;32m   3361\u001b[0m                 \u001b[0;32mreturn\u001b[0m \u001b[0mself\u001b[0m\u001b[0;34m.\u001b[0m\u001b[0m_engine\u001b[0m\u001b[0;34m.\u001b[0m\u001b[0mget_loc\u001b[0m\u001b[0;34m(\u001b[0m\u001b[0mcasted_key\u001b[0m\u001b[0;34m)\u001b[0m\u001b[0;34m\u001b[0m\u001b[0;34m\u001b[0m\u001b[0m\n\u001b[1;32m   3362\u001b[0m             \u001b[0;32mexcept\u001b[0m \u001b[0mKeyError\u001b[0m \u001b[0;32mas\u001b[0m \u001b[0merr\u001b[0m\u001b[0;34m:\u001b[0m\u001b[0;34m\u001b[0m\u001b[0;34m\u001b[0m\u001b[0m\n\u001b[0;32m-> 3363\u001b[0;31m                 \u001b[0;32mraise\u001b[0m \u001b[0mKeyError\u001b[0m\u001b[0;34m(\u001b[0m\u001b[0mkey\u001b[0m\u001b[0;34m)\u001b[0m \u001b[0;32mfrom\u001b[0m \u001b[0merr\u001b[0m\u001b[0;34m\u001b[0m\u001b[0;34m\u001b[0m\u001b[0m\n\u001b[0m\u001b[1;32m   3364\u001b[0m \u001b[0;34m\u001b[0m\u001b[0m\n\u001b[1;32m   3365\u001b[0m         \u001b[0;32mif\u001b[0m \u001b[0mis_scalar\u001b[0m\u001b[0;34m(\u001b[0m\u001b[0mkey\u001b[0m\u001b[0;34m)\u001b[0m \u001b[0;32mand\u001b[0m \u001b[0misna\u001b[0m\u001b[0;34m(\u001b[0m\u001b[0mkey\u001b[0m\u001b[0;34m)\u001b[0m \u001b[0;32mand\u001b[0m \u001b[0;32mnot\u001b[0m \u001b[0mself\u001b[0m\u001b[0;34m.\u001b[0m\u001b[0mhasnans\u001b[0m\u001b[0;34m:\u001b[0m\u001b[0;34m\u001b[0m\u001b[0;34m\u001b[0m\u001b[0m\n",
            "\u001b[0;31mKeyError\u001b[0m: 'rpdRegionCd'"
          ]
        }
      ]
    },
    {
      "cell_type": "code",
      "source": [
        "dffull[dffull['objAddr'].str.lower().str.find('самара')>-1].count()"
      ],
      "metadata": {
        "id": "yyc58cbCwHvO",
        "outputId": "5fdc079f-2c3a-4bdd-ed12-19965fe51a97",
        "colab": {
          "base_uri": "https://localhost:8080/"
        }
      },
      "execution_count": null,
      "outputs": [
        {
          "output_type": "execute_result",
          "data": {
            "text/plain": [
              "objId                                        50\n",
              "rpdRegionCd                                  50\n",
              "objAddr                                      50\n",
              "objFloorMin                                  50\n",
              "objFloorMax                                  50\n",
              "objElemLivingCnt                             50\n",
              "objReady100PercDt                            50\n",
              "objSquareLiving                              50\n",
              "objCompensFundFlg                            50\n",
              "objProblemFlg                                50\n",
              "latitude                                     50\n",
              "longitude                                    50\n",
              "problemFlag                                  50\n",
              "siteStatus                                   50\n",
              "objGuarantyEscrowFlg                         50\n",
              "residentialBuildings                         50\n",
              "rpdNum                                       50\n",
              "pdId                                         50\n",
              "buildType                                    50\n",
              "objStatus                                    50\n",
              "developer.devId                              50\n",
              "developer.shortName                          50\n",
              "developer.fullName                           50\n",
              "developer.groupName                          33\n",
              "developer.orgForm.id                         50\n",
              "developer.orgForm.fullForm                   50\n",
              "developer.orgForm.shortForm                  50\n",
              "developer.companyGroup                       33\n",
              "developer.devInn                             50\n",
              "objCommercNm                                 42\n",
              "developer.bankruptStage.bankruptStageCd       0\n",
              "developer.bankruptStage.bankruptStageDesc     0\n",
              "developer.bankruptStage.bankruptLawUrl        0\n",
              "developer.orgBankruptMsgDttm                  0\n",
              "complexShortName                             10\n",
              "dtype: int64"
            ]
          },
          "metadata": {},
          "execution_count": 33
        }
      ]
    },
    {
      "cell_type": "code",
      "execution_count": null,
      "metadata": {
        "id": "svepo4hpofeT",
        "outputId": "0860a6ba-8d46-4137-ec6d-f088ac4ed0fb",
        "colab": {
          "base_uri": "https://localhost:8080/",
          "height": 814
        }
      },
      "outputs": [
        {
          "output_type": "execute_result",
          "data": {
            "text/plain": [
              "     objId  rpdRegionCd                                            objAddr  \\\n",
              "63   18136           63  г Самара, улица Советской Армии, д. 0, корпус ...   \n",
              "184   4024           63         г Самара, район Октябрьский, просека Пятая   \n",
              "185   4025           63         г Самара, район Октябрьский, просека Пятая   \n",
              "186   4023           63         г Самара, район Октябрьский, просека Пятая   \n",
              "187   4026           63         г Самара, район Октябрьский, просека Пятая   \n",
              "411  24539           63                              г Самара, Белорусская   \n",
              "412  24540           63                              г Самара, Белорусская   \n",
              "\n",
              "     objFloorMin  objFloorMax  objElemLivingCnt objReady100PercDt  \\\n",
              "63            27           27               360        2023-06-30   \n",
              "184            5            5                16        2023-12-31   \n",
              "185            5            5                64        2022-12-31   \n",
              "186            5            5                48        2022-12-31   \n",
              "187            5            5                64        2022-12-31   \n",
              "411           25           25               396        2022-12-31   \n",
              "412            1            1                 0        2022-12-31   \n",
              "\n",
              "     objSquareLiving  objCompensFundFlg  objProblemFlg  ...  \\\n",
              "63          20664.24                  0              0  ...   \n",
              "184           918.77                  1              0  ...   \n",
              "185          3675.08                  1              0  ...   \n",
              "186          2756.31                  1              0  ...   \n",
              "187          3666.28                  1              0  ...   \n",
              "411         25228.66                  0              0  ...   \n",
              "412             0.00                  0              0  ...   \n",
              "\n",
              "                   developer.orgForm.fullForm  developer.orgForm.shortForm  \\\n",
              "63   Общество с ограниченной ответственностью                          ООО   \n",
              "184             Закрытое акционерное общество                          ЗАО   \n",
              "185             Закрытое акционерное общество                          ЗАО   \n",
              "186             Закрытое акционерное общество                          ЗАО   \n",
              "187             Закрытое акционерное общество                          ЗАО   \n",
              "411  Общество с ограниченной ответственностью                          ООО   \n",
              "412  Общество с ограниченной ответственностью                          ООО   \n",
              "\n",
              "    developer.companyGroup developer.devInn  \\\n",
              "63                  9176.0       6312173063   \n",
              "184                 5847.0       6318136702   \n",
              "185                 5847.0       6318136702   \n",
              "186                 5847.0       6318136702   \n",
              "187                 5847.0       6318136702   \n",
              "411                 5874.0       6319225715   \n",
              "412                 5874.0       6319225715   \n",
              "\n",
              "                                         objCommercNm  \\\n",
              "63                                                NaN   \n",
              "184   Жилой комплекс \"Акварель\" (ЖК \"Акварель\") дом 9   \n",
              "185   Жилой комплекс \"Акварель\" (ЖК \"Акварель\") дом 7   \n",
              "186   Жилой комплекс \"Акварель\" (ЖК \"Акварель\") дом 8   \n",
              "187  Жилой комплекс \"Акварель\" (ЖК \"Акварель\") дом 10   \n",
              "411                                     ЖК \"Две реки\"   \n",
              "412                                     ЖК \"Две реки\"   \n",
              "\n",
              "     developer.bankruptStage.bankruptStageCd  \\\n",
              "63                                       NaN   \n",
              "184                                      NaN   \n",
              "185                                      NaN   \n",
              "186                                      NaN   \n",
              "187                                      NaN   \n",
              "411                                      NaN   \n",
              "412                                      NaN   \n",
              "\n",
              "    developer.bankruptStage.bankruptStageDesc  \\\n",
              "63                                        NaN   \n",
              "184                                       NaN   \n",
              "185                                       NaN   \n",
              "186                                       NaN   \n",
              "187                                       NaN   \n",
              "411                                       NaN   \n",
              "412                                       NaN   \n",
              "\n",
              "     developer.bankruptStage.bankruptLawUrl developer.orgBankruptMsgDttm  \\\n",
              "63                                      NaN                          NaN   \n",
              "184                                     NaN                          NaN   \n",
              "185                                     NaN                          NaN   \n",
              "186                                     NaN                          NaN   \n",
              "187                                     NaN                          NaN   \n",
              "411                                     NaN                          NaN   \n",
              "412                                     NaN                          NaN   \n",
              "\n",
              "     complexShortName  \n",
              "63                NaN  \n",
              "184          Акварель  \n",
              "185          Акварель  \n",
              "186          Акварель  \n",
              "187          Акварель  \n",
              "411               NaN  \n",
              "412               NaN  \n",
              "\n",
              "[7 rows x 35 columns]"
            ],
            "text/html": [
              "\n",
              "  <div id=\"df-6f7d6261-5dd8-4803-b7f7-1d6f19e28e6d\">\n",
              "    <div class=\"colab-df-container\">\n",
              "      <div>\n",
              "<style scoped>\n",
              "    .dataframe tbody tr th:only-of-type {\n",
              "        vertical-align: middle;\n",
              "    }\n",
              "\n",
              "    .dataframe tbody tr th {\n",
              "        vertical-align: top;\n",
              "    }\n",
              "\n",
              "    .dataframe thead th {\n",
              "        text-align: right;\n",
              "    }\n",
              "</style>\n",
              "<table border=\"1\" class=\"dataframe\">\n",
              "  <thead>\n",
              "    <tr style=\"text-align: right;\">\n",
              "      <th></th>\n",
              "      <th>objId</th>\n",
              "      <th>rpdRegionCd</th>\n",
              "      <th>objAddr</th>\n",
              "      <th>objFloorMin</th>\n",
              "      <th>objFloorMax</th>\n",
              "      <th>objElemLivingCnt</th>\n",
              "      <th>objReady100PercDt</th>\n",
              "      <th>objSquareLiving</th>\n",
              "      <th>objCompensFundFlg</th>\n",
              "      <th>objProblemFlg</th>\n",
              "      <th>...</th>\n",
              "      <th>developer.orgForm.fullForm</th>\n",
              "      <th>developer.orgForm.shortForm</th>\n",
              "      <th>developer.companyGroup</th>\n",
              "      <th>developer.devInn</th>\n",
              "      <th>objCommercNm</th>\n",
              "      <th>developer.bankruptStage.bankruptStageCd</th>\n",
              "      <th>developer.bankruptStage.bankruptStageDesc</th>\n",
              "      <th>developer.bankruptStage.bankruptLawUrl</th>\n",
              "      <th>developer.orgBankruptMsgDttm</th>\n",
              "      <th>complexShortName</th>\n",
              "    </tr>\n",
              "  </thead>\n",
              "  <tbody>\n",
              "    <tr>\n",
              "      <th>63</th>\n",
              "      <td>18136</td>\n",
              "      <td>63</td>\n",
              "      <td>г Самара, улица Советской Армии, д. 0, корпус ...</td>\n",
              "      <td>27</td>\n",
              "      <td>27</td>\n",
              "      <td>360</td>\n",
              "      <td>2023-06-30</td>\n",
              "      <td>20664.24</td>\n",
              "      <td>0</td>\n",
              "      <td>0</td>\n",
              "      <td>...</td>\n",
              "      <td>Общество с ограниченной ответственностью</td>\n",
              "      <td>ООО</td>\n",
              "      <td>9176.0</td>\n",
              "      <td>6312173063</td>\n",
              "      <td>NaN</td>\n",
              "      <td>NaN</td>\n",
              "      <td>NaN</td>\n",
              "      <td>NaN</td>\n",
              "      <td>NaN</td>\n",
              "      <td>NaN</td>\n",
              "    </tr>\n",
              "    <tr>\n",
              "      <th>184</th>\n",
              "      <td>4024</td>\n",
              "      <td>63</td>\n",
              "      <td>г Самара, район Октябрьский, просека Пятая</td>\n",
              "      <td>5</td>\n",
              "      <td>5</td>\n",
              "      <td>16</td>\n",
              "      <td>2023-12-31</td>\n",
              "      <td>918.77</td>\n",
              "      <td>1</td>\n",
              "      <td>0</td>\n",
              "      <td>...</td>\n",
              "      <td>Закрытое акционерное общество</td>\n",
              "      <td>ЗАО</td>\n",
              "      <td>5847.0</td>\n",
              "      <td>6318136702</td>\n",
              "      <td>Жилой комплекс \"Акварель\" (ЖК \"Акварель\") дом 9</td>\n",
              "      <td>NaN</td>\n",
              "      <td>NaN</td>\n",
              "      <td>NaN</td>\n",
              "      <td>NaN</td>\n",
              "      <td>Акварель</td>\n",
              "    </tr>\n",
              "    <tr>\n",
              "      <th>185</th>\n",
              "      <td>4025</td>\n",
              "      <td>63</td>\n",
              "      <td>г Самара, район Октябрьский, просека Пятая</td>\n",
              "      <td>5</td>\n",
              "      <td>5</td>\n",
              "      <td>64</td>\n",
              "      <td>2022-12-31</td>\n",
              "      <td>3675.08</td>\n",
              "      <td>1</td>\n",
              "      <td>0</td>\n",
              "      <td>...</td>\n",
              "      <td>Закрытое акционерное общество</td>\n",
              "      <td>ЗАО</td>\n",
              "      <td>5847.0</td>\n",
              "      <td>6318136702</td>\n",
              "      <td>Жилой комплекс \"Акварель\" (ЖК \"Акварель\") дом 7</td>\n",
              "      <td>NaN</td>\n",
              "      <td>NaN</td>\n",
              "      <td>NaN</td>\n",
              "      <td>NaN</td>\n",
              "      <td>Акварель</td>\n",
              "    </tr>\n",
              "    <tr>\n",
              "      <th>186</th>\n",
              "      <td>4023</td>\n",
              "      <td>63</td>\n",
              "      <td>г Самара, район Октябрьский, просека Пятая</td>\n",
              "      <td>5</td>\n",
              "      <td>5</td>\n",
              "      <td>48</td>\n",
              "      <td>2022-12-31</td>\n",
              "      <td>2756.31</td>\n",
              "      <td>1</td>\n",
              "      <td>0</td>\n",
              "      <td>...</td>\n",
              "      <td>Закрытое акционерное общество</td>\n",
              "      <td>ЗАО</td>\n",
              "      <td>5847.0</td>\n",
              "      <td>6318136702</td>\n",
              "      <td>Жилой комплекс \"Акварель\" (ЖК \"Акварель\") дом 8</td>\n",
              "      <td>NaN</td>\n",
              "      <td>NaN</td>\n",
              "      <td>NaN</td>\n",
              "      <td>NaN</td>\n",
              "      <td>Акварель</td>\n",
              "    </tr>\n",
              "    <tr>\n",
              "      <th>187</th>\n",
              "      <td>4026</td>\n",
              "      <td>63</td>\n",
              "      <td>г Самара, район Октябрьский, просека Пятая</td>\n",
              "      <td>5</td>\n",
              "      <td>5</td>\n",
              "      <td>64</td>\n",
              "      <td>2022-12-31</td>\n",
              "      <td>3666.28</td>\n",
              "      <td>1</td>\n",
              "      <td>0</td>\n",
              "      <td>...</td>\n",
              "      <td>Закрытое акционерное общество</td>\n",
              "      <td>ЗАО</td>\n",
              "      <td>5847.0</td>\n",
              "      <td>6318136702</td>\n",
              "      <td>Жилой комплекс \"Акварель\" (ЖК \"Акварель\") дом 10</td>\n",
              "      <td>NaN</td>\n",
              "      <td>NaN</td>\n",
              "      <td>NaN</td>\n",
              "      <td>NaN</td>\n",
              "      <td>Акварель</td>\n",
              "    </tr>\n",
              "    <tr>\n",
              "      <th>411</th>\n",
              "      <td>24539</td>\n",
              "      <td>63</td>\n",
              "      <td>г Самара, Белорусская</td>\n",
              "      <td>25</td>\n",
              "      <td>25</td>\n",
              "      <td>396</td>\n",
              "      <td>2022-12-31</td>\n",
              "      <td>25228.66</td>\n",
              "      <td>0</td>\n",
              "      <td>0</td>\n",
              "      <td>...</td>\n",
              "      <td>Общество с ограниченной ответственностью</td>\n",
              "      <td>ООО</td>\n",
              "      <td>5874.0</td>\n",
              "      <td>6319225715</td>\n",
              "      <td>ЖК \"Две реки\"</td>\n",
              "      <td>NaN</td>\n",
              "      <td>NaN</td>\n",
              "      <td>NaN</td>\n",
              "      <td>NaN</td>\n",
              "      <td>NaN</td>\n",
              "    </tr>\n",
              "    <tr>\n",
              "      <th>412</th>\n",
              "      <td>24540</td>\n",
              "      <td>63</td>\n",
              "      <td>г Самара, Белорусская</td>\n",
              "      <td>1</td>\n",
              "      <td>1</td>\n",
              "      <td>0</td>\n",
              "      <td>2022-12-31</td>\n",
              "      <td>0.00</td>\n",
              "      <td>0</td>\n",
              "      <td>0</td>\n",
              "      <td>...</td>\n",
              "      <td>Общество с ограниченной ответственностью</td>\n",
              "      <td>ООО</td>\n",
              "      <td>5874.0</td>\n",
              "      <td>6319225715</td>\n",
              "      <td>ЖК \"Две реки\"</td>\n",
              "      <td>NaN</td>\n",
              "      <td>NaN</td>\n",
              "      <td>NaN</td>\n",
              "      <td>NaN</td>\n",
              "      <td>NaN</td>\n",
              "    </tr>\n",
              "  </tbody>\n",
              "</table>\n",
              "<p>7 rows × 35 columns</p>\n",
              "</div>\n",
              "      <button class=\"colab-df-convert\" onclick=\"convertToInteractive('df-6f7d6261-5dd8-4803-b7f7-1d6f19e28e6d')\"\n",
              "              title=\"Convert this dataframe to an interactive table.\"\n",
              "              style=\"display:none;\">\n",
              "        \n",
              "  <svg xmlns=\"http://www.w3.org/2000/svg\" height=\"24px\"viewBox=\"0 0 24 24\"\n",
              "       width=\"24px\">\n",
              "    <path d=\"M0 0h24v24H0V0z\" fill=\"none\"/>\n",
              "    <path d=\"M18.56 5.44l.94 2.06.94-2.06 2.06-.94-2.06-.94-.94-2.06-.94 2.06-2.06.94zm-11 1L8.5 8.5l.94-2.06 2.06-.94-2.06-.94L8.5 2.5l-.94 2.06-2.06.94zm10 10l.94 2.06.94-2.06 2.06-.94-2.06-.94-.94-2.06-.94 2.06-2.06.94z\"/><path d=\"M17.41 7.96l-1.37-1.37c-.4-.4-.92-.59-1.43-.59-.52 0-1.04.2-1.43.59L10.3 9.45l-7.72 7.72c-.78.78-.78 2.05 0 2.83L4 21.41c.39.39.9.59 1.41.59.51 0 1.02-.2 1.41-.59l7.78-7.78 2.81-2.81c.8-.78.8-2.07 0-2.86zM5.41 20L4 18.59l7.72-7.72 1.47 1.35L5.41 20z\"/>\n",
              "  </svg>\n",
              "      </button>\n",
              "      \n",
              "  <style>\n",
              "    .colab-df-container {\n",
              "      display:flex;\n",
              "      flex-wrap:wrap;\n",
              "      gap: 12px;\n",
              "    }\n",
              "\n",
              "    .colab-df-convert {\n",
              "      background-color: #E8F0FE;\n",
              "      border: none;\n",
              "      border-radius: 50%;\n",
              "      cursor: pointer;\n",
              "      display: none;\n",
              "      fill: #1967D2;\n",
              "      height: 32px;\n",
              "      padding: 0 0 0 0;\n",
              "      width: 32px;\n",
              "    }\n",
              "\n",
              "    .colab-df-convert:hover {\n",
              "      background-color: #E2EBFA;\n",
              "      box-shadow: 0px 1px 2px rgba(60, 64, 67, 0.3), 0px 1px 3px 1px rgba(60, 64, 67, 0.15);\n",
              "      fill: #174EA6;\n",
              "    }\n",
              "\n",
              "    [theme=dark] .colab-df-convert {\n",
              "      background-color: #3B4455;\n",
              "      fill: #D2E3FC;\n",
              "    }\n",
              "\n",
              "    [theme=dark] .colab-df-convert:hover {\n",
              "      background-color: #434B5C;\n",
              "      box-shadow: 0px 1px 3px 1px rgba(0, 0, 0, 0.15);\n",
              "      filter: drop-shadow(0px 1px 2px rgba(0, 0, 0, 0.3));\n",
              "      fill: #FFFFFF;\n",
              "    }\n",
              "  </style>\n",
              "\n",
              "      <script>\n",
              "        const buttonEl =\n",
              "          document.querySelector('#df-6f7d6261-5dd8-4803-b7f7-1d6f19e28e6d button.colab-df-convert');\n",
              "        buttonEl.style.display =\n",
              "          google.colab.kernel.accessAllowed ? 'block' : 'none';\n",
              "\n",
              "        async function convertToInteractive(key) {\n",
              "          const element = document.querySelector('#df-6f7d6261-5dd8-4803-b7f7-1d6f19e28e6d');\n",
              "          const dataTable =\n",
              "            await google.colab.kernel.invokeFunction('convertToInteractive',\n",
              "                                                     [key], {});\n",
              "          if (!dataTable) return;\n",
              "\n",
              "          const docLinkHtml = 'Like what you see? Visit the ' +\n",
              "            '<a target=\"_blank\" href=https://colab.research.google.com/notebooks/data_table.ipynb>data table notebook</a>'\n",
              "            + ' to learn more about interactive tables.';\n",
              "          element.innerHTML = '';\n",
              "          dataTable['output_type'] = 'display_data';\n",
              "          await google.colab.output.renderOutput(dataTable, element);\n",
              "          const docLink = document.createElement('div');\n",
              "          docLink.innerHTML = docLinkHtml;\n",
              "          element.appendChild(docLink);\n",
              "        }\n",
              "      </script>\n",
              "    </div>\n",
              "  </div>\n",
              "  "
            ]
          },
          "metadata": {},
          "execution_count": 28
        }
      ],
      "source": [
        "df = pd.json_normalize(objects_list)\n",
        "df[df['objAddr'].str.lower().str.find('самара')>-1]"
      ]
    },
    {
      "cell_type": "markdown",
      "metadata": {
        "id": "zCkSGE-4ofeT"
      },
      "source": [
        "запись в excel"
      ]
    },
    {
      "cell_type": "code",
      "execution_count": null,
      "metadata": {
        "id": "HObN5bL1ofeU"
      },
      "outputs": [],
      "source": [
        "with pd.ExcelWriter('НашДомРФ.xlsx', mode='w') as writer:\n",
        "    df.to_excel(writer, sheet_name='НашДомРФ',index=False)"
      ]
    },
    {
      "cell_type": "markdown",
      "metadata": {
        "id": "UPLVRjcwofeV"
      },
      "source": [
        "запись в csv"
      ]
    },
    {
      "cell_type": "code",
      "execution_count": null,
      "metadata": {
        "id": "_SpV4wdCofeV"
      },
      "outputs": [],
      "source": [
        "file_csv = df.to_csv(sep=',', index=False)"
      ]
    },
    {
      "cell_type": "markdown",
      "metadata": {
        "id": "j1bzDJAsofeW"
      },
      "source": [
        "запись в pickle"
      ]
    },
    {
      "cell_type": "code",
      "execution_count": null,
      "metadata": {
        "id": "BTyZpPdEofeW"
      },
      "outputs": [],
      "source": [
        "file_pickle = df.to_pickle(path = 'str')"
      ]
    },
    {
      "cell_type": "markdown",
      "metadata": {
        "id": "SEMR4sOvofeW"
      },
      "source": [
        "запись в БД"
      ]
    },
    {
      "cell_type": "code",
      "execution_count": null,
      "metadata": {
        "id": "flbhXSO8ofeX"
      },
      "outputs": [],
      "source": [
        "from pandas.io import sql\n",
        "import MySQLdb\n",
        "\n",
        "con = MySQLdb.connect()\n",
        "\n",
        "df.to_sql(con=con, name='OurHouse', if_exists='replace', flavor='mysql')"
      ]
    }
  ],
  "metadata": {
    "kernelspec": {
      "display_name": "Python 3 (ipykernel)",
      "language": "python",
      "name": "python3"
    },
    "language_info": {
      "codemirror_mode": {
        "name": "ipython",
        "version": 3
      },
      "file_extension": ".py",
      "mimetype": "text/x-python",
      "name": "python",
      "nbconvert_exporter": "python",
      "pygments_lexer": "ipython3",
      "version": "3.9.12"
    },
    "colab": {
      "provenance": []
    }
  },
  "nbformat": 4,
  "nbformat_minor": 0
}