{
  "cells": [
    {
      "cell_type": "markdown",
      "metadata": {
        "id": "5xBwATNFofeM"
      },
      "source": [
        "### Задание\n",
        "- Собрать информацию о всех строящихся объектах на сайте \"наш.дом.рф\"\n",
        "- Cохранить ее в pandas dataframe\n",
        "- Cохранить pandas dataframe в excel\n",
        "- Cохранить pandas dataframe в pickle\n",
        "- Cохранить pandas dataframe в БД"
      ]
    },
    {
      "cell_type": "code",
      "execution_count": 6,
      "metadata": {
        "id": "kxi2F3z5ofeQ"
      },
      "outputs": [],
      "source": [
        "import requests\n",
        "import pandas as pd\n",
        "import time"
      ]
    },
    {
      "cell_type": "code",
      "source": [
        "documents = []\n",
        "url_doc_list = 'https://наш.дом.рф/сервисы/api/object/40239'\n",
        "response = requests.get(url_doc_list)\n",
        "documents = response.json()\n",
        "documents = documents['data']"
      ],
      "metadata": {
        "id": "M64uMT3izqgQ"
      },
      "execution_count": 52,
      "outputs": []
    },
    {
      "cell_type": "code",
      "source": [
        "df = pd.json_normalize(documents)"
      ],
      "metadata": {
        "id": "012tCJhd8La3"
      },
      "execution_count": 53,
      "outputs": []
    },
    {
      "cell_type": "code",
      "source": [
        "df"
      ],
      "metadata": {
        "id": "jW97cQli8Oeo",
        "outputId": "fc9e8ed4-6d03-4744-b2d7-83811ebeafe9",
        "colab": {
          "base_uri": "https://localhost:8080/",
          "height": 209
        }
      },
      "execution_count": 50,
      "outputs": [
        {
          "output_type": "execute_result",
          "data": {
            "text/plain": [
              "  errcode  data.id  data.pdId  data.developer.devId  \\\n",
              "0       0    40239     460620                  8526   \n",
              "\n",
              "  data.developer.devShortCleanNm data.developer.devShortNm  \\\n",
              "0              СЗ ГВ ДЕВЕЛОПМЕНТ         СЗ ГВ ДЕВЕЛОПМЕНТ   \n",
              "\n",
              "                       data.developer.devFullCleanNm  \\\n",
              "0  СПЕЦИАЛИЗИРОВАННЫЙ ЗАСТРОЙЩИК ГЛОБАЛ ВИЖН ДЕВЕ...   \n",
              "\n",
              "   data.developer.problObjCnt  data.developer.buildObjCnt  \\\n",
              "0                           0                           2   \n",
              "\n",
              "   data.developer.comissObjCnt  ... data.soldOutPerc data.objPriceAvg  \\\n",
              "0                            2  ...         0.919014            71998   \n",
              "\n",
              "         data.generalContractorNm data.nonlivFirstFloor  \\\n",
              "0  ООО Артефакт (ИНН: 6450070182)                     1   \n",
              "\n",
              "  data.objectTransportInfo data.conclusion data.objLkSaleDepEmail  \\\n",
              "0                       []            True         sale@amgrad.ru   \n",
              "\n",
              "  data.objGreenHouseFlg data.objEnergyEffShortDesc  \\\n",
              "0                     0                          B   \n",
              "\n",
              "   data.infrastructureIndexValue  \n",
              "0                              3  \n",
              "\n",
              "[1 rows x 92 columns]"
            ],
            "text/html": [
              "\n",
              "  <div id=\"df-85c3b07b-4e2d-45fa-8611-5fe311b0b7c2\">\n",
              "    <div class=\"colab-df-container\">\n",
              "      <div>\n",
              "<style scoped>\n",
              "    .dataframe tbody tr th:only-of-type {\n",
              "        vertical-align: middle;\n",
              "    }\n",
              "\n",
              "    .dataframe tbody tr th {\n",
              "        vertical-align: top;\n",
              "    }\n",
              "\n",
              "    .dataframe thead th {\n",
              "        text-align: right;\n",
              "    }\n",
              "</style>\n",
              "<table border=\"1\" class=\"dataframe\">\n",
              "  <thead>\n",
              "    <tr style=\"text-align: right;\">\n",
              "      <th></th>\n",
              "      <th>errcode</th>\n",
              "      <th>data.id</th>\n",
              "      <th>data.pdId</th>\n",
              "      <th>data.developer.devId</th>\n",
              "      <th>data.developer.devShortCleanNm</th>\n",
              "      <th>data.developer.devShortNm</th>\n",
              "      <th>data.developer.devFullCleanNm</th>\n",
              "      <th>data.developer.problObjCnt</th>\n",
              "      <th>data.developer.buildObjCnt</th>\n",
              "      <th>data.developer.comissObjCnt</th>\n",
              "      <th>...</th>\n",
              "      <th>data.soldOutPerc</th>\n",
              "      <th>data.objPriceAvg</th>\n",
              "      <th>data.generalContractorNm</th>\n",
              "      <th>data.nonlivFirstFloor</th>\n",
              "      <th>data.objectTransportInfo</th>\n",
              "      <th>data.conclusion</th>\n",
              "      <th>data.objLkSaleDepEmail</th>\n",
              "      <th>data.objGreenHouseFlg</th>\n",
              "      <th>data.objEnergyEffShortDesc</th>\n",
              "      <th>data.infrastructureIndexValue</th>\n",
              "    </tr>\n",
              "  </thead>\n",
              "  <tbody>\n",
              "    <tr>\n",
              "      <th>0</th>\n",
              "      <td>0</td>\n",
              "      <td>40239</td>\n",
              "      <td>460620</td>\n",
              "      <td>8526</td>\n",
              "      <td>СЗ ГВ ДЕВЕЛОПМЕНТ</td>\n",
              "      <td>СЗ ГВ ДЕВЕЛОПМЕНТ</td>\n",
              "      <td>СПЕЦИАЛИЗИРОВАННЫЙ ЗАСТРОЙЩИК ГЛОБАЛ ВИЖН ДЕВЕ...</td>\n",
              "      <td>0</td>\n",
              "      <td>2</td>\n",
              "      <td>2</td>\n",
              "      <td>...</td>\n",
              "      <td>0.919014</td>\n",
              "      <td>71998</td>\n",
              "      <td>ООО Артефакт (ИНН: 6450070182)</td>\n",
              "      <td>1</td>\n",
              "      <td>[]</td>\n",
              "      <td>True</td>\n",
              "      <td>sale@amgrad.ru</td>\n",
              "      <td>0</td>\n",
              "      <td>B</td>\n",
              "      <td>3</td>\n",
              "    </tr>\n",
              "  </tbody>\n",
              "</table>\n",
              "<p>1 rows × 92 columns</p>\n",
              "</div>\n",
              "      <button class=\"colab-df-convert\" onclick=\"convertToInteractive('df-85c3b07b-4e2d-45fa-8611-5fe311b0b7c2')\"\n",
              "              title=\"Convert this dataframe to an interactive table.\"\n",
              "              style=\"display:none;\">\n",
              "        \n",
              "  <svg xmlns=\"http://www.w3.org/2000/svg\" height=\"24px\"viewBox=\"0 0 24 24\"\n",
              "       width=\"24px\">\n",
              "    <path d=\"M0 0h24v24H0V0z\" fill=\"none\"/>\n",
              "    <path d=\"M18.56 5.44l.94 2.06.94-2.06 2.06-.94-2.06-.94-.94-2.06-.94 2.06-2.06.94zm-11 1L8.5 8.5l.94-2.06 2.06-.94-2.06-.94L8.5 2.5l-.94 2.06-2.06.94zm10 10l.94 2.06.94-2.06 2.06-.94-2.06-.94-.94-2.06-.94 2.06-2.06.94z\"/><path d=\"M17.41 7.96l-1.37-1.37c-.4-.4-.92-.59-1.43-.59-.52 0-1.04.2-1.43.59L10.3 9.45l-7.72 7.72c-.78.78-.78 2.05 0 2.83L4 21.41c.39.39.9.59 1.41.59.51 0 1.02-.2 1.41-.59l7.78-7.78 2.81-2.81c.8-.78.8-2.07 0-2.86zM5.41 20L4 18.59l7.72-7.72 1.47 1.35L5.41 20z\"/>\n",
              "  </svg>\n",
              "      </button>\n",
              "      \n",
              "  <style>\n",
              "    .colab-df-container {\n",
              "      display:flex;\n",
              "      flex-wrap:wrap;\n",
              "      gap: 12px;\n",
              "    }\n",
              "\n",
              "    .colab-df-convert {\n",
              "      background-color: #E8F0FE;\n",
              "      border: none;\n",
              "      border-radius: 50%;\n",
              "      cursor: pointer;\n",
              "      display: none;\n",
              "      fill: #1967D2;\n",
              "      height: 32px;\n",
              "      padding: 0 0 0 0;\n",
              "      width: 32px;\n",
              "    }\n",
              "\n",
              "    .colab-df-convert:hover {\n",
              "      background-color: #E2EBFA;\n",
              "      box-shadow: 0px 1px 2px rgba(60, 64, 67, 0.3), 0px 1px 3px 1px rgba(60, 64, 67, 0.15);\n",
              "      fill: #174EA6;\n",
              "    }\n",
              "\n",
              "    [theme=dark] .colab-df-convert {\n",
              "      background-color: #3B4455;\n",
              "      fill: #D2E3FC;\n",
              "    }\n",
              "\n",
              "    [theme=dark] .colab-df-convert:hover {\n",
              "      background-color: #434B5C;\n",
              "      box-shadow: 0px 1px 3px 1px rgba(0, 0, 0, 0.15);\n",
              "      filter: drop-shadow(0px 1px 2px rgba(0, 0, 0, 0.3));\n",
              "      fill: #FFFFFF;\n",
              "    }\n",
              "  </style>\n",
              "\n",
              "      <script>\n",
              "        const buttonEl =\n",
              "          document.querySelector('#df-85c3b07b-4e2d-45fa-8611-5fe311b0b7c2 button.colab-df-convert');\n",
              "        buttonEl.style.display =\n",
              "          google.colab.kernel.accessAllowed ? 'block' : 'none';\n",
              "\n",
              "        async function convertToInteractive(key) {\n",
              "          const element = document.querySelector('#df-85c3b07b-4e2d-45fa-8611-5fe311b0b7c2');\n",
              "          const dataTable =\n",
              "            await google.colab.kernel.invokeFunction('convertToInteractive',\n",
              "                                                     [key], {});\n",
              "          if (!dataTable) return;\n",
              "\n",
              "          const docLinkHtml = 'Like what you see? Visit the ' +\n",
              "            '<a target=\"_blank\" href=https://colab.research.google.com/notebooks/data_table.ipynb>data table notebook</a>'\n",
              "            + ' to learn more about interactive tables.';\n",
              "          element.innerHTML = '';\n",
              "          dataTable['output_type'] = 'display_data';\n",
              "          await google.colab.output.renderOutput(dataTable, element);\n",
              "          const docLink = document.createElement('div');\n",
              "          docLink.innerHTML = docLinkHtml;\n",
              "          element.appendChild(docLink);\n",
              "        }\n",
              "      </script>\n",
              "    </div>\n",
              "  </div>\n",
              "  "
            ]
          },
          "metadata": {},
          "execution_count": 50
        }
      ]
    },
    {
      "cell_type": "code",
      "source": [
        "offset_ = 0\n",
        "limit_ = 1000\n",
        "params= {'region':'63'}\n",
        "url = f'https://xn--80az8a.xn--d1aqf.xn--p1ai/%D1%81%D0%B5%D1%80%D0%B2%D0%B8%D1%81%D1%8B/api/kn/object?offset={offset_}&limit={limit_}&sortField=devId.devShortCleanNm&sortType=asc&objStatus=0'\n",
        "res = requests.get(url) #,params=params)\n",
        "i=0"
      ],
      "metadata": {
        "id": "oPG3Ve01upzN"
      },
      "execution_count": 53,
      "outputs": []
    },
    {
      "cell_type": "code",
      "execution_count": 58,
      "metadata": {
        "id": "yad0j2HtofeS"
      },
      "outputs": [],
      "source": [
        "objects_data = res.json()\n",
        "objects_list = objects_data.get('data') #.get('list')"
      ]
    },
    {
      "cell_type": "code",
      "source": [
        "  df = pd.json_normalize(objects_list)\n",
        "  dffull=df"
      ],
      "metadata": {
        "id": "kWRNYZ7gxWQP"
      },
      "execution_count": 59,
      "outputs": []
    },
    {
      "cell_type": "code",
      "source": [
        "df=df.drop(df.index)"
      ],
      "metadata": {
        "id": "S8pzoZu6x0mI"
      },
      "execution_count": 60,
      "outputs": []
    },
    {
      "cell_type": "code",
      "source": [
        "i"
      ],
      "metadata": {
        "id": "Gw9elLfoyX-P",
        "outputId": "94cbb808-4ded-4f0a-f6b0-cee65596ff74",
        "colab": {
          "base_uri": "https://localhost:8080/"
        }
      },
      "execution_count": 61,
      "outputs": [
        {
          "output_type": "execute_result",
          "data": {
            "text/plain": [
              "0"
            ]
          },
          "metadata": {},
          "execution_count": 61
        }
      ]
    },
    {
      "cell_type": "code",
      "source": [
        "while i<=10:\n",
        "  url = f'https://xn--80az8a.xn--d1aqf.xn--p1ai/%D1%81%D0%B5%D1%80%D0%B2%D0%B8%D1%81%D1%8B/api/kn/object?offset={offset_}&limit={limit_}&sortField=devId.devShortCleanNm&sortType=asc&objStatus=0'\n",
        "  res = requests.get(url) #,params=params)\n",
        "  if str(res)!='<Response [200]>': break\n",
        "  offset_ = offset_ + 1000\n",
        "  objects_data = res.json()\n",
        "  objects_list = objects_data.get('data')#.get('list') \n",
        "  df = pd.json_normalize(objects_list)\n",
        "  dffull=pd.concat([dffull,df],ignore_index=True)\n",
        "  time.sleep(3)\n",
        "  i=i+1"
      ],
      "metadata": {
        "id": "UNGerURfvD3c"
      },
      "execution_count": 62,
      "outputs": []
    },
    {
      "cell_type": "code",
      "source": [
        "dffull.columns"
      ],
      "metadata": {
        "id": "DtJm--yLGQsZ",
        "outputId": "1bb7bc74-02eb-479b-927b-eef84c93293d",
        "colab": {
          "base_uri": "https://localhost:8080/"
        }
      },
      "execution_count": 74,
      "outputs": [
        {
          "output_type": "execute_result",
          "data": {
            "text/plain": [
              "Index(['list', 'total'], dtype='object')"
            ]
          },
          "metadata": {},
          "execution_count": 74
        }
      ]
    },
    {
      "cell_type": "code",
      "source": [
        "dffull.reset_index(inplace=True)"
      ],
      "metadata": {
        "id": "vjUaCJwPJ3AR"
      },
      "execution_count": 75,
      "outputs": []
    },
    {
      "cell_type": "code",
      "source": [
        "ser= dffull['list']"
      ],
      "metadata": {
        "id": "sHS3kaebJ8bo"
      },
      "execution_count": 84,
      "outputs": []
    },
    {
      "cell_type": "code",
      "source": [
        "ser[0][2]"
      ],
      "metadata": {
        "id": "x5fBPc4JL4gB",
        "outputId": "c7a859b8-7d4a-48cc-d918-43eff07aa656",
        "colab": {
          "base_uri": "https://localhost:8080/"
        }
      },
      "execution_count": 93,
      "outputs": [
        {
          "output_type": "execute_result",
          "data": {
            "text/plain": [
              "{'objId': 13398,\n",
              " 'developer': {'devId': 306,\n",
              "  'shortName': '2МЕН ГРУПП',\n",
              "  'fullName': '2МЕН ГРУПП',\n",
              "  'groupName': '2МЕН ГРУПП ДЕВЕЛОПМЕНТ',\n",
              "  'orgForm': {'id': 1, 'fullForm': 'Акционерное общество', 'shortForm': 'АО'},\n",
              "  'companyGroup': 5776,\n",
              "  'devInn': '7701651356'},\n",
              " 'rpdRegionCd': 72,\n",
              " 'objAddr': 'г Тюмень, ул Профсоюзная, д. 56',\n",
              " 'objFloorMin': 7,\n",
              " 'objFloorMax': 10,\n",
              " 'objElemLivingCnt': 43,\n",
              " 'objReady100PercDt': '2024-12-31',\n",
              " 'objSquareLiving': 4812.98,\n",
              " 'objCompensFundFlg': 0,\n",
              " 'objProblemFlg': 0,\n",
              " 'latitude': 57.1519,\n",
              " 'longitude': 65.5544,\n",
              " 'problemFlag': 'NONE',\n",
              " 'siteStatus': 'Строящиеся',\n",
              " 'objGuarantyEscrowFlg': 0,\n",
              " 'residentialBuildings': 1,\n",
              " 'rpdNum': '72-000097',\n",
              " 'pdId': 28141,\n",
              " 'buildType': 'Жилое',\n",
              " 'objStatus': 0}"
            ]
          },
          "metadata": {},
          "execution_count": 93
        }
      ]
    },
    {
      "cell_type": "code",
      "source": [
        "dffull[dffull['rpdRegionCd']==63]['objId'].unique().to_frame().count()"
      ],
      "metadata": {
        "id": "hextNymjCyhP",
        "outputId": "c1971bc6-464f-428c-e45a-ccb79fe7809d",
        "colab": {
          "base_uri": "https://localhost:8080/",
          "height": 165
        }
      },
      "execution_count": 50,
      "outputs": [
        {
          "output_type": "error",
          "ename": "AttributeError",
          "evalue": "ignored",
          "traceback": [
            "\u001b[0;31m---------------------------------------------------------------------------\u001b[0m",
            "\u001b[0;31mAttributeError\u001b[0m                            Traceback (most recent call last)",
            "\u001b[0;32m<ipython-input-50-5789e612a71f>\u001b[0m in \u001b[0;36m<module>\u001b[0;34m\u001b[0m\n\u001b[0;32m----> 1\u001b[0;31m \u001b[0mdffull\u001b[0m\u001b[0;34m[\u001b[0m\u001b[0mdffull\u001b[0m\u001b[0;34m[\u001b[0m\u001b[0;34m'rpdRegionCd'\u001b[0m\u001b[0;34m]\u001b[0m\u001b[0;34m==\u001b[0m\u001b[0;36m63\u001b[0m\u001b[0;34m]\u001b[0m\u001b[0;34m[\u001b[0m\u001b[0;34m'objId'\u001b[0m\u001b[0;34m]\u001b[0m\u001b[0;34m.\u001b[0m\u001b[0munique\u001b[0m\u001b[0;34m(\u001b[0m\u001b[0;34m)\u001b[0m\u001b[0;34m.\u001b[0m\u001b[0mto_frame\u001b[0m\u001b[0;34m(\u001b[0m\u001b[0;34m)\u001b[0m\u001b[0;34m.\u001b[0m\u001b[0mcount\u001b[0m\u001b[0;34m(\u001b[0m\u001b[0;34m)\u001b[0m\u001b[0;34m\u001b[0m\u001b[0;34m\u001b[0m\u001b[0m\n\u001b[0m",
            "\u001b[0;31mAttributeError\u001b[0m: 'numpy.ndarray' object has no attribute 'to_frame'"
          ]
        }
      ]
    },
    {
      "cell_type": "code",
      "source": [
        "dffull[dffull['objAddr'].str.lower().str.find('самара')>-1].count()"
      ],
      "metadata": {
        "id": "yyc58cbCwHvO",
        "outputId": "5fdc079f-2c3a-4bdd-ed12-19965fe51a97",
        "colab": {
          "base_uri": "https://localhost:8080/"
        }
      },
      "execution_count": 33,
      "outputs": [
        {
          "output_type": "execute_result",
          "data": {
            "text/plain": [
              "objId                                        50\n",
              "rpdRegionCd                                  50\n",
              "objAddr                                      50\n",
              "objFloorMin                                  50\n",
              "objFloorMax                                  50\n",
              "objElemLivingCnt                             50\n",
              "objReady100PercDt                            50\n",
              "objSquareLiving                              50\n",
              "objCompensFundFlg                            50\n",
              "objProblemFlg                                50\n",
              "latitude                                     50\n",
              "longitude                                    50\n",
              "problemFlag                                  50\n",
              "siteStatus                                   50\n",
              "objGuarantyEscrowFlg                         50\n",
              "residentialBuildings                         50\n",
              "rpdNum                                       50\n",
              "pdId                                         50\n",
              "buildType                                    50\n",
              "objStatus                                    50\n",
              "developer.devId                              50\n",
              "developer.shortName                          50\n",
              "developer.fullName                           50\n",
              "developer.groupName                          33\n",
              "developer.orgForm.id                         50\n",
              "developer.orgForm.fullForm                   50\n",
              "developer.orgForm.shortForm                  50\n",
              "developer.companyGroup                       33\n",
              "developer.devInn                             50\n",
              "objCommercNm                                 42\n",
              "developer.bankruptStage.bankruptStageCd       0\n",
              "developer.bankruptStage.bankruptStageDesc     0\n",
              "developer.bankruptStage.bankruptLawUrl        0\n",
              "developer.orgBankruptMsgDttm                  0\n",
              "complexShortName                             10\n",
              "dtype: int64"
            ]
          },
          "metadata": {},
          "execution_count": 33
        }
      ]
    },
    {
      "cell_type": "code",
      "execution_count": 28,
      "metadata": {
        "id": "svepo4hpofeT",
        "outputId": "0860a6ba-8d46-4137-ec6d-f088ac4ed0fb",
        "colab": {
          "base_uri": "https://localhost:8080/",
          "height": 814
        }
      },
      "outputs": [
        {
          "output_type": "execute_result",
          "data": {
            "text/plain": [
              "     objId  rpdRegionCd                                            objAddr  \\\n",
              "63   18136           63  г Самара, улица Советской Армии, д. 0, корпус ...   \n",
              "184   4024           63         г Самара, район Октябрьский, просека Пятая   \n",
              "185   4025           63         г Самара, район Октябрьский, просека Пятая   \n",
              "186   4023           63         г Самара, район Октябрьский, просека Пятая   \n",
              "187   4026           63         г Самара, район Октябрьский, просека Пятая   \n",
              "411  24539           63                              г Самара, Белорусская   \n",
              "412  24540           63                              г Самара, Белорусская   \n",
              "\n",
              "     objFloorMin  objFloorMax  objElemLivingCnt objReady100PercDt  \\\n",
              "63            27           27               360        2023-06-30   \n",
              "184            5            5                16        2023-12-31   \n",
              "185            5            5                64        2022-12-31   \n",
              "186            5            5                48        2022-12-31   \n",
              "187            5            5                64        2022-12-31   \n",
              "411           25           25               396        2022-12-31   \n",
              "412            1            1                 0        2022-12-31   \n",
              "\n",
              "     objSquareLiving  objCompensFundFlg  objProblemFlg  ...  \\\n",
              "63          20664.24                  0              0  ...   \n",
              "184           918.77                  1              0  ...   \n",
              "185          3675.08                  1              0  ...   \n",
              "186          2756.31                  1              0  ...   \n",
              "187          3666.28                  1              0  ...   \n",
              "411         25228.66                  0              0  ...   \n",
              "412             0.00                  0              0  ...   \n",
              "\n",
              "                   developer.orgForm.fullForm  developer.orgForm.shortForm  \\\n",
              "63   Общество с ограниченной ответственностью                          ООО   \n",
              "184             Закрытое акционерное общество                          ЗАО   \n",
              "185             Закрытое акционерное общество                          ЗАО   \n",
              "186             Закрытое акционерное общество                          ЗАО   \n",
              "187             Закрытое акционерное общество                          ЗАО   \n",
              "411  Общество с ограниченной ответственностью                          ООО   \n",
              "412  Общество с ограниченной ответственностью                          ООО   \n",
              "\n",
              "    developer.companyGroup developer.devInn  \\\n",
              "63                  9176.0       6312173063   \n",
              "184                 5847.0       6318136702   \n",
              "185                 5847.0       6318136702   \n",
              "186                 5847.0       6318136702   \n",
              "187                 5847.0       6318136702   \n",
              "411                 5874.0       6319225715   \n",
              "412                 5874.0       6319225715   \n",
              "\n",
              "                                         objCommercNm  \\\n",
              "63                                                NaN   \n",
              "184   Жилой комплекс \"Акварель\" (ЖК \"Акварель\") дом 9   \n",
              "185   Жилой комплекс \"Акварель\" (ЖК \"Акварель\") дом 7   \n",
              "186   Жилой комплекс \"Акварель\" (ЖК \"Акварель\") дом 8   \n",
              "187  Жилой комплекс \"Акварель\" (ЖК \"Акварель\") дом 10   \n",
              "411                                     ЖК \"Две реки\"   \n",
              "412                                     ЖК \"Две реки\"   \n",
              "\n",
              "     developer.bankruptStage.bankruptStageCd  \\\n",
              "63                                       NaN   \n",
              "184                                      NaN   \n",
              "185                                      NaN   \n",
              "186                                      NaN   \n",
              "187                                      NaN   \n",
              "411                                      NaN   \n",
              "412                                      NaN   \n",
              "\n",
              "    developer.bankruptStage.bankruptStageDesc  \\\n",
              "63                                        NaN   \n",
              "184                                       NaN   \n",
              "185                                       NaN   \n",
              "186                                       NaN   \n",
              "187                                       NaN   \n",
              "411                                       NaN   \n",
              "412                                       NaN   \n",
              "\n",
              "     developer.bankruptStage.bankruptLawUrl developer.orgBankruptMsgDttm  \\\n",
              "63                                      NaN                          NaN   \n",
              "184                                     NaN                          NaN   \n",
              "185                                     NaN                          NaN   \n",
              "186                                     NaN                          NaN   \n",
              "187                                     NaN                          NaN   \n",
              "411                                     NaN                          NaN   \n",
              "412                                     NaN                          NaN   \n",
              "\n",
              "     complexShortName  \n",
              "63                NaN  \n",
              "184          Акварель  \n",
              "185          Акварель  \n",
              "186          Акварель  \n",
              "187          Акварель  \n",
              "411               NaN  \n",
              "412               NaN  \n",
              "\n",
              "[7 rows x 35 columns]"
            ],
            "text/html": [
              "\n",
              "  <div id=\"df-6f7d6261-5dd8-4803-b7f7-1d6f19e28e6d\">\n",
              "    <div class=\"colab-df-container\">\n",
              "      <div>\n",
              "<style scoped>\n",
              "    .dataframe tbody tr th:only-of-type {\n",
              "        vertical-align: middle;\n",
              "    }\n",
              "\n",
              "    .dataframe tbody tr th {\n",
              "        vertical-align: top;\n",
              "    }\n",
              "\n",
              "    .dataframe thead th {\n",
              "        text-align: right;\n",
              "    }\n",
              "</style>\n",
              "<table border=\"1\" class=\"dataframe\">\n",
              "  <thead>\n",
              "    <tr style=\"text-align: right;\">\n",
              "      <th></th>\n",
              "      <th>objId</th>\n",
              "      <th>rpdRegionCd</th>\n",
              "      <th>objAddr</th>\n",
              "      <th>objFloorMin</th>\n",
              "      <th>objFloorMax</th>\n",
              "      <th>objElemLivingCnt</th>\n",
              "      <th>objReady100PercDt</th>\n",
              "      <th>objSquareLiving</th>\n",
              "      <th>objCompensFundFlg</th>\n",
              "      <th>objProblemFlg</th>\n",
              "      <th>...</th>\n",
              "      <th>developer.orgForm.fullForm</th>\n",
              "      <th>developer.orgForm.shortForm</th>\n",
              "      <th>developer.companyGroup</th>\n",
              "      <th>developer.devInn</th>\n",
              "      <th>objCommercNm</th>\n",
              "      <th>developer.bankruptStage.bankruptStageCd</th>\n",
              "      <th>developer.bankruptStage.bankruptStageDesc</th>\n",
              "      <th>developer.bankruptStage.bankruptLawUrl</th>\n",
              "      <th>developer.orgBankruptMsgDttm</th>\n",
              "      <th>complexShortName</th>\n",
              "    </tr>\n",
              "  </thead>\n",
              "  <tbody>\n",
              "    <tr>\n",
              "      <th>63</th>\n",
              "      <td>18136</td>\n",
              "      <td>63</td>\n",
              "      <td>г Самара, улица Советской Армии, д. 0, корпус ...</td>\n",
              "      <td>27</td>\n",
              "      <td>27</td>\n",
              "      <td>360</td>\n",
              "      <td>2023-06-30</td>\n",
              "      <td>20664.24</td>\n",
              "      <td>0</td>\n",
              "      <td>0</td>\n",
              "      <td>...</td>\n",
              "      <td>Общество с ограниченной ответственностью</td>\n",
              "      <td>ООО</td>\n",
              "      <td>9176.0</td>\n",
              "      <td>6312173063</td>\n",
              "      <td>NaN</td>\n",
              "      <td>NaN</td>\n",
              "      <td>NaN</td>\n",
              "      <td>NaN</td>\n",
              "      <td>NaN</td>\n",
              "      <td>NaN</td>\n",
              "    </tr>\n",
              "    <tr>\n",
              "      <th>184</th>\n",
              "      <td>4024</td>\n",
              "      <td>63</td>\n",
              "      <td>г Самара, район Октябрьский, просека Пятая</td>\n",
              "      <td>5</td>\n",
              "      <td>5</td>\n",
              "      <td>16</td>\n",
              "      <td>2023-12-31</td>\n",
              "      <td>918.77</td>\n",
              "      <td>1</td>\n",
              "      <td>0</td>\n",
              "      <td>...</td>\n",
              "      <td>Закрытое акционерное общество</td>\n",
              "      <td>ЗАО</td>\n",
              "      <td>5847.0</td>\n",
              "      <td>6318136702</td>\n",
              "      <td>Жилой комплекс \"Акварель\" (ЖК \"Акварель\") дом 9</td>\n",
              "      <td>NaN</td>\n",
              "      <td>NaN</td>\n",
              "      <td>NaN</td>\n",
              "      <td>NaN</td>\n",
              "      <td>Акварель</td>\n",
              "    </tr>\n",
              "    <tr>\n",
              "      <th>185</th>\n",
              "      <td>4025</td>\n",
              "      <td>63</td>\n",
              "      <td>г Самара, район Октябрьский, просека Пятая</td>\n",
              "      <td>5</td>\n",
              "      <td>5</td>\n",
              "      <td>64</td>\n",
              "      <td>2022-12-31</td>\n",
              "      <td>3675.08</td>\n",
              "      <td>1</td>\n",
              "      <td>0</td>\n",
              "      <td>...</td>\n",
              "      <td>Закрытое акционерное общество</td>\n",
              "      <td>ЗАО</td>\n",
              "      <td>5847.0</td>\n",
              "      <td>6318136702</td>\n",
              "      <td>Жилой комплекс \"Акварель\" (ЖК \"Акварель\") дом 7</td>\n",
              "      <td>NaN</td>\n",
              "      <td>NaN</td>\n",
              "      <td>NaN</td>\n",
              "      <td>NaN</td>\n",
              "      <td>Акварель</td>\n",
              "    </tr>\n",
              "    <tr>\n",
              "      <th>186</th>\n",
              "      <td>4023</td>\n",
              "      <td>63</td>\n",
              "      <td>г Самара, район Октябрьский, просека Пятая</td>\n",
              "      <td>5</td>\n",
              "      <td>5</td>\n",
              "      <td>48</td>\n",
              "      <td>2022-12-31</td>\n",
              "      <td>2756.31</td>\n",
              "      <td>1</td>\n",
              "      <td>0</td>\n",
              "      <td>...</td>\n",
              "      <td>Закрытое акционерное общество</td>\n",
              "      <td>ЗАО</td>\n",
              "      <td>5847.0</td>\n",
              "      <td>6318136702</td>\n",
              "      <td>Жилой комплекс \"Акварель\" (ЖК \"Акварель\") дом 8</td>\n",
              "      <td>NaN</td>\n",
              "      <td>NaN</td>\n",
              "      <td>NaN</td>\n",
              "      <td>NaN</td>\n",
              "      <td>Акварель</td>\n",
              "    </tr>\n",
              "    <tr>\n",
              "      <th>187</th>\n",
              "      <td>4026</td>\n",
              "      <td>63</td>\n",
              "      <td>г Самара, район Октябрьский, просека Пятая</td>\n",
              "      <td>5</td>\n",
              "      <td>5</td>\n",
              "      <td>64</td>\n",
              "      <td>2022-12-31</td>\n",
              "      <td>3666.28</td>\n",
              "      <td>1</td>\n",
              "      <td>0</td>\n",
              "      <td>...</td>\n",
              "      <td>Закрытое акционерное общество</td>\n",
              "      <td>ЗАО</td>\n",
              "      <td>5847.0</td>\n",
              "      <td>6318136702</td>\n",
              "      <td>Жилой комплекс \"Акварель\" (ЖК \"Акварель\") дом 10</td>\n",
              "      <td>NaN</td>\n",
              "      <td>NaN</td>\n",
              "      <td>NaN</td>\n",
              "      <td>NaN</td>\n",
              "      <td>Акварель</td>\n",
              "    </tr>\n",
              "    <tr>\n",
              "      <th>411</th>\n",
              "      <td>24539</td>\n",
              "      <td>63</td>\n",
              "      <td>г Самара, Белорусская</td>\n",
              "      <td>25</td>\n",
              "      <td>25</td>\n",
              "      <td>396</td>\n",
              "      <td>2022-12-31</td>\n",
              "      <td>25228.66</td>\n",
              "      <td>0</td>\n",
              "      <td>0</td>\n",
              "      <td>...</td>\n",
              "      <td>Общество с ограниченной ответственностью</td>\n",
              "      <td>ООО</td>\n",
              "      <td>5874.0</td>\n",
              "      <td>6319225715</td>\n",
              "      <td>ЖК \"Две реки\"</td>\n",
              "      <td>NaN</td>\n",
              "      <td>NaN</td>\n",
              "      <td>NaN</td>\n",
              "      <td>NaN</td>\n",
              "      <td>NaN</td>\n",
              "    </tr>\n",
              "    <tr>\n",
              "      <th>412</th>\n",
              "      <td>24540</td>\n",
              "      <td>63</td>\n",
              "      <td>г Самара, Белорусская</td>\n",
              "      <td>1</td>\n",
              "      <td>1</td>\n",
              "      <td>0</td>\n",
              "      <td>2022-12-31</td>\n",
              "      <td>0.00</td>\n",
              "      <td>0</td>\n",
              "      <td>0</td>\n",
              "      <td>...</td>\n",
              "      <td>Общество с ограниченной ответственностью</td>\n",
              "      <td>ООО</td>\n",
              "      <td>5874.0</td>\n",
              "      <td>6319225715</td>\n",
              "      <td>ЖК \"Две реки\"</td>\n",
              "      <td>NaN</td>\n",
              "      <td>NaN</td>\n",
              "      <td>NaN</td>\n",
              "      <td>NaN</td>\n",
              "      <td>NaN</td>\n",
              "    </tr>\n",
              "  </tbody>\n",
              "</table>\n",
              "<p>7 rows × 35 columns</p>\n",
              "</div>\n",
              "      <button class=\"colab-df-convert\" onclick=\"convertToInteractive('df-6f7d6261-5dd8-4803-b7f7-1d6f19e28e6d')\"\n",
              "              title=\"Convert this dataframe to an interactive table.\"\n",
              "              style=\"display:none;\">\n",
              "        \n",
              "  <svg xmlns=\"http://www.w3.org/2000/svg\" height=\"24px\"viewBox=\"0 0 24 24\"\n",
              "       width=\"24px\">\n",
              "    <path d=\"M0 0h24v24H0V0z\" fill=\"none\"/>\n",
              "    <path d=\"M18.56 5.44l.94 2.06.94-2.06 2.06-.94-2.06-.94-.94-2.06-.94 2.06-2.06.94zm-11 1L8.5 8.5l.94-2.06 2.06-.94-2.06-.94L8.5 2.5l-.94 2.06-2.06.94zm10 10l.94 2.06.94-2.06 2.06-.94-2.06-.94-.94-2.06-.94 2.06-2.06.94z\"/><path d=\"M17.41 7.96l-1.37-1.37c-.4-.4-.92-.59-1.43-.59-.52 0-1.04.2-1.43.59L10.3 9.45l-7.72 7.72c-.78.78-.78 2.05 0 2.83L4 21.41c.39.39.9.59 1.41.59.51 0 1.02-.2 1.41-.59l7.78-7.78 2.81-2.81c.8-.78.8-2.07 0-2.86zM5.41 20L4 18.59l7.72-7.72 1.47 1.35L5.41 20z\"/>\n",
              "  </svg>\n",
              "      </button>\n",
              "      \n",
              "  <style>\n",
              "    .colab-df-container {\n",
              "      display:flex;\n",
              "      flex-wrap:wrap;\n",
              "      gap: 12px;\n",
              "    }\n",
              "\n",
              "    .colab-df-convert {\n",
              "      background-color: #E8F0FE;\n",
              "      border: none;\n",
              "      border-radius: 50%;\n",
              "      cursor: pointer;\n",
              "      display: none;\n",
              "      fill: #1967D2;\n",
              "      height: 32px;\n",
              "      padding: 0 0 0 0;\n",
              "      width: 32px;\n",
              "    }\n",
              "\n",
              "    .colab-df-convert:hover {\n",
              "      background-color: #E2EBFA;\n",
              "      box-shadow: 0px 1px 2px rgba(60, 64, 67, 0.3), 0px 1px 3px 1px rgba(60, 64, 67, 0.15);\n",
              "      fill: #174EA6;\n",
              "    }\n",
              "\n",
              "    [theme=dark] .colab-df-convert {\n",
              "      background-color: #3B4455;\n",
              "      fill: #D2E3FC;\n",
              "    }\n",
              "\n",
              "    [theme=dark] .colab-df-convert:hover {\n",
              "      background-color: #434B5C;\n",
              "      box-shadow: 0px 1px 3px 1px rgba(0, 0, 0, 0.15);\n",
              "      filter: drop-shadow(0px 1px 2px rgba(0, 0, 0, 0.3));\n",
              "      fill: #FFFFFF;\n",
              "    }\n",
              "  </style>\n",
              "\n",
              "      <script>\n",
              "        const buttonEl =\n",
              "          document.querySelector('#df-6f7d6261-5dd8-4803-b7f7-1d6f19e28e6d button.colab-df-convert');\n",
              "        buttonEl.style.display =\n",
              "          google.colab.kernel.accessAllowed ? 'block' : 'none';\n",
              "\n",
              "        async function convertToInteractive(key) {\n",
              "          const element = document.querySelector('#df-6f7d6261-5dd8-4803-b7f7-1d6f19e28e6d');\n",
              "          const dataTable =\n",
              "            await google.colab.kernel.invokeFunction('convertToInteractive',\n",
              "                                                     [key], {});\n",
              "          if (!dataTable) return;\n",
              "\n",
              "          const docLinkHtml = 'Like what you see? Visit the ' +\n",
              "            '<a target=\"_blank\" href=https://colab.research.google.com/notebooks/data_table.ipynb>data table notebook</a>'\n",
              "            + ' to learn more about interactive tables.';\n",
              "          element.innerHTML = '';\n",
              "          dataTable['output_type'] = 'display_data';\n",
              "          await google.colab.output.renderOutput(dataTable, element);\n",
              "          const docLink = document.createElement('div');\n",
              "          docLink.innerHTML = docLinkHtml;\n",
              "          element.appendChild(docLink);\n",
              "        }\n",
              "      </script>\n",
              "    </div>\n",
              "  </div>\n",
              "  "
            ]
          },
          "metadata": {},
          "execution_count": 28
        }
      ],
      "source": [
        "df = pd.json_normalize(objects_list)\n",
        "df[df['objAddr'].str.lower().str.find('самара')>-1]"
      ]
    },
    {
      "cell_type": "markdown",
      "metadata": {
        "id": "zCkSGE-4ofeT"
      },
      "source": [
        "запись в excel"
      ]
    },
    {
      "cell_type": "code",
      "execution_count": null,
      "metadata": {
        "id": "HObN5bL1ofeU"
      },
      "outputs": [],
      "source": [
        "with pd.ExcelWriter('НашДомРФ.xlsx', mode='w') as writer:\n",
        "    df.to_excel(writer, sheet_name='НашДомРФ',index=False)"
      ]
    },
    {
      "cell_type": "markdown",
      "metadata": {
        "id": "UPLVRjcwofeV"
      },
      "source": [
        "запись в csv"
      ]
    },
    {
      "cell_type": "code",
      "execution_count": null,
      "metadata": {
        "id": "_SpV4wdCofeV"
      },
      "outputs": [],
      "source": [
        "file_csv = df.to_csv(sep=',', index=False)"
      ]
    },
    {
      "cell_type": "markdown",
      "metadata": {
        "id": "j1bzDJAsofeW"
      },
      "source": [
        "запись в pickle"
      ]
    },
    {
      "cell_type": "code",
      "execution_count": null,
      "metadata": {
        "id": "BTyZpPdEofeW"
      },
      "outputs": [],
      "source": [
        "file_pickle = df.to_pickle(path = 'str')"
      ]
    },
    {
      "cell_type": "markdown",
      "metadata": {
        "id": "SEMR4sOvofeW"
      },
      "source": [
        "запись в БД"
      ]
    },
    {
      "cell_type": "code",
      "execution_count": null,
      "metadata": {
        "id": "flbhXSO8ofeX"
      },
      "outputs": [],
      "source": [
        "from pandas.io import sql\n",
        "import MySQLdb\n",
        "\n",
        "con = MySQLdb.connect()\n",
        "\n",
        "df.to_sql(con=con, name='OurHouse', if_exists='replace', flavor='mysql')"
      ]
    }
  ],
  "metadata": {
    "kernelspec": {
      "display_name": "Python 3 (ipykernel)",
      "language": "python",
      "name": "python3"
    },
    "language_info": {
      "codemirror_mode": {
        "name": "ipython",
        "version": 3
      },
      "file_extension": ".py",
      "mimetype": "text/x-python",
      "name": "python",
      "nbconvert_exporter": "python",
      "pygments_lexer": "ipython3",
      "version": "3.9.12"
    },
    "colab": {
      "provenance": []
    }
  },
  "nbformat": 4,
  "nbformat_minor": 0
}