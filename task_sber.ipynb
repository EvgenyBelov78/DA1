{
  "cells": [
    {
      "cell_type": "markdown",
      "metadata": {
        "id": "5xBwATNFofeM"
      },
      "source": []
    },
    {
      "cell_type": "code",
      "execution_count": 1,
      "metadata": {
        "id": "kxi2F3z5ofeQ",
        "colab": {
          "base_uri": "https://localhost:8080/"
        },
        "outputId": "73b8debf-e030-455f-f9c5-04ce48a43fd6"
      },
      "outputs": [
        {
          "output_type": "stream",
          "name": "stdout",
          "text": [
            "Looking in indexes: https://pypi.org/simple, https://us-python.pkg.dev/colab-wheels/public/simple/\n",
            "Collecting html_to_json\n",
            "  Downloading html_to_json-2.0.0-py2.py3-none-any.whl (6.4 kB)\n",
            "Requirement already satisfied: bs4 in /usr/local/lib/python3.8/dist-packages (from html_to_json) (0.0.1)\n",
            "Requirement already satisfied: beautifulsoup4 in /usr/local/lib/python3.8/dist-packages (from bs4->html_to_json) (4.6.3)\n",
            "Installing collected packages: html_to_json\n",
            "Successfully installed html_to_json-2.0.0\n"
          ]
        }
      ],
      "source": [
        "import requests\n",
        "import pandas as pd\n",
        "import time\n",
        "import datetime"
      ]
    },
    {
      "cell_type": "code",
      "source": [
        "def get_time():\n",
        " now = datetime.datetime.now()\n",
        " return(now)"
      ],
      "metadata": {
        "id": "qJPDRSkW8Zvl"
      },
      "execution_count": 8,
      "outputs": []
    },
    {
      "cell_type": "code",
      "source": [
        "i=0\n",
        "while i<10:\n",
        " print(get_time())\n",
        " time.sleep(1)\n",
        " i=i+1"
      ],
      "metadata": {
        "id": "AYSiMKYl8HjE",
        "outputId": "8f757870-5041-4f3a-c734-da3abe382ad9",
        "colab": {
          "base_uri": "https://localhost:8080/"
        }
      },
      "execution_count": 13,
      "outputs": [
        {
          "output_type": "stream",
          "name": "stdout",
          "text": [
            "2023-01-12 08:33:21.224881\n",
            "2023-01-12 08:33:22.228244\n",
            "2023-01-12 08:33:23.230228\n",
            "2023-01-12 08:33:24.231558\n",
            "2023-01-12 08:33:25.232855\n",
            "2023-01-12 08:33:26.234119\n",
            "2023-01-12 08:33:27.235406\n",
            "2023-01-12 08:33:28.236693\n",
            "2023-01-12 08:33:29.238039\n",
            "2023-01-12 08:33:30.239345\n"
          ]
        }
      ]
    }
  ],
  "metadata": {
    "kernelspec": {
      "display_name": "Python 3 (ipykernel)",
      "language": "python",
      "name": "python3"
    },
    "language_info": {
      "codemirror_mode": {
        "name": "ipython",
        "version": 3
      },
      "file_extension": ".py",
      "mimetype": "text/x-python",
      "name": "python",
      "nbconvert_exporter": "python",
      "pygments_lexer": "ipython3",
      "version": "3.9.12"
    },
    "colab": {
      "provenance": []
    }
  },
  "nbformat": 4,
  "nbformat_minor": 0
}