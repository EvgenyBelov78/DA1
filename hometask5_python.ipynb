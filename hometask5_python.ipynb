{
  "nbformat": 4,
  "nbformat_minor": 0,
  "metadata": {
    "colab": {
      "provenance": [],
      "authorship_tag": "ABX9TyM3lT4L1RgexSNtmojX/n/g",
      "include_colab_link": true
    },
    "kernelspec": {
      "name": "python3",
      "display_name": "Python 3"
    },
    "language_info": {
      "name": "python"
    }
  },
  "cells": [
    {
      "cell_type": "markdown",
      "metadata": {
        "id": "view-in-github",
        "colab_type": "text"
      },
      "source": [
        "<a href=\"https://colab.research.google.com/github/EvgenyBelov78/DA1/blob/main/hometask5_python.ipynb\" target=\"_parent\"><img src=\"https://colab.research.google.com/assets/colab-badge.svg\" alt=\"Open In Colab\"/></a>"
      ]
    },
    {
      "cell_type": "code",
      "execution_count": 67,
      "metadata": {
        "id": "7bQvXTR6h5KH"
      },
      "outputs": [],
      "source": [
        "import psycopg2\n",
        "import pandas as pd\n",
        "import sqlite3\n",
        "import random\n",
        "conn_sqlite=sqlite3.connect('task1_7.db')"
      ]
    },
    {
      "cell_type": "code",
      "source": [
        "with conn_sqlite:\n",
        "    conn_sqlite.execute(\"\"\"\n",
        "        CREATE TABLE table1 (i int,j int,k int);\n",
        "    \"\"\")"
      ],
      "metadata": {
        "id": "5maOpp-h3sa8"
      },
      "execution_count": 70,
      "outputs": []
    },
    {
      "cell_type": "code",
      "source": [
        "#with conn_sqlite:\n",
        "#    conn_sqlite.execute(\"\"\"\n",
        "#        DROP TABLE table1 ;\n",
        "#    \"\"\")"
      ],
      "metadata": {
        "id": "u_yN9gs83tr_"
      },
      "execution_count": 69,
      "outputs": []
    },
    {
      "cell_type": "code",
      "source": [
        "z=pd.DataFrame({'one':[], 'two':[], 'three':[]})"
      ],
      "metadata": {
        "id": "M_w142CwkfsE"
      },
      "execution_count": 71,
      "outputs": []
    },
    {
      "cell_type": "code",
      "source": [
        "w=[]\n",
        "i=0 \n",
        "while i<1000:\n",
        "  new_row={'one':random.randint(1, 1000),'two':random.randint(1, 1000),'three':random.randint(1, 1000)}\n",
        "  z=z.append(new_row, ignore_index=True)\n",
        " # print(w[i]+''+str(w.count(w[i])))\n",
        "  i+=1"
      ],
      "metadata": {
        "id": "48mHupD7qtFh"
      },
      "execution_count": 72,
      "outputs": []
    },
    {
      "cell_type": "code",
      "source": [
        "print(str(z['one'].min()) + \" \" + str(z['one'].max()))\n",
        "print(str(z['two'].min()) + \" \" + str(z['one'].max()))\n",
        "print(str(z['three'].min()) + \" \" + str(z['one'].max()))"
      ],
      "metadata": {
        "colab": {
          "base_uri": "https://localhost:8080/"
        },
        "id": "vyllFRXPrSyf",
        "outputId": "8b945e82-51db-44c7-fd01-8dbfe12b4707"
      },
      "execution_count": 73,
      "outputs": [
        {
          "output_type": "stream",
          "name": "stdout",
          "text": [
            "1.0 1000.0\n",
            "1.0 1000.0\n",
            "4.0 1000.0\n"
          ]
        }
      ]
    },
    {
      "cell_type": "code",
      "source": [
        "z.to_sql('table1',conn_sqlite,if_exists='replace')"
      ],
      "metadata": {
        "id": "KrFtntSrvrK-"
      },
      "execution_count": 74,
      "outputs": []
    },
    {
      "cell_type": "code",
      "source": [
        "sql_query=\"select * from table1\""
      ],
      "metadata": {
        "id": "LqZN5Fa3oYg1"
      },
      "execution_count": 75,
      "outputs": []
    },
    {
      "cell_type": "code",
      "source": [
        "qq=pd.read_sql(sql=sql_query,con=conn_sqlite)"
      ],
      "metadata": {
        "id": "p-kkJBJwonQz"
      },
      "execution_count": 76,
      "outputs": []
    },
    {
      "cell_type": "code",
      "source": [
        "qq.hist(column=['one','two','three'])"
      ],
      "metadata": {
        "colab": {
          "base_uri": "https://localhost:8080/",
          "height": 372
        },
        "id": "X8NtYYYN2DfQ",
        "outputId": "d6a0a6be-a2af-4d5b-9225-7d6252cd82d0"
      },
      "execution_count": 77,
      "outputs": [
        {
          "output_type": "execute_result",
          "data": {
            "text/plain": [
              "array([[<matplotlib.axes._subplots.AxesSubplot object at 0x7f012277a390>,\n",
              "        <matplotlib.axes._subplots.AxesSubplot object at 0x7f0122713a10>],\n",
              "       [<matplotlib.axes._subplots.AxesSubplot object at 0x7f01226ed110>,\n",
              "        <matplotlib.axes._subplots.AxesSubplot object at 0x7f01226a2450>]],\n",
              "      dtype=object)"
            ]
          },
          "metadata": {},
          "execution_count": 77
        },
        {
          "output_type": "display_data",
          "data": {
            "text/plain": [
              "<Figure size 432x288 with 4 Axes>"
            ],
            "image/png": "[encoded data removed]"
          },
          "metadata": {
            "needs_background": "light"
          }
        }
      ]
    },
    {
      "cell_type": "code",
      "source": [
        "qq.plot(x=\"index\", y=[\"one\", \"two\",\"three\"], kind=\"hist\")"
      ],
      "metadata": {
        "colab": {
          "base_uri": "https://localhost:8080/",
          "height": 284
        },
        "id": "-DlRAmtK26Oh",
        "outputId": "8b99cd45-809b-48a1-f7b9-ba280223b184"
      },
      "execution_count": 78,
      "outputs": [
        {
          "output_type": "execute_result",
          "data": {
            "text/plain": [
              "<matplotlib.axes._subplots.AxesSubplot at 0x7f0122602dd0>"
            ]
          },
          "metadata": {},
          "execution_count": 78
        },
        {
          "output_type": "display_data",
          "data": {
            "text/plain": [
              "<Figure size 432x288 with 1 Axes>"
            ],
            "image/png": "[encoded data removed]"
          },
          "metadata": {
            "needs_background": "light"
          }
        }
      ]
    }
  ]
}