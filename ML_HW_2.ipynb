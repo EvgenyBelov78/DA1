{
  "cells": [
    {
      "cell_type": "markdown",
      "metadata": {
        "id": "view-in-github",
        "colab_type": "text"
      },
      "source": [
        "<a href=\"https://colab.research.google.com/github/EvgenyBelov78/DA1/blob/main/ML_HW_2.ipynb\" target=\"_parent\"><img src=\"https://colab.research.google.com/assets/colab-badge.svg\" alt=\"Open In Colab\"/></a>"
      ]
    },
    {
      "cell_type": "code",
      "execution_count": null,
      "metadata": {
        "id": "fN0V96v-JGve"
      },
      "outputs": [],
      "source": [
        "import pandas as pd\n",
        "import datetime"
      ]
    },
    {
      "cell_type": "code",
      "source": [
        "import urllib.request\n",
        "url = \"http://www.cbr.ru/scripts/XML_dynamic.asp?date_req1=02/03/2001&date_req2=04/10/2022&VAL_NM_RQ=R01235\""
      ],
      "metadata": {
        "id": "0ZdTVRKVL2l3"
      },
      "execution_count": null,
      "outputs": []
    },
    {
      "cell_type": "code",
      "execution_count": null,
      "metadata": {
        "id": "MgxJnaE8JGvi"
      },
      "outputs": [],
      "source": [
        "df = pd.read_xml(url)"
      ]
    },
    {
      "cell_type": "code",
      "execution_count": null,
      "metadata": {
        "colab": {
          "base_uri": "https://localhost:8080/",
          "height": 206
        },
        "id": "UVDT7LD0JGvj",
        "outputId": "94e6b1a5-8232-410b-9834-20ad7914279d"
      },
      "outputs": [
        {
          "output_type": "execute_result",
          "data": {
            "text/plain": [
              "            Date      Id  Nominal    Value\n",
              "5348  28.09.2022  R01235        1  58,1756\n",
              "5349  29.09.2022  R01235        1  58,4485\n",
              "5350  30.09.2022  R01235        1  57,4130\n",
              "5351  01.10.2022  R01235        1  55,2987\n",
              "5352  04.10.2022  R01235        1  57,5664"
            ],
            "text/html": [
              "\n",
              "  <div id=\"df-c9513b9e-d355-4b44-be5e-40538a736cf8\">\n",
              "    <div class=\"colab-df-container\">\n",
              "      <div>\n",
              "<style scoped>\n",
              "    .dataframe tbody tr th:only-of-type {\n",
              "        vertical-align: middle;\n",
              "    }\n",
              "\n",
              "    .dataframe tbody tr th {\n",
              "        vertical-align: top;\n",
              "    }\n",
              "\n",
              "    .dataframe thead th {\n",
              "        text-align: right;\n",
              "    }\n",
              "</style>\n",
              "<table border=\"1\" class=\"dataframe\">\n",
              "  <thead>\n",
              "    <tr style=\"text-align: right;\">\n",
              "      <th></th>\n",
              "      <th>Date</th>\n",
              "      <th>Id</th>\n",
              "      <th>Nominal</th>\n",
              "      <th>Value</th>\n",
              "    </tr>\n",
              "  </thead>\n",
              "  <tbody>\n",
              "    <tr>\n",
              "      <th>5348</th>\n",
              "      <td>28.09.2022</td>\n",
              "      <td>R01235</td>\n",
              "      <td>1</td>\n",
              "      <td>58,1756</td>\n",
              "    </tr>\n",
              "    <tr>\n",
              "      <th>5349</th>\n",
              "      <td>29.09.2022</td>\n",
              "      <td>R01235</td>\n",
              "      <td>1</td>\n",
              "      <td>58,4485</td>\n",
              "    </tr>\n",
              "    <tr>\n",
              "      <th>5350</th>\n",
              "      <td>30.09.2022</td>\n",
              "      <td>R01235</td>\n",
              "      <td>1</td>\n",
              "      <td>57,4130</td>\n",
              "    </tr>\n",
              "    <tr>\n",
              "      <th>5351</th>\n",
              "      <td>01.10.2022</td>\n",
              "      <td>R01235</td>\n",
              "      <td>1</td>\n",
              "      <td>55,2987</td>\n",
              "    </tr>\n",
              "    <tr>\n",
              "      <th>5352</th>\n",
              "      <td>04.10.2022</td>\n",
              "      <td>R01235</td>\n",
              "      <td>1</td>\n",
              "      <td>57,5664</td>\n",
              "    </tr>\n",
              "  </tbody>\n",
              "</table>\n",
              "</div>\n",
              "      <button class=\"colab-df-convert\" onclick=\"convertToInteractive('df-c9513b9e-d355-4b44-be5e-40538a736cf8')\"\n",
              "              title=\"Convert this dataframe to an interactive table.\"\n",
              "              style=\"display:none;\">\n",
              "        \n",
              "  <svg xmlns=\"http://www.w3.org/2000/svg\" height=\"24px\"viewBox=\"0 0 24 24\"\n",
              "       width=\"24px\">\n",
              "    <path d=\"M0 0h24v24H0V0z\" fill=\"none\"/>\n",
              "    <path d=\"M18.56 5.44l.94 2.06.94-2.06 2.06-.94-2.06-.94-.94-2.06-.94 2.06-2.06.94zm-11 1L8.5 8.5l.94-2.06 2.06-.94-2.06-.94L8.5 2.5l-.94 2.06-2.06.94zm10 10l.94 2.06.94-2.06 2.06-.94-2.06-.94-.94-2.06-.94 2.06-2.06.94z\"/><path d=\"M17.41 7.96l-1.37-1.37c-.4-.4-.92-.59-1.43-.59-.52 0-1.04.2-1.43.59L10.3 9.45l-7.72 7.72c-.78.78-.78 2.05 0 2.83L4 21.41c.39.39.9.59 1.41.59.51 0 1.02-.2 1.41-.59l7.78-7.78 2.81-2.81c.8-.78.8-2.07 0-2.86zM5.41 20L4 18.59l7.72-7.72 1.47 1.35L5.41 20z\"/>\n",
              "  </svg>\n",
              "      </button>\n",
              "      \n",
              "  <style>\n",
              "    .colab-df-container {\n",
              "      display:flex;\n",
              "      flex-wrap:wrap;\n",
              "      gap: 12px;\n",
              "    }\n",
              "\n",
              "    .colab-df-convert {\n",
              "      background-color: #E8F0FE;\n",
              "      border: none;\n",
              "      border-radius: 50%;\n",
              "      cursor: pointer;\n",
              "      display: none;\n",
              "      fill: #1967D2;\n",
              "      height: 32px;\n",
              "      padding: 0 0 0 0;\n",
              "      width: 32px;\n",
              "    }\n",
              "\n",
              "    .colab-df-convert:hover {\n",
              "      background-color: #E2EBFA;\n",
              "      box-shadow: 0px 1px 2px rgba(60, 64, 67, 0.3), 0px 1px 3px 1px rgba(60, 64, 67, 0.15);\n",
              "      fill: #174EA6;\n",
              "    }\n",
              "\n",
              "    [theme=dark] .colab-df-convert {\n",
              "      background-color: #3B4455;\n",
              "      fill: #D2E3FC;\n",
              "    }\n",
              "\n",
              "    [theme=dark] .colab-df-convert:hover {\n",
              "      background-color: #434B5C;\n",
              "      box-shadow: 0px 1px 3px 1px rgba(0, 0, 0, 0.15);\n",
              "      filter: drop-shadow(0px 1px 2px rgba(0, 0, 0, 0.3));\n",
              "      fill: #FFFFFF;\n",
              "    }\n",
              "  </style>\n",
              "\n",
              "      <script>\n",
              "        const buttonEl =\n",
              "          document.querySelector('#df-c9513b9e-d355-4b44-be5e-40538a736cf8 button.colab-df-convert');\n",
              "        buttonEl.style.display =\n",
              "          google.colab.kernel.accessAllowed ? 'block' : 'none';\n",
              "\n",
              "        async function convertToInteractive(key) {\n",
              "          const element = document.querySelector('#df-c9513b9e-d355-4b44-be5e-40538a736cf8');\n",
              "          const dataTable =\n",
              "            await google.colab.kernel.invokeFunction('convertToInteractive',\n",
              "                                                     [key], {});\n",
              "          if (!dataTable) return;\n",
              "\n",
              "          const docLinkHtml = 'Like what you see? Visit the ' +\n",
              "            '<a target=\"_blank\" href=https://colab.research.google.com/notebooks/data_table.ipynb>data table notebook</a>'\n",
              "            + ' to learn more about interactive tables.';\n",
              "          element.innerHTML = '';\n",
              "          dataTable['output_type'] = 'display_data';\n",
              "          await google.colab.output.renderOutput(dataTable, element);\n",
              "          const docLink = document.createElement('div');\n",
              "          docLink.innerHTML = docLinkHtml;\n",
              "          element.appendChild(docLink);\n",
              "        }\n",
              "      </script>\n",
              "    </div>\n",
              "  </div>\n",
              "  "
            ]
          },
          "metadata": {},
          "execution_count": 38
        }
      ],
      "source": [
        "df.tail()"
      ]
    },
    {
      "cell_type": "code",
      "execution_count": null,
      "metadata": {
        "id": "AuCiNeLRJGvl",
        "outputId": "f0ca465a-c20c-4501-f72f-67936eff070a",
        "colab": {
          "base_uri": "https://localhost:8080/"
        }
      },
      "outputs": [
        {
          "output_type": "stream",
          "name": "stdout",
          "text": [
            "<class 'pandas.core.frame.DataFrame'>\n",
            "RangeIndex: 5353 entries, 0 to 5352\n",
            "Data columns (total 4 columns):\n",
            " #   Column   Non-Null Count  Dtype \n",
            "---  ------   --------------  ----- \n",
            " 0   Date     5353 non-null   object\n",
            " 1   Id       5353 non-null   object\n",
            " 2   Nominal  5353 non-null   int64 \n",
            " 3   Value    5353 non-null   object\n",
            "dtypes: int64(1), object(3)\n",
            "memory usage: 167.4+ KB\n"
          ]
        }
      ],
      "source": [
        "df.info()"
      ]
    },
    {
      "cell_type": "code",
      "execution_count": null,
      "metadata": {
        "id": "SctBKLNNJGvm",
        "outputId": "d238360d-a11f-4230-b7cb-e790ca9c7b26",
        "colab": {
          "base_uri": "https://localhost:8080/"
        }
      },
      "outputs": [
        {
          "output_type": "execute_result",
          "data": {
            "text/plain": [
              "0      2002-01-01\n",
              "1      2003-01-01\n",
              "2      2004-01-01\n",
              "3      2005-01-01\n",
              "4      2009-01-01\n",
              "          ...    \n",
              "5348   2015-12-31\n",
              "5349   2016-12-31\n",
              "5350   2019-12-31\n",
              "5351   2020-12-31\n",
              "5352   2021-12-31\n",
              "Name: Date, Length: 5353, dtype: datetime64[ns]"
            ]
          },
          "metadata": {},
          "execution_count": 69
        }
      ],
      "source": [
        "pd.to_datetime(df['Date'])"
      ]
    },
    {
      "cell_type": "code",
      "source": [
        "df.drop ('Id',axis=1,inplace=True)"
      ],
      "metadata": {
        "id": "NHxIg-rnHx-i"
      },
      "execution_count": null,
      "outputs": []
    },
    {
      "cell_type": "code",
      "source": [
        "df.drop ('Nominal',axis=1,inplace=True)"
      ],
      "metadata": {
        "id": "lKXEqVo4I1yR"
      },
      "execution_count": null,
      "outputs": []
    },
    {
      "cell_type": "code",
      "source": [
        "df = df.apply(lambda x: x.str.replace(',','.'))"
      ],
      "metadata": {
        "id": "2xigwbSbKTEJ"
      },
      "execution_count": null,
      "outputs": []
    },
    {
      "cell_type": "code",
      "execution_count": null,
      "metadata": {
        "id": "xMaFyW-KJGvo",
        "outputId": "6e92d641-0d84-4d48-dcdd-8d08b0d9a09e",
        "colab": {
          "base_uri": "https://localhost:8080/"
        }
      },
      "outputs": [
        {
          "output_type": "stream",
          "name": "stdout",
          "text": [
            "<class 'pandas.core.frame.DataFrame'>\n",
            "RangeIndex: 5353 entries, 0 to 5352\n",
            "Data columns (total 2 columns):\n",
            " #   Column  Non-Null Count  Dtype \n",
            "---  ------  --------------  ----- \n",
            " 0   Date    5353 non-null   object\n",
            " 1   Value   5353 non-null   object\n",
            "dtypes: object(2)\n",
            "memory usage: 83.8+ KB\n"
          ]
        }
      ],
      "source": [
        "df.info()"
      ]
    },
    {
      "cell_type": "code",
      "execution_count": null,
      "metadata": {
        "id": "qn0tS4RwJGvp"
      },
      "outputs": [],
      "source": [
        "df = df.sort_values(by='Date').reset_index(drop=True)"
      ]
    },
    {
      "cell_type": "code",
      "execution_count": null,
      "metadata": {
        "id": "JUZVRbvtJGvq",
        "outputId": "95a406fa-4ea1-403f-b30f-f8b0f0351527",
        "colab": {
          "base_uri": "https://localhost:8080/",
          "height": 345
        }
      },
      "outputs": [
        {
          "output_type": "error",
          "ename": "TypeError",
          "evalue": "ignored",
          "traceback": [
            "\u001b[0;31m---------------------------------------------------------------------------\u001b[0m",
            "\u001b[0;31mTypeError\u001b[0m                                 Traceback (most recent call last)",
            "\u001b[0;32m<ipython-input-65-eb4bb405b6ac>\u001b[0m in \u001b[0;36m<module>\u001b[0;34m\u001b[0m\n\u001b[1;32m      1\u001b[0m \u001b[0;32mimport\u001b[0m \u001b[0mmatplotlib\u001b[0m\u001b[0;34m.\u001b[0m\u001b[0mpyplot\u001b[0m \u001b[0;32mas\u001b[0m \u001b[0mplt\u001b[0m\u001b[0;34m\u001b[0m\u001b[0;34m\u001b[0m\u001b[0m\n\u001b[1;32m      2\u001b[0m \u001b[0;34m\u001b[0m\u001b[0m\n\u001b[0;32m----> 3\u001b[0;31m \u001b[0mdf\u001b[0m\u001b[0;34m.\u001b[0m\u001b[0mset_index\u001b[0m\u001b[0;34m(\u001b[0m\u001b[0;34m'Date'\u001b[0m\u001b[0;34m)\u001b[0m\u001b[0;34m.\u001b[0m\u001b[0mplot\u001b[0m\u001b[0;34m(\u001b[0m\u001b[0;34m)\u001b[0m\u001b[0;34m\u001b[0m\u001b[0;34m\u001b[0m\u001b[0m\n\u001b[0m",
            "\u001b[0;32m/usr/local/lib/python3.7/dist-packages/pandas/plotting/_core.py\u001b[0m in \u001b[0;36m__call__\u001b[0;34m(self, *args, **kwargs)\u001b[0m\n\u001b[1;32m    970\u001b[0m                     \u001b[0mdata\u001b[0m\u001b[0;34m.\u001b[0m\u001b[0mcolumns\u001b[0m \u001b[0;34m=\u001b[0m \u001b[0mlabel_name\u001b[0m\u001b[0;34m\u001b[0m\u001b[0;34m\u001b[0m\u001b[0m\n\u001b[1;32m    971\u001b[0m \u001b[0;34m\u001b[0m\u001b[0m\n\u001b[0;32m--> 972\u001b[0;31m         \u001b[0;32mreturn\u001b[0m \u001b[0mplot_backend\u001b[0m\u001b[0;34m.\u001b[0m\u001b[0mplot\u001b[0m\u001b[0;34m(\u001b[0m\u001b[0mdata\u001b[0m\u001b[0;34m,\u001b[0m \u001b[0mkind\u001b[0m\u001b[0;34m=\u001b[0m\u001b[0mkind\u001b[0m\u001b[0;34m,\u001b[0m \u001b[0;34m**\u001b[0m\u001b[0mkwargs\u001b[0m\u001b[0;34m)\u001b[0m\u001b[0;34m\u001b[0m\u001b[0;34m\u001b[0m\u001b[0m\n\u001b[0m\u001b[1;32m    973\u001b[0m \u001b[0;34m\u001b[0m\u001b[0m\n\u001b[1;32m    974\u001b[0m     \u001b[0m__call__\u001b[0m\u001b[0;34m.\u001b[0m\u001b[0m__doc__\u001b[0m \u001b[0;34m=\u001b[0m \u001b[0m__doc__\u001b[0m\u001b[0;34m\u001b[0m\u001b[0;34m\u001b[0m\u001b[0m\n",
            "\u001b[0;32m/usr/local/lib/python3.7/dist-packages/pandas/plotting/_matplotlib/__init__.py\u001b[0m in \u001b[0;36mplot\u001b[0;34m(data, kind, **kwargs)\u001b[0m\n\u001b[1;32m     69\u001b[0m             \u001b[0mkwargs\u001b[0m\u001b[0;34m[\u001b[0m\u001b[0;34m\"ax\"\u001b[0m\u001b[0;34m]\u001b[0m \u001b[0;34m=\u001b[0m \u001b[0mgetattr\u001b[0m\u001b[0;34m(\u001b[0m\u001b[0max\u001b[0m\u001b[0;34m,\u001b[0m \u001b[0;34m\"left_ax\"\u001b[0m\u001b[0;34m,\u001b[0m \u001b[0max\u001b[0m\u001b[0;34m)\u001b[0m\u001b[0;34m\u001b[0m\u001b[0;34m\u001b[0m\u001b[0m\n\u001b[1;32m     70\u001b[0m     \u001b[0mplot_obj\u001b[0m \u001b[0;34m=\u001b[0m \u001b[0mPLOT_CLASSES\u001b[0m\u001b[0;34m[\u001b[0m\u001b[0mkind\u001b[0m\u001b[0;34m]\u001b[0m\u001b[0;34m(\u001b[0m\u001b[0mdata\u001b[0m\u001b[0;34m,\u001b[0m \u001b[0;34m**\u001b[0m\u001b[0mkwargs\u001b[0m\u001b[0;34m)\u001b[0m\u001b[0;34m\u001b[0m\u001b[0;34m\u001b[0m\u001b[0m\n\u001b[0;32m---> 71\u001b[0;31m     \u001b[0mplot_obj\u001b[0m\u001b[0;34m.\u001b[0m\u001b[0mgenerate\u001b[0m\u001b[0;34m(\u001b[0m\u001b[0;34m)\u001b[0m\u001b[0;34m\u001b[0m\u001b[0;34m\u001b[0m\u001b[0m\n\u001b[0m\u001b[1;32m     72\u001b[0m     \u001b[0mplot_obj\u001b[0m\u001b[0;34m.\u001b[0m\u001b[0mdraw\u001b[0m\u001b[0;34m(\u001b[0m\u001b[0;34m)\u001b[0m\u001b[0;34m\u001b[0m\u001b[0;34m\u001b[0m\u001b[0m\n\u001b[1;32m     73\u001b[0m     \u001b[0;32mreturn\u001b[0m \u001b[0mplot_obj\u001b[0m\u001b[0;34m.\u001b[0m\u001b[0mresult\u001b[0m\u001b[0;34m\u001b[0m\u001b[0;34m\u001b[0m\u001b[0m\n",
            "\u001b[0;32m/usr/local/lib/python3.7/dist-packages/pandas/plotting/_matplotlib/core.py\u001b[0m in \u001b[0;36mgenerate\u001b[0;34m(self)\u001b[0m\n\u001b[1;32m    284\u001b[0m     \u001b[0;32mdef\u001b[0m \u001b[0mgenerate\u001b[0m\u001b[0;34m(\u001b[0m\u001b[0mself\u001b[0m\u001b[0;34m)\u001b[0m\u001b[0;34m:\u001b[0m\u001b[0;34m\u001b[0m\u001b[0;34m\u001b[0m\u001b[0m\n\u001b[1;32m    285\u001b[0m         \u001b[0mself\u001b[0m\u001b[0;34m.\u001b[0m\u001b[0m_args_adjust\u001b[0m\u001b[0;34m(\u001b[0m\u001b[0;34m)\u001b[0m\u001b[0;34m\u001b[0m\u001b[0;34m\u001b[0m\u001b[0m\n\u001b[0;32m--> 286\u001b[0;31m         \u001b[0mself\u001b[0m\u001b[0;34m.\u001b[0m\u001b[0m_compute_plot_data\u001b[0m\u001b[0;34m(\u001b[0m\u001b[0;34m)\u001b[0m\u001b[0;34m\u001b[0m\u001b[0;34m\u001b[0m\u001b[0m\n\u001b[0m\u001b[1;32m    287\u001b[0m         \u001b[0mself\u001b[0m\u001b[0;34m.\u001b[0m\u001b[0m_setup_subplots\u001b[0m\u001b[0;34m(\u001b[0m\u001b[0;34m)\u001b[0m\u001b[0;34m\u001b[0m\u001b[0;34m\u001b[0m\u001b[0m\n\u001b[1;32m    288\u001b[0m         \u001b[0mself\u001b[0m\u001b[0;34m.\u001b[0m\u001b[0m_make_plot\u001b[0m\u001b[0;34m(\u001b[0m\u001b[0;34m)\u001b[0m\u001b[0;34m\u001b[0m\u001b[0;34m\u001b[0m\u001b[0m\n",
            "\u001b[0;32m/usr/local/lib/python3.7/dist-packages/pandas/plotting/_matplotlib/core.py\u001b[0m in \u001b[0;36m_compute_plot_data\u001b[0;34m(self)\u001b[0m\n\u001b[1;32m    451\u001b[0m         \u001b[0;31m# no non-numeric frames or series allowed\u001b[0m\u001b[0;34m\u001b[0m\u001b[0;34m\u001b[0m\u001b[0;34m\u001b[0m\u001b[0m\n\u001b[1;32m    452\u001b[0m         \u001b[0;32mif\u001b[0m \u001b[0mis_empty\u001b[0m\u001b[0;34m:\u001b[0m\u001b[0;34m\u001b[0m\u001b[0;34m\u001b[0m\u001b[0m\n\u001b[0;32m--> 453\u001b[0;31m             \u001b[0;32mraise\u001b[0m \u001b[0mTypeError\u001b[0m\u001b[0;34m(\u001b[0m\u001b[0;34m\"no numeric data to plot\"\u001b[0m\u001b[0;34m)\u001b[0m\u001b[0;34m\u001b[0m\u001b[0;34m\u001b[0m\u001b[0m\n\u001b[0m\u001b[1;32m    454\u001b[0m \u001b[0;34m\u001b[0m\u001b[0m\n\u001b[1;32m    455\u001b[0m         \u001b[0mself\u001b[0m\u001b[0;34m.\u001b[0m\u001b[0mdata\u001b[0m \u001b[0;34m=\u001b[0m \u001b[0mnumeric_data\u001b[0m\u001b[0;34m.\u001b[0m\u001b[0mapply\u001b[0m\u001b[0;34m(\u001b[0m\u001b[0mself\u001b[0m\u001b[0;34m.\u001b[0m\u001b[0m_convert_to_ndarray\u001b[0m\u001b[0;34m)\u001b[0m\u001b[0;34m\u001b[0m\u001b[0;34m\u001b[0m\u001b[0m\n",
            "\u001b[0;31mTypeError\u001b[0m: no numeric data to plot"
          ]
        }
      ],
      "source": [
        "import matplotlib.pyplot as plt\n",
        "\n",
        "df.set_index('Date').plot()"
      ]
    },
    {
      "cell_type": "code",
      "execution_count": null,
      "metadata": {
        "id": "PJI1HFUuJGvs"
      },
      "outputs": [],
      "source": [
        "df = df.groupby('dDate')['nCur'].mean().reset_index()"
      ]
    },
    {
      "cell_type": "code",
      "execution_count": null,
      "metadata": {
        "id": "2s2m1Dh7JGvt",
        "outputId": "02661f47-fdb7-4f9b-90cf-e1c180e6776c",
        "colab": {
          "base_uri": "https://localhost:8080/",
          "height": 311
        }
      },
      "outputs": [
        {
          "output_type": "error",
          "ename": "TypeError",
          "evalue": "ignored",
          "traceback": [
            "\u001b[0;31m---------------------------------------------------------------------------\u001b[0m",
            "\u001b[0;31mTypeError\u001b[0m                                 Traceback (most recent call last)",
            "\u001b[0;32m<ipython-input-67-f1f4dd5abbe7>\u001b[0m in \u001b[0;36m<module>\u001b[0;34m\u001b[0m\n\u001b[0;32m----> 1\u001b[0;31m \u001b[0mdf\u001b[0m\u001b[0;34m.\u001b[0m\u001b[0mset_index\u001b[0m\u001b[0;34m(\u001b[0m\u001b[0;34m'Date'\u001b[0m\u001b[0;34m)\u001b[0m\u001b[0;34m.\u001b[0m\u001b[0mplot\u001b[0m\u001b[0;34m(\u001b[0m\u001b[0;34m)\u001b[0m\u001b[0;34m\u001b[0m\u001b[0;34m\u001b[0m\u001b[0m\n\u001b[0m",
            "\u001b[0;32m/usr/local/lib/python3.7/dist-packages/pandas/plotting/_core.py\u001b[0m in \u001b[0;36m__call__\u001b[0;34m(self, *args, **kwargs)\u001b[0m\n\u001b[1;32m    970\u001b[0m                     \u001b[0mdata\u001b[0m\u001b[0;34m.\u001b[0m\u001b[0mcolumns\u001b[0m \u001b[0;34m=\u001b[0m \u001b[0mlabel_name\u001b[0m\u001b[0;34m\u001b[0m\u001b[0;34m\u001b[0m\u001b[0m\n\u001b[1;32m    971\u001b[0m \u001b[0;34m\u001b[0m\u001b[0m\n\u001b[0;32m--> 972\u001b[0;31m         \u001b[0;32mreturn\u001b[0m \u001b[0mplot_backend\u001b[0m\u001b[0;34m.\u001b[0m\u001b[0mplot\u001b[0m\u001b[0;34m(\u001b[0m\u001b[0mdata\u001b[0m\u001b[0;34m,\u001b[0m \u001b[0mkind\u001b[0m\u001b[0;34m=\u001b[0m\u001b[0mkind\u001b[0m\u001b[0;34m,\u001b[0m \u001b[0;34m**\u001b[0m\u001b[0mkwargs\u001b[0m\u001b[0;34m)\u001b[0m\u001b[0;34m\u001b[0m\u001b[0;34m\u001b[0m\u001b[0m\n\u001b[0m\u001b[1;32m    973\u001b[0m \u001b[0;34m\u001b[0m\u001b[0m\n\u001b[1;32m    974\u001b[0m     \u001b[0m__call__\u001b[0m\u001b[0;34m.\u001b[0m\u001b[0m__doc__\u001b[0m \u001b[0;34m=\u001b[0m \u001b[0m__doc__\u001b[0m\u001b[0;34m\u001b[0m\u001b[0;34m\u001b[0m\u001b[0m\n",
            "\u001b[0;32m/usr/local/lib/python3.7/dist-packages/pandas/plotting/_matplotlib/__init__.py\u001b[0m in \u001b[0;36mplot\u001b[0;34m(data, kind, **kwargs)\u001b[0m\n\u001b[1;32m     69\u001b[0m             \u001b[0mkwargs\u001b[0m\u001b[0;34m[\u001b[0m\u001b[0;34m\"ax\"\u001b[0m\u001b[0;34m]\u001b[0m \u001b[0;34m=\u001b[0m \u001b[0mgetattr\u001b[0m\u001b[0;34m(\u001b[0m\u001b[0max\u001b[0m\u001b[0;34m,\u001b[0m \u001b[0;34m\"left_ax\"\u001b[0m\u001b[0;34m,\u001b[0m \u001b[0max\u001b[0m\u001b[0;34m)\u001b[0m\u001b[0;34m\u001b[0m\u001b[0;34m\u001b[0m\u001b[0m\n\u001b[1;32m     70\u001b[0m     \u001b[0mplot_obj\u001b[0m \u001b[0;34m=\u001b[0m \u001b[0mPLOT_CLASSES\u001b[0m\u001b[0;34m[\u001b[0m\u001b[0mkind\u001b[0m\u001b[0;34m]\u001b[0m\u001b[0;34m(\u001b[0m\u001b[0mdata\u001b[0m\u001b[0;34m,\u001b[0m \u001b[0;34m**\u001b[0m\u001b[0mkwargs\u001b[0m\u001b[0;34m)\u001b[0m\u001b[0;34m\u001b[0m\u001b[0;34m\u001b[0m\u001b[0m\n\u001b[0;32m---> 71\u001b[0;31m     \u001b[0mplot_obj\u001b[0m\u001b[0;34m.\u001b[0m\u001b[0mgenerate\u001b[0m\u001b[0;34m(\u001b[0m\u001b[0;34m)\u001b[0m\u001b[0;34m\u001b[0m\u001b[0;34m\u001b[0m\u001b[0m\n\u001b[0m\u001b[1;32m     72\u001b[0m     \u001b[0mplot_obj\u001b[0m\u001b[0;34m.\u001b[0m\u001b[0mdraw\u001b[0m\u001b[0;34m(\u001b[0m\u001b[0;34m)\u001b[0m\u001b[0;34m\u001b[0m\u001b[0;34m\u001b[0m\u001b[0m\n\u001b[1;32m     73\u001b[0m     \u001b[0;32mreturn\u001b[0m \u001b[0mplot_obj\u001b[0m\u001b[0;34m.\u001b[0m\u001b[0mresult\u001b[0m\u001b[0;34m\u001b[0m\u001b[0;34m\u001b[0m\u001b[0m\n",
            "\u001b[0;32m/usr/local/lib/python3.7/dist-packages/pandas/plotting/_matplotlib/core.py\u001b[0m in \u001b[0;36mgenerate\u001b[0;34m(self)\u001b[0m\n\u001b[1;32m    284\u001b[0m     \u001b[0;32mdef\u001b[0m \u001b[0mgenerate\u001b[0m\u001b[0;34m(\u001b[0m\u001b[0mself\u001b[0m\u001b[0;34m)\u001b[0m\u001b[0;34m:\u001b[0m\u001b[0;34m\u001b[0m\u001b[0;34m\u001b[0m\u001b[0m\n\u001b[1;32m    285\u001b[0m         \u001b[0mself\u001b[0m\u001b[0;34m.\u001b[0m\u001b[0m_args_adjust\u001b[0m\u001b[0;34m(\u001b[0m\u001b[0;34m)\u001b[0m\u001b[0;34m\u001b[0m\u001b[0;34m\u001b[0m\u001b[0m\n\u001b[0;32m--> 286\u001b[0;31m         \u001b[0mself\u001b[0m\u001b[0;34m.\u001b[0m\u001b[0m_compute_plot_data\u001b[0m\u001b[0;34m(\u001b[0m\u001b[0;34m)\u001b[0m\u001b[0;34m\u001b[0m\u001b[0;34m\u001b[0m\u001b[0m\n\u001b[0m\u001b[1;32m    287\u001b[0m         \u001b[0mself\u001b[0m\u001b[0;34m.\u001b[0m\u001b[0m_setup_subplots\u001b[0m\u001b[0;34m(\u001b[0m\u001b[0;34m)\u001b[0m\u001b[0;34m\u001b[0m\u001b[0;34m\u001b[0m\u001b[0m\n\u001b[1;32m    288\u001b[0m         \u001b[0mself\u001b[0m\u001b[0;34m.\u001b[0m\u001b[0m_make_plot\u001b[0m\u001b[0;34m(\u001b[0m\u001b[0;34m)\u001b[0m\u001b[0;34m\u001b[0m\u001b[0;34m\u001b[0m\u001b[0m\n",
            "\u001b[0;32m/usr/local/lib/python3.7/dist-packages/pandas/plotting/_matplotlib/core.py\u001b[0m in \u001b[0;36m_compute_plot_data\u001b[0;34m(self)\u001b[0m\n\u001b[1;32m    451\u001b[0m         \u001b[0;31m# no non-numeric frames or series allowed\u001b[0m\u001b[0;34m\u001b[0m\u001b[0;34m\u001b[0m\u001b[0;34m\u001b[0m\u001b[0m\n\u001b[1;32m    452\u001b[0m         \u001b[0;32mif\u001b[0m \u001b[0mis_empty\u001b[0m\u001b[0;34m:\u001b[0m\u001b[0;34m\u001b[0m\u001b[0;34m\u001b[0m\u001b[0m\n\u001b[0;32m--> 453\u001b[0;31m             \u001b[0;32mraise\u001b[0m \u001b[0mTypeError\u001b[0m\u001b[0;34m(\u001b[0m\u001b[0;34m\"no numeric data to plot\"\u001b[0m\u001b[0;34m)\u001b[0m\u001b[0;34m\u001b[0m\u001b[0;34m\u001b[0m\u001b[0m\n\u001b[0m\u001b[1;32m    454\u001b[0m \u001b[0;34m\u001b[0m\u001b[0m\n\u001b[1;32m    455\u001b[0m         \u001b[0mself\u001b[0m\u001b[0;34m.\u001b[0m\u001b[0mdata\u001b[0m \u001b[0;34m=\u001b[0m \u001b[0mnumeric_data\u001b[0m\u001b[0;34m.\u001b[0m\u001b[0mapply\u001b[0m\u001b[0;34m(\u001b[0m\u001b[0mself\u001b[0m\u001b[0;34m.\u001b[0m\u001b[0m_convert_to_ndarray\u001b[0m\u001b[0;34m)\u001b[0m\u001b[0;34m\u001b[0m\u001b[0;34m\u001b[0m\u001b[0m\n",
            "\u001b[0;31mTypeError\u001b[0m: no numeric data to plot"
          ]
        }
      ],
      "source": [
        "df.set_index('Date').plot()"
      ]
    },
    {
      "cell_type": "code",
      "execution_count": null,
      "metadata": {
        "id": "-o2Xfc6RJGvu"
      },
      "outputs": [],
      "source": [
        "from sklearn.model_selection import train_test_split"
      ]
    },
    {
      "cell_type": "code",
      "execution_count": null,
      "metadata": {
        "id": "wDkJDW-EJGvv"
      },
      "outputs": [],
      "source": [
        "df.set_index('dDate', inplace = True)"
      ]
    },
    {
      "cell_type": "code",
      "execution_count": null,
      "metadata": {
        "id": "QeI5vxSwJGvw",
        "outputId": "32f8c311-72fa-46bb-df80-e7192eb24d1f"
      },
      "outputs": [
        {
          "data": {
            "text/html": [
              "<div>\n",
              "<style scoped>\n",
              "    .dataframe tbody tr th:only-of-type {\n",
              "        vertical-align: middle;\n",
              "    }\n",
              "\n",
              "    .dataframe tbody tr th {\n",
              "        vertical-align: top;\n",
              "    }\n",
              "\n",
              "    .dataframe thead th {\n",
              "        text-align: right;\n",
              "    }\n",
              "</style>\n",
              "<table border=\"1\" class=\"dataframe\">\n",
              "  <thead>\n",
              "    <tr style=\"text-align: right;\">\n",
              "      <th></th>\n",
              "      <th>nCur</th>\n",
              "    </tr>\n",
              "    <tr>\n",
              "      <th>dDate</th>\n",
              "      <th></th>\n",
              "    </tr>\n",
              "  </thead>\n",
              "  <tbody>\n",
              "    <tr>\n",
              "      <th>2021-08-03</th>\n",
              "      <td>72.93570</td>\n",
              "    </tr>\n",
              "    <tr>\n",
              "      <th>2021-08-04</th>\n",
              "      <td>73.09355</td>\n",
              "    </tr>\n",
              "    <tr>\n",
              "      <th>2021-08-05</th>\n",
              "      <td>73.09740</td>\n",
              "    </tr>\n",
              "    <tr>\n",
              "      <th>2021-08-06</th>\n",
              "      <td>73.31135</td>\n",
              "    </tr>\n",
              "    <tr>\n",
              "      <th>2021-08-09</th>\n",
              "      <td>73.55665</td>\n",
              "    </tr>\n",
              "    <tr>\n",
              "      <th>...</th>\n",
              "      <td>...</td>\n",
              "    </tr>\n",
              "    <tr>\n",
              "      <th>2022-09-27</th>\n",
              "      <td>58.25000</td>\n",
              "    </tr>\n",
              "    <tr>\n",
              "      <th>2022-09-28</th>\n",
              "      <td>57.89825</td>\n",
              "    </tr>\n",
              "    <tr>\n",
              "      <th>2022-09-29</th>\n",
              "      <td>57.31995</td>\n",
              "    </tr>\n",
              "    <tr>\n",
              "      <th>2022-09-30</th>\n",
              "      <td>56.42260</td>\n",
              "    </tr>\n",
              "    <tr>\n",
              "      <th>2022-10-03</th>\n",
              "      <td>57.38130</td>\n",
              "    </tr>\n",
              "  </tbody>\n",
              "</table>\n",
              "<p>296 rows × 1 columns</p>\n",
              "</div>"
            ],
            "text/plain": [
              "                nCur\n",
              "dDate               \n",
              "2021-08-03  72.93570\n",
              "2021-08-04  73.09355\n",
              "2021-08-05  73.09740\n",
              "2021-08-06  73.31135\n",
              "2021-08-09  73.55665\n",
              "...              ...\n",
              "2022-09-27  58.25000\n",
              "2022-09-28  57.89825\n",
              "2022-09-29  57.31995\n",
              "2022-09-30  56.42260\n",
              "2022-10-03  57.38130\n",
              "\n",
              "[296 rows x 1 columns]"
            ]
          },
          "execution_count": 37,
          "metadata": {},
          "output_type": "execute_result"
        }
      ],
      "source": [
        "df"
      ]
    },
    {
      "cell_type": "code",
      "execution_count": null,
      "metadata": {
        "id": "xpfdY5fzJGvw"
      },
      "outputs": [],
      "source": [
        "# функция по созданию сгенерированных признаков\n",
        "def make_features(data, max_lag, rolling_mean_size):\n",
        "    data['year'] = data.index.year\n",
        "    data['month'] = data.index.month\n",
        "    data['day'] = data.index.day\n",
        "    data['dayofweek'] = data.index.dayofweek\n",
        "    data['is_weekend'] = data.index.isin([5,6])*1\n",
        "    \n",
        "    for lag in range(1, max_lag + 1):\n",
        "        data['lag_{}'.format(lag)] = data['nCur'].shift(lag)\n",
        "\n",
        "    data['y_mean'] = data['nCur'].shift().rolling(rolling_mean_size).mean().copy()"
      ]
    },
    {
      "cell_type": "code",
      "execution_count": null,
      "metadata": {
        "id": "-zZJLHTPJGvy"
      },
      "outputs": [],
      "source": [
        "make_features(df,30,3)"
      ]
    },
    {
      "cell_type": "code",
      "execution_count": null,
      "metadata": {
        "id": "s-RvVHdjJGvy",
        "outputId": "965ede97-93f2-4989-a509-f86f0f785fd4"
      },
      "outputs": [
        {
          "data": {
            "text/html": [
              "<div>\n",
              "<style scoped>\n",
              "    .dataframe tbody tr th:only-of-type {\n",
              "        vertical-align: middle;\n",
              "    }\n",
              "\n",
              "    .dataframe tbody tr th {\n",
              "        vertical-align: top;\n",
              "    }\n",
              "\n",
              "    .dataframe thead th {\n",
              "        text-align: right;\n",
              "    }\n",
              "</style>\n",
              "<table border=\"1\" class=\"dataframe\">\n",
              "  <thead>\n",
              "    <tr style=\"text-align: right;\">\n",
              "      <th></th>\n",
              "      <th>nCur</th>\n",
              "      <th>year</th>\n",
              "      <th>month</th>\n",
              "      <th>day</th>\n",
              "      <th>dayofweek</th>\n",
              "      <th>is_weekend</th>\n",
              "      <th>lag_1</th>\n",
              "      <th>lag_2</th>\n",
              "      <th>lag_3</th>\n",
              "      <th>lag_4</th>\n",
              "      <th>...</th>\n",
              "      <th>lag_22</th>\n",
              "      <th>lag_23</th>\n",
              "      <th>lag_24</th>\n",
              "      <th>lag_25</th>\n",
              "      <th>lag_26</th>\n",
              "      <th>lag_27</th>\n",
              "      <th>lag_28</th>\n",
              "      <th>lag_29</th>\n",
              "      <th>lag_30</th>\n",
              "      <th>y_mean</th>\n",
              "    </tr>\n",
              "    <tr>\n",
              "      <th>dDate</th>\n",
              "      <th></th>\n",
              "      <th></th>\n",
              "      <th></th>\n",
              "      <th></th>\n",
              "      <th></th>\n",
              "      <th></th>\n",
              "      <th></th>\n",
              "      <th></th>\n",
              "      <th></th>\n",
              "      <th></th>\n",
              "      <th></th>\n",
              "      <th></th>\n",
              "      <th></th>\n",
              "      <th></th>\n",
              "      <th></th>\n",
              "      <th></th>\n",
              "      <th></th>\n",
              "      <th></th>\n",
              "      <th></th>\n",
              "      <th></th>\n",
              "      <th></th>\n",
              "    </tr>\n",
              "  </thead>\n",
              "  <tbody>\n",
              "    <tr>\n",
              "      <th>2021-08-03</th>\n",
              "      <td>72.93570</td>\n",
              "      <td>2021</td>\n",
              "      <td>8</td>\n",
              "      <td>3</td>\n",
              "      <td>1</td>\n",
              "      <td>0</td>\n",
              "      <td>NaN</td>\n",
              "      <td>NaN</td>\n",
              "      <td>NaN</td>\n",
              "      <td>NaN</td>\n",
              "      <td>...</td>\n",
              "      <td>NaN</td>\n",
              "      <td>NaN</td>\n",
              "      <td>NaN</td>\n",
              "      <td>NaN</td>\n",
              "      <td>NaN</td>\n",
              "      <td>NaN</td>\n",
              "      <td>NaN</td>\n",
              "      <td>NaN</td>\n",
              "      <td>NaN</td>\n",
              "      <td>NaN</td>\n",
              "    </tr>\n",
              "    <tr>\n",
              "      <th>2021-08-04</th>\n",
              "      <td>73.09355</td>\n",
              "      <td>2021</td>\n",
              "      <td>8</td>\n",
              "      <td>4</td>\n",
              "      <td>2</td>\n",
              "      <td>0</td>\n",
              "      <td>72.93570</td>\n",
              "      <td>NaN</td>\n",
              "      <td>NaN</td>\n",
              "      <td>NaN</td>\n",
              "      <td>...</td>\n",
              "      <td>NaN</td>\n",
              "      <td>NaN</td>\n",
              "      <td>NaN</td>\n",
              "      <td>NaN</td>\n",
              "      <td>NaN</td>\n",
              "      <td>NaN</td>\n",
              "      <td>NaN</td>\n",
              "      <td>NaN</td>\n",
              "      <td>NaN</td>\n",
              "      <td>NaN</td>\n",
              "    </tr>\n",
              "    <tr>\n",
              "      <th>2021-08-05</th>\n",
              "      <td>73.09740</td>\n",
              "      <td>2021</td>\n",
              "      <td>8</td>\n",
              "      <td>5</td>\n",
              "      <td>3</td>\n",
              "      <td>0</td>\n",
              "      <td>73.09355</td>\n",
              "      <td>72.93570</td>\n",
              "      <td>NaN</td>\n",
              "      <td>NaN</td>\n",
              "      <td>...</td>\n",
              "      <td>NaN</td>\n",
              "      <td>NaN</td>\n",
              "      <td>NaN</td>\n",
              "      <td>NaN</td>\n",
              "      <td>NaN</td>\n",
              "      <td>NaN</td>\n",
              "      <td>NaN</td>\n",
              "      <td>NaN</td>\n",
              "      <td>NaN</td>\n",
              "      <td>NaN</td>\n",
              "    </tr>\n",
              "    <tr>\n",
              "      <th>2021-08-06</th>\n",
              "      <td>73.31135</td>\n",
              "      <td>2021</td>\n",
              "      <td>8</td>\n",
              "      <td>6</td>\n",
              "      <td>4</td>\n",
              "      <td>0</td>\n",
              "      <td>73.09740</td>\n",
              "      <td>73.09355</td>\n",
              "      <td>72.93570</td>\n",
              "      <td>NaN</td>\n",
              "      <td>...</td>\n",
              "      <td>NaN</td>\n",
              "      <td>NaN</td>\n",
              "      <td>NaN</td>\n",
              "      <td>NaN</td>\n",
              "      <td>NaN</td>\n",
              "      <td>NaN</td>\n",
              "      <td>NaN</td>\n",
              "      <td>NaN</td>\n",
              "      <td>NaN</td>\n",
              "      <td>73.042217</td>\n",
              "    </tr>\n",
              "    <tr>\n",
              "      <th>2021-08-09</th>\n",
              "      <td>73.55665</td>\n",
              "      <td>2021</td>\n",
              "      <td>8</td>\n",
              "      <td>9</td>\n",
              "      <td>0</td>\n",
              "      <td>0</td>\n",
              "      <td>73.31135</td>\n",
              "      <td>73.09740</td>\n",
              "      <td>73.09355</td>\n",
              "      <td>72.93570</td>\n",
              "      <td>...</td>\n",
              "      <td>NaN</td>\n",
              "      <td>NaN</td>\n",
              "      <td>NaN</td>\n",
              "      <td>NaN</td>\n",
              "      <td>NaN</td>\n",
              "      <td>NaN</td>\n",
              "      <td>NaN</td>\n",
              "      <td>NaN</td>\n",
              "      <td>NaN</td>\n",
              "      <td>73.167433</td>\n",
              "    </tr>\n",
              "    <tr>\n",
              "      <th>...</th>\n",
              "      <td>...</td>\n",
              "      <td>...</td>\n",
              "      <td>...</td>\n",
              "      <td>...</td>\n",
              "      <td>...</td>\n",
              "      <td>...</td>\n",
              "      <td>...</td>\n",
              "      <td>...</td>\n",
              "      <td>...</td>\n",
              "      <td>...</td>\n",
              "      <td>...</td>\n",
              "      <td>...</td>\n",
              "      <td>...</td>\n",
              "      <td>...</td>\n",
              "      <td>...</td>\n",
              "      <td>...</td>\n",
              "      <td>...</td>\n",
              "      <td>...</td>\n",
              "      <td>...</td>\n",
              "      <td>...</td>\n",
              "      <td>...</td>\n",
              "    </tr>\n",
              "    <tr>\n",
              "      <th>2022-09-27</th>\n",
              "      <td>58.25000</td>\n",
              "      <td>2022</td>\n",
              "      <td>9</td>\n",
              "      <td>27</td>\n",
              "      <td>1</td>\n",
              "      <td>0</td>\n",
              "      <td>58.11560</td>\n",
              "      <td>57.68065</td>\n",
              "      <td>59.20265</td>\n",
              "      <td>60.63150</td>\n",
              "      <td>...</td>\n",
              "      <td>60.26615</td>\n",
              "      <td>59.76960</td>\n",
              "      <td>59.90720</td>\n",
              "      <td>59.85330</td>\n",
              "      <td>59.63390</td>\n",
              "      <td>59.04825</td>\n",
              "      <td>59.47380</td>\n",
              "      <td>60.64310</td>\n",
              "      <td>61.10670</td>\n",
              "      <td>58.332967</td>\n",
              "    </tr>\n",
              "    <tr>\n",
              "      <th>2022-09-28</th>\n",
              "      <td>57.89825</td>\n",
              "      <td>2022</td>\n",
              "      <td>9</td>\n",
              "      <td>28</td>\n",
              "      <td>2</td>\n",
              "      <td>0</td>\n",
              "      <td>58.25000</td>\n",
              "      <td>58.11560</td>\n",
              "      <td>57.68065</td>\n",
              "      <td>59.20265</td>\n",
              "      <td>...</td>\n",
              "      <td>60.31390</td>\n",
              "      <td>60.26615</td>\n",
              "      <td>59.76960</td>\n",
              "      <td>59.90720</td>\n",
              "      <td>59.85330</td>\n",
              "      <td>59.63390</td>\n",
              "      <td>59.04825</td>\n",
              "      <td>59.47380</td>\n",
              "      <td>60.64310</td>\n",
              "      <td>58.015417</td>\n",
              "    </tr>\n",
              "    <tr>\n",
              "      <th>2022-09-29</th>\n",
              "      <td>57.31995</td>\n",
              "      <td>2022</td>\n",
              "      <td>9</td>\n",
              "      <td>29</td>\n",
              "      <td>3</td>\n",
              "      <td>0</td>\n",
              "      <td>57.89825</td>\n",
              "      <td>58.25000</td>\n",
              "      <td>58.11560</td>\n",
              "      <td>57.68065</td>\n",
              "      <td>...</td>\n",
              "      <td>60.15750</td>\n",
              "      <td>60.31390</td>\n",
              "      <td>60.26615</td>\n",
              "      <td>59.76960</td>\n",
              "      <td>59.90720</td>\n",
              "      <td>59.85330</td>\n",
              "      <td>59.63390</td>\n",
              "      <td>59.04825</td>\n",
              "      <td>59.47380</td>\n",
              "      <td>58.087950</td>\n",
              "    </tr>\n",
              "    <tr>\n",
              "      <th>2022-09-30</th>\n",
              "      <td>56.42260</td>\n",
              "      <td>2022</td>\n",
              "      <td>9</td>\n",
              "      <td>30</td>\n",
              "      <td>4</td>\n",
              "      <td>0</td>\n",
              "      <td>57.31995</td>\n",
              "      <td>57.89825</td>\n",
              "      <td>58.25000</td>\n",
              "      <td>58.11560</td>\n",
              "      <td>...</td>\n",
              "      <td>60.17585</td>\n",
              "      <td>60.15750</td>\n",
              "      <td>60.31390</td>\n",
              "      <td>60.26615</td>\n",
              "      <td>59.76960</td>\n",
              "      <td>59.90720</td>\n",
              "      <td>59.85330</td>\n",
              "      <td>59.63390</td>\n",
              "      <td>59.04825</td>\n",
              "      <td>57.822733</td>\n",
              "    </tr>\n",
              "    <tr>\n",
              "      <th>2022-10-03</th>\n",
              "      <td>57.38130</td>\n",
              "      <td>2022</td>\n",
              "      <td>10</td>\n",
              "      <td>3</td>\n",
              "      <td>0</td>\n",
              "      <td>0</td>\n",
              "      <td>56.42260</td>\n",
              "      <td>57.31995</td>\n",
              "      <td>57.89825</td>\n",
              "      <td>58.25000</td>\n",
              "      <td>...</td>\n",
              "      <td>60.25260</td>\n",
              "      <td>60.17585</td>\n",
              "      <td>60.15750</td>\n",
              "      <td>60.31390</td>\n",
              "      <td>60.26615</td>\n",
              "      <td>59.76960</td>\n",
              "      <td>59.90720</td>\n",
              "      <td>59.85330</td>\n",
              "      <td>59.63390</td>\n",
              "      <td>57.213600</td>\n",
              "    </tr>\n",
              "  </tbody>\n",
              "</table>\n",
              "<p>296 rows × 37 columns</p>\n",
              "</div>"
            ],
            "text/plain": [
              "                nCur  year  month  day  dayofweek  is_weekend     lag_1  \\\n",
              "dDate                                                                     \n",
              "2021-08-03  72.93570  2021      8    3          1           0       NaN   \n",
              "2021-08-04  73.09355  2021      8    4          2           0  72.93570   \n",
              "2021-08-05  73.09740  2021      8    5          3           0  73.09355   \n",
              "2021-08-06  73.31135  2021      8    6          4           0  73.09740   \n",
              "2021-08-09  73.55665  2021      8    9          0           0  73.31135   \n",
              "...              ...   ...    ...  ...        ...         ...       ...   \n",
              "2022-09-27  58.25000  2022      9   27          1           0  58.11560   \n",
              "2022-09-28  57.89825  2022      9   28          2           0  58.25000   \n",
              "2022-09-29  57.31995  2022      9   29          3           0  57.89825   \n",
              "2022-09-30  56.42260  2022      9   30          4           0  57.31995   \n",
              "2022-10-03  57.38130  2022     10    3          0           0  56.42260   \n",
              "\n",
              "               lag_2     lag_3     lag_4  ...    lag_22    lag_23    lag_24  \\\n",
              "dDate                                     ...                                 \n",
              "2021-08-03       NaN       NaN       NaN  ...       NaN       NaN       NaN   \n",
              "2021-08-04       NaN       NaN       NaN  ...       NaN       NaN       NaN   \n",
              "2021-08-05  72.93570       NaN       NaN  ...       NaN       NaN       NaN   \n",
              "2021-08-06  73.09355  72.93570       NaN  ...       NaN       NaN       NaN   \n",
              "2021-08-09  73.09740  73.09355  72.93570  ...       NaN       NaN       NaN   \n",
              "...              ...       ...       ...  ...       ...       ...       ...   \n",
              "2022-09-27  57.68065  59.20265  60.63150  ...  60.26615  59.76960  59.90720   \n",
              "2022-09-28  58.11560  57.68065  59.20265  ...  60.31390  60.26615  59.76960   \n",
              "2022-09-29  58.25000  58.11560  57.68065  ...  60.15750  60.31390  60.26615   \n",
              "2022-09-30  57.89825  58.25000  58.11560  ...  60.17585  60.15750  60.31390   \n",
              "2022-10-03  57.31995  57.89825  58.25000  ...  60.25260  60.17585  60.15750   \n",
              "\n",
              "              lag_25    lag_26    lag_27    lag_28    lag_29    lag_30  \\\n",
              "dDate                                                                    \n",
              "2021-08-03       NaN       NaN       NaN       NaN       NaN       NaN   \n",
              "2021-08-04       NaN       NaN       NaN       NaN       NaN       NaN   \n",
              "2021-08-05       NaN       NaN       NaN       NaN       NaN       NaN   \n",
              "2021-08-06       NaN       NaN       NaN       NaN       NaN       NaN   \n",
              "2021-08-09       NaN       NaN       NaN       NaN       NaN       NaN   \n",
              "...              ...       ...       ...       ...       ...       ...   \n",
              "2022-09-27  59.85330  59.63390  59.04825  59.47380  60.64310  61.10670   \n",
              "2022-09-28  59.90720  59.85330  59.63390  59.04825  59.47380  60.64310   \n",
              "2022-09-29  59.76960  59.90720  59.85330  59.63390  59.04825  59.47380   \n",
              "2022-09-30  60.26615  59.76960  59.90720  59.85330  59.63390  59.04825   \n",
              "2022-10-03  60.31390  60.26615  59.76960  59.90720  59.85330  59.63390   \n",
              "\n",
              "               y_mean  \n",
              "dDate                  \n",
              "2021-08-03        NaN  \n",
              "2021-08-04        NaN  \n",
              "2021-08-05        NaN  \n",
              "2021-08-06  73.042217  \n",
              "2021-08-09  73.167433  \n",
              "...               ...  \n",
              "2022-09-27  58.332967  \n",
              "2022-09-28  58.015417  \n",
              "2022-09-29  58.087950  \n",
              "2022-09-30  57.822733  \n",
              "2022-10-03  57.213600  \n",
              "\n",
              "[296 rows x 37 columns]"
            ]
          },
          "execution_count": 42,
          "metadata": {},
          "output_type": "execute_result"
        }
      ],
      "source": [
        "df"
      ]
    },
    {
      "cell_type": "code",
      "execution_count": null,
      "metadata": {
        "id": "yolH7oLsJGv0"
      },
      "outputs": [],
      "source": [
        "df.dropna(inplace = True)"
      ]
    },
    {
      "cell_type": "code",
      "execution_count": null,
      "metadata": {
        "id": "YaOdoXiaJGv0",
        "outputId": "01bd890d-7a67-4a32-a5d7-e733b47151a0"
      },
      "outputs": [
        {
          "data": {
            "text/html": [
              "<div>\n",
              "<style scoped>\n",
              "    .dataframe tbody tr th:only-of-type {\n",
              "        vertical-align: middle;\n",
              "    }\n",
              "\n",
              "    .dataframe tbody tr th {\n",
              "        vertical-align: top;\n",
              "    }\n",
              "\n",
              "    .dataframe thead th {\n",
              "        text-align: right;\n",
              "    }\n",
              "</style>\n",
              "<table border=\"1\" class=\"dataframe\">\n",
              "  <thead>\n",
              "    <tr style=\"text-align: right;\">\n",
              "      <th></th>\n",
              "      <th>nCur</th>\n",
              "      <th>year</th>\n",
              "      <th>month</th>\n",
              "      <th>day</th>\n",
              "      <th>dayofweek</th>\n",
              "      <th>is_weekend</th>\n",
              "      <th>lag_1</th>\n",
              "      <th>lag_2</th>\n",
              "      <th>lag_3</th>\n",
              "      <th>lag_4</th>\n",
              "      <th>...</th>\n",
              "      <th>lag_22</th>\n",
              "      <th>lag_23</th>\n",
              "      <th>lag_24</th>\n",
              "      <th>lag_25</th>\n",
              "      <th>lag_26</th>\n",
              "      <th>lag_27</th>\n",
              "      <th>lag_28</th>\n",
              "      <th>lag_29</th>\n",
              "      <th>lag_30</th>\n",
              "      <th>y_mean</th>\n",
              "    </tr>\n",
              "    <tr>\n",
              "      <th>dDate</th>\n",
              "      <th></th>\n",
              "      <th></th>\n",
              "      <th></th>\n",
              "      <th></th>\n",
              "      <th></th>\n",
              "      <th></th>\n",
              "      <th></th>\n",
              "      <th></th>\n",
              "      <th></th>\n",
              "      <th></th>\n",
              "      <th></th>\n",
              "      <th></th>\n",
              "      <th></th>\n",
              "      <th></th>\n",
              "      <th></th>\n",
              "      <th></th>\n",
              "      <th></th>\n",
              "      <th></th>\n",
              "      <th></th>\n",
              "      <th></th>\n",
              "      <th></th>\n",
              "    </tr>\n",
              "  </thead>\n",
              "  <tbody>\n",
              "    <tr>\n",
              "      <th>2021-09-14</th>\n",
              "      <td>72.86035</td>\n",
              "      <td>2021</td>\n",
              "      <td>9</td>\n",
              "      <td>14</td>\n",
              "      <td>1</td>\n",
              "      <td>0</td>\n",
              "      <td>72.85360</td>\n",
              "      <td>72.95585</td>\n",
              "      <td>72.95395</td>\n",
              "      <td>73.35640</td>\n",
              "      <td>...</td>\n",
              "      <td>73.33035</td>\n",
              "      <td>73.52655</td>\n",
              "      <td>73.91075</td>\n",
              "      <td>73.76995</td>\n",
              "      <td>73.55665</td>\n",
              "      <td>73.31135</td>\n",
              "      <td>73.09740</td>\n",
              "      <td>73.09355</td>\n",
              "      <td>72.93570</td>\n",
              "      <td>72.921133</td>\n",
              "    </tr>\n",
              "    <tr>\n",
              "      <th>2021-09-15</th>\n",
              "      <td>72.57490</td>\n",
              "      <td>2021</td>\n",
              "      <td>9</td>\n",
              "      <td>15</td>\n",
              "      <td>2</td>\n",
              "      <td>0</td>\n",
              "      <td>72.86035</td>\n",
              "      <td>72.85360</td>\n",
              "      <td>72.95585</td>\n",
              "      <td>72.95395</td>\n",
              "      <td>...</td>\n",
              "      <td>73.34000</td>\n",
              "      <td>73.33035</td>\n",
              "      <td>73.52655</td>\n",
              "      <td>73.91075</td>\n",
              "      <td>73.76995</td>\n",
              "      <td>73.55665</td>\n",
              "      <td>73.31135</td>\n",
              "      <td>73.09740</td>\n",
              "      <td>73.09355</td>\n",
              "      <td>72.889933</td>\n",
              "    </tr>\n",
              "    <tr>\n",
              "      <th>2021-09-16</th>\n",
              "      <td>72.52145</td>\n",
              "      <td>2021</td>\n",
              "      <td>9</td>\n",
              "      <td>16</td>\n",
              "      <td>3</td>\n",
              "      <td>0</td>\n",
              "      <td>72.57490</td>\n",
              "      <td>72.86035</td>\n",
              "      <td>72.85360</td>\n",
              "      <td>72.95585</td>\n",
              "      <td>...</td>\n",
              "      <td>73.49575</td>\n",
              "      <td>73.34000</td>\n",
              "      <td>73.33035</td>\n",
              "      <td>73.52655</td>\n",
              "      <td>73.91075</td>\n",
              "      <td>73.76995</td>\n",
              "      <td>73.55665</td>\n",
              "      <td>73.31135</td>\n",
              "      <td>73.09740</td>\n",
              "      <td>72.762950</td>\n",
              "    </tr>\n",
              "    <tr>\n",
              "      <th>2021-09-17</th>\n",
              "      <td>72.72745</td>\n",
              "      <td>2021</td>\n",
              "      <td>9</td>\n",
              "      <td>17</td>\n",
              "      <td>4</td>\n",
              "      <td>0</td>\n",
              "      <td>72.52145</td>\n",
              "      <td>72.57490</td>\n",
              "      <td>72.86035</td>\n",
              "      <td>72.85360</td>\n",
              "      <td>...</td>\n",
              "      <td>73.74725</td>\n",
              "      <td>73.49575</td>\n",
              "      <td>73.34000</td>\n",
              "      <td>73.33035</td>\n",
              "      <td>73.52655</td>\n",
              "      <td>73.91075</td>\n",
              "      <td>73.76995</td>\n",
              "      <td>73.55665</td>\n",
              "      <td>73.31135</td>\n",
              "      <td>72.652233</td>\n",
              "    </tr>\n",
              "    <tr>\n",
              "      <th>2021-09-20</th>\n",
              "      <td>73.43670</td>\n",
              "      <td>2021</td>\n",
              "      <td>9</td>\n",
              "      <td>20</td>\n",
              "      <td>0</td>\n",
              "      <td>0</td>\n",
              "      <td>72.72745</td>\n",
              "      <td>72.52145</td>\n",
              "      <td>72.57490</td>\n",
              "      <td>72.86035</td>\n",
              "      <td>...</td>\n",
              "      <td>74.19740</td>\n",
              "      <td>73.74725</td>\n",
              "      <td>73.49575</td>\n",
              "      <td>73.34000</td>\n",
              "      <td>73.33035</td>\n",
              "      <td>73.52655</td>\n",
              "      <td>73.91075</td>\n",
              "      <td>73.76995</td>\n",
              "      <td>73.55665</td>\n",
              "      <td>72.607933</td>\n",
              "    </tr>\n",
              "    <tr>\n",
              "      <th>...</th>\n",
              "      <td>...</td>\n",
              "      <td>...</td>\n",
              "      <td>...</td>\n",
              "      <td>...</td>\n",
              "      <td>...</td>\n",
              "      <td>...</td>\n",
              "      <td>...</td>\n",
              "      <td>...</td>\n",
              "      <td>...</td>\n",
              "      <td>...</td>\n",
              "      <td>...</td>\n",
              "      <td>...</td>\n",
              "      <td>...</td>\n",
              "      <td>...</td>\n",
              "      <td>...</td>\n",
              "      <td>...</td>\n",
              "      <td>...</td>\n",
              "      <td>...</td>\n",
              "      <td>...</td>\n",
              "      <td>...</td>\n",
              "      <td>...</td>\n",
              "    </tr>\n",
              "    <tr>\n",
              "      <th>2022-09-27</th>\n",
              "      <td>58.25000</td>\n",
              "      <td>2022</td>\n",
              "      <td>9</td>\n",
              "      <td>27</td>\n",
              "      <td>1</td>\n",
              "      <td>0</td>\n",
              "      <td>58.11560</td>\n",
              "      <td>57.68065</td>\n",
              "      <td>59.20265</td>\n",
              "      <td>60.63150</td>\n",
              "      <td>...</td>\n",
              "      <td>60.26615</td>\n",
              "      <td>59.76960</td>\n",
              "      <td>59.90720</td>\n",
              "      <td>59.85330</td>\n",
              "      <td>59.63390</td>\n",
              "      <td>59.04825</td>\n",
              "      <td>59.47380</td>\n",
              "      <td>60.64310</td>\n",
              "      <td>61.10670</td>\n",
              "      <td>58.332967</td>\n",
              "    </tr>\n",
              "    <tr>\n",
              "      <th>2022-09-28</th>\n",
              "      <td>57.89825</td>\n",
              "      <td>2022</td>\n",
              "      <td>9</td>\n",
              "      <td>28</td>\n",
              "      <td>2</td>\n",
              "      <td>0</td>\n",
              "      <td>58.25000</td>\n",
              "      <td>58.11560</td>\n",
              "      <td>57.68065</td>\n",
              "      <td>59.20265</td>\n",
              "      <td>...</td>\n",
              "      <td>60.31390</td>\n",
              "      <td>60.26615</td>\n",
              "      <td>59.76960</td>\n",
              "      <td>59.90720</td>\n",
              "      <td>59.85330</td>\n",
              "      <td>59.63390</td>\n",
              "      <td>59.04825</td>\n",
              "      <td>59.47380</td>\n",
              "      <td>60.64310</td>\n",
              "      <td>58.015417</td>\n",
              "    </tr>\n",
              "    <tr>\n",
              "      <th>2022-09-29</th>\n",
              "      <td>57.31995</td>\n",
              "      <td>2022</td>\n",
              "      <td>9</td>\n",
              "      <td>29</td>\n",
              "      <td>3</td>\n",
              "      <td>0</td>\n",
              "      <td>57.89825</td>\n",
              "      <td>58.25000</td>\n",
              "      <td>58.11560</td>\n",
              "      <td>57.68065</td>\n",
              "      <td>...</td>\n",
              "      <td>60.15750</td>\n",
              "      <td>60.31390</td>\n",
              "      <td>60.26615</td>\n",
              "      <td>59.76960</td>\n",
              "      <td>59.90720</td>\n",
              "      <td>59.85330</td>\n",
              "      <td>59.63390</td>\n",
              "      <td>59.04825</td>\n",
              "      <td>59.47380</td>\n",
              "      <td>58.087950</td>\n",
              "    </tr>\n",
              "    <tr>\n",
              "      <th>2022-09-30</th>\n",
              "      <td>56.42260</td>\n",
              "      <td>2022</td>\n",
              "      <td>9</td>\n",
              "      <td>30</td>\n",
              "      <td>4</td>\n",
              "      <td>0</td>\n",
              "      <td>57.31995</td>\n",
              "      <td>57.89825</td>\n",
              "      <td>58.25000</td>\n",
              "      <td>58.11560</td>\n",
              "      <td>...</td>\n",
              "      <td>60.17585</td>\n",
              "      <td>60.15750</td>\n",
              "      <td>60.31390</td>\n",
              "      <td>60.26615</td>\n",
              "      <td>59.76960</td>\n",
              "      <td>59.90720</td>\n",
              "      <td>59.85330</td>\n",
              "      <td>59.63390</td>\n",
              "      <td>59.04825</td>\n",
              "      <td>57.822733</td>\n",
              "    </tr>\n",
              "    <tr>\n",
              "      <th>2022-10-03</th>\n",
              "      <td>57.38130</td>\n",
              "      <td>2022</td>\n",
              "      <td>10</td>\n",
              "      <td>3</td>\n",
              "      <td>0</td>\n",
              "      <td>0</td>\n",
              "      <td>56.42260</td>\n",
              "      <td>57.31995</td>\n",
              "      <td>57.89825</td>\n",
              "      <td>58.25000</td>\n",
              "      <td>...</td>\n",
              "      <td>60.25260</td>\n",
              "      <td>60.17585</td>\n",
              "      <td>60.15750</td>\n",
              "      <td>60.31390</td>\n",
              "      <td>60.26615</td>\n",
              "      <td>59.76960</td>\n",
              "      <td>59.90720</td>\n",
              "      <td>59.85330</td>\n",
              "      <td>59.63390</td>\n",
              "      <td>57.213600</td>\n",
              "    </tr>\n",
              "  </tbody>\n",
              "</table>\n",
              "<p>266 rows × 37 columns</p>\n",
              "</div>"
            ],
            "text/plain": [
              "                nCur  year  month  day  dayofweek  is_weekend     lag_1  \\\n",
              "dDate                                                                     \n",
              "2021-09-14  72.86035  2021      9   14          1           0  72.85360   \n",
              "2021-09-15  72.57490  2021      9   15          2           0  72.86035   \n",
              "2021-09-16  72.52145  2021      9   16          3           0  72.57490   \n",
              "2021-09-17  72.72745  2021      9   17          4           0  72.52145   \n",
              "2021-09-20  73.43670  2021      9   20          0           0  72.72745   \n",
              "...              ...   ...    ...  ...        ...         ...       ...   \n",
              "2022-09-27  58.25000  2022      9   27          1           0  58.11560   \n",
              "2022-09-28  57.89825  2022      9   28          2           0  58.25000   \n",
              "2022-09-29  57.31995  2022      9   29          3           0  57.89825   \n",
              "2022-09-30  56.42260  2022      9   30          4           0  57.31995   \n",
              "2022-10-03  57.38130  2022     10    3          0           0  56.42260   \n",
              "\n",
              "               lag_2     lag_3     lag_4  ...    lag_22    lag_23    lag_24  \\\n",
              "dDate                                     ...                                 \n",
              "2021-09-14  72.95585  72.95395  73.35640  ...  73.33035  73.52655  73.91075   \n",
              "2021-09-15  72.85360  72.95585  72.95395  ...  73.34000  73.33035  73.52655   \n",
              "2021-09-16  72.86035  72.85360  72.95585  ...  73.49575  73.34000  73.33035   \n",
              "2021-09-17  72.57490  72.86035  72.85360  ...  73.74725  73.49575  73.34000   \n",
              "2021-09-20  72.52145  72.57490  72.86035  ...  74.19740  73.74725  73.49575   \n",
              "...              ...       ...       ...  ...       ...       ...       ...   \n",
              "2022-09-27  57.68065  59.20265  60.63150  ...  60.26615  59.76960  59.90720   \n",
              "2022-09-28  58.11560  57.68065  59.20265  ...  60.31390  60.26615  59.76960   \n",
              "2022-09-29  58.25000  58.11560  57.68065  ...  60.15750  60.31390  60.26615   \n",
              "2022-09-30  57.89825  58.25000  58.11560  ...  60.17585  60.15750  60.31390   \n",
              "2022-10-03  57.31995  57.89825  58.25000  ...  60.25260  60.17585  60.15750   \n",
              "\n",
              "              lag_25    lag_26    lag_27    lag_28    lag_29    lag_30  \\\n",
              "dDate                                                                    \n",
              "2021-09-14  73.76995  73.55665  73.31135  73.09740  73.09355  72.93570   \n",
              "2021-09-15  73.91075  73.76995  73.55665  73.31135  73.09740  73.09355   \n",
              "2021-09-16  73.52655  73.91075  73.76995  73.55665  73.31135  73.09740   \n",
              "2021-09-17  73.33035  73.52655  73.91075  73.76995  73.55665  73.31135   \n",
              "2021-09-20  73.34000  73.33035  73.52655  73.91075  73.76995  73.55665   \n",
              "...              ...       ...       ...       ...       ...       ...   \n",
              "2022-09-27  59.85330  59.63390  59.04825  59.47380  60.64310  61.10670   \n",
              "2022-09-28  59.90720  59.85330  59.63390  59.04825  59.47380  60.64310   \n",
              "2022-09-29  59.76960  59.90720  59.85330  59.63390  59.04825  59.47380   \n",
              "2022-09-30  60.26615  59.76960  59.90720  59.85330  59.63390  59.04825   \n",
              "2022-10-03  60.31390  60.26615  59.76960  59.90720  59.85330  59.63390   \n",
              "\n",
              "               y_mean  \n",
              "dDate                  \n",
              "2021-09-14  72.921133  \n",
              "2021-09-15  72.889933  \n",
              "2021-09-16  72.762950  \n",
              "2021-09-17  72.652233  \n",
              "2021-09-20  72.607933  \n",
              "...               ...  \n",
              "2022-09-27  58.332967  \n",
              "2022-09-28  58.015417  \n",
              "2022-09-29  58.087950  \n",
              "2022-09-30  57.822733  \n",
              "2022-10-03  57.213600  \n",
              "\n",
              "[266 rows x 37 columns]"
            ]
          },
          "execution_count": 44,
          "metadata": {},
          "output_type": "execute_result"
        }
      ],
      "source": [
        "df"
      ]
    },
    {
      "cell_type": "code",
      "execution_count": null,
      "metadata": {
        "id": "0HrasE8vJGv1"
      },
      "outputs": [],
      "source": [
        "X_train,X_test, y_train, y_test = train_test_split(df.drop('nCur',axis=1),\n",
        "                                                  df.nCur,\n",
        "                                                  shuffle = False,\n",
        "                                                  test_size = 0.19)"
      ]
    },
    {
      "cell_type": "code",
      "execution_count": null,
      "metadata": {
        "id": "vewYgNAKJGv2"
      },
      "outputs": [],
      "source": [
        "from sklearn.linear_model import LinearRegression"
      ]
    },
    {
      "cell_type": "code",
      "execution_count": null,
      "metadata": {
        "id": "BK6vXCn8JGv3"
      },
      "outputs": [],
      "source": [
        "lr = LinearRegression()"
      ]
    },
    {
      "cell_type": "code",
      "execution_count": null,
      "metadata": {
        "id": "cz5Jt3aOJGv4",
        "outputId": "fa4a9d06-6f98-4e99-ad96-ac5996bce3bc"
      },
      "outputs": [
        {
          "data": {
            "text/plain": [
              "LinearRegression()"
            ]
          },
          "execution_count": 52,
          "metadata": {},
          "output_type": "execute_result"
        }
      ],
      "source": [
        "lr.fit(X_train, y_train)"
      ]
    },
    {
      "cell_type": "code",
      "execution_count": null,
      "metadata": {
        "id": "yuAz1CnbJGv5"
      },
      "outputs": [],
      "source": [
        "from sklearn.metrics import mean_absolute_error"
      ]
    },
    {
      "cell_type": "code",
      "execution_count": null,
      "metadata": {
        "id": "zI6bAkUlJGv5",
        "outputId": "72a6d02e-dab7-48e3-ae82-25b8b7887308"
      },
      "outputs": [
        {
          "name": "stdout",
          "output_type": "stream",
          "text": [
            "Ошибка на Train 1.03\n"
          ]
        }
      ],
      "source": [
        "print('Ошибка на Train',round(mean_absolute_error(y_train, lr.predict(X_train)),2))"
      ]
    },
    {
      "cell_type": "code",
      "execution_count": null,
      "metadata": {
        "id": "0kC9oYxlJGv6",
        "outputId": "ca7bff6b-0666-4b70-e49d-d18fce6c693a"
      },
      "outputs": [
        {
          "name": "stdout",
          "output_type": "stream",
          "text": [
            "Ошибка на Test 0.52\n"
          ]
        }
      ],
      "source": [
        "print('Ошибка на Test',round(mean_absolute_error(y_test, lr.predict(X_test)),2))"
      ]
    },
    {
      "cell_type": "markdown",
      "metadata": {
        "id": "mjoLiy5cJGv7"
      },
      "source": [
        "## Предсказываем на 4 октября"
      ]
    },
    {
      "cell_type": "code",
      "execution_count": null,
      "metadata": {
        "id": "HeAG-gL_JGv-"
      },
      "outputs": [],
      "source": [
        "df_new = pd.DataFrame(df['nCur']).reset_index().copy()"
      ]
    },
    {
      "cell_type": "code",
      "execution_count": null,
      "metadata": {
        "id": "mM1dMT2sJGv-",
        "outputId": "1623d0aa-f1b9-4dca-9e50-b438d1564765"
      },
      "outputs": [
        {
          "data": {
            "text/html": [
              "<div>\n",
              "<style scoped>\n",
              "    .dataframe tbody tr th:only-of-type {\n",
              "        vertical-align: middle;\n",
              "    }\n",
              "\n",
              "    .dataframe tbody tr th {\n",
              "        vertical-align: top;\n",
              "    }\n",
              "\n",
              "    .dataframe thead th {\n",
              "        text-align: right;\n",
              "    }\n",
              "</style>\n",
              "<table border=\"1\" class=\"dataframe\">\n",
              "  <thead>\n",
              "    <tr style=\"text-align: right;\">\n",
              "      <th></th>\n",
              "      <th>dDate</th>\n",
              "      <th>nCur</th>\n",
              "    </tr>\n",
              "  </thead>\n",
              "  <tbody>\n",
              "    <tr>\n",
              "      <th>0</th>\n",
              "      <td>2021-09-14</td>\n",
              "      <td>72.86035</td>\n",
              "    </tr>\n",
              "    <tr>\n",
              "      <th>1</th>\n",
              "      <td>2021-09-15</td>\n",
              "      <td>72.57490</td>\n",
              "    </tr>\n",
              "    <tr>\n",
              "      <th>2</th>\n",
              "      <td>2021-09-16</td>\n",
              "      <td>72.52145</td>\n",
              "    </tr>\n",
              "    <tr>\n",
              "      <th>3</th>\n",
              "      <td>2021-09-17</td>\n",
              "      <td>72.72745</td>\n",
              "    </tr>\n",
              "    <tr>\n",
              "      <th>4</th>\n",
              "      <td>2021-09-20</td>\n",
              "      <td>73.43670</td>\n",
              "    </tr>\n",
              "    <tr>\n",
              "      <th>...</th>\n",
              "      <td>...</td>\n",
              "      <td>...</td>\n",
              "    </tr>\n",
              "    <tr>\n",
              "      <th>261</th>\n",
              "      <td>2022-09-27</td>\n",
              "      <td>58.25000</td>\n",
              "    </tr>\n",
              "    <tr>\n",
              "      <th>262</th>\n",
              "      <td>2022-09-28</td>\n",
              "      <td>57.89825</td>\n",
              "    </tr>\n",
              "    <tr>\n",
              "      <th>263</th>\n",
              "      <td>2022-09-29</td>\n",
              "      <td>57.31995</td>\n",
              "    </tr>\n",
              "    <tr>\n",
              "      <th>264</th>\n",
              "      <td>2022-09-30</td>\n",
              "      <td>56.42260</td>\n",
              "    </tr>\n",
              "    <tr>\n",
              "      <th>265</th>\n",
              "      <td>2022-10-03</td>\n",
              "      <td>57.38130</td>\n",
              "    </tr>\n",
              "  </tbody>\n",
              "</table>\n",
              "<p>266 rows × 2 columns</p>\n",
              "</div>"
            ],
            "text/plain": [
              "         dDate      nCur\n",
              "0   2021-09-14  72.86035\n",
              "1   2021-09-15  72.57490\n",
              "2   2021-09-16  72.52145\n",
              "3   2021-09-17  72.72745\n",
              "4   2021-09-20  73.43670\n",
              "..         ...       ...\n",
              "261 2022-09-27  58.25000\n",
              "262 2022-09-28  57.89825\n",
              "263 2022-09-29  57.31995\n",
              "264 2022-09-30  56.42260\n",
              "265 2022-10-03  57.38130\n",
              "\n",
              "[266 rows x 2 columns]"
            ]
          },
          "execution_count": 176,
          "metadata": {},
          "output_type": "execute_result"
        }
      ],
      "source": [
        "df_new"
      ]
    },
    {
      "cell_type": "code",
      "execution_count": null,
      "metadata": {
        "id": "chz5plhOJGv_"
      },
      "outputs": [],
      "source": [
        "df_concat = df_new.tail(1).copy()"
      ]
    },
    {
      "cell_type": "code",
      "execution_count": null,
      "metadata": {
        "id": "64J7EV-hJGv_"
      },
      "outputs": [],
      "source": [
        "df_concat.reset_index( inplace = True , drop=True)"
      ]
    },
    {
      "cell_type": "code",
      "execution_count": null,
      "metadata": {
        "id": "m30Yru6XJGwA",
        "outputId": "9cfc7a6c-1387-428c-ed64-44916784f2cd"
      },
      "outputs": [
        {
          "data": {
            "text/html": [
              "<div>\n",
              "<style scoped>\n",
              "    .dataframe tbody tr th:only-of-type {\n",
              "        vertical-align: middle;\n",
              "    }\n",
              "\n",
              "    .dataframe tbody tr th {\n",
              "        vertical-align: top;\n",
              "    }\n",
              "\n",
              "    .dataframe thead th {\n",
              "        text-align: right;\n",
              "    }\n",
              "</style>\n",
              "<table border=\"1\" class=\"dataframe\">\n",
              "  <thead>\n",
              "    <tr style=\"text-align: right;\">\n",
              "      <th></th>\n",
              "      <th>dDate</th>\n",
              "      <th>nCur</th>\n",
              "    </tr>\n",
              "  </thead>\n",
              "  <tbody>\n",
              "    <tr>\n",
              "      <th>0</th>\n",
              "      <td>2022-10-03</td>\n",
              "      <td>57.3813</td>\n",
              "    </tr>\n",
              "  </tbody>\n",
              "</table>\n",
              "</div>"
            ],
            "text/plain": [
              "       dDate     nCur\n",
              "0 2022-10-03  57.3813"
            ]
          },
          "execution_count": 179,
          "metadata": {},
          "output_type": "execute_result"
        }
      ],
      "source": [
        "df_concat"
      ]
    },
    {
      "cell_type": "code",
      "execution_count": null,
      "metadata": {
        "id": "3dUzeYRgJGwB"
      },
      "outputs": [],
      "source": [
        "df_concat['dDate'] = pd.to_datetime('2022-10-04')"
      ]
    },
    {
      "cell_type": "code",
      "execution_count": null,
      "metadata": {
        "id": "9saANEUwJGwB"
      },
      "outputs": [],
      "source": [
        "import numpy as np\n",
        "df_concat['nCur'] = 0"
      ]
    },
    {
      "cell_type": "code",
      "execution_count": null,
      "metadata": {
        "id": "b-z-7awcJGwC",
        "outputId": "ea3bd323-a623-4151-d389-7ef77106bd0e"
      },
      "outputs": [
        {
          "data": {
            "text/html": [
              "<div>\n",
              "<style scoped>\n",
              "    .dataframe tbody tr th:only-of-type {\n",
              "        vertical-align: middle;\n",
              "    }\n",
              "\n",
              "    .dataframe tbody tr th {\n",
              "        vertical-align: top;\n",
              "    }\n",
              "\n",
              "    .dataframe thead th {\n",
              "        text-align: right;\n",
              "    }\n",
              "</style>\n",
              "<table border=\"1\" class=\"dataframe\">\n",
              "  <thead>\n",
              "    <tr style=\"text-align: right;\">\n",
              "      <th></th>\n",
              "      <th>dDate</th>\n",
              "      <th>nCur</th>\n",
              "    </tr>\n",
              "  </thead>\n",
              "  <tbody>\n",
              "    <tr>\n",
              "      <th>0</th>\n",
              "      <td>2022-10-04</td>\n",
              "      <td>0</td>\n",
              "    </tr>\n",
              "  </tbody>\n",
              "</table>\n",
              "</div>"
            ],
            "text/plain": [
              "       dDate  nCur\n",
              "0 2022-10-04     0"
            ]
          },
          "execution_count": 182,
          "metadata": {},
          "output_type": "execute_result"
        }
      ],
      "source": [
        "df_concat"
      ]
    },
    {
      "cell_type": "code",
      "execution_count": null,
      "metadata": {
        "id": "rWLl-707JGwD"
      },
      "outputs": [],
      "source": [
        "df2 = pd.concat([df_new,df_concat], ignore_index=True)"
      ]
    },
    {
      "cell_type": "markdown",
      "metadata": {
        "id": "ISBUNVL1JGwD"
      },
      "source": [
        "### генерируем фичи для 4 октября"
      ]
    },
    {
      "cell_type": "code",
      "execution_count": null,
      "metadata": {
        "id": "UBe037VhJGwE"
      },
      "outputs": [],
      "source": [
        "df2.set_index('dDate', inplace = True)"
      ]
    },
    {
      "cell_type": "code",
      "execution_count": null,
      "metadata": {
        "id": "j7zBew_fJGwE",
        "outputId": "1b489b73-f48f-4052-8bec-d8e04c687b44"
      },
      "outputs": [
        {
          "data": {
            "text/html": [
              "<div>\n",
              "<style scoped>\n",
              "    .dataframe tbody tr th:only-of-type {\n",
              "        vertical-align: middle;\n",
              "    }\n",
              "\n",
              "    .dataframe tbody tr th {\n",
              "        vertical-align: top;\n",
              "    }\n",
              "\n",
              "    .dataframe thead th {\n",
              "        text-align: right;\n",
              "    }\n",
              "</style>\n",
              "<table border=\"1\" class=\"dataframe\">\n",
              "  <thead>\n",
              "    <tr style=\"text-align: right;\">\n",
              "      <th></th>\n",
              "      <th>nCur</th>\n",
              "    </tr>\n",
              "    <tr>\n",
              "      <th>dDate</th>\n",
              "      <th></th>\n",
              "    </tr>\n",
              "  </thead>\n",
              "  <tbody>\n",
              "    <tr>\n",
              "      <th>2022-09-28</th>\n",
              "      <td>57.89825</td>\n",
              "    </tr>\n",
              "    <tr>\n",
              "      <th>2022-09-29</th>\n",
              "      <td>57.31995</td>\n",
              "    </tr>\n",
              "    <tr>\n",
              "      <th>2022-09-30</th>\n",
              "      <td>56.42260</td>\n",
              "    </tr>\n",
              "    <tr>\n",
              "      <th>2022-10-03</th>\n",
              "      <td>57.38130</td>\n",
              "    </tr>\n",
              "    <tr>\n",
              "      <th>2022-10-04</th>\n",
              "      <td>0.00000</td>\n",
              "    </tr>\n",
              "  </tbody>\n",
              "</table>\n",
              "</div>"
            ],
            "text/plain": [
              "                nCur\n",
              "dDate               \n",
              "2022-09-28  57.89825\n",
              "2022-09-29  57.31995\n",
              "2022-09-30  56.42260\n",
              "2022-10-03  57.38130\n",
              "2022-10-04   0.00000"
            ]
          },
          "execution_count": 186,
          "metadata": {},
          "output_type": "execute_result"
        }
      ],
      "source": [
        "df2.tail()"
      ]
    },
    {
      "cell_type": "code",
      "execution_count": null,
      "metadata": {
        "id": "Y7GUUhMUJGwF"
      },
      "outputs": [],
      "source": [
        "make_features(df2,30,3)"
      ]
    },
    {
      "cell_type": "code",
      "execution_count": null,
      "metadata": {
        "id": "FDR3-HIaJGwF",
        "outputId": "2c3f3234-7442-4abe-8883-cfea8c7fe0fb"
      },
      "outputs": [
        {
          "data": {
            "text/html": [
              "<div>\n",
              "<style scoped>\n",
              "    .dataframe tbody tr th:only-of-type {\n",
              "        vertical-align: middle;\n",
              "    }\n",
              "\n",
              "    .dataframe tbody tr th {\n",
              "        vertical-align: top;\n",
              "    }\n",
              "\n",
              "    .dataframe thead th {\n",
              "        text-align: right;\n",
              "    }\n",
              "</style>\n",
              "<table border=\"1\" class=\"dataframe\">\n",
              "  <thead>\n",
              "    <tr style=\"text-align: right;\">\n",
              "      <th></th>\n",
              "      <th>year</th>\n",
              "      <th>month</th>\n",
              "      <th>day</th>\n",
              "      <th>dayofweek</th>\n",
              "      <th>is_weekend</th>\n",
              "      <th>lag_1</th>\n",
              "      <th>lag_2</th>\n",
              "      <th>lag_3</th>\n",
              "      <th>lag_4</th>\n",
              "      <th>lag_5</th>\n",
              "      <th>...</th>\n",
              "      <th>lag_22</th>\n",
              "      <th>lag_23</th>\n",
              "      <th>lag_24</th>\n",
              "      <th>lag_25</th>\n",
              "      <th>lag_26</th>\n",
              "      <th>lag_27</th>\n",
              "      <th>lag_28</th>\n",
              "      <th>lag_29</th>\n",
              "      <th>lag_30</th>\n",
              "      <th>y_mean</th>\n",
              "    </tr>\n",
              "    <tr>\n",
              "      <th>dDate</th>\n",
              "      <th></th>\n",
              "      <th></th>\n",
              "      <th></th>\n",
              "      <th></th>\n",
              "      <th></th>\n",
              "      <th></th>\n",
              "      <th></th>\n",
              "      <th></th>\n",
              "      <th></th>\n",
              "      <th></th>\n",
              "      <th></th>\n",
              "      <th></th>\n",
              "      <th></th>\n",
              "      <th></th>\n",
              "      <th></th>\n",
              "      <th></th>\n",
              "      <th></th>\n",
              "      <th></th>\n",
              "      <th></th>\n",
              "      <th></th>\n",
              "      <th></th>\n",
              "    </tr>\n",
              "  </thead>\n",
              "  <tbody>\n",
              "    <tr>\n",
              "      <th>2022-10-04</th>\n",
              "      <td>2022</td>\n",
              "      <td>10</td>\n",
              "      <td>4</td>\n",
              "      <td>1</td>\n",
              "      <td>0</td>\n",
              "      <td>57.3813</td>\n",
              "      <td>56.4226</td>\n",
              "      <td>57.31995</td>\n",
              "      <td>57.89825</td>\n",
              "      <td>58.25</td>\n",
              "      <td>...</td>\n",
              "      <td>60.4812</td>\n",
              "      <td>60.2526</td>\n",
              "      <td>60.17585</td>\n",
              "      <td>60.1575</td>\n",
              "      <td>60.3139</td>\n",
              "      <td>60.26615</td>\n",
              "      <td>59.7696</td>\n",
              "      <td>59.9072</td>\n",
              "      <td>59.8533</td>\n",
              "      <td>57.041283</td>\n",
              "    </tr>\n",
              "  </tbody>\n",
              "</table>\n",
              "<p>1 rows × 36 columns</p>\n",
              "</div>"
            ],
            "text/plain": [
              "            year  month  day  dayofweek  is_weekend    lag_1    lag_2  \\\n",
              "dDate                                                                   \n",
              "2022-10-04  2022     10    4          1           0  57.3813  56.4226   \n",
              "\n",
              "               lag_3     lag_4  lag_5  ...   lag_22   lag_23    lag_24  \\\n",
              "dDate                                  ...                               \n",
              "2022-10-04  57.31995  57.89825  58.25  ...  60.4812  60.2526  60.17585   \n",
              "\n",
              "             lag_25   lag_26    lag_27   lag_28   lag_29   lag_30     y_mean  \n",
              "dDate                                                                         \n",
              "2022-10-04  60.1575  60.3139  60.26615  59.7696  59.9072  59.8533  57.041283  \n",
              "\n",
              "[1 rows x 36 columns]"
            ]
          },
          "execution_count": 192,
          "metadata": {},
          "output_type": "execute_result"
        }
      ],
      "source": [
        "df2.drop('nCur',axis=1).tail(1)"
      ]
    },
    {
      "cell_type": "code",
      "execution_count": null,
      "metadata": {
        "id": "hUHal3c6JGwG"
      },
      "outputs": [],
      "source": []
    },
    {
      "cell_type": "code",
      "execution_count": null,
      "metadata": {
        "id": "YQcm-xKOJGwH"
      },
      "outputs": [],
      "source": [
        "lr_full = LinearRegression()"
      ]
    },
    {
      "cell_type": "code",
      "execution_count": null,
      "metadata": {
        "id": "y7N9aJ_MJGwH",
        "outputId": "14873e3d-34f4-4cd5-e677-d7bf6bf15f67"
      },
      "outputs": [
        {
          "data": {
            "text/plain": [
              "LinearRegression()"
            ]
          },
          "execution_count": 198,
          "metadata": {},
          "output_type": "execute_result"
        }
      ],
      "source": [
        "lr_full.fit(df.drop('nCur',axis=1),df.nCur)"
      ]
    },
    {
      "cell_type": "code",
      "execution_count": null,
      "metadata": {
        "id": "V48qnkQpJGwI",
        "outputId": "38aa534b-50b4-4f1b-866b-e70c05af5ae9"
      },
      "outputs": [
        {
          "name": "stdout",
          "output_type": "stream",
          "text": [
            "Предсказание на 4 октября -  56.699756286337106\n"
          ]
        }
      ],
      "source": [
        "print('Предсказание на 4 октября - ',lr.predict(df2.drop('nCur',axis=1).tail(1))[0])"
      ]
    },
    {
      "cell_type": "code",
      "execution_count": null,
      "metadata": {
        "id": "jHtKmnU-JGwI",
        "outputId": "8bc133c4-526c-420e-9b0f-de3a0df45c17"
      },
      "outputs": [
        {
          "name": "stdout",
          "output_type": "stream",
          "text": [
            "Предсказание на 4 октября, модель видела весь датасет -  56.77565174459596\n"
          ]
        }
      ],
      "source": [
        "print('Предсказание на 4 октября, модель видела весь датасет - ',lr_full.predict(df2.drop('nCur',axis=1).tail(1))[0])"
      ]
    },
    {
      "cell_type": "code",
      "execution_count": null,
      "metadata": {
        "id": "E1WAGpNdJGwK"
      },
      "outputs": [],
      "source": [
        "from sklearn.ensemble import GradientBoostingRegressor\n",
        "from sklearn.tree import DecisionTreeRegressor"
      ]
    },
    {
      "cell_type": "code",
      "execution_count": null,
      "metadata": {
        "id": "SlDrqkFFJGwL"
      },
      "outputs": [],
      "source": [
        "gb = GradientBoostingRegressor()"
      ]
    },
    {
      "cell_type": "code",
      "execution_count": null,
      "metadata": {
        "id": "3Cbj18wyJGwL",
        "outputId": "0eccadd7-52e9-4245-81bb-2fe3f8eb8d6b"
      },
      "outputs": [
        {
          "data": {
            "text/plain": [
              "GradientBoostingRegressor()"
            ]
          },
          "execution_count": 222,
          "metadata": {},
          "output_type": "execute_result"
        }
      ],
      "source": [
        "gb.fit(df.drop('nCur',axis=1),df.nCur)"
      ]
    },
    {
      "cell_type": "code",
      "execution_count": null,
      "metadata": {
        "id": "WnJUsMIlJGwM",
        "outputId": "ee204165-47b0-45a1-9fd0-4b88a71be61c"
      },
      "outputs": [
        {
          "data": {
            "text/plain": [
              "58.41623427546648"
            ]
          },
          "execution_count": 224,
          "metadata": {},
          "output_type": "execute_result"
        }
      ],
      "source": [
        "gb.predict(df2.drop('nCur',axis=1).tail(1))[0]"
      ]
    },
    {
      "cell_type": "markdown",
      "metadata": {
        "id": "u74Xid1CJGwN"
      },
      "source": [
        "57,5664 ₽  курс 4 октября"
      ]
    },
    {
      "cell_type": "code",
      "execution_count": null,
      "metadata": {
        "id": "pl3YvEPgJGwN"
      },
      "outputs": [],
      "source": []
    }
  ],
  "metadata": {
    "kernelspec": {
      "display_name": "Python 3",
      "language": "python",
      "name": "python3"
    },
    "language_info": {
      "codemirror_mode": {
        "name": "ipython",
        "version": 3
      },
      "file_extension": ".py",
      "mimetype": "text/x-python",
      "name": "python",
      "nbconvert_exporter": "python",
      "pygments_lexer": "ipython3",
      "version": "3.8.5"
    },
    "colab": {
      "provenance": [],
      "include_colab_link": true
    }
  },
  "nbformat": 4,
  "nbformat_minor": 0
}