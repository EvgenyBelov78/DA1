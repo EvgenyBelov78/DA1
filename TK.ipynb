{
  "cells": [
    {
      "cell_type": "code",
      "execution_count": 2,
      "metadata": {
        "id": "kxi2F3z5ofeQ",
        "colab": {
          "base_uri": "https://localhost:8080/"
        },
        "outputId": "3a0fa54f-9c47-462b-d8aa-5e003a17acbc"
      },
      "outputs": [
        {
          "output_type": "stream",
          "name": "stdout",
          "text": [
            "Collecting html_to_json\n",
            "  Downloading html_to_json-2.0.0-py2.py3-none-any.whl.metadata (5.2 kB)\n",
            "Collecting bs4 (from html_to_json)\n",
            "  Downloading bs4-0.0.2-py2.py3-none-any.whl.metadata (411 bytes)\n",
            "Requirement already satisfied: beautifulsoup4 in /usr/local/lib/python3.10/dist-packages (from bs4->html_to_json) (4.12.3)\n",
            "Requirement already satisfied: soupsieve>1.2 in /usr/local/lib/python3.10/dist-packages (from beautifulsoup4->bs4->html_to_json) (2.6)\n",
            "Downloading html_to_json-2.0.0-py2.py3-none-any.whl (6.4 kB)\n",
            "Downloading bs4-0.0.2-py2.py3-none-any.whl (1.2 kB)\n",
            "Installing collected packages: bs4, html_to_json\n",
            "Successfully installed bs4-0.0.2 html_to_json-2.0.0\n",
            "Collecting fake_useragent\n",
            "  Downloading fake_useragent-1.5.1-py3-none-any.whl.metadata (15 kB)\n",
            "Downloading fake_useragent-1.5.1-py3-none-any.whl (17 kB)\n",
            "Installing collected packages: fake_useragent\n",
            "Successfully installed fake_useragent-1.5.1\n"
          ]
        }
      ],
      "source": [
        "import requests\n",
        "import pandas as pd\n",
        "import time\n",
        "import json\n",
        "!pip install html_to_json\n",
        "import html_to_json\n",
        "from google.colab import data_table\n",
        "!pip install fake_useragent\n",
        "from fake_useragent import UserAgent\n",
        "UserAgent().chrome\n",
        "import warnings\n",
        "warnings.filterwarnings(\"ignore\")\n",
        "user_agent = {'User-agent': 'Mozilla/5.0'}"
      ]
    },
    {
      "cell_type": "code",
      "source": [
        "!pip install fake_useragent"
      ],
      "metadata": {
        "id": "PvkoNgW3WPxZ",
        "outputId": "045ad454-1e55-42af-c757-02c948905102",
        "colab": {
          "base_uri": "https://localhost:8080/"
        }
      },
      "execution_count": 3,
      "outputs": [
        {
          "output_type": "stream",
          "name": "stdout",
          "text": [
            "Requirement already satisfied: fake_useragent in /usr/local/lib/python3.10/dist-packages (1.5.1)\n"
          ]
        }
      ]
    },
    {
      "cell_type": "code",
      "source": [
        "from fake_useragent import UserAgent\n",
        "UserAgent().chrome"
      ],
      "metadata": {
        "id": "xhyqFmvRWMai",
        "outputId": "7c92e645-15f9-4f87-c90c-59369784d44a",
        "colab": {
          "base_uri": "https://localhost:8080/",
          "height": 36
        }
      },
      "execution_count": 3,
      "outputs": [
        {
          "output_type": "execute_result",
          "data": {
            "text/plain": [
              "'Mozilla/5.0 (Windows NT 10.0; Win64; x64) AppleWebKit/537.36 (KHTML, like Gecko) Chrome/122.0.0.0 Safari/537.36'"
            ],
            "application/vnd.google.colaboratory.intrinsic+json": {
              "type": "string"
            }
          },
          "metadata": {},
          "execution_count": 3
        }
      ]
    },
    {
      "cell_type": "code",
      "source": [
        "user_agent = {'User-agent': 'Mozilla/5.0'}"
      ],
      "metadata": {
        "id": "eG5a3A8NiPZ3"
      },
      "execution_count": 4,
      "outputs": []
    },
    {
      "cell_type": "code",
      "source": [
        "df=pd.DataFrame()\n",
        "dffull=pd.DataFrame()"
      ],
      "metadata": {
        "id": "Tfid4cC-iPdF"
      },
      "execution_count": 5,
      "outputs": []
    },
    {
      "cell_type": "code",
      "source": [
        "url = f'https://cosmoport-s.ru/shops/'\n",
        "res = requests.get(url, headers={'User-Agent': UserAgent().chrome}) #,params=params)\n",
        "qq=html_to_json.convert(res.text)\n",
        "ww=pd.json_normalize(qq)"
      ],
      "metadata": {
        "id": "aqeOFgTJiUOv"
      },
      "execution_count": 6,
      "outputs": []
    },
    {
      "cell_type": "code",
      "source": [
        "len(ww['html'][0])"
      ],
      "metadata": {
        "id": "yB7sB9mPjLAs",
        "outputId": "7b720986-4a0c-41c6-ef20-9c78fea7bb5d",
        "colab": {
          "base_uri": "https://localhost:8080/"
        }
      },
      "execution_count": 16,
      "outputs": [
        {
          "output_type": "execute_result",
          "data": {
            "text/plain": [
              "1"
            ]
          },
          "metadata": {},
          "execution_count": 16
        }
      ]
    },
    {
      "cell_type": "code",
      "source": [
        "ww['html'][0][0]['body'][0]['section'][0]['div'][0]['div'][0]['div'][1]['div'][1]['div'][0]['div'][1]['div'][0]['a'][2].keys()"
      ],
      "metadata": {
        "id": "V3JIop8RjOoL",
        "outputId": "3e331df9-c0c2-494f-b4bc-b17366024685",
        "colab": {
          "base_uri": "https://localhost:8080/"
        }
      },
      "execution_count": 51,
      "outputs": [
        {
          "output_type": "execute_result",
          "data": {
            "text/plain": [
              "dict_keys(['_attributes', '_value'])"
            ]
          },
          "metadata": {},
          "execution_count": 51
        }
      ]
    },
    {
      "cell_type": "code",
      "source": [
        "ww['html'][0][0]['body'][0]['section'][0]['div'][0]['div'][0]['div'][1]['div'][1]['div'][0]['div'][1]['div'][0]['a'][1]['_value']"
      ],
      "metadata": {
        "id": "4lVWCtuRiUSN",
        "outputId": "81af1d0b-3387-4cd3-f6f6-e9585774dffc",
        "colab": {
          "base_uri": "https://localhost:8080/",
          "height": 36
        }
      },
      "execution_count": 57,
      "outputs": [
        {
          "output_type": "execute_result",
          "data": {
            "text/plain": [
              "'A&P'"
            ],
            "application/vnd.google.colaboratory.intrinsic+json": {
              "type": "string"
            }
          },
          "metadata": {},
          "execution_count": 57
        }
      ]
    },
    {
      "cell_type": "code",
      "source": [
        "len(ww['html'][0][0]['body'][0]['section'][0]['div'][0]['div'][0]['div'][1]['div'][1]['div'][0]['div'][1]['div'])"
      ],
      "metadata": {
        "id": "gzJjzkaqiPnl",
        "outputId": "12f9441e-48d4-4db1-9898-74513c84dd8d",
        "colab": {
          "base_uri": "https://localhost:8080/"
        }
      },
      "execution_count": 43,
      "outputs": [
        {
          "output_type": "execute_result",
          "data": {
            "text/plain": [
              "131"
            ]
          },
          "metadata": {},
          "execution_count": 43
        }
      ]
    },
    {
      "cell_type": "code",
      "source": [
        "len(url_list)"
      ],
      "metadata": {
        "id": "h72GLA6SSAr8",
        "outputId": "ebb80d32-d118-4796-aae2-ade89d326867",
        "colab": {
          "base_uri": "https://localhost:8080/"
        }
      },
      "execution_count": 59,
      "outputs": [
        {
          "output_type": "execute_result",
          "data": {
            "text/plain": [
              "1"
            ]
          },
          "metadata": {},
          "execution_count": 59
        }
      ]
    },
    {
      "cell_type": "code",
      "source": [
        "url_list ={'https://cosmoport-s.ru/shops/'}"
      ],
      "metadata": {
        "id": "fULLhSUiRy3t"
      },
      "execution_count": 58,
      "outputs": []
    },
    {
      "cell_type": "code",
      "source": [
        "dftk=pd.DataFrame()\n",
        "for url in url_list :\n",
        " i=0\n",
        " while i<len(url_list):\n",
        "  url_doc_list =url\n",
        "  response = requests.get(url_doc_list, headers={'User-Agent': UserAgent().chrome})\n",
        "  qq=html_to_json.convert(res.text)\n",
        "  ww=pd.json_normalize(qq)\n",
        "  j=0\n",
        "  while j<=len(ww['html'][0][0]['body'][0]['section'][0]['div'][0]['div'][0]['div'][1]['div'][1]['div'][0]['div'][1]['div'])-1:\n",
        "   try:\n",
        "    name=ww['html'][0][0]['body'][0]['section'][0]['div'][0]['div'][0]['div'][1]['div'][1]['div'][0]['div'][1]['div'][j]['a'][1]['_value']\n",
        "    block=ww['html'][0][0]['body'][0]['section'][0]['div'][0]['div'][0]['div'][1]['div'][1]['div'][0]['div'][1]['div'][j]['a'][2]['_value']\n",
        "    new_row = {'name':name, 'block':block}\n",
        "    print(new_row)\n",
        "    #dfvik=dfvik.append(new_row, ignore_index=True)\n",
        "    df_dictionary=pd.DataFrame()\n",
        "    df_dictionary = pd.DataFrame([new_row])\n",
        "    dftk = pd.concat([dftk, df_dictionary], ignore_index=True)\n",
        "   except:\n",
        "    pass\n",
        "   j=j+1\n",
        "  i=i+1"
      ],
      "metadata": {
        "id": "UNGerURfvD3c",
        "colab": {
          "base_uri": "https://localhost:8080/"
        },
        "outputId": "1baba814-50b3-49c4-f09b-c7afa01b746d"
      },
      "execution_count": 65,
      "outputs": [
        {
          "output_type": "stream",
          "name": "stdout",
          "text": [
            "{'name': 'A&P', 'block': 'Магазины, Продукты питания'}\n",
            "{'name': 'ABRICOT', 'block': 'Обувь, Магазины'}\n",
            "{'name': 'Adamas', 'block': 'Магазины, Ювелирные изделия и часы'}\n",
            "{'name': 'Amazing Red', 'block': 'Магазины, Спортивные товары'}\n",
            "{'name': 'ASKENT', 'block': 'Магазины, Кожгалантерея и сумки'}\n",
            "{'name': 'Befree', 'block': 'Магазины, Женская одежда, Мужская одежда'}\n",
            "{'name': 'Belwest', 'block': 'Магазины, Обувь'}\n",
            "{'name': 'Bork', 'block': 'Магазины, Электроника и бытовая техника'}\n",
            "{'name': 'CALLIOPE', 'block': 'Магазины, Женская одежда, Мужская одежда'}\n",
            "{'name': 'Calzedonia', 'block': 'Магазины, Нижнее бельё'}\n",
            "{'name': 'Chester', 'block': 'Магазины, Обувь'}\n",
            "{'name': 'Chewhite', 'block': 'Магазины, Обувь'}\n",
            "{'name': \"Colin's\", 'block': 'Магазины, Джинсовая одежда, Женская одежда, Мужская одежда'}\n",
            "{'name': 'Contary', 'block': 'Магазины, Женская одежда, Молодежная одежда'}\n",
            "{'name': 'COZY HOME', 'block': 'Магазины, Товары для дома и ремонта'}\n",
            "{'name': 'Cuvee', 'block': 'Магазины, Женская одежда'}\n",
            "{'name': 'DeFacto', 'block': 'Магазины, Одежда для всей семьи, Женская одежда, Мужская одежда, Молодежная одежда, Товары для детей'}\n",
            "{'name': 'DEFILE_shoes', 'block': 'Обувь, Магазины'}\n",
            "{'name': 'DNS Plus', 'block': 'Магазины, Электроника и бытовая техника'}\n",
            "{'name': 'DNS Smart 2', 'block': 'Магазины, Электроника и бытовая техника'}\n",
            "{'name': 'ECCO', 'block': 'Магазины, Обувь'}\n",
            "{'name': 'ECRU', 'block': 'Магазины, Женская одежда, Мужская одежда'}\n",
            "{'name': 'EKONIKA', 'block': 'Магазины, Обувь'}\n",
            "{'name': 'EL TEMPO', 'block': 'Магазины, Обувь'}\n",
            "{'name': 'Elis', 'block': 'Магазины, Женская одежда'}\n",
            "{'name': 'Elvi Style', 'block': 'Магазины, Женская одежда'}\n",
            "{'name': 'Familia', 'block': 'Магазины, Женская одежда, Мужская одежда, Джинсовая одежда, Одежда для всей семьи, Молодежная одежда, Товары для детей'}\n",
            "{'name': 'Fine Silver', 'block': 'Магазины, Ювелирные изделия и часы'}\n",
            "{'name': 'FixZone', 'block': 'Магазины, Аптека, оптика, товары для здоровья, Подарки и сувениры, Товары для дома и ремонта, Бижутерия и аксессуары'}\n",
            "{'name': 'FOCUS optic', 'block': 'Магазины, Аптека, оптика, товары для здоровья'}\n",
            "{'name': 'GamePark', 'block': 'Магазины, Хобби и отдых, Товары для детей, Электроника и бытовая техника'}\n",
            "{'name': 'GEOX', 'block': 'Магазины, Обувь'}\n",
            "{'name': 'GIZIA', 'block': 'Магазины, Женская одежда'}\n",
            "{'name': 'Gloria Jeans', 'block': 'Магазины, Джинсовая одежда, Женская одежда, Мужская одежда, Одежда для всей семьи, Молодежная одежда, Товары для детей'}\n",
            "{'name': 'GOLDI', 'block': 'Магазины, Ювелирные изделия и часы'}\n",
            "{'name': 'Gracstore', 'block': 'Магазины, Обувь'}\n",
            "{'name': 'GUESS', 'block': 'Магазины, Женская одежда, Мужская одежда, Джинсовая одежда, Одежда для всей семьи, Молодежная одежда'}\n",
            "{'name': 'Gulliver', 'block': 'Магазины, Товары для детей'}\n",
            "{'name': 'Henderson', 'block': 'Магазины, Мужская одежда'}\n",
            "{'name': 'Intimissimi', 'block': 'Магазины, Нижнее бельё'}\n",
            "{'name': 'IQOS', 'block': 'Магазины, Табачные изделия'}\n",
            "{'name': 'IStudio', 'block': 'Магазины, Мобильная связь и интернет, Электроника и бытовая техника'}\n",
            "{'name': 'JEANS CLUB', 'block': 'Магазины, Женская одежда, Мужская одежда, Джинсовая одежда, Молодежная одежда'}\n",
            "{'name': 'Kanzler', 'block': 'Магазины, Мужская одежда'}\n",
            "{'name': 'KARI', 'block': 'Магазины, Обувь'}\n",
            "{'name': 'Karl Lagerfeld', 'block': 'Магазины, Женская одежда, Мужская одежда, Обувь'}\n",
            "{'name': 'Keddo', 'block': 'Магазины, Обувь'}\n",
            "{'name': 'KüchenLand Home', 'block': 'Магазины, Подарки и сувениры, Товары для дома и ремонта, Хобби и отдых'}\n",
            "{'name': 'Lady Collection', 'block': 'Магазины, Бижутерия и аксессуары'}\n",
            "{'name': 'LERAN', 'block': 'Магазины, Электроника и бытовая техника'}\n",
            "{'name': 'Levis', 'block': 'Магазины, Джинсовая одежда'}\n",
            "{'name': 'Lexmer', 'block': 'Магазины, Мужская одежда'}\n",
            "{'name': 'Lichi', 'block': 'Магазины, Женская одежда'}\n",
            "{'name': 'Lime', 'block': 'Магазины, Женская одежда, Джинсовая одежда, Молодежная одежда'}\n",
            "{'name': 'Love Republic', 'block': 'Магазины, Женская одежда'}\n",
            "{'name': 'MAAG', 'block': 'Магазины, Женская одежда, Мужская одежда, Одежда для всей семьи, Товары для детей'}\n",
            "{'name': 'Mario Muzi', 'block': 'Магазины, Обувь'}\n",
            "{'name': 'MARMALATO', 'block': 'Магазины, Бижутерия и аксессуары, Обувь, Женская одежда, Джинсовая одежда, Кожгалантерея и сумки, Молодежная одежда'}\n",
            "{'name': 'MI', 'block': 'Магазины, Электроника и бытовая техника'}\n",
            "{'name': 'MIUZ Diamonds', 'block': 'Магазины, Ювелирные изделия и часы'}\n",
            "{'name': 'Moda Mia', 'block': 'Магазины, Женская одежда'}\n",
            "{'name': 'MODI', 'block': 'Магазины, Подарки и сувениры, Товары для дома и ремонта, Бижутерия и аксессуары, Зоотовары, Хобби и отдых, Косметика и парфюмерия, Товары для детей, Электроника и бытовая техника'}\n",
            "{'name': 'MONA', 'block': 'Магазины, Ювелирные изделия и часы'}\n",
            "{'name': 'Mustang', 'block': 'Магазины, Женская одежда, Мужская одежда, Джинсовая одежда, Молодежная одежда'}\n",
            "{'name': 'New Yorker', 'block': 'Магазины, Молодежная одежда'}\n",
            "{'name': \"O'Hara\", 'block': 'Магазины, Одежда из кожи и меха, Одежда для всей семьи'}\n",
            "{'name': \"O'STIN\", 'block': 'Магазины, Одежда для всей семьи, Женская одежда, Мужская одежда, Товары для детей'}\n",
            "{'name': 'Palmetta', 'block': 'Магазины, Нижнее бельё'}\n",
            "{'name': 'PanClub', 'block': 'Магазины, Ювелирные изделия и часы'}\n",
            "{'name': 'PRAVDA', 'block': 'Магазины, Женская одежда'}\n",
            "{'name': 'Prosto.magaz', 'block': 'Магазины, Женская одежда'}\n",
            "{'name': 'PUTIN TEAM RUSSIA', 'block': 'Магазины, Женская одежда, Мужская одежда'}\n",
            "{'name': 'RALF RINGER', 'block': 'Магазины, Обувь'}\n",
            "{'name': 'Rendez-Vous', 'block': 'Магазины, Обувь'}\n",
            "{'name': 'Respect', 'block': 'Магазины, Обувь'}\n",
            "{'name': 'restore:', 'block': 'Магазины, Мобильная связь и интернет, Электроника и бытовая техника'}\n",
            "{'name': 'Rodeo', 'block': 'Магазины, Женская одежда'}\n",
            "{'name': 'Royal Spirit', 'block': 'Магазины, Мужская одежда'}\n",
            "{'name': 'S.A.S.', 'block': 'Магазины, Табачные изделия'}\n",
            "{'name': 'Samsung', 'block': 'Магазины, Мобильная связь и интернет, Электроника и бытовая техника'}\n",
            "{'name': 'SOKOLOV', 'block': 'Магазины, Ювелирные изделия и часы'}\n",
            "{'name': 'Street Beat', 'block': 'Магазины, Обувь, Спортивные товары'}\n",
            "{'name': 'Sunlight', 'block': 'Магазины, Ювелирные изделия и часы'}\n",
            "{'name': '\\u200bSweet Cat Shop', 'block': 'Магазины, Подарки и сувениры, Хобби и отдых, Товары для детей'}\n",
            "{'name': 'TAMARIS', 'block': 'Магазины, Обувь'}\n",
            "{'name': 'Tefal', 'block': 'Магазины, Электроника и бытовая техника'}\n",
            "{'name': 'Terranova', 'block': 'Магазины, Женская одежда, Мужская одежда, Одежда для всей семьи'}\n",
            "{'name': 'TEZENIS', 'block': 'Магазины, Нижнее бельё'}\n",
            "{'name': 'Tiara & Shampoo', 'block': 'Магазины, Бижутерия и аксессуары, Косметика и парфюмерия'}\n",
            "{'name': 'Vitacci', 'block': 'Магазины, Обувь'}\n",
            "{'name': 'YAMAGUCHI', 'block': 'Магазины, Аптека, оптика, товары для здоровья'}\n",
            "{'name': 'ZARINA', 'block': 'Магазины, Мужская одежда'}\n",
            "{'name': 'Zolla', 'block': 'Магазины, Женская одежда, Мужская одежда, Джинсовая одежда, Одежда из кожи и меха, Одежда для всей семьи, Молодежная одежда'}\n",
            "{'name': 'АШАН', 'block': 'Магазины, Товары для дома и ремонта, Одежда для всей семьи, Продукты питания, Гипермаркет, Электроника и бытовая техника'}\n",
            "{'name': 'Бетховен', 'block': 'Магазины, Зоотовары'}\n",
            "{'name': 'Билайн', 'block': 'Магазины, Мобильная связь и интернет'}\n",
            "{'name': 'ВИЖУ', 'block': 'Магазины, Аптека, оптика, товары для здоровья'}\n",
            "{'name': 'Вита', 'block': 'Магазины, Аптека, оптика, товары для здоровья'}\n",
            "{'name': 'Всёсмарт', 'block': 'Магазины, Подарки и сувениры, Электроника и бытовая техника'}\n",
            "{'name': 'Галамарт', 'block': 'Магазины, Товары для дома и ремонта'}\n",
            "{'name': 'Детский мир', 'block': 'Магазины, Товары для детей'}\n",
            "{'name': 'Дефиле', 'block': 'Магазины, Нижнее бельё'}\n",
            "{'name': 'Желтая витрина', 'block': 'Магазины, Бижутерия и аксессуары'}\n",
            "{'name': 'Ив Роше', 'block': 'Магазины, Косметика и парфюмерия'}\n",
            "{'name': 'Империя сумок', 'block': 'Магазины, Кожгалантерея и сумки'}\n",
            "{'name': 'Кантата', 'block': 'Магазины, Подарки и сувениры'}\n",
            "{'name': 'Корд Оптика', 'block': 'Магазины, Аптека, оптика, товары для здоровья'}\n",
            "{'name': 'Кореянка', 'block': 'Магазины, Косметика и парфюмерия'}\n",
            "{'name': 'Крылья Советов', 'block': 'Магазины, Подарки и сувениры'}\n",
            "{'name': 'Линии Любви', 'block': 'Магазины'}\n",
            "{'name': 'Лэтуаль', 'block': 'Магазины, Косметика и парфюмерия'}\n",
            "{'name': 'М.видео', 'block': 'Магазины, Электроника и бытовая техника'}\n",
            "{'name': 'Мир золота', 'block': 'Магазины, Ювелирные изделия и часы'}\n",
            "{'name': 'Мир Кубиков', 'block': 'Магазины, Товары для детей'}\n",
            "{'name': 'МТС', 'block': 'Магазины, Мобильная связь и интернет'}\n",
            "{'name': 'НАШЕ ЗОЛОТО', 'block': 'Магазины, Ювелирные изделия и часы'}\n",
            "{'name': 'Омега Планет', 'block': 'Магазины, Женская одежда, Мужская одежда, Подарки и сувениры, Кожгалантерея и сумки, Одежда для всей семьи, Товары для детей'}\n",
            "{'name': 'Оптик+', 'block': 'Магазины, Аптека, оптика, товары для здоровья'}\n",
            "{'name': 'Пеплос', 'block': 'Магазины, Мужская одежда'}\n",
            "{'name': 'Подружка', 'block': 'Магазины, Косметика и парфюмерия'}\n",
            "{'name': 'Рив Гош', 'block': 'Магазины, Косметика и парфюмерия'}\n",
            "{'name': 'Снежная Королева', 'block': 'Магазины, Женская одежда, Мужская одежда, Одежда из кожи и меха, Кожгалантерея и сумки, Бижутерия и аксессуары'}\n",
            "{'name': 'Спортмастер', 'block': 'Магазины, Гипермаркет, Спортивные товары'}\n",
            "{'name': 'Сухофрукты', 'block': 'Магазины, Продукты питания'}\n",
            "{'name': 'ТВОЁ', 'block': 'Магазины, Женская одежда, Мужская одежда, Молодежная одежда'}\n",
            "{'name': 'У Палыча', 'block': 'Магазины, Продукты питания'}\n",
            "{'name': 'Халяль', 'block': 'Магазины, Продукты питания'}\n",
            "{'name': 'Четыре Лапы', 'block': 'Зоотовары, Магазины'}\n",
            "{'name': 'Читай-город', 'block': 'Магазины, Хобби и отдых'}\n",
            "{'name': 'ЭПЛ Даймонд', 'block': 'Ювелирные изделия и часы, Магазины'}\n",
            "{'name': 'Ювелия', 'block': 'Магазины, Подарки и сувениры, Ювелирные изделия и часы'}\n"
          ]
        }
      ]
    },
    {
      "cell_type": "code",
      "source": [
        "data_table.DataTable.max_columns = 110\n",
        "data_table.DataTable(dftk, include_index=False, num_rows_per_page=1000)"
      ],
      "metadata": {
        "id": "o05z4XQscbAX",
        "outputId": "4b2c157f-b1bb-4fe1-be2b-08edbf1590ac",
        "colab": {
          "base_uri": "https://localhost:8080/",
          "height": 2973
        }
      },
      "execution_count": 67,
      "outputs": [
        {
          "output_type": "execute_result",
          "data": {
            "text/html": [
              "<div>\n",
              "<style scoped>\n",
              "    .dataframe tbody tr th:only-of-type {\n",
              "        vertical-align: middle;\n",
              "    }\n",
              "\n",
              "    .dataframe tbody tr th {\n",
              "        vertical-align: top;\n",
              "    }\n",
              "\n",
              "    .dataframe thead th {\n",
              "        text-align: right;\n",
              "    }\n",
              "</style>\n",
              "<table border=\"1\" class=\"dataframe\">\n",
              "  <thead>\n",
              "    <tr style=\"text-align: right;\">\n",
              "      <th></th>\n",
              "      <th>name</th>\n",
              "      <th>block</th>\n",
              "    </tr>\n",
              "  </thead>\n",
              "  <tbody>\n",
              "    <tr>\n",
              "      <th>0</th>\n",
              "      <td>A&amp;P</td>\n",
              "      <td>Магазины, Продукты питания</td>\n",
              "    </tr>\n",
              "    <tr>\n",
              "      <th>1</th>\n",
              "      <td>ABRICOT</td>\n",
              "      <td>Обувь, Магазины</td>\n",
              "    </tr>\n",
              "    <tr>\n",
              "      <th>2</th>\n",
              "      <td>Adamas</td>\n",
              "      <td>Магазины, Ювелирные изделия и часы</td>\n",
              "    </tr>\n",
              "    <tr>\n",
              "      <th>3</th>\n",
              "      <td>Amazing Red</td>\n",
              "      <td>Магазины, Спортивные товары</td>\n",
              "    </tr>\n",
              "    <tr>\n",
              "      <th>4</th>\n",
              "      <td>ASKENT</td>\n",
              "      <td>Магазины, Кожгалантерея и сумки</td>\n",
              "    </tr>\n",
              "    <tr>\n",
              "      <th>...</th>\n",
              "      <td>...</td>\n",
              "      <td>...</td>\n",
              "    </tr>\n",
              "    <tr>\n",
              "      <th>126</th>\n",
              "      <td>Халяль</td>\n",
              "      <td>Магазины, Продукты питания</td>\n",
              "    </tr>\n",
              "    <tr>\n",
              "      <th>127</th>\n",
              "      <td>Четыре Лапы</td>\n",
              "      <td>Зоотовары, Магазины</td>\n",
              "    </tr>\n",
              "    <tr>\n",
              "      <th>128</th>\n",
              "      <td>Читай-город</td>\n",
              "      <td>Магазины, Хобби и отдых</td>\n",
              "    </tr>\n",
              "    <tr>\n",
              "      <th>129</th>\n",
              "      <td>ЭПЛ Даймонд</td>\n",
              "      <td>Ювелирные изделия и часы, Магазины</td>\n",
              "    </tr>\n",
              "    <tr>\n",
              "      <th>130</th>\n",
              "      <td>Ювелия</td>\n",
              "      <td>Магазины, Подарки и сувениры, Ювелирные издели...</td>\n",
              "    </tr>\n",
              "  </tbody>\n",
              "</table>\n",
              "<p>131 rows × 2 columns</p>\n",
              "</div>"
            ],
            "application/vnd.google.colaboratory.module+javascript": "\n      import \"https://ssl.gstatic.com/colaboratory/data_table/f565ec32c7e6656f/data_table.js\";\n\n      const table = window.createDataTable({\n        data: [[\"A&P\",\n\"\\u041c\\u0430\\u0433\\u0430\\u0437\\u0438\\u043d\\u044b, \\u041f\\u0440\\u043e\\u0434\\u0443\\u043a\\u0442\\u044b \\u043f\\u0438\\u0442\\u0430\\u043d\\u0438\\u044f\"],\n [\"ABRICOT\",\n\"\\u041e\\u0431\\u0443\\u0432\\u044c, \\u041c\\u0430\\u0433\\u0430\\u0437\\u0438\\u043d\\u044b\"],\n [\"Adamas\",\n\"\\u041c\\u0430\\u0433\\u0430\\u0437\\u0438\\u043d\\u044b, \\u042e\\u0432\\u0435\\u043b\\u0438\\u0440\\u043d\\u044b\\u0435 \\u0438\\u0437\\u0434\\u0435\\u043b\\u0438\\u044f \\u0438 \\u0447\\u0430\\u0441\\u044b\"],\n [\"Amazing Red\",\n\"\\u041c\\u0430\\u0433\\u0430\\u0437\\u0438\\u043d\\u044b, \\u0421\\u043f\\u043e\\u0440\\u0442\\u0438\\u0432\\u043d\\u044b\\u0435 \\u0442\\u043e\\u0432\\u0430\\u0440\\u044b\"],\n [\"ASKENT\",\n\"\\u041c\\u0430\\u0433\\u0430\\u0437\\u0438\\u043d\\u044b, \\u041a\\u043e\\u0436\\u0433\\u0430\\u043b\\u0430\\u043d\\u0442\\u0435\\u0440\\u0435\\u044f \\u0438 \\u0441\\u0443\\u043c\\u043a\\u0438\"],\n [\"Befree\",\n\"\\u041c\\u0430\\u0433\\u0430\\u0437\\u0438\\u043d\\u044b, \\u0416\\u0435\\u043d\\u0441\\u043a\\u0430\\u044f \\u043e\\u0434\\u0435\\u0436\\u0434\\u0430, \\u041c\\u0443\\u0436\\u0441\\u043a\\u0430\\u044f \\u043e\\u0434\\u0435\\u0436\\u0434\\u0430\"],\n [\"Belwest\",\n\"\\u041c\\u0430\\u0433\\u0430\\u0437\\u0438\\u043d\\u044b, \\u041e\\u0431\\u0443\\u0432\\u044c\"],\n [\"Bork\",\n\"\\u041c\\u0430\\u0433\\u0430\\u0437\\u0438\\u043d\\u044b, \\u042d\\u043b\\u0435\\u043a\\u0442\\u0440\\u043e\\u043d\\u0438\\u043a\\u0430 \\u0438 \\u0431\\u044b\\u0442\\u043e\\u0432\\u0430\\u044f \\u0442\\u0435\\u0445\\u043d\\u0438\\u043a\\u0430\"],\n [\"CALLIOPE\",\n\"\\u041c\\u0430\\u0433\\u0430\\u0437\\u0438\\u043d\\u044b, \\u0416\\u0435\\u043d\\u0441\\u043a\\u0430\\u044f \\u043e\\u0434\\u0435\\u0436\\u0434\\u0430, \\u041c\\u0443\\u0436\\u0441\\u043a\\u0430\\u044f \\u043e\\u0434\\u0435\\u0436\\u0434\\u0430\"],\n [\"Calzedonia\",\n\"\\u041c\\u0430\\u0433\\u0430\\u0437\\u0438\\u043d\\u044b, \\u041d\\u0438\\u0436\\u043d\\u0435\\u0435 \\u0431\\u0435\\u043b\\u044c\\u0451\"],\n [\"Chester\",\n\"\\u041c\\u0430\\u0433\\u0430\\u0437\\u0438\\u043d\\u044b, \\u041e\\u0431\\u0443\\u0432\\u044c\"],\n [\"Chewhite\",\n\"\\u041c\\u0430\\u0433\\u0430\\u0437\\u0438\\u043d\\u044b, \\u041e\\u0431\\u0443\\u0432\\u044c\"],\n [\"Colin's\",\n\"\\u041c\\u0430\\u0433\\u0430\\u0437\\u0438\\u043d\\u044b, \\u0414\\u0436\\u0438\\u043d\\u0441\\u043e\\u0432\\u0430\\u044f \\u043e\\u0434\\u0435\\u0436\\u0434\\u0430, \\u0416\\u0435\\u043d\\u0441\\u043a\\u0430\\u044f \\u043e\\u0434\\u0435\\u0436\\u0434\\u0430, \\u041c\\u0443\\u0436\\u0441\\u043a\\u0430\\u044f \\u043e\\u0434\\u0435\\u0436\\u0434\\u0430\"],\n [\"Contary\",\n\"\\u041c\\u0430\\u0433\\u0430\\u0437\\u0438\\u043d\\u044b, \\u0416\\u0435\\u043d\\u0441\\u043a\\u0430\\u044f \\u043e\\u0434\\u0435\\u0436\\u0434\\u0430, \\u041c\\u043e\\u043b\\u043e\\u0434\\u0435\\u0436\\u043d\\u0430\\u044f \\u043e\\u0434\\u0435\\u0436\\u0434\\u0430\"],\n [\"COZY HOME\",\n\"\\u041c\\u0430\\u0433\\u0430\\u0437\\u0438\\u043d\\u044b, \\u0422\\u043e\\u0432\\u0430\\u0440\\u044b \\u0434\\u043b\\u044f \\u0434\\u043e\\u043c\\u0430 \\u0438 \\u0440\\u0435\\u043c\\u043e\\u043d\\u0442\\u0430\"],\n [\"Cuvee\",\n\"\\u041c\\u0430\\u0433\\u0430\\u0437\\u0438\\u043d\\u044b, \\u0416\\u0435\\u043d\\u0441\\u043a\\u0430\\u044f \\u043e\\u0434\\u0435\\u0436\\u0434\\u0430\"],\n [\"DeFacto\",\n\"\\u041c\\u0430\\u0433\\u0430\\u0437\\u0438\\u043d\\u044b, \\u041e\\u0434\\u0435\\u0436\\u0434\\u0430 \\u0434\\u043b\\u044f \\u0432\\u0441\\u0435\\u0439 \\u0441\\u0435\\u043c\\u044c\\u0438, \\u0416\\u0435\\u043d\\u0441\\u043a\\u0430\\u044f \\u043e\\u0434\\u0435\\u0436\\u0434\\u0430, \\u041c\\u0443\\u0436\\u0441\\u043a\\u0430\\u044f \\u043e\\u0434\\u0435\\u0436\\u0434\\u0430, \\u041c\\u043e\\u043b\\u043e\\u0434\\u0435\\u0436\\u043d\\u0430\\u044f \\u043e\\u0434\\u0435\\u0436\\u0434\\u0430, \\u0422\\u043e\\u0432\\u0430\\u0440\\u044b \\u0434\\u043b\\u044f \\u0434\\u0435\\u0442\\u0435\\u0439\"],\n [\"DEFILE_shoes\",\n\"\\u041e\\u0431\\u0443\\u0432\\u044c, \\u041c\\u0430\\u0433\\u0430\\u0437\\u0438\\u043d\\u044b\"],\n [\"DNS Plus\",\n\"\\u041c\\u0430\\u0433\\u0430\\u0437\\u0438\\u043d\\u044b, \\u042d\\u043b\\u0435\\u043a\\u0442\\u0440\\u043e\\u043d\\u0438\\u043a\\u0430 \\u0438 \\u0431\\u044b\\u0442\\u043e\\u0432\\u0430\\u044f \\u0442\\u0435\\u0445\\u043d\\u0438\\u043a\\u0430\"],\n [\"DNS Smart 2\",\n\"\\u041c\\u0430\\u0433\\u0430\\u0437\\u0438\\u043d\\u044b, \\u042d\\u043b\\u0435\\u043a\\u0442\\u0440\\u043e\\u043d\\u0438\\u043a\\u0430 \\u0438 \\u0431\\u044b\\u0442\\u043e\\u0432\\u0430\\u044f \\u0442\\u0435\\u0445\\u043d\\u0438\\u043a\\u0430\"],\n [\"ECCO\",\n\"\\u041c\\u0430\\u0433\\u0430\\u0437\\u0438\\u043d\\u044b, \\u041e\\u0431\\u0443\\u0432\\u044c\"],\n [\"ECRU\",\n\"\\u041c\\u0430\\u0433\\u0430\\u0437\\u0438\\u043d\\u044b, \\u0416\\u0435\\u043d\\u0441\\u043a\\u0430\\u044f \\u043e\\u0434\\u0435\\u0436\\u0434\\u0430, \\u041c\\u0443\\u0436\\u0441\\u043a\\u0430\\u044f \\u043e\\u0434\\u0435\\u0436\\u0434\\u0430\"],\n [\"EKONIKA\",\n\"\\u041c\\u0430\\u0433\\u0430\\u0437\\u0438\\u043d\\u044b, \\u041e\\u0431\\u0443\\u0432\\u044c\"],\n [\"EL TEMPO\",\n\"\\u041c\\u0430\\u0433\\u0430\\u0437\\u0438\\u043d\\u044b, \\u041e\\u0431\\u0443\\u0432\\u044c\"],\n [\"Elis\",\n\"\\u041c\\u0430\\u0433\\u0430\\u0437\\u0438\\u043d\\u044b, \\u0416\\u0435\\u043d\\u0441\\u043a\\u0430\\u044f \\u043e\\u0434\\u0435\\u0436\\u0434\\u0430\"],\n [\"Elvi Style\",\n\"\\u041c\\u0430\\u0433\\u0430\\u0437\\u0438\\u043d\\u044b, \\u0416\\u0435\\u043d\\u0441\\u043a\\u0430\\u044f \\u043e\\u0434\\u0435\\u0436\\u0434\\u0430\"],\n [\"Familia\",\n\"\\u041c\\u0430\\u0433\\u0430\\u0437\\u0438\\u043d\\u044b, \\u0416\\u0435\\u043d\\u0441\\u043a\\u0430\\u044f \\u043e\\u0434\\u0435\\u0436\\u0434\\u0430, \\u041c\\u0443\\u0436\\u0441\\u043a\\u0430\\u044f \\u043e\\u0434\\u0435\\u0436\\u0434\\u0430, \\u0414\\u0436\\u0438\\u043d\\u0441\\u043e\\u0432\\u0430\\u044f \\u043e\\u0434\\u0435\\u0436\\u0434\\u0430, \\u041e\\u0434\\u0435\\u0436\\u0434\\u0430 \\u0434\\u043b\\u044f \\u0432\\u0441\\u0435\\u0439 \\u0441\\u0435\\u043c\\u044c\\u0438, \\u041c\\u043e\\u043b\\u043e\\u0434\\u0435\\u0436\\u043d\\u0430\\u044f \\u043e\\u0434\\u0435\\u0436\\u0434\\u0430, \\u0422\\u043e\\u0432\\u0430\\u0440\\u044b \\u0434\\u043b\\u044f \\u0434\\u0435\\u0442\\u0435\\u0439\"],\n [\"Fine Silver\",\n\"\\u041c\\u0430\\u0433\\u0430\\u0437\\u0438\\u043d\\u044b, \\u042e\\u0432\\u0435\\u043b\\u0438\\u0440\\u043d\\u044b\\u0435 \\u0438\\u0437\\u0434\\u0435\\u043b\\u0438\\u044f \\u0438 \\u0447\\u0430\\u0441\\u044b\"],\n [\"FixZone\",\n\"\\u041c\\u0430\\u0433\\u0430\\u0437\\u0438\\u043d\\u044b, \\u0410\\u043f\\u0442\\u0435\\u043a\\u0430, \\u043e\\u043f\\u0442\\u0438\\u043a\\u0430, \\u0442\\u043e\\u0432\\u0430\\u0440\\u044b \\u0434\\u043b\\u044f \\u0437\\u0434\\u043e\\u0440\\u043e\\u0432\\u044c\\u044f, \\u041f\\u043e\\u0434\\u0430\\u0440\\u043a\\u0438 \\u0438 \\u0441\\u0443\\u0432\\u0435\\u043d\\u0438\\u0440\\u044b, \\u0422\\u043e\\u0432\\u0430\\u0440\\u044b \\u0434\\u043b\\u044f \\u0434\\u043e\\u043c\\u0430 \\u0438 \\u0440\\u0435\\u043c\\u043e\\u043d\\u0442\\u0430, \\u0411\\u0438\\u0436\\u0443\\u0442\\u0435\\u0440\\u0438\\u044f \\u0438 \\u0430\\u043a\\u0441\\u0435\\u0441\\u0441\\u0443\\u0430\\u0440\\u044b\"],\n [\"FOCUS optic\",\n\"\\u041c\\u0430\\u0433\\u0430\\u0437\\u0438\\u043d\\u044b, \\u0410\\u043f\\u0442\\u0435\\u043a\\u0430, \\u043e\\u043f\\u0442\\u0438\\u043a\\u0430, \\u0442\\u043e\\u0432\\u0430\\u0440\\u044b \\u0434\\u043b\\u044f \\u0437\\u0434\\u043e\\u0440\\u043e\\u0432\\u044c\\u044f\"],\n [\"GamePark\",\n\"\\u041c\\u0430\\u0433\\u0430\\u0437\\u0438\\u043d\\u044b, \\u0425\\u043e\\u0431\\u0431\\u0438 \\u0438 \\u043e\\u0442\\u0434\\u044b\\u0445, \\u0422\\u043e\\u0432\\u0430\\u0440\\u044b \\u0434\\u043b\\u044f \\u0434\\u0435\\u0442\\u0435\\u0439, \\u042d\\u043b\\u0435\\u043a\\u0442\\u0440\\u043e\\u043d\\u0438\\u043a\\u0430 \\u0438 \\u0431\\u044b\\u0442\\u043e\\u0432\\u0430\\u044f \\u0442\\u0435\\u0445\\u043d\\u0438\\u043a\\u0430\"],\n [\"GEOX\",\n\"\\u041c\\u0430\\u0433\\u0430\\u0437\\u0438\\u043d\\u044b, \\u041e\\u0431\\u0443\\u0432\\u044c\"],\n [\"GIZIA\",\n\"\\u041c\\u0430\\u0433\\u0430\\u0437\\u0438\\u043d\\u044b, \\u0416\\u0435\\u043d\\u0441\\u043a\\u0430\\u044f \\u043e\\u0434\\u0435\\u0436\\u0434\\u0430\"],\n [\"Gloria Jeans\",\n\"\\u041c\\u0430\\u0433\\u0430\\u0437\\u0438\\u043d\\u044b, \\u0414\\u0436\\u0438\\u043d\\u0441\\u043e\\u0432\\u0430\\u044f \\u043e\\u0434\\u0435\\u0436\\u0434\\u0430, \\u0416\\u0435\\u043d\\u0441\\u043a\\u0430\\u044f \\u043e\\u0434\\u0435\\u0436\\u0434\\u0430, \\u041c\\u0443\\u0436\\u0441\\u043a\\u0430\\u044f \\u043e\\u0434\\u0435\\u0436\\u0434\\u0430, \\u041e\\u0434\\u0435\\u0436\\u0434\\u0430 \\u0434\\u043b\\u044f \\u0432\\u0441\\u0435\\u0439 \\u0441\\u0435\\u043c\\u044c\\u0438, \\u041c\\u043e\\u043b\\u043e\\u0434\\u0435\\u0436\\u043d\\u0430\\u044f \\u043e\\u0434\\u0435\\u0436\\u0434\\u0430, \\u0422\\u043e\\u0432\\u0430\\u0440\\u044b \\u0434\\u043b\\u044f \\u0434\\u0435\\u0442\\u0435\\u0439\"],\n [\"GOLDI\",\n\"\\u041c\\u0430\\u0433\\u0430\\u0437\\u0438\\u043d\\u044b, \\u042e\\u0432\\u0435\\u043b\\u0438\\u0440\\u043d\\u044b\\u0435 \\u0438\\u0437\\u0434\\u0435\\u043b\\u0438\\u044f \\u0438 \\u0447\\u0430\\u0441\\u044b\"],\n [\"Gracstore\",\n\"\\u041c\\u0430\\u0433\\u0430\\u0437\\u0438\\u043d\\u044b, \\u041e\\u0431\\u0443\\u0432\\u044c\"],\n [\"GUESS\",\n\"\\u041c\\u0430\\u0433\\u0430\\u0437\\u0438\\u043d\\u044b, \\u0416\\u0435\\u043d\\u0441\\u043a\\u0430\\u044f \\u043e\\u0434\\u0435\\u0436\\u0434\\u0430, \\u041c\\u0443\\u0436\\u0441\\u043a\\u0430\\u044f \\u043e\\u0434\\u0435\\u0436\\u0434\\u0430, \\u0414\\u0436\\u0438\\u043d\\u0441\\u043e\\u0432\\u0430\\u044f \\u043e\\u0434\\u0435\\u0436\\u0434\\u0430, \\u041e\\u0434\\u0435\\u0436\\u0434\\u0430 \\u0434\\u043b\\u044f \\u0432\\u0441\\u0435\\u0439 \\u0441\\u0435\\u043c\\u044c\\u0438, \\u041c\\u043e\\u043b\\u043e\\u0434\\u0435\\u0436\\u043d\\u0430\\u044f \\u043e\\u0434\\u0435\\u0436\\u0434\\u0430\"],\n [\"Gulliver\",\n\"\\u041c\\u0430\\u0433\\u0430\\u0437\\u0438\\u043d\\u044b, \\u0422\\u043e\\u0432\\u0430\\u0440\\u044b \\u0434\\u043b\\u044f \\u0434\\u0435\\u0442\\u0435\\u0439\"],\n [\"Henderson\",\n\"\\u041c\\u0430\\u0433\\u0430\\u0437\\u0438\\u043d\\u044b, \\u041c\\u0443\\u0436\\u0441\\u043a\\u0430\\u044f \\u043e\\u0434\\u0435\\u0436\\u0434\\u0430\"],\n [\"Intimissimi\",\n\"\\u041c\\u0430\\u0433\\u0430\\u0437\\u0438\\u043d\\u044b, \\u041d\\u0438\\u0436\\u043d\\u0435\\u0435 \\u0431\\u0435\\u043b\\u044c\\u0451\"],\n [\"IQOS\",\n\"\\u041c\\u0430\\u0433\\u0430\\u0437\\u0438\\u043d\\u044b, \\u0422\\u0430\\u0431\\u0430\\u0447\\u043d\\u044b\\u0435 \\u0438\\u0437\\u0434\\u0435\\u043b\\u0438\\u044f\"],\n [\"IStudio\",\n\"\\u041c\\u0430\\u0433\\u0430\\u0437\\u0438\\u043d\\u044b, \\u041c\\u043e\\u0431\\u0438\\u043b\\u044c\\u043d\\u0430\\u044f \\u0441\\u0432\\u044f\\u0437\\u044c \\u0438 \\u0438\\u043d\\u0442\\u0435\\u0440\\u043d\\u0435\\u0442, \\u042d\\u043b\\u0435\\u043a\\u0442\\u0440\\u043e\\u043d\\u0438\\u043a\\u0430 \\u0438 \\u0431\\u044b\\u0442\\u043e\\u0432\\u0430\\u044f \\u0442\\u0435\\u0445\\u043d\\u0438\\u043a\\u0430\"],\n [\"JEANS CLUB\",\n\"\\u041c\\u0430\\u0433\\u0430\\u0437\\u0438\\u043d\\u044b, \\u0416\\u0435\\u043d\\u0441\\u043a\\u0430\\u044f \\u043e\\u0434\\u0435\\u0436\\u0434\\u0430, \\u041c\\u0443\\u0436\\u0441\\u043a\\u0430\\u044f \\u043e\\u0434\\u0435\\u0436\\u0434\\u0430, \\u0414\\u0436\\u0438\\u043d\\u0441\\u043e\\u0432\\u0430\\u044f \\u043e\\u0434\\u0435\\u0436\\u0434\\u0430, \\u041c\\u043e\\u043b\\u043e\\u0434\\u0435\\u0436\\u043d\\u0430\\u044f \\u043e\\u0434\\u0435\\u0436\\u0434\\u0430\"],\n [\"Kanzler\",\n\"\\u041c\\u0430\\u0433\\u0430\\u0437\\u0438\\u043d\\u044b, \\u041c\\u0443\\u0436\\u0441\\u043a\\u0430\\u044f \\u043e\\u0434\\u0435\\u0436\\u0434\\u0430\"],\n [\"KARI\",\n\"\\u041c\\u0430\\u0433\\u0430\\u0437\\u0438\\u043d\\u044b, \\u041e\\u0431\\u0443\\u0432\\u044c\"],\n [\"Karl Lagerfeld\",\n\"\\u041c\\u0430\\u0433\\u0430\\u0437\\u0438\\u043d\\u044b, \\u0416\\u0435\\u043d\\u0441\\u043a\\u0430\\u044f \\u043e\\u0434\\u0435\\u0436\\u0434\\u0430, \\u041c\\u0443\\u0436\\u0441\\u043a\\u0430\\u044f \\u043e\\u0434\\u0435\\u0436\\u0434\\u0430, \\u041e\\u0431\\u0443\\u0432\\u044c\"],\n [\"Keddo\",\n\"\\u041c\\u0430\\u0433\\u0430\\u0437\\u0438\\u043d\\u044b, \\u041e\\u0431\\u0443\\u0432\\u044c\"],\n [\"K\\u00fcchenLand Home\",\n\"\\u041c\\u0430\\u0433\\u0430\\u0437\\u0438\\u043d\\u044b, \\u041f\\u043e\\u0434\\u0430\\u0440\\u043a\\u0438 \\u0438 \\u0441\\u0443\\u0432\\u0435\\u043d\\u0438\\u0440\\u044b, \\u0422\\u043e\\u0432\\u0430\\u0440\\u044b \\u0434\\u043b\\u044f \\u0434\\u043e\\u043c\\u0430 \\u0438 \\u0440\\u0435\\u043c\\u043e\\u043d\\u0442\\u0430, \\u0425\\u043e\\u0431\\u0431\\u0438 \\u0438 \\u043e\\u0442\\u0434\\u044b\\u0445\"],\n [\"Lady Collection\",\n\"\\u041c\\u0430\\u0433\\u0430\\u0437\\u0438\\u043d\\u044b, \\u0411\\u0438\\u0436\\u0443\\u0442\\u0435\\u0440\\u0438\\u044f \\u0438 \\u0430\\u043a\\u0441\\u0435\\u0441\\u0441\\u0443\\u0430\\u0440\\u044b\"],\n [\"LERAN\",\n\"\\u041c\\u0430\\u0433\\u0430\\u0437\\u0438\\u043d\\u044b, \\u042d\\u043b\\u0435\\u043a\\u0442\\u0440\\u043e\\u043d\\u0438\\u043a\\u0430 \\u0438 \\u0431\\u044b\\u0442\\u043e\\u0432\\u0430\\u044f \\u0442\\u0435\\u0445\\u043d\\u0438\\u043a\\u0430\"],\n [\"Levis\",\n\"\\u041c\\u0430\\u0433\\u0430\\u0437\\u0438\\u043d\\u044b, \\u0414\\u0436\\u0438\\u043d\\u0441\\u043e\\u0432\\u0430\\u044f \\u043e\\u0434\\u0435\\u0436\\u0434\\u0430\"],\n [\"Lexmer\",\n\"\\u041c\\u0430\\u0433\\u0430\\u0437\\u0438\\u043d\\u044b, \\u041c\\u0443\\u0436\\u0441\\u043a\\u0430\\u044f \\u043e\\u0434\\u0435\\u0436\\u0434\\u0430\"],\n [\"Lichi\",\n\"\\u041c\\u0430\\u0433\\u0430\\u0437\\u0438\\u043d\\u044b, \\u0416\\u0435\\u043d\\u0441\\u043a\\u0430\\u044f \\u043e\\u0434\\u0435\\u0436\\u0434\\u0430\"],\n [\"Lime\",\n\"\\u041c\\u0430\\u0433\\u0430\\u0437\\u0438\\u043d\\u044b, \\u0416\\u0435\\u043d\\u0441\\u043a\\u0430\\u044f \\u043e\\u0434\\u0435\\u0436\\u0434\\u0430, \\u0414\\u0436\\u0438\\u043d\\u0441\\u043e\\u0432\\u0430\\u044f \\u043e\\u0434\\u0435\\u0436\\u0434\\u0430, \\u041c\\u043e\\u043b\\u043e\\u0434\\u0435\\u0436\\u043d\\u0430\\u044f \\u043e\\u0434\\u0435\\u0436\\u0434\\u0430\"],\n [\"Love Republic\",\n\"\\u041c\\u0430\\u0433\\u0430\\u0437\\u0438\\u043d\\u044b, \\u0416\\u0435\\u043d\\u0441\\u043a\\u0430\\u044f \\u043e\\u0434\\u0435\\u0436\\u0434\\u0430\"],\n [\"MAAG\",\n\"\\u041c\\u0430\\u0433\\u0430\\u0437\\u0438\\u043d\\u044b, \\u0416\\u0435\\u043d\\u0441\\u043a\\u0430\\u044f \\u043e\\u0434\\u0435\\u0436\\u0434\\u0430, \\u041c\\u0443\\u0436\\u0441\\u043a\\u0430\\u044f \\u043e\\u0434\\u0435\\u0436\\u0434\\u0430, \\u041e\\u0434\\u0435\\u0436\\u0434\\u0430 \\u0434\\u043b\\u044f \\u0432\\u0441\\u0435\\u0439 \\u0441\\u0435\\u043c\\u044c\\u0438, \\u0422\\u043e\\u0432\\u0430\\u0440\\u044b \\u0434\\u043b\\u044f \\u0434\\u0435\\u0442\\u0435\\u0439\"],\n [\"Mario Muzi\",\n\"\\u041c\\u0430\\u0433\\u0430\\u0437\\u0438\\u043d\\u044b, \\u041e\\u0431\\u0443\\u0432\\u044c\"],\n [\"MARMALATO\",\n\"\\u041c\\u0430\\u0433\\u0430\\u0437\\u0438\\u043d\\u044b, \\u0411\\u0438\\u0436\\u0443\\u0442\\u0435\\u0440\\u0438\\u044f \\u0438 \\u0430\\u043a\\u0441\\u0435\\u0441\\u0441\\u0443\\u0430\\u0440\\u044b, \\u041e\\u0431\\u0443\\u0432\\u044c, \\u0416\\u0435\\u043d\\u0441\\u043a\\u0430\\u044f \\u043e\\u0434\\u0435\\u0436\\u0434\\u0430, \\u0414\\u0436\\u0438\\u043d\\u0441\\u043e\\u0432\\u0430\\u044f \\u043e\\u0434\\u0435\\u0436\\u0434\\u0430, \\u041a\\u043e\\u0436\\u0433\\u0430\\u043b\\u0430\\u043d\\u0442\\u0435\\u0440\\u0435\\u044f \\u0438 \\u0441\\u0443\\u043c\\u043a\\u0438, \\u041c\\u043e\\u043b\\u043e\\u0434\\u0435\\u0436\\u043d\\u0430\\u044f \\u043e\\u0434\\u0435\\u0436\\u0434\\u0430\"],\n [\"MI\",\n\"\\u041c\\u0430\\u0433\\u0430\\u0437\\u0438\\u043d\\u044b, \\u042d\\u043b\\u0435\\u043a\\u0442\\u0440\\u043e\\u043d\\u0438\\u043a\\u0430 \\u0438 \\u0431\\u044b\\u0442\\u043e\\u0432\\u0430\\u044f \\u0442\\u0435\\u0445\\u043d\\u0438\\u043a\\u0430\"],\n [\"MIUZ Diamonds\",\n\"\\u041c\\u0430\\u0433\\u0430\\u0437\\u0438\\u043d\\u044b, \\u042e\\u0432\\u0435\\u043b\\u0438\\u0440\\u043d\\u044b\\u0435 \\u0438\\u0437\\u0434\\u0435\\u043b\\u0438\\u044f \\u0438 \\u0447\\u0430\\u0441\\u044b\"],\n [\"Moda Mia\",\n\"\\u041c\\u0430\\u0433\\u0430\\u0437\\u0438\\u043d\\u044b, \\u0416\\u0435\\u043d\\u0441\\u043a\\u0430\\u044f \\u043e\\u0434\\u0435\\u0436\\u0434\\u0430\"],\n [\"MODI\",\n\"\\u041c\\u0430\\u0433\\u0430\\u0437\\u0438\\u043d\\u044b, \\u041f\\u043e\\u0434\\u0430\\u0440\\u043a\\u0438 \\u0438 \\u0441\\u0443\\u0432\\u0435\\u043d\\u0438\\u0440\\u044b, \\u0422\\u043e\\u0432\\u0430\\u0440\\u044b \\u0434\\u043b\\u044f \\u0434\\u043e\\u043c\\u0430 \\u0438 \\u0440\\u0435\\u043c\\u043e\\u043d\\u0442\\u0430, \\u0411\\u0438\\u0436\\u0443\\u0442\\u0435\\u0440\\u0438\\u044f \\u0438 \\u0430\\u043a\\u0441\\u0435\\u0441\\u0441\\u0443\\u0430\\u0440\\u044b, \\u0417\\u043e\\u043e\\u0442\\u043e\\u0432\\u0430\\u0440\\u044b, \\u0425\\u043e\\u0431\\u0431\\u0438 \\u0438 \\u043e\\u0442\\u0434\\u044b\\u0445, \\u041a\\u043e\\u0441\\u043c\\u0435\\u0442\\u0438\\u043a\\u0430 \\u0438 \\u043f\\u0430\\u0440\\u0444\\u044e\\u043c\\u0435\\u0440\\u0438\\u044f, \\u0422\\u043e\\u0432\\u0430\\u0440\\u044b \\u0434\\u043b\\u044f \\u0434\\u0435\\u0442\\u0435\\u0439, \\u042d\\u043b\\u0435\\u043a\\u0442\\u0440\\u043e\\u043d\\u0438\\u043a\\u0430 \\u0438 \\u0431\\u044b\\u0442\\u043e\\u0432\\u0430\\u044f \\u0442\\u0435\\u0445\\u043d\\u0438\\u043a\\u0430\"],\n [\"MONA\",\n\"\\u041c\\u0430\\u0433\\u0430\\u0437\\u0438\\u043d\\u044b, \\u042e\\u0432\\u0435\\u043b\\u0438\\u0440\\u043d\\u044b\\u0435 \\u0438\\u0437\\u0434\\u0435\\u043b\\u0438\\u044f \\u0438 \\u0447\\u0430\\u0441\\u044b\"],\n [\"Mustang\",\n\"\\u041c\\u0430\\u0433\\u0430\\u0437\\u0438\\u043d\\u044b, \\u0416\\u0435\\u043d\\u0441\\u043a\\u0430\\u044f \\u043e\\u0434\\u0435\\u0436\\u0434\\u0430, \\u041c\\u0443\\u0436\\u0441\\u043a\\u0430\\u044f \\u043e\\u0434\\u0435\\u0436\\u0434\\u0430, \\u0414\\u0436\\u0438\\u043d\\u0441\\u043e\\u0432\\u0430\\u044f \\u043e\\u0434\\u0435\\u0436\\u0434\\u0430, \\u041c\\u043e\\u043b\\u043e\\u0434\\u0435\\u0436\\u043d\\u0430\\u044f \\u043e\\u0434\\u0435\\u0436\\u0434\\u0430\"],\n [\"New Yorker\",\n\"\\u041c\\u0430\\u0433\\u0430\\u0437\\u0438\\u043d\\u044b, \\u041c\\u043e\\u043b\\u043e\\u0434\\u0435\\u0436\\u043d\\u0430\\u044f \\u043e\\u0434\\u0435\\u0436\\u0434\\u0430\"],\n [\"O'Hara\",\n\"\\u041c\\u0430\\u0433\\u0430\\u0437\\u0438\\u043d\\u044b, \\u041e\\u0434\\u0435\\u0436\\u0434\\u0430 \\u0438\\u0437 \\u043a\\u043e\\u0436\\u0438 \\u0438 \\u043c\\u0435\\u0445\\u0430, \\u041e\\u0434\\u0435\\u0436\\u0434\\u0430 \\u0434\\u043b\\u044f \\u0432\\u0441\\u0435\\u0439 \\u0441\\u0435\\u043c\\u044c\\u0438\"],\n [\"O'STIN\",\n\"\\u041c\\u0430\\u0433\\u0430\\u0437\\u0438\\u043d\\u044b, \\u041e\\u0434\\u0435\\u0436\\u0434\\u0430 \\u0434\\u043b\\u044f \\u0432\\u0441\\u0435\\u0439 \\u0441\\u0435\\u043c\\u044c\\u0438, \\u0416\\u0435\\u043d\\u0441\\u043a\\u0430\\u044f \\u043e\\u0434\\u0435\\u0436\\u0434\\u0430, \\u041c\\u0443\\u0436\\u0441\\u043a\\u0430\\u044f \\u043e\\u0434\\u0435\\u0436\\u0434\\u0430, \\u0422\\u043e\\u0432\\u0430\\u0440\\u044b \\u0434\\u043b\\u044f \\u0434\\u0435\\u0442\\u0435\\u0439\"],\n [\"Palmetta\",\n\"\\u041c\\u0430\\u0433\\u0430\\u0437\\u0438\\u043d\\u044b, \\u041d\\u0438\\u0436\\u043d\\u0435\\u0435 \\u0431\\u0435\\u043b\\u044c\\u0451\"],\n [\"PanClub\",\n\"\\u041c\\u0430\\u0433\\u0430\\u0437\\u0438\\u043d\\u044b, \\u042e\\u0432\\u0435\\u043b\\u0438\\u0440\\u043d\\u044b\\u0435 \\u0438\\u0437\\u0434\\u0435\\u043b\\u0438\\u044f \\u0438 \\u0447\\u0430\\u0441\\u044b\"],\n [\"PRAVDA\",\n\"\\u041c\\u0430\\u0433\\u0430\\u0437\\u0438\\u043d\\u044b, \\u0416\\u0435\\u043d\\u0441\\u043a\\u0430\\u044f \\u043e\\u0434\\u0435\\u0436\\u0434\\u0430\"],\n [\"Prosto.magaz\",\n\"\\u041c\\u0430\\u0433\\u0430\\u0437\\u0438\\u043d\\u044b, \\u0416\\u0435\\u043d\\u0441\\u043a\\u0430\\u044f \\u043e\\u0434\\u0435\\u0436\\u0434\\u0430\"],\n [\"PUTIN TEAM RUSSIA\",\n\"\\u041c\\u0430\\u0433\\u0430\\u0437\\u0438\\u043d\\u044b, \\u0416\\u0435\\u043d\\u0441\\u043a\\u0430\\u044f \\u043e\\u0434\\u0435\\u0436\\u0434\\u0430, \\u041c\\u0443\\u0436\\u0441\\u043a\\u0430\\u044f \\u043e\\u0434\\u0435\\u0436\\u0434\\u0430\"],\n [\"RALF RINGER\",\n\"\\u041c\\u0430\\u0433\\u0430\\u0437\\u0438\\u043d\\u044b, \\u041e\\u0431\\u0443\\u0432\\u044c\"],\n [\"Rendez-Vous\",\n\"\\u041c\\u0430\\u0433\\u0430\\u0437\\u0438\\u043d\\u044b, \\u041e\\u0431\\u0443\\u0432\\u044c\"],\n [\"Respect\",\n\"\\u041c\\u0430\\u0433\\u0430\\u0437\\u0438\\u043d\\u044b, \\u041e\\u0431\\u0443\\u0432\\u044c\"],\n [\"restore:\",\n\"\\u041c\\u0430\\u0433\\u0430\\u0437\\u0438\\u043d\\u044b, \\u041c\\u043e\\u0431\\u0438\\u043b\\u044c\\u043d\\u0430\\u044f \\u0441\\u0432\\u044f\\u0437\\u044c \\u0438 \\u0438\\u043d\\u0442\\u0435\\u0440\\u043d\\u0435\\u0442, \\u042d\\u043b\\u0435\\u043a\\u0442\\u0440\\u043e\\u043d\\u0438\\u043a\\u0430 \\u0438 \\u0431\\u044b\\u0442\\u043e\\u0432\\u0430\\u044f \\u0442\\u0435\\u0445\\u043d\\u0438\\u043a\\u0430\"],\n [\"Rodeo\",\n\"\\u041c\\u0430\\u0433\\u0430\\u0437\\u0438\\u043d\\u044b, \\u0416\\u0435\\u043d\\u0441\\u043a\\u0430\\u044f \\u043e\\u0434\\u0435\\u0436\\u0434\\u0430\"],\n [\"Royal Spirit\",\n\"\\u041c\\u0430\\u0433\\u0430\\u0437\\u0438\\u043d\\u044b, \\u041c\\u0443\\u0436\\u0441\\u043a\\u0430\\u044f \\u043e\\u0434\\u0435\\u0436\\u0434\\u0430\"],\n [\"S.A.S.\",\n\"\\u041c\\u0430\\u0433\\u0430\\u0437\\u0438\\u043d\\u044b, \\u0422\\u0430\\u0431\\u0430\\u0447\\u043d\\u044b\\u0435 \\u0438\\u0437\\u0434\\u0435\\u043b\\u0438\\u044f\"],\n [\"Samsung\",\n\"\\u041c\\u0430\\u0433\\u0430\\u0437\\u0438\\u043d\\u044b, \\u041c\\u043e\\u0431\\u0438\\u043b\\u044c\\u043d\\u0430\\u044f \\u0441\\u0432\\u044f\\u0437\\u044c \\u0438 \\u0438\\u043d\\u0442\\u0435\\u0440\\u043d\\u0435\\u0442, \\u042d\\u043b\\u0435\\u043a\\u0442\\u0440\\u043e\\u043d\\u0438\\u043a\\u0430 \\u0438 \\u0431\\u044b\\u0442\\u043e\\u0432\\u0430\\u044f \\u0442\\u0435\\u0445\\u043d\\u0438\\u043a\\u0430\"],\n [\"SOKOLOV\",\n\"\\u041c\\u0430\\u0433\\u0430\\u0437\\u0438\\u043d\\u044b, \\u042e\\u0432\\u0435\\u043b\\u0438\\u0440\\u043d\\u044b\\u0435 \\u0438\\u0437\\u0434\\u0435\\u043b\\u0438\\u044f \\u0438 \\u0447\\u0430\\u0441\\u044b\"],\n [\"Street Beat\",\n\"\\u041c\\u0430\\u0433\\u0430\\u0437\\u0438\\u043d\\u044b, \\u041e\\u0431\\u0443\\u0432\\u044c, \\u0421\\u043f\\u043e\\u0440\\u0442\\u0438\\u0432\\u043d\\u044b\\u0435 \\u0442\\u043e\\u0432\\u0430\\u0440\\u044b\"],\n [\"Sunlight\",\n\"\\u041c\\u0430\\u0433\\u0430\\u0437\\u0438\\u043d\\u044b, \\u042e\\u0432\\u0435\\u043b\\u0438\\u0440\\u043d\\u044b\\u0435 \\u0438\\u0437\\u0434\\u0435\\u043b\\u0438\\u044f \\u0438 \\u0447\\u0430\\u0441\\u044b\"],\n [\"\\u200bSweet Cat Shop\",\n\"\\u041c\\u0430\\u0433\\u0430\\u0437\\u0438\\u043d\\u044b, \\u041f\\u043e\\u0434\\u0430\\u0440\\u043a\\u0438 \\u0438 \\u0441\\u0443\\u0432\\u0435\\u043d\\u0438\\u0440\\u044b, \\u0425\\u043e\\u0431\\u0431\\u0438 \\u0438 \\u043e\\u0442\\u0434\\u044b\\u0445, \\u0422\\u043e\\u0432\\u0430\\u0440\\u044b \\u0434\\u043b\\u044f \\u0434\\u0435\\u0442\\u0435\\u0439\"],\n [\"TAMARIS\",\n\"\\u041c\\u0430\\u0433\\u0430\\u0437\\u0438\\u043d\\u044b, \\u041e\\u0431\\u0443\\u0432\\u044c\"],\n [\"Tefal\",\n\"\\u041c\\u0430\\u0433\\u0430\\u0437\\u0438\\u043d\\u044b, \\u042d\\u043b\\u0435\\u043a\\u0442\\u0440\\u043e\\u043d\\u0438\\u043a\\u0430 \\u0438 \\u0431\\u044b\\u0442\\u043e\\u0432\\u0430\\u044f \\u0442\\u0435\\u0445\\u043d\\u0438\\u043a\\u0430\"],\n [\"Terranova\",\n\"\\u041c\\u0430\\u0433\\u0430\\u0437\\u0438\\u043d\\u044b, \\u0416\\u0435\\u043d\\u0441\\u043a\\u0430\\u044f \\u043e\\u0434\\u0435\\u0436\\u0434\\u0430, \\u041c\\u0443\\u0436\\u0441\\u043a\\u0430\\u044f \\u043e\\u0434\\u0435\\u0436\\u0434\\u0430, \\u041e\\u0434\\u0435\\u0436\\u0434\\u0430 \\u0434\\u043b\\u044f \\u0432\\u0441\\u0435\\u0439 \\u0441\\u0435\\u043c\\u044c\\u0438\"],\n [\"TEZENIS\",\n\"\\u041c\\u0430\\u0433\\u0430\\u0437\\u0438\\u043d\\u044b, \\u041d\\u0438\\u0436\\u043d\\u0435\\u0435 \\u0431\\u0435\\u043b\\u044c\\u0451\"],\n [\"Tiara & Shampoo\",\n\"\\u041c\\u0430\\u0433\\u0430\\u0437\\u0438\\u043d\\u044b, \\u0411\\u0438\\u0436\\u0443\\u0442\\u0435\\u0440\\u0438\\u044f \\u0438 \\u0430\\u043a\\u0441\\u0435\\u0441\\u0441\\u0443\\u0430\\u0440\\u044b, \\u041a\\u043e\\u0441\\u043c\\u0435\\u0442\\u0438\\u043a\\u0430 \\u0438 \\u043f\\u0430\\u0440\\u0444\\u044e\\u043c\\u0435\\u0440\\u0438\\u044f\"],\n [\"Vitacci\",\n\"\\u041c\\u0430\\u0433\\u0430\\u0437\\u0438\\u043d\\u044b, \\u041e\\u0431\\u0443\\u0432\\u044c\"],\n [\"YAMAGUCHI\",\n\"\\u041c\\u0430\\u0433\\u0430\\u0437\\u0438\\u043d\\u044b, \\u0410\\u043f\\u0442\\u0435\\u043a\\u0430, \\u043e\\u043f\\u0442\\u0438\\u043a\\u0430, \\u0442\\u043e\\u0432\\u0430\\u0440\\u044b \\u0434\\u043b\\u044f \\u0437\\u0434\\u043e\\u0440\\u043e\\u0432\\u044c\\u044f\"],\n [\"ZARINA\",\n\"\\u041c\\u0430\\u0433\\u0430\\u0437\\u0438\\u043d\\u044b, \\u041c\\u0443\\u0436\\u0441\\u043a\\u0430\\u044f \\u043e\\u0434\\u0435\\u0436\\u0434\\u0430\"],\n [\"Zolla\",\n\"\\u041c\\u0430\\u0433\\u0430\\u0437\\u0438\\u043d\\u044b, \\u0416\\u0435\\u043d\\u0441\\u043a\\u0430\\u044f \\u043e\\u0434\\u0435\\u0436\\u0434\\u0430, \\u041c\\u0443\\u0436\\u0441\\u043a\\u0430\\u044f \\u043e\\u0434\\u0435\\u0436\\u0434\\u0430, \\u0414\\u0436\\u0438\\u043d\\u0441\\u043e\\u0432\\u0430\\u044f \\u043e\\u0434\\u0435\\u0436\\u0434\\u0430, \\u041e\\u0434\\u0435\\u0436\\u0434\\u0430 \\u0438\\u0437 \\u043a\\u043e\\u0436\\u0438 \\u0438 \\u043c\\u0435\\u0445\\u0430, \\u041e\\u0434\\u0435\\u0436\\u0434\\u0430 \\u0434\\u043b\\u044f \\u0432\\u0441\\u0435\\u0439 \\u0441\\u0435\\u043c\\u044c\\u0438, \\u041c\\u043e\\u043b\\u043e\\u0434\\u0435\\u0436\\u043d\\u0430\\u044f \\u043e\\u0434\\u0435\\u0436\\u0434\\u0430\"],\n [\"\\u0410\\u0428\\u0410\\u041d\",\n\"\\u041c\\u0430\\u0433\\u0430\\u0437\\u0438\\u043d\\u044b, \\u0422\\u043e\\u0432\\u0430\\u0440\\u044b \\u0434\\u043b\\u044f \\u0434\\u043e\\u043c\\u0430 \\u0438 \\u0440\\u0435\\u043c\\u043e\\u043d\\u0442\\u0430, \\u041e\\u0434\\u0435\\u0436\\u0434\\u0430 \\u0434\\u043b\\u044f \\u0432\\u0441\\u0435\\u0439 \\u0441\\u0435\\u043c\\u044c\\u0438, \\u041f\\u0440\\u043e\\u0434\\u0443\\u043a\\u0442\\u044b \\u043f\\u0438\\u0442\\u0430\\u043d\\u0438\\u044f, \\u0413\\u0438\\u043f\\u0435\\u0440\\u043c\\u0430\\u0440\\u043a\\u0435\\u0442, \\u042d\\u043b\\u0435\\u043a\\u0442\\u0440\\u043e\\u043d\\u0438\\u043a\\u0430 \\u0438 \\u0431\\u044b\\u0442\\u043e\\u0432\\u0430\\u044f \\u0442\\u0435\\u0445\\u043d\\u0438\\u043a\\u0430\"],\n [\"\\u0411\\u0435\\u0442\\u0445\\u043e\\u0432\\u0435\\u043d\",\n\"\\u041c\\u0430\\u0433\\u0430\\u0437\\u0438\\u043d\\u044b, \\u0417\\u043e\\u043e\\u0442\\u043e\\u0432\\u0430\\u0440\\u044b\"],\n [\"\\u0411\\u0438\\u043b\\u0430\\u0439\\u043d\",\n\"\\u041c\\u0430\\u0433\\u0430\\u0437\\u0438\\u043d\\u044b, \\u041c\\u043e\\u0431\\u0438\\u043b\\u044c\\u043d\\u0430\\u044f \\u0441\\u0432\\u044f\\u0437\\u044c \\u0438 \\u0438\\u043d\\u0442\\u0435\\u0440\\u043d\\u0435\\u0442\"],\n [\"\\u0412\\u0418\\u0416\\u0423\",\n\"\\u041c\\u0430\\u0433\\u0430\\u0437\\u0438\\u043d\\u044b, \\u0410\\u043f\\u0442\\u0435\\u043a\\u0430, \\u043e\\u043f\\u0442\\u0438\\u043a\\u0430, \\u0442\\u043e\\u0432\\u0430\\u0440\\u044b \\u0434\\u043b\\u044f \\u0437\\u0434\\u043e\\u0440\\u043e\\u0432\\u044c\\u044f\"],\n [\"\\u0412\\u0438\\u0442\\u0430\",\n\"\\u041c\\u0430\\u0433\\u0430\\u0437\\u0438\\u043d\\u044b, \\u0410\\u043f\\u0442\\u0435\\u043a\\u0430, \\u043e\\u043f\\u0442\\u0438\\u043a\\u0430, \\u0442\\u043e\\u0432\\u0430\\u0440\\u044b \\u0434\\u043b\\u044f \\u0437\\u0434\\u043e\\u0440\\u043e\\u0432\\u044c\\u044f\"],\n [\"\\u0412\\u0441\\u0451\\u0441\\u043c\\u0430\\u0440\\u0442\",\n\"\\u041c\\u0430\\u0433\\u0430\\u0437\\u0438\\u043d\\u044b, \\u041f\\u043e\\u0434\\u0430\\u0440\\u043a\\u0438 \\u0438 \\u0441\\u0443\\u0432\\u0435\\u043d\\u0438\\u0440\\u044b, \\u042d\\u043b\\u0435\\u043a\\u0442\\u0440\\u043e\\u043d\\u0438\\u043a\\u0430 \\u0438 \\u0431\\u044b\\u0442\\u043e\\u0432\\u0430\\u044f \\u0442\\u0435\\u0445\\u043d\\u0438\\u043a\\u0430\"],\n [\"\\u0413\\u0430\\u043b\\u0430\\u043c\\u0430\\u0440\\u0442\",\n\"\\u041c\\u0430\\u0433\\u0430\\u0437\\u0438\\u043d\\u044b, \\u0422\\u043e\\u0432\\u0430\\u0440\\u044b \\u0434\\u043b\\u044f \\u0434\\u043e\\u043c\\u0430 \\u0438 \\u0440\\u0435\\u043c\\u043e\\u043d\\u0442\\u0430\"],\n [\"\\u0414\\u0435\\u0442\\u0441\\u043a\\u0438\\u0439 \\u043c\\u0438\\u0440\",\n\"\\u041c\\u0430\\u0433\\u0430\\u0437\\u0438\\u043d\\u044b, \\u0422\\u043e\\u0432\\u0430\\u0440\\u044b \\u0434\\u043b\\u044f \\u0434\\u0435\\u0442\\u0435\\u0439\"],\n [\"\\u0414\\u0435\\u0444\\u0438\\u043b\\u0435\",\n\"\\u041c\\u0430\\u0433\\u0430\\u0437\\u0438\\u043d\\u044b, \\u041d\\u0438\\u0436\\u043d\\u0435\\u0435 \\u0431\\u0435\\u043b\\u044c\\u0451\"],\n [\"\\u0416\\u0435\\u043b\\u0442\\u0430\\u044f \\u0432\\u0438\\u0442\\u0440\\u0438\\u043d\\u0430\",\n\"\\u041c\\u0430\\u0433\\u0430\\u0437\\u0438\\u043d\\u044b, \\u0411\\u0438\\u0436\\u0443\\u0442\\u0435\\u0440\\u0438\\u044f \\u0438 \\u0430\\u043a\\u0441\\u0435\\u0441\\u0441\\u0443\\u0430\\u0440\\u044b\"],\n [\"\\u0418\\u0432 \\u0420\\u043e\\u0448\\u0435\",\n\"\\u041c\\u0430\\u0433\\u0430\\u0437\\u0438\\u043d\\u044b, \\u041a\\u043e\\u0441\\u043c\\u0435\\u0442\\u0438\\u043a\\u0430 \\u0438 \\u043f\\u0430\\u0440\\u0444\\u044e\\u043c\\u0435\\u0440\\u0438\\u044f\"],\n [\"\\u0418\\u043c\\u043f\\u0435\\u0440\\u0438\\u044f \\u0441\\u0443\\u043c\\u043e\\u043a\",\n\"\\u041c\\u0430\\u0433\\u0430\\u0437\\u0438\\u043d\\u044b, \\u041a\\u043e\\u0436\\u0433\\u0430\\u043b\\u0430\\u043d\\u0442\\u0435\\u0440\\u0435\\u044f \\u0438 \\u0441\\u0443\\u043c\\u043a\\u0438\"],\n [\"\\u041a\\u0430\\u043d\\u0442\\u0430\\u0442\\u0430\",\n\"\\u041c\\u0430\\u0433\\u0430\\u0437\\u0438\\u043d\\u044b, \\u041f\\u043e\\u0434\\u0430\\u0440\\u043a\\u0438 \\u0438 \\u0441\\u0443\\u0432\\u0435\\u043d\\u0438\\u0440\\u044b\"],\n [\"\\u041a\\u043e\\u0440\\u0434 \\u041e\\u043f\\u0442\\u0438\\u043a\\u0430\",\n\"\\u041c\\u0430\\u0433\\u0430\\u0437\\u0438\\u043d\\u044b, \\u0410\\u043f\\u0442\\u0435\\u043a\\u0430, \\u043e\\u043f\\u0442\\u0438\\u043a\\u0430, \\u0442\\u043e\\u0432\\u0430\\u0440\\u044b \\u0434\\u043b\\u044f \\u0437\\u0434\\u043e\\u0440\\u043e\\u0432\\u044c\\u044f\"],\n [\"\\u041a\\u043e\\u0440\\u0435\\u044f\\u043d\\u043a\\u0430\",\n\"\\u041c\\u0430\\u0433\\u0430\\u0437\\u0438\\u043d\\u044b, \\u041a\\u043e\\u0441\\u043c\\u0435\\u0442\\u0438\\u043a\\u0430 \\u0438 \\u043f\\u0430\\u0440\\u0444\\u044e\\u043c\\u0435\\u0440\\u0438\\u044f\"],\n [\"\\u041a\\u0440\\u044b\\u043b\\u044c\\u044f \\u0421\\u043e\\u0432\\u0435\\u0442\\u043e\\u0432\",\n\"\\u041c\\u0430\\u0433\\u0430\\u0437\\u0438\\u043d\\u044b, \\u041f\\u043e\\u0434\\u0430\\u0440\\u043a\\u0438 \\u0438 \\u0441\\u0443\\u0432\\u0435\\u043d\\u0438\\u0440\\u044b\"],\n [\"\\u041b\\u0438\\u043d\\u0438\\u0438 \\u041b\\u044e\\u0431\\u0432\\u0438\",\n\"\\u041c\\u0430\\u0433\\u0430\\u0437\\u0438\\u043d\\u044b\"],\n [\"\\u041b\\u044d\\u0442\\u0443\\u0430\\u043b\\u044c\",\n\"\\u041c\\u0430\\u0433\\u0430\\u0437\\u0438\\u043d\\u044b, \\u041a\\u043e\\u0441\\u043c\\u0435\\u0442\\u0438\\u043a\\u0430 \\u0438 \\u043f\\u0430\\u0440\\u0444\\u044e\\u043c\\u0435\\u0440\\u0438\\u044f\"],\n [\"\\u041c.\\u0432\\u0438\\u0434\\u0435\\u043e\",\n\"\\u041c\\u0430\\u0433\\u0430\\u0437\\u0438\\u043d\\u044b, \\u042d\\u043b\\u0435\\u043a\\u0442\\u0440\\u043e\\u043d\\u0438\\u043a\\u0430 \\u0438 \\u0431\\u044b\\u0442\\u043e\\u0432\\u0430\\u044f \\u0442\\u0435\\u0445\\u043d\\u0438\\u043a\\u0430\"],\n [\"\\u041c\\u0438\\u0440 \\u0437\\u043e\\u043b\\u043e\\u0442\\u0430\",\n\"\\u041c\\u0430\\u0433\\u0430\\u0437\\u0438\\u043d\\u044b, \\u042e\\u0432\\u0435\\u043b\\u0438\\u0440\\u043d\\u044b\\u0435 \\u0438\\u0437\\u0434\\u0435\\u043b\\u0438\\u044f \\u0438 \\u0447\\u0430\\u0441\\u044b\"],\n [\"\\u041c\\u0438\\u0440 \\u041a\\u0443\\u0431\\u0438\\u043a\\u043e\\u0432\",\n\"\\u041c\\u0430\\u0433\\u0430\\u0437\\u0438\\u043d\\u044b, \\u0422\\u043e\\u0432\\u0430\\u0440\\u044b \\u0434\\u043b\\u044f \\u0434\\u0435\\u0442\\u0435\\u0439\"],\n [\"\\u041c\\u0422\\u0421\",\n\"\\u041c\\u0430\\u0433\\u0430\\u0437\\u0438\\u043d\\u044b, \\u041c\\u043e\\u0431\\u0438\\u043b\\u044c\\u043d\\u0430\\u044f \\u0441\\u0432\\u044f\\u0437\\u044c \\u0438 \\u0438\\u043d\\u0442\\u0435\\u0440\\u043d\\u0435\\u0442\"],\n [\"\\u041d\\u0410\\u0428\\u0415 \\u0417\\u041e\\u041b\\u041e\\u0422\\u041e\",\n\"\\u041c\\u0430\\u0433\\u0430\\u0437\\u0438\\u043d\\u044b, \\u042e\\u0432\\u0435\\u043b\\u0438\\u0440\\u043d\\u044b\\u0435 \\u0438\\u0437\\u0434\\u0435\\u043b\\u0438\\u044f \\u0438 \\u0447\\u0430\\u0441\\u044b\"],\n [\"\\u041e\\u043c\\u0435\\u0433\\u0430 \\u041f\\u043b\\u0430\\u043d\\u0435\\u0442\",\n\"\\u041c\\u0430\\u0433\\u0430\\u0437\\u0438\\u043d\\u044b, \\u0416\\u0435\\u043d\\u0441\\u043a\\u0430\\u044f \\u043e\\u0434\\u0435\\u0436\\u0434\\u0430, \\u041c\\u0443\\u0436\\u0441\\u043a\\u0430\\u044f \\u043e\\u0434\\u0435\\u0436\\u0434\\u0430, \\u041f\\u043e\\u0434\\u0430\\u0440\\u043a\\u0438 \\u0438 \\u0441\\u0443\\u0432\\u0435\\u043d\\u0438\\u0440\\u044b, \\u041a\\u043e\\u0436\\u0433\\u0430\\u043b\\u0430\\u043d\\u0442\\u0435\\u0440\\u0435\\u044f \\u0438 \\u0441\\u0443\\u043c\\u043a\\u0438, \\u041e\\u0434\\u0435\\u0436\\u0434\\u0430 \\u0434\\u043b\\u044f \\u0432\\u0441\\u0435\\u0439 \\u0441\\u0435\\u043c\\u044c\\u0438, \\u0422\\u043e\\u0432\\u0430\\u0440\\u044b \\u0434\\u043b\\u044f \\u0434\\u0435\\u0442\\u0435\\u0439\"],\n [\"\\u041e\\u043f\\u0442\\u0438\\u043a+\",\n\"\\u041c\\u0430\\u0433\\u0430\\u0437\\u0438\\u043d\\u044b, \\u0410\\u043f\\u0442\\u0435\\u043a\\u0430, \\u043e\\u043f\\u0442\\u0438\\u043a\\u0430, \\u0442\\u043e\\u0432\\u0430\\u0440\\u044b \\u0434\\u043b\\u044f \\u0437\\u0434\\u043e\\u0440\\u043e\\u0432\\u044c\\u044f\"],\n [\"\\u041f\\u0435\\u043f\\u043b\\u043e\\u0441\",\n\"\\u041c\\u0430\\u0433\\u0430\\u0437\\u0438\\u043d\\u044b, \\u041c\\u0443\\u0436\\u0441\\u043a\\u0430\\u044f \\u043e\\u0434\\u0435\\u0436\\u0434\\u0430\"],\n [\"\\u041f\\u043e\\u0434\\u0440\\u0443\\u0436\\u043a\\u0430\",\n\"\\u041c\\u0430\\u0433\\u0430\\u0437\\u0438\\u043d\\u044b, \\u041a\\u043e\\u0441\\u043c\\u0435\\u0442\\u0438\\u043a\\u0430 \\u0438 \\u043f\\u0430\\u0440\\u0444\\u044e\\u043c\\u0435\\u0440\\u0438\\u044f\"],\n [\"\\u0420\\u0438\\u0432 \\u0413\\u043e\\u0448\",\n\"\\u041c\\u0430\\u0433\\u0430\\u0437\\u0438\\u043d\\u044b, \\u041a\\u043e\\u0441\\u043c\\u0435\\u0442\\u0438\\u043a\\u0430 \\u0438 \\u043f\\u0430\\u0440\\u0444\\u044e\\u043c\\u0435\\u0440\\u0438\\u044f\"],\n [\"\\u0421\\u043d\\u0435\\u0436\\u043d\\u0430\\u044f \\u041a\\u043e\\u0440\\u043e\\u043b\\u0435\\u0432\\u0430\",\n\"\\u041c\\u0430\\u0433\\u0430\\u0437\\u0438\\u043d\\u044b, \\u0416\\u0435\\u043d\\u0441\\u043a\\u0430\\u044f \\u043e\\u0434\\u0435\\u0436\\u0434\\u0430, \\u041c\\u0443\\u0436\\u0441\\u043a\\u0430\\u044f \\u043e\\u0434\\u0435\\u0436\\u0434\\u0430, \\u041e\\u0434\\u0435\\u0436\\u0434\\u0430 \\u0438\\u0437 \\u043a\\u043e\\u0436\\u0438 \\u0438 \\u043c\\u0435\\u0445\\u0430, \\u041a\\u043e\\u0436\\u0433\\u0430\\u043b\\u0430\\u043d\\u0442\\u0435\\u0440\\u0435\\u044f \\u0438 \\u0441\\u0443\\u043c\\u043a\\u0438, \\u0411\\u0438\\u0436\\u0443\\u0442\\u0435\\u0440\\u0438\\u044f \\u0438 \\u0430\\u043a\\u0441\\u0435\\u0441\\u0441\\u0443\\u0430\\u0440\\u044b\"],\n [\"\\u0421\\u043f\\u043e\\u0440\\u0442\\u043c\\u0430\\u0441\\u0442\\u0435\\u0440\",\n\"\\u041c\\u0430\\u0433\\u0430\\u0437\\u0438\\u043d\\u044b, \\u0413\\u0438\\u043f\\u0435\\u0440\\u043c\\u0430\\u0440\\u043a\\u0435\\u0442, \\u0421\\u043f\\u043e\\u0440\\u0442\\u0438\\u0432\\u043d\\u044b\\u0435 \\u0442\\u043e\\u0432\\u0430\\u0440\\u044b\"],\n [\"\\u0421\\u0443\\u0445\\u043e\\u0444\\u0440\\u0443\\u043a\\u0442\\u044b\",\n\"\\u041c\\u0430\\u0433\\u0430\\u0437\\u0438\\u043d\\u044b, \\u041f\\u0440\\u043e\\u0434\\u0443\\u043a\\u0442\\u044b \\u043f\\u0438\\u0442\\u0430\\u043d\\u0438\\u044f\"],\n [\"\\u0422\\u0412\\u041e\\u0401\",\n\"\\u041c\\u0430\\u0433\\u0430\\u0437\\u0438\\u043d\\u044b, \\u0416\\u0435\\u043d\\u0441\\u043a\\u0430\\u044f \\u043e\\u0434\\u0435\\u0436\\u0434\\u0430, \\u041c\\u0443\\u0436\\u0441\\u043a\\u0430\\u044f \\u043e\\u0434\\u0435\\u0436\\u0434\\u0430, \\u041c\\u043e\\u043b\\u043e\\u0434\\u0435\\u0436\\u043d\\u0430\\u044f \\u043e\\u0434\\u0435\\u0436\\u0434\\u0430\"],\n [\"\\u0423 \\u041f\\u0430\\u043b\\u044b\\u0447\\u0430\",\n\"\\u041c\\u0430\\u0433\\u0430\\u0437\\u0438\\u043d\\u044b, \\u041f\\u0440\\u043e\\u0434\\u0443\\u043a\\u0442\\u044b \\u043f\\u0438\\u0442\\u0430\\u043d\\u0438\\u044f\"],\n [\"\\u0425\\u0430\\u043b\\u044f\\u043b\\u044c\",\n\"\\u041c\\u0430\\u0433\\u0430\\u0437\\u0438\\u043d\\u044b, \\u041f\\u0440\\u043e\\u0434\\u0443\\u043a\\u0442\\u044b \\u043f\\u0438\\u0442\\u0430\\u043d\\u0438\\u044f\"],\n [\"\\u0427\\u0435\\u0442\\u044b\\u0440\\u0435 \\u041b\\u0430\\u043f\\u044b\",\n\"\\u0417\\u043e\\u043e\\u0442\\u043e\\u0432\\u0430\\u0440\\u044b, \\u041c\\u0430\\u0433\\u0430\\u0437\\u0438\\u043d\\u044b\"],\n [\"\\u0427\\u0438\\u0442\\u0430\\u0439-\\u0433\\u043e\\u0440\\u043e\\u0434\",\n\"\\u041c\\u0430\\u0433\\u0430\\u0437\\u0438\\u043d\\u044b, \\u0425\\u043e\\u0431\\u0431\\u0438 \\u0438 \\u043e\\u0442\\u0434\\u044b\\u0445\"],\n [\"\\u042d\\u041f\\u041b \\u0414\\u0430\\u0439\\u043c\\u043e\\u043d\\u0434\",\n\"\\u042e\\u0432\\u0435\\u043b\\u0438\\u0440\\u043d\\u044b\\u0435 \\u0438\\u0437\\u0434\\u0435\\u043b\\u0438\\u044f \\u0438 \\u0447\\u0430\\u0441\\u044b, \\u041c\\u0430\\u0433\\u0430\\u0437\\u0438\\u043d\\u044b\"],\n [\"\\u042e\\u0432\\u0435\\u043b\\u0438\\u044f\",\n\"\\u041c\\u0430\\u0433\\u0430\\u0437\\u0438\\u043d\\u044b, \\u041f\\u043e\\u0434\\u0430\\u0440\\u043a\\u0438 \\u0438 \\u0441\\u0443\\u0432\\u0435\\u043d\\u0438\\u0440\\u044b, \\u042e\\u0432\\u0435\\u043b\\u0438\\u0440\\u043d\\u044b\\u0435 \\u0438\\u0437\\u0434\\u0435\\u043b\\u0438\\u044f \\u0438 \\u0447\\u0430\\u0441\\u044b\"]],\n        columns: [[\"string\", \"name\"], [\"string\", \"block\"]],\n        columnOptions: [],\n        rowsPerPage: 1000,\n        helpUrl: \"https://colab.research.google.com/notebooks/data_table.ipynb\",\n        suppressOutputScrolling: true,\n        minimumWidth: undefined,\n      });\n\n      function appendQuickchartButton(parentElement) {\n        let quickchartButtonContainerElement = document.createElement('div');\n        quickchartButtonContainerElement.innerHTML = `\n<div id=\"df-84cf4cf1-a1a6-4af4-958a-6a572d1c1cb8\">\n  <button class=\"colab-df-quickchart\" onclick=\"quickchart('df-84cf4cf1-a1a6-4af4-958a-6a572d1c1cb8')\"\n            title=\"Suggest charts\"\n            style=\"display:none;\">\n    \n<svg xmlns=\"http://www.w3.org/2000/svg\" height=\"24px\"viewBox=\"0 0 24 24\"\n     width=\"24px\">\n    <g>\n        <path d=\"M19 3H5c-1.1 0-2 .9-2 2v14c0 1.1.9 2 2 2h14c1.1 0 2-.9 2-2V5c0-1.1-.9-2-2-2zM9 17H7v-7h2v7zm4 0h-2V7h2v10zm4 0h-2v-4h2v4z\"/>\n    </g>\n</svg>\n  </button>\n  \n<style>\n  .colab-df-quickchart {\n      --bg-color: #E8F0FE;\n      --fill-color: #1967D2;\n      --hover-bg-color: #E2EBFA;\n      --hover-fill-color: #174EA6;\n      --disabled-fill-color: #AAA;\n      --disabled-bg-color: #DDD;\n  }\n\n  [theme=dark] .colab-df-quickchart {\n      --bg-color: #3B4455;\n      --fill-color: #D2E3FC;\n      --hover-bg-color: #434B5C;\n      --hover-fill-color: #FFFFFF;\n      --disabled-bg-color: #3B4455;\n      --disabled-fill-color: #666;\n  }\n\n  .colab-df-quickchart {\n    background-color: var(--bg-color);\n    border: none;\n    border-radius: 50%;\n    cursor: pointer;\n    display: none;\n    fill: var(--fill-color);\n    height: 32px;\n    padding: 0;\n    width: 32px;\n  }\n\n  .colab-df-quickchart:hover {\n    background-color: var(--hover-bg-color);\n    box-shadow: 0 1px 2px rgba(60, 64, 67, 0.3), 0 1px 3px 1px rgba(60, 64, 67, 0.15);\n    fill: var(--button-hover-fill-color);\n  }\n\n  .colab-df-quickchart-complete:disabled,\n  .colab-df-quickchart-complete:disabled:hover {\n    background-color: var(--disabled-bg-color);\n    fill: var(--disabled-fill-color);\n    box-shadow: none;\n  }\n\n  .colab-df-spinner {\n    border: 2px solid var(--fill-color);\n    border-color: transparent;\n    border-bottom-color: var(--fill-color);\n    animation:\n      spin 1s steps(1) infinite;\n  }\n\n  @keyframes spin {\n    0% {\n      border-color: transparent;\n      border-bottom-color: var(--fill-color);\n      border-left-color: var(--fill-color);\n    }\n    20% {\n      border-color: transparent;\n      border-left-color: var(--fill-color);\n      border-top-color: var(--fill-color);\n    }\n    30% {\n      border-color: transparent;\n      border-left-color: var(--fill-color);\n      border-top-color: var(--fill-color);\n      border-right-color: var(--fill-color);\n    }\n    40% {\n      border-color: transparent;\n      border-right-color: var(--fill-color);\n      border-top-color: var(--fill-color);\n    }\n    60% {\n      border-color: transparent;\n      border-right-color: var(--fill-color);\n    }\n    80% {\n      border-color: transparent;\n      border-right-color: var(--fill-color);\n      border-bottom-color: var(--fill-color);\n    }\n    90% {\n      border-color: transparent;\n      border-bottom-color: var(--fill-color);\n    }\n  }\n</style>\n\n  <script>\n    async function quickchart(key) {\n      const quickchartButtonEl =\n        document.querySelector('#' + key + ' button');\n      quickchartButtonEl.disabled = true;  // To prevent multiple clicks.\n      quickchartButtonEl.classList.add('colab-df-spinner');\n      try {\n        const charts = await google.colab.kernel.invokeFunction(\n            'suggestCharts', [key], {});\n      } catch (error) {\n        console.error('Error during call to suggestCharts:', error);\n      }\n      quickchartButtonEl.classList.remove('colab-df-spinner');\n      quickchartButtonEl.classList.add('colab-df-quickchart-complete');\n    }\n    (() => {\n      let quickchartButtonEl =\n        document.querySelector('#df-84cf4cf1-a1a6-4af4-958a-6a572d1c1cb8 button');\n      quickchartButtonEl.style.display =\n        google.colab.kernel.accessAllowed ? 'block' : 'none';\n    })();\n  </script>\n</div>`;\n        parentElement.appendChild(quickchartButtonContainerElement);\n      }\n\n      appendQuickchartButton(table);\n    ",
            "text/plain": [
              "<google.colab.data_table.DataTable object>"
            ]
          },
          "metadata": {},
          "execution_count": 67
        }
      ]
    }
  ],
  "metadata": {
    "kernelspec": {
      "display_name": "Python 3 (ipykernel)",
      "language": "python",
      "name": "python3"
    },
    "language_info": {
      "codemirror_mode": {
        "name": "ipython",
        "version": 3
      },
      "file_extension": ".py",
      "mimetype": "text/x-python",
      "name": "python",
      "nbconvert_exporter": "python",
      "pygments_lexer": "ipython3",
      "version": "3.9.12"
    },
    "colab": {
      "provenance": []
    }
  },
  "nbformat": 4,
  "nbformat_minor": 0
}